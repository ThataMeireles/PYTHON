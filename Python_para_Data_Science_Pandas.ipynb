{
  "nbformat": 4,
  "nbformat_minor": 0,
  "metadata": {
    "kernelspec": {
      "display_name": "Python 3",
      "language": "python",
      "name": "python3"
    },
    "language_info": {
      "codemirror_mode": {
        "name": "ipython",
        "version": 3
      },
      "file_extension": ".py",
      "mimetype": "text/x-python",
      "name": "python",
      "nbconvert_exporter": "python",
      "pygments_lexer": "ipython3",
      "version": "3.7.3"
    },
    "colab": {
      "name": "Python_para_Data_Science_Pandas.ipynb",
      "provenance": [],
      "collapsed_sections": [
        "htjoBLwiD0_F",
        "xo76nR8rD0_0",
        "-q3AlSg3D1Aq",
        "uQ5lNnKrD1BD"
      ],
      "include_colab_link": true
    }
  },
  "cells": [
    {
      "cell_type": "markdown",
      "metadata": {
        "id": "view-in-github",
        "colab_type": "text"
      },
      "source": [
        "<a href=\"https://colab.research.google.com/github/ThataMeireles/PYTHON/blob/master/Python_para_Data_Science_Pandas.ipynb\" target=\"_parent\"><img src=\"https://colab.research.google.com/assets/colab-badge.svg\" alt=\"Open In Colab\"/></a>"
      ]
    },
    {
      "cell_type": "markdown",
      "metadata": {
        "id": "W4bTJkJED0-t"
      },
      "source": [
        "# <font color=green> PYTHON PARA DATA SCIENCE - PANDAS\n",
        "---"
      ]
    },
    {
      "cell_type": "markdown",
      "metadata": {
        "id": "GOEcCc62D0-x"
      },
      "source": [
        "# <font color=green> 1. INTRODUÇÃO AO PYTHON\n",
        "---"
      ]
    },
    {
      "cell_type": "markdown",
      "metadata": {
        "id": "oGvoOJ-XD0-y"
      },
      "source": [
        "# 1.1 Introdução"
      ]
    },
    {
      "cell_type": "markdown",
      "metadata": {
        "id": "fam3BM0aD0-z"
      },
      "source": [
        "> Python é uma linguagem de programação de alto nível com suporte a múltiplos paradigmas de programação. É um projeto *open source* e desde seu surgimento, em 1991, vem se tornando uma das linguagens de programação interpretadas mais populares. \n",
        ">\n",
        "> Nos últimos anos Python desenvolveu uma comunidade ativa de processamento científico e análise de dados e vem se destacando como uma das linguagens mais relevantes quando o assundo é ciência de dados e machine learning, tanto no ambiente acadêmico como também no mercado."
      ]
    },
    {
      "cell_type": "markdown",
      "metadata": {
        "id": "6kH5DY-vD0-1"
      },
      "source": [
        "# 1.2 Instalação e ambiente de desenvolvimento"
      ]
    },
    {
      "cell_type": "markdown",
      "metadata": {
        "id": "BTpm79I2D0-2"
      },
      "source": [
        "### Instalação Local\n",
        "\n",
        "### https://www.python.org/downloads/\n",
        "### ou\n",
        "### https://www.anaconda.com/distribution/"
      ]
    },
    {
      "cell_type": "markdown",
      "metadata": {
        "id": "AuPS_XwRD0-3"
      },
      "source": [
        "### Google Colaboratory\n",
        "\n",
        "### https://colab.research.google.com"
      ]
    },
    {
      "cell_type": "markdown",
      "metadata": {
        "id": "4rUYsPrXD0-4"
      },
      "source": [
        "### Verificando versão"
      ]
    },
    {
      "cell_type": "code",
      "metadata": {
        "id": "PgTCVRB2D0-5",
        "colab": {
          "base_uri": "https://localhost:8080/"
        },
        "outputId": "9e08ab19-0e27-468b-8473-b050f615f891"
      },
      "source": [
        "!python -V"
      ],
      "execution_count": null,
      "outputs": [
        {
          "output_type": "stream",
          "name": "stdout",
          "text": [
            "Python 3.7.12\n"
          ]
        }
      ]
    },
    {
      "cell_type": "markdown",
      "metadata": {
        "id": "lTtI6so4D0-9"
      },
      "source": [
        "# 1.3 Trabalhando com dados"
      ]
    },
    {
      "cell_type": "code",
      "metadata": {
        "id": "E_n4FUUWD0-9"
      },
      "source": [
        "import pandas as pd\n",
        "pd.set_option('display.max_rows', 10)  # para ver todos os itens da tabela. row é linha, conf padrao é 10\n",
        "#pd.set_option('display.max_columns', 1000) #para ver todos os itens da tabela. columns é coluna"
      ],
      "execution_count": null,
      "outputs": []
    },
    {
      "cell_type": "code",
      "metadata": {
        "id": "Kq-JdRHFD0-_"
      },
      "source": [
        "#para trazer os dados para dentro que fiz upload do db.csv\n",
        "#chama uma varial dataframe e depois panda e coloca dentro '' o nome do arquivo e vai precisar de um separador\n",
        "\n",
        "dataset = pd.read_csv('db.csv', sep =';')"
      ],
      "execution_count": null,
      "outputs": []
    },
    {
      "cell_type": "code",
      "metadata": {
        "scrolled": true,
        "id": "mOV1rCA6D0_A"
      },
      "source": [
        "dataset"
      ],
      "execution_count": null,
      "outputs": []
    },
    {
      "cell_type": "code",
      "metadata": {
        "id": "5D739PzJD0_B",
        "colab": {
          "base_uri": "https://localhost:8080/"
        },
        "outputId": "03e0635d-718a-4fd3-8797-216b0f6f1648"
      },
      "source": [
        "dataset.dtypes # tipos de dados das colunas, string é object"
      ],
      "execution_count": null,
      "outputs": [
        {
          "output_type": "execute_result",
          "data": {
            "text/plain": [
              "Nome              object\n",
              "Motor             object\n",
              "Ano                int64\n",
              "Quilometragem    float64\n",
              "Zero_km             bool\n",
              "Acessórios        object\n",
              "Valor            float64\n",
              "dtype: object"
            ]
          },
          "metadata": {},
          "execution_count": 9
        }
      ]
    },
    {
      "cell_type": "code",
      "metadata": {
        "id": "r_qUf16LD0_D",
        "colab": {
          "base_uri": "https://localhost:8080/",
          "height": 300
        },
        "outputId": "755b4bee-6394-4d2b-cf43-0ba08059daf0"
      },
      "source": [
        "#estatisticas descritivas\n",
        "#quero dois valores entao colocao dois []\n",
        "dataset[['Quilometragem', 'Valor']].describe()"
      ],
      "execution_count": null,
      "outputs": [
        {
          "output_type": "execute_result",
          "data": {
            "text/html": [
              "\n",
              "  <div id=\"df-1be90196-207f-4dce-91c4-48270a02f70e\">\n",
              "    <div class=\"colab-df-container\">\n",
              "      <div>\n",
              "<style scoped>\n",
              "    .dataframe tbody tr th:only-of-type {\n",
              "        vertical-align: middle;\n",
              "    }\n",
              "\n",
              "    .dataframe tbody tr th {\n",
              "        vertical-align: top;\n",
              "    }\n",
              "\n",
              "    .dataframe thead th {\n",
              "        text-align: right;\n",
              "    }\n",
              "</style>\n",
              "<table border=\"1\" class=\"dataframe\">\n",
              "  <thead>\n",
              "    <tr style=\"text-align: right;\">\n",
              "      <th></th>\n",
              "      <th>Quilometragem</th>\n",
              "      <th>Valor</th>\n",
              "    </tr>\n",
              "  </thead>\n",
              "  <tbody>\n",
              "    <tr>\n",
              "      <th>count</th>\n",
              "      <td>197.000000</td>\n",
              "      <td>258.000000</td>\n",
              "    </tr>\n",
              "    <tr>\n",
              "      <th>mean</th>\n",
              "      <td>58278.421320</td>\n",
              "      <td>98960.513101</td>\n",
              "    </tr>\n",
              "    <tr>\n",
              "      <th>std</th>\n",
              "      <td>35836.733259</td>\n",
              "      <td>29811.932305</td>\n",
              "    </tr>\n",
              "    <tr>\n",
              "      <th>min</th>\n",
              "      <td>107.000000</td>\n",
              "      <td>50742.100000</td>\n",
              "    </tr>\n",
              "    <tr>\n",
              "      <th>25%</th>\n",
              "      <td>27505.000000</td>\n",
              "      <td>70743.512500</td>\n",
              "    </tr>\n",
              "    <tr>\n",
              "      <th>50%</th>\n",
              "      <td>55083.000000</td>\n",
              "      <td>97724.380000</td>\n",
              "    </tr>\n",
              "    <tr>\n",
              "      <th>75%</th>\n",
              "      <td>90495.000000</td>\n",
              "      <td>124633.302500</td>\n",
              "    </tr>\n",
              "    <tr>\n",
              "      <th>max</th>\n",
              "      <td>119945.000000</td>\n",
              "      <td>149489.920000</td>\n",
              "    </tr>\n",
              "  </tbody>\n",
              "</table>\n",
              "</div>\n",
              "      <button class=\"colab-df-convert\" onclick=\"convertToInteractive('df-1be90196-207f-4dce-91c4-48270a02f70e')\"\n",
              "              title=\"Convert this dataframe to an interactive table.\"\n",
              "              style=\"display:none;\">\n",
              "        \n",
              "  <svg xmlns=\"http://www.w3.org/2000/svg\" height=\"24px\"viewBox=\"0 0 24 24\"\n",
              "       width=\"24px\">\n",
              "    <path d=\"M0 0h24v24H0V0z\" fill=\"none\"/>\n",
              "    <path d=\"M18.56 5.44l.94 2.06.94-2.06 2.06-.94-2.06-.94-.94-2.06-.94 2.06-2.06.94zm-11 1L8.5 8.5l.94-2.06 2.06-.94-2.06-.94L8.5 2.5l-.94 2.06-2.06.94zm10 10l.94 2.06.94-2.06 2.06-.94-2.06-.94-.94-2.06-.94 2.06-2.06.94z\"/><path d=\"M17.41 7.96l-1.37-1.37c-.4-.4-.92-.59-1.43-.59-.52 0-1.04.2-1.43.59L10.3 9.45l-7.72 7.72c-.78.78-.78 2.05 0 2.83L4 21.41c.39.39.9.59 1.41.59.51 0 1.02-.2 1.41-.59l7.78-7.78 2.81-2.81c.8-.78.8-2.07 0-2.86zM5.41 20L4 18.59l7.72-7.72 1.47 1.35L5.41 20z\"/>\n",
              "  </svg>\n",
              "      </button>\n",
              "      \n",
              "  <style>\n",
              "    .colab-df-container {\n",
              "      display:flex;\n",
              "      flex-wrap:wrap;\n",
              "      gap: 12px;\n",
              "    }\n",
              "\n",
              "    .colab-df-convert {\n",
              "      background-color: #E8F0FE;\n",
              "      border: none;\n",
              "      border-radius: 50%;\n",
              "      cursor: pointer;\n",
              "      display: none;\n",
              "      fill: #1967D2;\n",
              "      height: 32px;\n",
              "      padding: 0 0 0 0;\n",
              "      width: 32px;\n",
              "    }\n",
              "\n",
              "    .colab-df-convert:hover {\n",
              "      background-color: #E2EBFA;\n",
              "      box-shadow: 0px 1px 2px rgba(60, 64, 67, 0.3), 0px 1px 3px 1px rgba(60, 64, 67, 0.15);\n",
              "      fill: #174EA6;\n",
              "    }\n",
              "\n",
              "    [theme=dark] .colab-df-convert {\n",
              "      background-color: #3B4455;\n",
              "      fill: #D2E3FC;\n",
              "    }\n",
              "\n",
              "    [theme=dark] .colab-df-convert:hover {\n",
              "      background-color: #434B5C;\n",
              "      box-shadow: 0px 1px 3px 1px rgba(0, 0, 0, 0.15);\n",
              "      filter: drop-shadow(0px 1px 2px rgba(0, 0, 0, 0.3));\n",
              "      fill: #FFFFFF;\n",
              "    }\n",
              "  </style>\n",
              "\n",
              "      <script>\n",
              "        const buttonEl =\n",
              "          document.querySelector('#df-1be90196-207f-4dce-91c4-48270a02f70e button.colab-df-convert');\n",
              "        buttonEl.style.display =\n",
              "          google.colab.kernel.accessAllowed ? 'block' : 'none';\n",
              "\n",
              "        async function convertToInteractive(key) {\n",
              "          const element = document.querySelector('#df-1be90196-207f-4dce-91c4-48270a02f70e');\n",
              "          const dataTable =\n",
              "            await google.colab.kernel.invokeFunction('convertToInteractive',\n",
              "                                                     [key], {});\n",
              "          if (!dataTable) return;\n",
              "\n",
              "          const docLinkHtml = 'Like what you see? Visit the ' +\n",
              "            '<a target=\"_blank\" href=https://colab.research.google.com/notebooks/data_table.ipynb>data table notebook</a>'\n",
              "            + ' to learn more about interactive tables.';\n",
              "          element.innerHTML = '';\n",
              "          dataTable['output_type'] = 'display_data';\n",
              "          await google.colab.output.renderOutput(dataTable, element);\n",
              "          const docLink = document.createElement('div');\n",
              "          docLink.innerHTML = docLinkHtml;\n",
              "          element.appendChild(docLink);\n",
              "        }\n",
              "      </script>\n",
              "    </div>\n",
              "  </div>\n",
              "  "
            ],
            "text/plain": [
              "       Quilometragem          Valor\n",
              "count     197.000000     258.000000\n",
              "mean    58278.421320   98960.513101\n",
              "std     35836.733259   29811.932305\n",
              "min       107.000000   50742.100000\n",
              "25%     27505.000000   70743.512500\n",
              "50%     55083.000000   97724.380000\n",
              "75%     90495.000000  124633.302500\n",
              "max    119945.000000  149489.920000"
            ]
          },
          "metadata": {},
          "execution_count": 12
        }
      ]
    },
    {
      "cell_type": "code",
      "metadata": {
        "id": "0R-_7PH5D0_E",
        "colab": {
          "base_uri": "https://localhost:8080/"
        },
        "outputId": "a9d46f4c-edaa-4252-996f-51ed5854a03e"
      },
      "source": [
        "dataset.info()"
      ],
      "execution_count": null,
      "outputs": [
        {
          "output_type": "stream",
          "name": "stdout",
          "text": [
            "<class 'pandas.core.frame.DataFrame'>\n",
            "RangeIndex: 258 entries, 0 to 257\n",
            "Data columns (total 7 columns):\n",
            " #   Column         Non-Null Count  Dtype  \n",
            "---  ------         --------------  -----  \n",
            " 0   Nome           258 non-null    object \n",
            " 1   Motor          258 non-null    object \n",
            " 2   Ano            258 non-null    int64  \n",
            " 3   Quilometragem  197 non-null    float64\n",
            " 4   Zero_km        258 non-null    bool   \n",
            " 5   Acessórios     258 non-null    object \n",
            " 6   Valor          258 non-null    float64\n",
            "dtypes: bool(1), float64(2), int64(1), object(3)\n",
            "memory usage: 12.5+ KB\n"
          ]
        }
      ]
    },
    {
      "cell_type": "markdown",
      "metadata": {
        "id": "htjoBLwiD0_F"
      },
      "source": [
        "# <font color=green> 2. TRABALHANDO COM TUPLAS\n",
        "---"
      ]
    },
    {
      "cell_type": "markdown",
      "metadata": {
        "id": "MZH5_QnYD0_G"
      },
      "source": [
        "# 2.1 Criando tuplas\n",
        "\n",
        "Tuplas são sequências imutáveis que são utilizadas para armazenar coleções de itens, geralmente heterogêneos. Podem ser construídas de várias formas:\n",
        "```\n",
        "- Utilizando um par de parênteses: ( )\n",
        "- Utilizando uma vírgula à direita: x,\n",
        "- Utilizando um par de parênteses com itens separados por vírgulas: ( x, y, z )\n",
        "- Utilizando: tuple() ou tuple(iterador)\n",
        "```"
      ]
    },
    {
      "cell_type": "code",
      "metadata": {
        "id": "xzcs9fzeD0_G",
        "colab": {
          "base_uri": "https://localhost:8080/"
        },
        "outputId": "5387fad5-0233-46d2-b007-119a6d8331cd"
      },
      "source": [
        "() # a tupla é como lista armazenam tipos de dados variados porém a lista [emutavel e tupla imutavel]"
      ],
      "execution_count": null,
      "outputs": [
        {
          "output_type": "execute_result",
          "data": {
            "text/plain": [
              "()"
            ]
          },
          "metadata": {},
          "execution_count": 15
        }
      ]
    },
    {
      "cell_type": "code",
      "metadata": {
        "id": "qJq7a2qTD0_I",
        "colab": {
          "base_uri": "https://localhost:8080/"
        },
        "outputId": "6de9a550-0aa2-4841-b190-f4e37f654c56"
      },
      "source": [
        "1, 2, 3"
      ],
      "execution_count": null,
      "outputs": [
        {
          "output_type": "execute_result",
          "data": {
            "text/plain": [
              "(1, 2, 3)"
            ]
          },
          "metadata": {},
          "execution_count": 16
        }
      ]
    },
    {
      "cell_type": "code",
      "metadata": {
        "id": "sg7LdvptD0_J",
        "colab": {
          "base_uri": "https://localhost:8080/"
        },
        "outputId": "4cb082bd-db21-47b5-cec4-511c43857ec1"
      },
      "source": [
        "nome = 'Passat'\n",
        "valor = 153000\n",
        "(nome, valor)"
      ],
      "execution_count": null,
      "outputs": [
        {
          "output_type": "execute_result",
          "data": {
            "text/plain": [
              "('Passat', 153000)"
            ]
          },
          "metadata": {},
          "execution_count": 17
        }
      ]
    },
    {
      "cell_type": "code",
      "metadata": {
        "id": "XSSMebXjD0_K",
        "colab": {
          "base_uri": "https://localhost:8080/"
        },
        "outputId": "9831a4c6-4fdc-4f93-dfc9-f7de720e3d5a"
      },
      "source": [
        "nomes_carros = tuple(['Jetta Variant', 'Passat', 'Crossfox', 'DS5'])\n",
        "nomes_carros"
      ],
      "execution_count": null,
      "outputs": [
        {
          "output_type": "execute_result",
          "data": {
            "text/plain": [
              "('Jetta Variant', 'Passat', 'Crossfox', 'DS5')"
            ]
          },
          "metadata": {},
          "execution_count": 18
        }
      ]
    },
    {
      "cell_type": "code",
      "metadata": {
        "id": "dpkdzrzRD0_M",
        "colab": {
          "base_uri": "https://localhost:8080/"
        },
        "outputId": "196370ee-36ec-4a2d-8f4c-856c328d2d33"
      },
      "source": [
        "type(nomes_carros)"
      ],
      "execution_count": null,
      "outputs": [
        {
          "output_type": "execute_result",
          "data": {
            "text/plain": [
              "tuple"
            ]
          },
          "metadata": {},
          "execution_count": 19
        }
      ]
    },
    {
      "cell_type": "markdown",
      "metadata": {
        "id": "iKUY2DOUD0_N"
      },
      "source": [
        "# 2.2 Seleções em tuplas"
      ]
    },
    {
      "cell_type": "code",
      "metadata": {
        "id": "hBEeAM7_D0_N",
        "colab": {
          "base_uri": "https://localhost:8080/",
          "height": 35
        },
        "outputId": "1363487d-6bb5-4271-c10e-b2741073ab99"
      },
      "source": [
        "#para acessar cada item \n",
        "nomes_carros[0]"
      ],
      "execution_count": null,
      "outputs": [
        {
          "output_type": "execute_result",
          "data": {
            "application/vnd.google.colaboratory.intrinsic+json": {
              "type": "string"
            },
            "text/plain": [
              "'Jetta Variant'"
            ]
          },
          "metadata": {},
          "execution_count": 20
        }
      ]
    },
    {
      "cell_type": "code",
      "metadata": {
        "id": "-mx_1E_tD0_P",
        "colab": {
          "base_uri": "https://localhost:8080/",
          "height": 35
        },
        "outputId": "b2144c70-6843-400e-f4e1-2d7668740ac2"
      },
      "source": [
        "nomes_carros[1]"
      ],
      "execution_count": null,
      "outputs": [
        {
          "output_type": "execute_result",
          "data": {
            "application/vnd.google.colaboratory.intrinsic+json": {
              "type": "string"
            },
            "text/plain": [
              "'Passat'"
            ]
          },
          "metadata": {},
          "execution_count": 21
        }
      ]
    },
    {
      "cell_type": "code",
      "metadata": {
        "id": "LMhyqnFID0_Q",
        "colab": {
          "base_uri": "https://localhost:8080/",
          "height": 35
        },
        "outputId": "528d4e0f-5eea-455f-b638-9d199861245b"
      },
      "source": [
        "nomes_carros[-1]"
      ],
      "execution_count": null,
      "outputs": [
        {
          "output_type": "execute_result",
          "data": {
            "application/vnd.google.colaboratory.intrinsic+json": {
              "type": "string"
            },
            "text/plain": [
              "'DS5'"
            ]
          },
          "metadata": {},
          "execution_count": 22
        }
      ]
    },
    {
      "cell_type": "code",
      "metadata": {
        "id": "6btHff4BD0_T",
        "colab": {
          "base_uri": "https://localhost:8080/"
        },
        "outputId": "acf95ee5-fa3d-410b-b1a5-d339c3e5fe91"
      },
      "source": [
        "nomes_carros[1:3]"
      ],
      "execution_count": null,
      "outputs": [
        {
          "output_type": "execute_result",
          "data": {
            "text/plain": [
              "('Passat', 'Crossfox')"
            ]
          },
          "metadata": {},
          "execution_count": 23
        }
      ]
    },
    {
      "cell_type": "code",
      "metadata": {
        "id": "K_Dc12xBD0_U"
      },
      "source": [
        ""
      ],
      "execution_count": null,
      "outputs": []
    },
    {
      "cell_type": "code",
      "metadata": {
        "id": "zvrWYkkeD0_W",
        "colab": {
          "base_uri": "https://localhost:8080/"
        },
        "outputId": "e065c366-8c18-4305-efd4-5c31d45db5b1"
      },
      "source": [
        "nomes_carros = ('Jetta Variant', 'Passat', 'Crossfox', 'DS5', ('Fusca', 'Gol', 'C4'))\n",
        "nomes_carros"
      ],
      "execution_count": null,
      "outputs": [
        {
          "output_type": "execute_result",
          "data": {
            "text/plain": [
              "('Jetta Variant', 'Passat', 'Crossfox', 'DS5', ('Fusca', 'Gol', 'C4'))"
            ]
          },
          "metadata": {},
          "execution_count": 24
        }
      ]
    },
    {
      "cell_type": "code",
      "metadata": {
        "id": "Dw7tbM2ED0_Z",
        "colab": {
          "base_uri": "https://localhost:8080/"
        },
        "outputId": "511899ca-27cf-44f2-ca45-6fc8788f354c"
      },
      "source": [
        "nomes_carros[-1]"
      ],
      "execution_count": null,
      "outputs": [
        {
          "output_type": "execute_result",
          "data": {
            "text/plain": [
              "('Fusca', 'Gol', 'C4')"
            ]
          },
          "metadata": {},
          "execution_count": 25
        }
      ]
    },
    {
      "cell_type": "code",
      "metadata": {
        "id": "SAMD3BtXD0_b",
        "colab": {
          "base_uri": "https://localhost:8080/",
          "height": 35
        },
        "outputId": "bf06cbc0-693e-4e29-9ff3-cb9fa63f344c"
      },
      "source": [
        "nomes_carros[-1][1]"
      ],
      "execution_count": null,
      "outputs": [
        {
          "output_type": "execute_result",
          "data": {
            "application/vnd.google.colaboratory.intrinsic+json": {
              "type": "string"
            },
            "text/plain": [
              "'Gol'"
            ]
          },
          "metadata": {},
          "execution_count": 27
        }
      ]
    },
    {
      "cell_type": "code",
      "source": [
        "carros = (\n",
        "    (\n",
        "        'Jetta Variant',\n",
        "        'Motor 4.0 Turbo',\n",
        "        2003,\n",
        "        False,\n",
        "        ('Rodas de liga', 'Travas elétricas', 'Piloto automático')\n",
        "    ),\n",
        "    (\n",
        "        'Passat',\n",
        "        'Motor Diesel',\n",
        "        1991,\n",
        "        True,\n",
        "        ('Central multimídia', 'Teto panorâmico', 'Freios ABS')\n",
        "    )\n",
        ")"
      ],
      "metadata": {
        "id": "KSs-pRlO9A8E"
      },
      "execution_count": null,
      "outputs": []
    },
    {
      "cell_type": "code",
      "source": [
        "carros[0][3]"
      ],
      "metadata": {
        "colab": {
          "base_uri": "https://localhost:8080/"
        },
        "id": "tge2lmLO9GGb",
        "outputId": "27576bb3-48ec-4844-cd68-76567dbe8dba"
      },
      "execution_count": null,
      "outputs": [
        {
          "output_type": "execute_result",
          "data": {
            "text/plain": [
              "False"
            ]
          },
          "metadata": {},
          "execution_count": 29
        }
      ]
    },
    {
      "cell_type": "code",
      "source": [
        "carros[-1][-1][-1]"
      ],
      "metadata": {
        "colab": {
          "base_uri": "https://localhost:8080/",
          "height": 35
        },
        "id": "61cEMJbU9F6T",
        "outputId": "bc7781a5-b8f7-4293-866d-7d9ea8a104bd"
      },
      "execution_count": null,
      "outputs": [
        {
          "output_type": "execute_result",
          "data": {
            "application/vnd.google.colaboratory.intrinsic+json": {
              "type": "string"
            },
            "text/plain": [
              "'Freios ABS'"
            ]
          },
          "metadata": {},
          "execution_count": 30
        }
      ]
    },
    {
      "cell_type": "code",
      "source": [
        "carros[0][-1][:2]"
      ],
      "metadata": {
        "colab": {
          "base_uri": "https://localhost:8080/"
        },
        "id": "vocIQ7_C9For",
        "outputId": "f1d5733c-e018-405e-c199-bd841886e7a9"
      },
      "execution_count": null,
      "outputs": [
        {
          "output_type": "execute_result",
          "data": {
            "text/plain": [
              "('Rodas de liga', 'Travas elétricas')"
            ]
          },
          "metadata": {},
          "execution_count": 31
        }
      ]
    },
    {
      "cell_type": "markdown",
      "metadata": {
        "id": "KLMxh4-0D0_c"
      },
      "source": [
        "# 2.3 Iterando em tuplas"
      ]
    },
    {
      "cell_type": "code",
      "metadata": {
        "id": "K53elKsYD0_c",
        "colab": {
          "base_uri": "https://localhost:8080/"
        },
        "outputId": "99f6e299-143d-47aa-ae64-3996f25f5c1c"
      },
      "source": [
        "nomes_carros = ('Jetta Variant', 'Passat', 'Crossfox', 'DS5')\n",
        "nomes_carros"
      ],
      "execution_count": null,
      "outputs": [
        {
          "output_type": "execute_result",
          "data": {
            "text/plain": [
              "('Jetta Variant', 'Passat', 'Crossfox', 'DS5')"
            ]
          },
          "metadata": {},
          "execution_count": 1
        }
      ]
    },
    {
      "cell_type": "code",
      "metadata": {
        "id": "igZhZ5zdD0_d",
        "colab": {
          "base_uri": "https://localhost:8080/"
        },
        "outputId": "aee07cc5-a9fa-441d-bf48-0927a5a792f0"
      },
      "source": [
        "for item in nomes_carros:\n",
        "  print(item)"
      ],
      "execution_count": null,
      "outputs": [
        {
          "output_type": "stream",
          "name": "stdout",
          "text": [
            "Jetta Variant\n",
            "Passat\n",
            "Crossfox\n",
            "DS5\n"
          ]
        }
      ]
    },
    {
      "cell_type": "markdown",
      "metadata": {
        "id": "AOBjxBk8D0_f"
      },
      "source": [
        "### Desempacotamento de tuplas"
      ]
    },
    {
      "cell_type": "code",
      "metadata": {
        "id": "UoEFnumhD0_f"
      },
      "source": [
        "#a gente consegue colocar em cada variavel, um carro\n",
        "carro_1, carro_2, carro_3, carro_4 = nomes_carros"
      ],
      "execution_count": null,
      "outputs": []
    },
    {
      "cell_type": "code",
      "metadata": {
        "id": "AaCLcNYTD0_g",
        "colab": {
          "base_uri": "https://localhost:8080/",
          "height": 35
        },
        "outputId": "8452176f-c008-4564-9e0b-398348c7db5f"
      },
      "source": [
        "carro_1"
      ],
      "execution_count": null,
      "outputs": [
        {
          "output_type": "execute_result",
          "data": {
            "application/vnd.google.colaboratory.intrinsic+json": {
              "type": "string"
            },
            "text/plain": [
              "'Jetta Variant'"
            ]
          },
          "metadata": {},
          "execution_count": 4
        }
      ]
    },
    {
      "cell_type": "code",
      "metadata": {
        "id": "TA71S9egD0_h",
        "colab": {
          "base_uri": "https://localhost:8080/",
          "height": 35
        },
        "outputId": "2729e1b2-3b0f-4e98-b5a0-ba1fdfe3fa8a"
      },
      "source": [
        "carro_2"
      ],
      "execution_count": null,
      "outputs": [
        {
          "output_type": "execute_result",
          "data": {
            "application/vnd.google.colaboratory.intrinsic+json": {
              "type": "string"
            },
            "text/plain": [
              "'Passat'"
            ]
          },
          "metadata": {},
          "execution_count": 5
        }
      ]
    },
    {
      "cell_type": "code",
      "metadata": {
        "id": "CHoJ034MD0_i",
        "colab": {
          "base_uri": "https://localhost:8080/",
          "height": 35
        },
        "outputId": "34c7c5b9-b540-4e8f-a301-3c671b051985"
      },
      "source": [
        "carro_3"
      ],
      "execution_count": null,
      "outputs": [
        {
          "output_type": "execute_result",
          "data": {
            "application/vnd.google.colaboratory.intrinsic+json": {
              "type": "string"
            },
            "text/plain": [
              "'Crossfox'"
            ]
          },
          "metadata": {},
          "execution_count": 6
        }
      ]
    },
    {
      "cell_type": "code",
      "metadata": {
        "id": "oxJrOuCSD0_j",
        "colab": {
          "base_uri": "https://localhost:8080/",
          "height": 35
        },
        "outputId": "a59c6db3-d4b3-456b-c406-7aa87a53a69e"
      },
      "source": [
        "carro_4"
      ],
      "execution_count": null,
      "outputs": [
        {
          "output_type": "execute_result",
          "data": {
            "application/vnd.google.colaboratory.intrinsic+json": {
              "type": "string"
            },
            "text/plain": [
              "'DS5'"
            ]
          },
          "metadata": {},
          "execution_count": 7
        }
      ]
    },
    {
      "cell_type": "code",
      "metadata": {
        "id": "BbR9sB4BD0_k"
      },
      "source": [
        "#para pegar somente alguns dados que eu queria vai usar _ para ignorar aquele dado\n",
        "_, A, _, B = nomes_carros"
      ],
      "execution_count": null,
      "outputs": []
    },
    {
      "cell_type": "code",
      "metadata": {
        "id": "aZvokrjPD0_m",
        "colab": {
          "base_uri": "https://localhost:8080/",
          "height": 35
        },
        "outputId": "31c0cf48-ced7-4729-9a1f-2c3172c26f02"
      },
      "source": [
        "A"
      ],
      "execution_count": null,
      "outputs": [
        {
          "output_type": "execute_result",
          "data": {
            "application/vnd.google.colaboratory.intrinsic+json": {
              "type": "string"
            },
            "text/plain": [
              "'Passat'"
            ]
          },
          "metadata": {},
          "execution_count": 10
        }
      ]
    },
    {
      "cell_type": "code",
      "metadata": {
        "id": "wZXDbVg0D0_o",
        "colab": {
          "base_uri": "https://localhost:8080/",
          "height": 35
        },
        "outputId": "f1119000-8fe1-4c0a-e6fd-4c8881271a01"
      },
      "source": [
        "B"
      ],
      "execution_count": null,
      "outputs": [
        {
          "output_type": "execute_result",
          "data": {
            "application/vnd.google.colaboratory.intrinsic+json": {
              "type": "string"
            },
            "text/plain": [
              "'DS5'"
            ]
          },
          "metadata": {},
          "execution_count": 11
        }
      ]
    },
    {
      "cell_type": "code",
      "metadata": {
        "id": "aWgDMBXiD0_p"
      },
      "source": [
        "# caso você precise somente 1 item d todalista, ai para ignonar oa outros i\n",
        "_, C, *_ = nomes_carros"
      ],
      "execution_count": null,
      "outputs": []
    },
    {
      "cell_type": "code",
      "metadata": {
        "id": "OdpgNh-ND0_q",
        "colab": {
          "base_uri": "https://localhost:8080/",
          "height": 35
        },
        "outputId": "e5c3f136-c63a-4e8e-82f1-1551c26a55b8"
      },
      "source": [
        "C"
      ],
      "execution_count": null,
      "outputs": [
        {
          "output_type": "execute_result",
          "data": {
            "application/vnd.google.colaboratory.intrinsic+json": {
              "type": "string"
            },
            "text/plain": [
              "'Passat'"
            ]
          },
          "metadata": {},
          "execution_count": 13
        }
      ]
    },
    {
      "cell_type": "code",
      "metadata": {
        "id": "upVYFnMdD0_r"
      },
      "source": [
        ""
      ],
      "execution_count": null,
      "outputs": []
    },
    {
      "cell_type": "markdown",
      "metadata": {
        "id": "u85Aou8WD0_s"
      },
      "source": [
        "## *zip()*\n",
        "\n",
        "https://docs.python.org/3.6/library/functions.html#zip"
      ]
    },
    {
      "cell_type": "code",
      "metadata": {
        "id": "PaC2oXGED0_t",
        "colab": {
          "base_uri": "https://localhost:8080/"
        },
        "outputId": "ac3009e3-e922-4eb9-c186-31824a9ec908"
      },
      "source": [
        "carros = ['Jetta Variant', 'Passat', 'Crossfox', 'DS5']\n",
        "carros"
      ],
      "execution_count": null,
      "outputs": [
        {
          "output_type": "execute_result",
          "data": {
            "text/plain": [
              "['Jetta Variant', 'Passat', 'Crossfox', 'DS5']"
            ]
          },
          "metadata": {},
          "execution_count": 1
        }
      ]
    },
    {
      "cell_type": "code",
      "metadata": {
        "id": "_02O1VnHD0_u",
        "colab": {
          "base_uri": "https://localhost:8080/"
        },
        "outputId": "49cbefdc-d0cf-4bde-bc9b-c5633be3ffd7"
      },
      "source": [
        "valores = [88078.64, 106161.94, 72832.16, 124549.07]\n",
        "valores"
      ],
      "execution_count": null,
      "outputs": [
        {
          "output_type": "execute_result",
          "data": {
            "text/plain": [
              "[88078.64, 106161.94, 72832.16, 124549.07]"
            ]
          },
          "metadata": {},
          "execution_count": 2
        }
      ]
    },
    {
      "cell_type": "code",
      "metadata": {
        "id": "roQK5nYRD0_v",
        "colab": {
          "base_uri": "https://localhost:8080/"
        },
        "outputId": "e88948d5-3f76-41e7-c80b-0796e33c89f4"
      },
      "source": [
        "#função zip é como interador,o range, depois se passar outra biocth function list pega o interador e transforma numa lista, criando um primeito de cada u fazendo uma tupla\n",
        "list(zip(carros, valores))"
      ],
      "execution_count": null,
      "outputs": [
        {
          "output_type": "execute_result",
          "data": {
            "text/plain": [
              "[('Jetta Variant', 88078.64),\n",
              " ('Passat', 106161.94),\n",
              " ('Crossfox', 72832.16),\n",
              " ('DS5', 124549.07)]"
            ]
          },
          "metadata": {},
          "execution_count": 5
        }
      ]
    },
    {
      "cell_type": "code",
      "metadata": {
        "id": "_WRxIRHrD0_w",
        "colab": {
          "base_uri": "https://localhost:8080/"
        },
        "outputId": "6a7af6e2-3761-4912-bf23-7a0277a32eec"
      },
      "source": [
        "for item in zip(carros, valores):\n",
        "  print(item) # vc faz um for para conseguir interar nome e ovalor ao mesmo tempo"
      ],
      "execution_count": null,
      "outputs": [
        {
          "output_type": "stream",
          "name": "stdout",
          "text": [
            "('Jetta Variant', 88078.64)\n",
            "('Passat', 106161.94)\n",
            "('Crossfox', 72832.16)\n",
            "('DS5', 124549.07)\n"
          ]
        }
      ]
    },
    {
      "cell_type": "code",
      "metadata": {
        "id": "2zIuhIILD0_x",
        "colab": {
          "base_uri": "https://localhost:8080/"
        },
        "outputId": "6bfe2ab5-3dd5-4ba2-ed0c-6d6dfe550bdd"
      },
      "source": [
        "# para gente decompor a tupla fazemos chamando um para cada\n",
        "for carro, valor in zip(carros, valores):\n",
        "  print(carro, valor) \n"
      ],
      "execution_count": null,
      "outputs": [
        {
          "output_type": "stream",
          "name": "stdout",
          "text": [
            "Jetta Variant 88078.64\n",
            "Passat 106161.94\n",
            "Crossfox 72832.16\n",
            "DS5 124549.07\n"
          ]
        }
      ]
    },
    {
      "cell_type": "code",
      "metadata": {
        "id": "ZJaL62IpD0_y",
        "colab": {
          "base_uri": "https://localhost:8080/"
        },
        "outputId": "3ed1072e-260e-4e4c-e3af-24a1289adae3"
      },
      "source": [
        "for carro, valor in zip(carros, valores):\n",
        "  if(valor > 100000):\n",
        "    print(carro) "
      ],
      "execution_count": null,
      "outputs": [
        {
          "output_type": "stream",
          "name": "stdout",
          "text": [
            "Passat\n",
            "DS5\n"
          ]
        }
      ]
    },
    {
      "cell_type": "code",
      "source": [
        "carros = (\n",
        "    (\n",
        "        'Jetta Variant',\n",
        "        'Motor 4.0 Turbo',\n",
        "        2003,\n",
        "        False,\n",
        "        ('Rodas de liga', 'Travas elétricas', 'Piloto automático')\n",
        "    ),\n",
        "    (\n",
        "        'Passat',\n",
        "        'Motor Diesel',\n",
        "        1991,\n",
        "        True,\n",
        "        ('Central multimídia', 'Teto panorâmico', 'Freios ABS')\n",
        "    )\n",
        ")"
      ],
      "metadata": {
        "id": "VxlTP4hJiX5U"
      },
      "execution_count": null,
      "outputs": []
    },
    {
      "cell_type": "code",
      "source": [
        "for tupla in carros:\n",
        "  for item in tupla[-1]:\n",
        "    print(item)"
      ],
      "metadata": {
        "colab": {
          "base_uri": "https://localhost:8080/"
        },
        "id": "TCjLkcvGiXkn",
        "outputId": "2b76c342-dd12-4696-c816-e49c1506f009"
      },
      "execution_count": null,
      "outputs": [
        {
          "output_type": "stream",
          "name": "stdout",
          "text": [
            "Rodas de liga\n",
            "Travas elétricas\n",
            "Piloto automático\n",
            "Central multimídia\n",
            "Teto panorâmico\n",
            "Freios ABS\n"
          ]
        }
      ]
    },
    {
      "cell_type": "markdown",
      "metadata": {
        "id": "xo76nR8rD0_0"
      },
      "source": [
        "# <font color=green> 3. TRABALHANDO COM DICIONÁRIOS\n",
        "---"
      ]
    },
    {
      "cell_type": "markdown",
      "metadata": {
        "id": "wfWzOuztD0_0"
      },
      "source": [
        "# 3.1 Criando dicionários\n",
        "\n",
        "Listas são coleções sequenciais, isto é, os itens destas sequências estão ordenados e utilizam índices (números inteiros) para acessar os valores.\n",
        "\n",
        "Os dicionários são coleções um pouco diferentes. São estruturas de dados que representam um tipo de mapeamento. Mapeamentos são coleções de associações entre pares de valores onde o primeiro elemento do par é conhecido como chave (*key*) e o segundo como valor (*value*).\n",
        "\n",
        "```\n",
        "dicionario = {key_1: value_1, key_2: value_2, ..., key_n: value_n}\n",
        "```\n",
        "\n",
        "https://docs.python.org/3.6/library/stdtypes.html#typesmapping"
      ]
    },
    {
      "cell_type": "code",
      "metadata": {
        "id": "SuPcV9v6D0_0"
      },
      "source": [
        ""
      ],
      "execution_count": null,
      "outputs": []
    },
    {
      "cell_type": "code",
      "metadata": {
        "id": "YIFVkWT6D0_1",
        "colab": {
          "base_uri": "https://localhost:8080/"
        },
        "outputId": "7cba1a7f-2593-4805-bfcf-469faf3f541e"
      },
      "source": [
        "carros = ['Jetta Variant', 'Passat', 'Crossfox']\n",
        "carros"
      ],
      "execution_count": null,
      "outputs": [
        {
          "output_type": "execute_result",
          "data": {
            "text/plain": [
              "['Jetta Variant', 'Passat', 'Crossfox']"
            ]
          },
          "metadata": {},
          "execution_count": 3
        }
      ]
    },
    {
      "cell_type": "code",
      "metadata": {
        "id": "2LHiBn3-D0_2",
        "colab": {
          "base_uri": "https://localhost:8080/"
        },
        "outputId": "247334e0-8b1b-480c-a1b5-a4ddb9910270"
      },
      "source": [
        "valores = [88078.64, 106161.94, 72832.16]\n",
        "valores"
      ],
      "execution_count": null,
      "outputs": [
        {
          "output_type": "execute_result",
          "data": {
            "text/plain": [
              "[88078.64, 106161.94, 72832.16]"
            ]
          },
          "metadata": {},
          "execution_count": 4
        }
      ]
    },
    {
      "cell_type": "code",
      "metadata": {
        "id": "YxLAx_sqD0_4",
        "colab": {
          "base_uri": "https://localhost:8080/"
        },
        "outputId": "f3f179fc-221c-436f-8aa2-b64f939c91bf"
      },
      "source": [
        "carros.index('Passat')"
      ],
      "execution_count": null,
      "outputs": [
        {
          "output_type": "execute_result",
          "data": {
            "text/plain": [
              "1"
            ]
          },
          "metadata": {},
          "execution_count": 13
        }
      ]
    },
    {
      "cell_type": "code",
      "metadata": {
        "id": "WITNWExID0_7",
        "colab": {
          "base_uri": "https://localhost:8080/"
        },
        "outputId": "1199c8d7-c8ed-48d8-9ab3-b255c981e081"
      },
      "source": [
        "valores[carros.index('Passat')]"
      ],
      "execution_count": null,
      "outputs": [
        {
          "output_type": "execute_result",
          "data": {
            "text/plain": [
              "106161.94"
            ]
          },
          "metadata": {},
          "execution_count": 14
        }
      ]
    },
    {
      "cell_type": "code",
      "metadata": {
        "id": "bHNqoDbTD0_8",
        "colab": {
          "base_uri": "https://localhost:8080/"
        },
        "outputId": "f9d7f012-f69e-42b5-9a2f-2c62d6d71d87"
      },
      "source": [
        "#para criar um dicionário\n",
        "dados = {'Jetta Variant': 88078.64 , 'Passat': 106161.94 , 'Crossfox': 72832.16}\n",
        "dados"
      ],
      "execution_count": null,
      "outputs": [
        {
          "output_type": "execute_result",
          "data": {
            "text/plain": [
              "{'Crossfox': 72832.16, 'Jetta Variant': 88078.64, 'Passat': 106161.94}"
            ]
          },
          "metadata": {},
          "execution_count": 1
        }
      ]
    },
    {
      "cell_type": "code",
      "metadata": {
        "id": "4FyQgmcAD0_9",
        "colab": {
          "base_uri": "https://localhost:8080/"
        },
        "outputId": "e69ace5e-6642-4955-a3e4-c99fa4f180e2"
      },
      "source": [
        "type(dados)"
      ],
      "execution_count": null,
      "outputs": [
        {
          "output_type": "execute_result",
          "data": {
            "text/plain": [
              "dict"
            ]
          },
          "metadata": {},
          "execution_count": 2
        }
      ]
    },
    {
      "cell_type": "markdown",
      "metadata": {
        "id": "PQg-MLkGD0_-"
      },
      "source": [
        "### Criando dicionários com *zip()*"
      ]
    },
    {
      "cell_type": "code",
      "metadata": {
        "id": "iB4Q_gbND0__",
        "colab": {
          "base_uri": "https://localhost:8080/"
        },
        "outputId": "6426b83c-57ed-40b6-90ea-e9da36964006"
      },
      "source": [
        "list(zip(carros, valores))"
      ],
      "execution_count": null,
      "outputs": [
        {
          "output_type": "execute_result",
          "data": {
            "text/plain": [
              "[('Jetta Variant', 88078.64), ('Passat', 106161.94), ('Crossfox', 72832.16)]"
            ]
          },
          "metadata": {},
          "execution_count": 5
        }
      ]
    },
    {
      "cell_type": "code",
      "metadata": {
        "id": "mIgZqdKKD1AA",
        "colab": {
          "base_uri": "https://localhost:8080/"
        },
        "outputId": "6dfbc936-183f-40ea-d694-eac45a95b74e"
      },
      "source": [
        "#usando uma bilt in fuction a gente transforma uma tupla em dicionario atraves do zip\n",
        "dados = dict(zip(carros, valores))\n",
        "dados"
      ],
      "execution_count": null,
      "outputs": [
        {
          "output_type": "execute_result",
          "data": {
            "text/plain": [
              "{'Crossfox': 72832.16, 'Jetta Variant': 88078.64, 'Passat': 106161.94}"
            ]
          },
          "metadata": {},
          "execution_count": 6
        }
      ]
    },
    {
      "cell_type": "code",
      "source": [
        "nomes = ['Passat', 'Crossfox', 'DS5', 'C4', 'Jetta']\n",
        "kms = [15000, 12000, 32000, 8000, 50000]"
      ],
      "metadata": {
        "id": "95TKj76RBz_E"
      },
      "execution_count": null,
      "outputs": []
    },
    {
      "cell_type": "code",
      "source": [
        "nomes_kms = dict(zip(nomes, kms))\n",
        "nomes_kms"
      ],
      "metadata": {
        "colab": {
          "base_uri": "https://localhost:8080/"
        },
        "id": "PP_E06YrBzqV",
        "outputId": "ccfbe045-705c-430c-bc5d-e0b2ee845cbc"
      },
      "execution_count": null,
      "outputs": [
        {
          "output_type": "execute_result",
          "data": {
            "text/plain": [
              "{'C4': 8000, 'Crossfox': 12000, 'DS5': 32000, 'Jetta': 50000, 'Passat': 15000}"
            ]
          },
          "metadata": {},
          "execution_count": 8
        }
      ]
    },
    {
      "cell_type": "markdown",
      "metadata": {
        "id": "KYeRqavFD1AD"
      },
      "source": [
        "# 3.2 Operações com dicionários"
      ]
    },
    {
      "cell_type": "markdown",
      "metadata": {
        "id": "KzmWbEltD1AD"
      },
      "source": [
        "## *dict[ key ]*\n",
        "\n",
        "Retorna o valor correspondente à chave (*key*) no dicionário."
      ]
    },
    {
      "cell_type": "code",
      "metadata": {
        "id": "hFFDz6wKD1AD",
        "colab": {
          "base_uri": "https://localhost:8080/"
        },
        "outputId": "999203cb-ec5c-47fa-bf73-f2518267d295"
      },
      "source": [
        "#coloca nome do dicionario (chaave)\n",
        "dados['Passat']"
      ],
      "execution_count": null,
      "outputs": [
        {
          "output_type": "execute_result",
          "data": {
            "text/plain": [
              "106161.94"
            ]
          },
          "metadata": {},
          "execution_count": 10
        }
      ]
    },
    {
      "cell_type": "markdown",
      "metadata": {
        "id": "SWlE6VTBD1AE"
      },
      "source": [
        "## *key in dict*\n",
        "\n",
        "Retorna **True** se a chave (*key*) for encontrada no dicionário."
      ]
    },
    {
      "cell_type": "code",
      "metadata": {
        "id": "Iy88SxBtD1AE",
        "colab": {
          "base_uri": "https://localhost:8080/"
        },
        "outputId": "cc9a59fc-10b8-42cf-9043-fce3dc3aa32b"
      },
      "source": [
        "#para saber se tem aquela chave\n",
        "'Passat' in dados"
      ],
      "execution_count": null,
      "outputs": [
        {
          "output_type": "execute_result",
          "data": {
            "text/plain": [
              "True"
            ]
          },
          "metadata": {},
          "execution_count": 11
        }
      ]
    },
    {
      "cell_type": "code",
      "metadata": {
        "id": "Oma56NkAD1AF",
        "colab": {
          "base_uri": "https://localhost:8080/"
        },
        "outputId": "12f920fa-5fb2-427a-e5a5-b3cb191be112"
      },
      "source": [
        "'Celta' in dados"
      ],
      "execution_count": null,
      "outputs": [
        {
          "output_type": "execute_result",
          "data": {
            "text/plain": [
              "False"
            ]
          },
          "metadata": {},
          "execution_count": 12
        }
      ]
    },
    {
      "cell_type": "code",
      "metadata": {
        "id": "yS2U-_8gD1AG",
        "colab": {
          "base_uri": "https://localhost:8080/"
        },
        "outputId": "e19b2469-b515-4cdb-8f66-1bfd0f9cc2d7"
      },
      "source": [
        "'Celta' not in dados"
      ],
      "execution_count": null,
      "outputs": [
        {
          "output_type": "execute_result",
          "data": {
            "text/plain": [
              "True"
            ]
          },
          "metadata": {},
          "execution_count": 13
        }
      ]
    },
    {
      "cell_type": "markdown",
      "metadata": {
        "id": "oWbWyDd0D1AI"
      },
      "source": [
        "## *len(dict)*\n",
        "\n",
        "Retorna o número de itens do dicionário."
      ]
    },
    {
      "cell_type": "code",
      "metadata": {
        "id": "k08YkCc1D1AJ",
        "colab": {
          "base_uri": "https://localhost:8080/"
        },
        "outputId": "9438b03d-89fe-4e1c-e430-9fbd8bb8f3c7"
      },
      "source": [
        "len(dados)"
      ],
      "execution_count": null,
      "outputs": [
        {
          "output_type": "execute_result",
          "data": {
            "text/plain": [
              "3"
            ]
          },
          "metadata": {},
          "execution_count": 14
        }
      ]
    },
    {
      "cell_type": "markdown",
      "metadata": {
        "id": "yYNqIHJBD1AK"
      },
      "source": [
        "## *dict[ key ] = value*\n",
        "\n",
        "Inclui um item ao dicionário."
      ]
    },
    {
      "cell_type": "code",
      "metadata": {
        "id": "5jj3i52bD1AK"
      },
      "source": [
        "dados['DS5'] = 124549.07"
      ],
      "execution_count": null,
      "outputs": []
    },
    {
      "cell_type": "code",
      "metadata": {
        "id": "y6rso5hLD1AL",
        "colab": {
          "base_uri": "https://localhost:8080/"
        },
        "outputId": "1c4fab72-f8f6-4db9-89ad-607e6b3cd498"
      },
      "source": [
        "dados"
      ],
      "execution_count": null,
      "outputs": [
        {
          "output_type": "execute_result",
          "data": {
            "text/plain": [
              "{'Crossfox': 72832.16,\n",
              " 'DS5': 124549.07,\n",
              " 'Jetta Variant': 88078.64,\n",
              " 'Passat': 106161.94}"
            ]
          },
          "metadata": {},
          "execution_count": 16
        }
      ]
    },
    {
      "cell_type": "markdown",
      "metadata": {
        "id": "_z0JySuqD1AL"
      },
      "source": [
        "## *del dict[ key ]*\n",
        "\n",
        "Remove o item de chave (*key*) do dicionário."
      ]
    },
    {
      "cell_type": "code",
      "metadata": {
        "id": "PPfh6sfID1AM",
        "colab": {
          "base_uri": "https://localhost:8080/"
        },
        "outputId": "e9e12728-b84c-47ac-ecf3-44c871b9b017"
      },
      "source": [
        "del dados['Passat']\n",
        "dados"
      ],
      "execution_count": null,
      "outputs": [
        {
          "output_type": "execute_result",
          "data": {
            "text/plain": [
              "{'Crossfox': 72832.16, 'DS5': 124549.07, 'Jetta Variant': 88078.64}"
            ]
          },
          "metadata": {},
          "execution_count": 17
        }
      ]
    },
    {
      "cell_type": "code",
      "metadata": {
        "id": "BtjGpXtGD1AN"
      },
      "source": [
        "dados = {\n",
        "    'Passat': {\n",
        "        'ano': 2012,\n",
        "        'km': 50000,\n",
        "        'valor': 75000,\n",
        "        'acessorios': ['Airbag', 'ABS']\n",
        "    }, \n",
        "    'Crossfox': {\n",
        "        'ano': 2015,\n",
        "        'km': 35000,\n",
        "        'valor': 25000\n",
        "    }\n",
        "}"
      ],
      "execution_count": null,
      "outputs": []
    },
    {
      "cell_type": "code",
      "source": [
        "'acessorios' in dados['Crossfox']"
      ],
      "metadata": {
        "colab": {
          "base_uri": "https://localhost:8080/"
        },
        "id": "bluD6iEkFLN9",
        "outputId": "ddf4b948-9e65-4e70-e17b-e36cae789d0b"
      },
      "execution_count": null,
      "outputs": [
        {
          "output_type": "execute_result",
          "data": {
            "text/plain": [
              "False"
            ]
          },
          "metadata": {},
          "execution_count": 23
        }
      ]
    },
    {
      "cell_type": "code",
      "source": [
        "'acessorios' in dados['Passat']"
      ],
      "metadata": {
        "colab": {
          "base_uri": "https://localhost:8080/"
        },
        "id": "AJN52o46FLA3",
        "outputId": "7510bf32-4cd7-4dc7-d367-24ffa03138d9"
      },
      "execution_count": null,
      "outputs": [
        {
          "output_type": "execute_result",
          "data": {
            "text/plain": [
              "True"
            ]
          },
          "metadata": {},
          "execution_count": 24
        }
      ]
    },
    {
      "cell_type": "code",
      "source": [
        "dados['Crossfox']['valor']"
      ],
      "metadata": {
        "colab": {
          "base_uri": "https://localhost:8080/"
        },
        "id": "JufEjkzMGCDp",
        "outputId": "911d9dbb-f644-4316-ed4f-cfa8ebc0e72c"
      },
      "execution_count": null,
      "outputs": [
        {
          "output_type": "execute_result",
          "data": {
            "text/plain": [
              "25000"
            ]
          },
          "metadata": {},
          "execution_count": 27
        }
      ]
    },
    {
      "cell_type": "code",
      "source": [
        "'valor' in dados['Crossfox']"
      ],
      "metadata": {
        "colab": {
          "base_uri": "https://localhost:8080/"
        },
        "id": "EOcmAjicE-dL",
        "outputId": "9c85c1b6-23d6-4b7e-bf5f-2f8afa91239a"
      },
      "execution_count": null,
      "outputs": [
        {
          "output_type": "execute_result",
          "data": {
            "text/plain": [
              "True"
            ]
          },
          "metadata": {},
          "execution_count": 25
        }
      ]
    },
    {
      "cell_type": "code",
      "source": [
        "dados['Passat']['acessorios'][-1]"
      ],
      "metadata": {
        "colab": {
          "base_uri": "https://localhost:8080/",
          "height": 35
        },
        "id": "ngnBJWHDGq0-",
        "outputId": "8b6f30b6-d317-4cc7-8f0d-69b99c80abe1"
      },
      "execution_count": null,
      "outputs": [
        {
          "output_type": "execute_result",
          "data": {
            "application/vnd.google.colaboratory.intrinsic+json": {
              "type": "string"
            },
            "text/plain": [
              "'ABS'"
            ]
          },
          "metadata": {},
          "execution_count": 28
        }
      ]
    },
    {
      "cell_type": "markdown",
      "metadata": {
        "id": "FodJVx5sD1AP"
      },
      "source": [
        "# 3.3 Métodos de dicionários"
      ]
    },
    {
      "cell_type": "markdown",
      "metadata": {
        "id": "7pqdPOkYD1AP"
      },
      "source": [
        "## *dict.update()*\n",
        "\n",
        "Atualiza o dicionário."
      ]
    },
    {
      "cell_type": "code",
      "metadata": {
        "id": "DUySYxKQD1AQ"
      },
      "source": [
        "dados = {'Crossfox': 72832.16, 'DS5': 124549.07, 'Jetta Variant': 88078.64}\n"
      ],
      "execution_count": null,
      "outputs": []
    },
    {
      "cell_type": "code",
      "metadata": {
        "id": "DLsqp71cD1AR",
        "colab": {
          "base_uri": "https://localhost:8080/"
        },
        "outputId": "f55369b9-15b1-4c3d-bad0-861744633cf7"
      },
      "source": [
        "dados.update({'Passat': 106161.94})\n",
        "dados"
      ],
      "execution_count": null,
      "outputs": [
        {
          "output_type": "execute_result",
          "data": {
            "text/plain": [
              "{'Crossfox': 72832.16,\n",
              " 'DS5': 124549.07,\n",
              " 'Jetta Variant': 88078.64,\n",
              " 'Passat': 106161.94}"
            ]
          },
          "metadata": {},
          "execution_count": 31
        }
      ]
    },
    {
      "cell_type": "code",
      "source": [
        "#da para atualizar qq parte exemplo valor e inlcuir item\n",
        "dados.update({'Passat': 106161.95, 'Fusca': 150000})\n",
        "dados"
      ],
      "metadata": {
        "colab": {
          "base_uri": "https://localhost:8080/"
        },
        "id": "1depPyQIIjf7",
        "outputId": "7bea5a29-7592-4107-f9ea-361f406e2814"
      },
      "execution_count": null,
      "outputs": [
        {
          "output_type": "execute_result",
          "data": {
            "text/plain": [
              "{'Crossfox': 72832.16,\n",
              " 'DS5': 124549.07,\n",
              " 'Fusca': 150000,\n",
              " 'Jetta Variant': 88078.64,\n",
              " 'Passat': 106161.95}"
            ]
          },
          "metadata": {},
          "execution_count": 32
        }
      ]
    },
    {
      "cell_type": "markdown",
      "metadata": {
        "id": "JLs5c0DeD1AR"
      },
      "source": [
        "## *dict.copy()*\n",
        "\n",
        "Cria uma cópia do dicionário."
      ]
    },
    {
      "cell_type": "code",
      "metadata": {
        "id": "X9F7OB3eD1AS"
      },
      "source": [
        "# aqui vc pode criar uma copia e não afeta na original\n",
        "dadosCopy = dados.copy()"
      ],
      "execution_count": null,
      "outputs": []
    },
    {
      "cell_type": "code",
      "metadata": {
        "id": "v0rL0bveD1AS",
        "colab": {
          "base_uri": "https://localhost:8080/"
        },
        "outputId": "01443189-3f4e-4474-e77f-e8ee3dcb9ed0"
      },
      "source": [
        "dadosCopy"
      ],
      "execution_count": null,
      "outputs": [
        {
          "output_type": "execute_result",
          "data": {
            "text/plain": [
              "{'Crossfox': 72832.16,\n",
              " 'DS5': 124549.07,\n",
              " 'Fusca': 150000,\n",
              " 'Jetta Variant': 88078.64,\n",
              " 'Passat': 106161.95}"
            ]
          },
          "metadata": {},
          "execution_count": 34
        }
      ]
    },
    {
      "cell_type": "code",
      "metadata": {
        "id": "M-abRGGrD1AT"
      },
      "source": [
        "#del dadosCopy['Fusca'] deu errro pq eu oloquei para rodar d enovo e como ele ja fez a chave e nao tem ele da este erro\n"
      ],
      "execution_count": null,
      "outputs": []
    },
    {
      "cell_type": "code",
      "source": [
        ""
      ],
      "metadata": {
        "id": "ibnVExkzJssh"
      },
      "execution_count": null,
      "outputs": []
    },
    {
      "cell_type": "code",
      "metadata": {
        "id": "ETBD0TkND1AU",
        "colab": {
          "base_uri": "https://localhost:8080/"
        },
        "outputId": "f976ac0f-72f4-4850-a868-39cbbec18e32"
      },
      "source": [
        "dadosCopy\n"
      ],
      "execution_count": null,
      "outputs": [
        {
          "output_type": "execute_result",
          "data": {
            "text/plain": [
              "{'Crossfox': 72832.16,\n",
              " 'DS5': 124549.07,\n",
              " 'Jetta Variant': 88078.64,\n",
              " 'Passat': 106161.95}"
            ]
          },
          "metadata": {},
          "execution_count": 38
        }
      ]
    },
    {
      "cell_type": "code",
      "source": [
        "dados"
      ],
      "metadata": {
        "colab": {
          "base_uri": "https://localhost:8080/"
        },
        "id": "2XRDuig4JtuB",
        "outputId": "283d1bab-887f-4b61-fea9-4d66d0d3d837"
      },
      "execution_count": null,
      "outputs": [
        {
          "output_type": "execute_result",
          "data": {
            "text/plain": [
              "{'Crossfox': 72832.16,\n",
              " 'DS5': 124549.07,\n",
              " 'Fusca': 150000,\n",
              " 'Jetta Variant': 88078.64,\n",
              " 'Passat': 106161.95}"
            ]
          },
          "metadata": {},
          "execution_count": 39
        }
      ]
    },
    {
      "cell_type": "markdown",
      "metadata": {
        "id": "mNODkmHCD1AV"
      },
      "source": [
        "## *dict.pop(key[, default ])*\n",
        "\n",
        "Se a chave for encontrada no dicionário, o item é removido e seu valor é retornado. Caso contrário, o valor especificado como *default* é retornado. Se o valor *default* não for fornecido e a chave não for encontrada no dicionário um erro será gerado."
      ]
    },
    {
      "cell_type": "code",
      "metadata": {
        "id": "_4QEPwScD1AW",
        "colab": {
          "base_uri": "https://localhost:8080/"
        },
        "outputId": "65ee695d-e59d-4f52-9dc9-93fbcae44397"
      },
      "source": [
        "dadosCopy"
      ],
      "execution_count": null,
      "outputs": [
        {
          "output_type": "execute_result",
          "data": {
            "text/plain": [
              "{'Crossfox': 72832.16,\n",
              " 'DS5': 124549.07,\n",
              " 'Jetta Variant': 88078.64,\n",
              " 'Passat': 106161.95}"
            ]
          },
          "metadata": {},
          "execution_count": 40
        }
      ]
    },
    {
      "cell_type": "code",
      "metadata": {
        "id": "Hjh0MuymD1AX",
        "colab": {
          "base_uri": "https://localhost:8080/"
        },
        "outputId": "7e64ea87-d79a-43dd-8fc8-0b7b735cc625"
      },
      "source": [
        "#se eu quiser emilinar o passat\n",
        "dadosCopy.pop('Passat')\n"
      ],
      "execution_count": null,
      "outputs": [
        {
          "output_type": "execute_result",
          "data": {
            "text/plain": [
              "106161.95"
            ]
          },
          "metadata": {},
          "execution_count": 41
        }
      ]
    },
    {
      "cell_type": "code",
      "metadata": {
        "id": "f51rKjkuD1AX",
        "colab": {
          "base_uri": "https://localhost:8080/"
        },
        "outputId": "94f1fc73-55b3-49b3-9846-1250f661695f"
      },
      "source": [
        "dadosCopy"
      ],
      "execution_count": null,
      "outputs": [
        {
          "output_type": "execute_result",
          "data": {
            "text/plain": [
              "{'Crossfox': 72832.16, 'DS5': 124549.07, 'Jetta Variant': 88078.64}"
            ]
          },
          "metadata": {},
          "execution_count": 42
        }
      ]
    },
    {
      "cell_type": "code",
      "metadata": {
        "id": "Ah4sZ7axD1AZ",
        "colab": {
          "base_uri": "https://localhost:8080/",
          "height": 35
        },
        "outputId": "f8f49fd3-86c7-48b2-81cd-bcabc54cf3e6"
      },
      "source": [
        "dadosCopy.pop('Passat', 'Chave não encontrada') # se eu rodar de novo ele vai dar um erro por isso passo para ele o que ele tem que fazer depois da virgula se nao encontar"
      ],
      "execution_count": null,
      "outputs": [
        {
          "output_type": "execute_result",
          "data": {
            "application/vnd.google.colaboratory.intrinsic+json": {
              "type": "string"
            },
            "text/plain": [
              "'Chave não encontrada'"
            ]
          },
          "metadata": {},
          "execution_count": 44
        }
      ]
    },
    {
      "cell_type": "code",
      "metadata": {
        "id": "SJATRY8RD1Aa",
        "colab": {
          "base_uri": "https://localhost:8080/"
        },
        "outputId": "fbbe2a8c-ef9e-4947-d475-7b976719170e"
      },
      "source": [
        "dadosCopy.pop('DS5', 'Chave não encontrada')"
      ],
      "execution_count": null,
      "outputs": [
        {
          "output_type": "execute_result",
          "data": {
            "text/plain": [
              "124549.07"
            ]
          },
          "metadata": {},
          "execution_count": 45
        }
      ]
    },
    {
      "cell_type": "code",
      "metadata": {
        "id": "V36wHdzmD1Ab",
        "colab": {
          "base_uri": "https://localhost:8080/"
        },
        "outputId": "b2c33841-d938-4d88-a6ef-4d07119b7ab1"
      },
      "source": [
        "dadosCopy"
      ],
      "execution_count": null,
      "outputs": [
        {
          "output_type": "execute_result",
          "data": {
            "text/plain": [
              "{'Crossfox': 72832.16, 'Jetta Variant': 88078.64}"
            ]
          },
          "metadata": {},
          "execution_count": 46
        }
      ]
    },
    {
      "cell_type": "code",
      "metadata": {
        "id": "LJ0lQIrdD1Ac"
      },
      "source": [
        ""
      ],
      "execution_count": null,
      "outputs": []
    },
    {
      "cell_type": "code",
      "metadata": {
        "id": "yKGu-fYkD1Ad"
      },
      "source": [
        ""
      ],
      "execution_count": null,
      "outputs": []
    },
    {
      "cell_type": "code",
      "metadata": {
        "id": "x-h8nVyhD1Af"
      },
      "source": [
        ""
      ],
      "execution_count": null,
      "outputs": []
    },
    {
      "cell_type": "markdown",
      "metadata": {
        "id": "Q5J0R7d3D1Ag"
      },
      "source": [
        "## *dict.clear()*\n",
        "\n",
        "Remove todos os itens do dicionário."
      ]
    },
    {
      "cell_type": "code",
      "metadata": {
        "id": "AvkP_8mND1Ag"
      },
      "source": [
        "dadosCopy.clear()"
      ],
      "execution_count": null,
      "outputs": []
    },
    {
      "cell_type": "code",
      "metadata": {
        "id": "S69pMYboD1Ah",
        "colab": {
          "base_uri": "https://localhost:8080/"
        },
        "outputId": "ed465279-591e-4842-ce19-598e54cf7b77"
      },
      "source": [
        "dadosCopy"
      ],
      "execution_count": null,
      "outputs": [
        {
          "output_type": "execute_result",
          "data": {
            "text/plain": [
              "{}"
            ]
          },
          "metadata": {},
          "execution_count": 48
        }
      ]
    },
    {
      "cell_type": "code",
      "source": [
        "dados = {'Jetta': 88000, 'Crossfox': 72000, 'DS5': 124000}  "
      ],
      "metadata": {
        "id": "IN46BV5UMgjE"
      },
      "execution_count": null,
      "outputs": []
    },
    {
      "cell_type": "code",
      "source": [
        "#dados.pop()"
      ],
      "metadata": {
        "id": "1EGhp_VkMopl"
      },
      "execution_count": null,
      "outputs": []
    },
    {
      "cell_type": "code",
      "source": [
        "dados.update({'Passat': 85000, 'Fusca': 150000})"
      ],
      "metadata": {
        "id": "dfiTz84EM2sv"
      },
      "execution_count": null,
      "outputs": []
    },
    {
      "cell_type": "code",
      "source": [
        "dados"
      ],
      "metadata": {
        "colab": {
          "base_uri": "https://localhost:8080/"
        },
        "id": "a105XT5FM5aX",
        "outputId": "a55f18bd-f717-4521-d4e6-26fa51083957"
      },
      "execution_count": null,
      "outputs": [
        {
          "output_type": "execute_result",
          "data": {
            "text/plain": [
              "{'Crossfox': 72000,\n",
              " 'DS5': 124000,\n",
              " 'Fusca': 150000,\n",
              " 'Jetta': 88000,\n",
              " 'Passat': 85000}"
            ]
          },
          "metadata": {},
          "execution_count": 53
        }
      ]
    },
    {
      "cell_type": "code",
      "source": [
        "del dados['Fusca']"
      ],
      "metadata": {
        "id": "A041djmTNOmz"
      },
      "execution_count": null,
      "outputs": []
    },
    {
      "cell_type": "code",
      "source": [
        "dados"
      ],
      "metadata": {
        "colab": {
          "base_uri": "https://localhost:8080/"
        },
        "id": "9RF2E37wNad0",
        "outputId": "7428ee7e-ad76-493f-b88e-403d6c08b9c9"
      },
      "execution_count": null,
      "outputs": [
        {
          "output_type": "execute_result",
          "data": {
            "text/plain": [
              "{'Crossfox': 72000, 'DS5': 124000, 'Jetta': 88000, 'Passat': 85000}"
            ]
          },
          "metadata": {},
          "execution_count": 55
        }
      ]
    },
    {
      "cell_type": "code",
      "source": [
        "dados.update( Fusca = 160000)"
      ],
      "metadata": {
        "id": "PirzQkXxNcE4"
      },
      "execution_count": null,
      "outputs": []
    },
    {
      "cell_type": "code",
      "source": [
        "dados"
      ],
      "metadata": {
        "colab": {
          "base_uri": "https://localhost:8080/"
        },
        "id": "RFri921PNiF2",
        "outputId": "5ae95551-70e3-4f76-ee0d-8850befd5a6f"
      },
      "execution_count": null,
      "outputs": [
        {
          "output_type": "execute_result",
          "data": {
            "text/plain": [
              "{'Crossfox': 72000,\n",
              " 'DS5': 124000,\n",
              " 'Fusca': 160000,\n",
              " 'Jetta': 88000,\n",
              " 'Passat': 85000}"
            ]
          },
          "metadata": {},
          "execution_count": 57
        }
      ]
    },
    {
      "cell_type": "markdown",
      "metadata": {
        "id": "QhoSRfPsD1Ai"
      },
      "source": [
        "# 3.4 Iterando em dicionários"
      ]
    },
    {
      "cell_type": "markdown",
      "metadata": {
        "id": "E-agaqakD1Ai"
      },
      "source": [
        "## *dict.keys()*\n",
        "\n",
        "Retorna uma lista contendo as chaves (*keys*) do dicionário."
      ]
    },
    {
      "cell_type": "code",
      "metadata": {
        "id": "qFADEYmBD1Aj",
        "colab": {
          "base_uri": "https://localhost:8080/"
        },
        "outputId": "d2c1cf0a-57a4-4bce-9384-2495f5ae9dbf"
      },
      "source": [
        "dados.keys()"
      ],
      "execution_count": null,
      "outputs": [
        {
          "output_type": "execute_result",
          "data": {
            "text/plain": [
              "dict_keys(['Jetta', 'Crossfox', 'DS5', 'Passat', 'Fusca'])"
            ]
          },
          "metadata": {},
          "execution_count": 58
        }
      ]
    },
    {
      "cell_type": "code",
      "metadata": {
        "id": "niwh9AgDD1Aj",
        "colab": {
          "base_uri": "https://localhost:8080/"
        },
        "outputId": "874255ea-9e2a-4246-a899-d6afb4fafa50"
      },
      "source": [
        "#queremos mostrar somente todos os valores juntos entao fazemos o for\n",
        "for key in dados.keys():\n",
        "  print(dados[key])"
      ],
      "execution_count": null,
      "outputs": [
        {
          "output_type": "stream",
          "name": "stdout",
          "text": [
            "88000\n",
            "72000\n",
            "124000\n",
            "85000\n",
            "160000\n"
          ]
        }
      ]
    },
    {
      "cell_type": "markdown",
      "metadata": {
        "id": "qFj6Cc7dD1Ak"
      },
      "source": [
        "## *dict.values()*\n",
        "\n",
        "Retorna uma lista com todos os valores (*values*) do dicionário."
      ]
    },
    {
      "cell_type": "code",
      "metadata": {
        "id": "nfpLxrQVD1Al",
        "colab": {
          "base_uri": "https://localhost:8080/"
        },
        "outputId": "40c0796e-4bef-4ddc-b0c7-abe9b70c32e6"
      },
      "source": [
        "dados.values()"
      ],
      "execution_count": null,
      "outputs": [
        {
          "output_type": "execute_result",
          "data": {
            "text/plain": [
              "dict_values([88000, 72000, 124000, 85000, 160000])"
            ]
          },
          "metadata": {},
          "execution_count": 60
        }
      ]
    },
    {
      "cell_type": "markdown",
      "metadata": {
        "id": "-NGRwX0AD1Al"
      },
      "source": [
        "## *dict.items()*\n",
        "\n",
        "Retorna uma lista contendo uma tupla para cada par chave-valor (*key-value*) do dicionário."
      ]
    },
    {
      "cell_type": "code",
      "metadata": {
        "id": "Q2I9_6YvD1Am",
        "colab": {
          "base_uri": "https://localhost:8080/"
        },
        "outputId": "4ee5da75-9471-4a85-ecc2-30ee1d2b99b5"
      },
      "source": [
        "dados.items()"
      ],
      "execution_count": null,
      "outputs": [
        {
          "output_type": "execute_result",
          "data": {
            "text/plain": [
              "dict_items([('Jetta', 88000), ('Crossfox', 72000), ('DS5', 124000), ('Passat', 85000), ('Fusca', 160000)])"
            ]
          },
          "metadata": {},
          "execution_count": 62
        }
      ]
    },
    {
      "cell_type": "code",
      "metadata": {
        "id": "0j41ZqgQD1Am",
        "colab": {
          "base_uri": "https://localhost:8080/"
        },
        "outputId": "48d939f5-26ba-4983-a7a9-f3bb11091fee"
      },
      "source": [
        "#interação de tuplas usando iterador como zip\n",
        "for item in dados.items():\n",
        "  print(item)"
      ],
      "execution_count": null,
      "outputs": [
        {
          "output_type": "stream",
          "name": "stdout",
          "text": [
            "('Jetta', 88000)\n",
            "('Crossfox', 72000)\n",
            "('DS5', 124000)\n",
            "('Passat', 85000)\n",
            "('Fusca', 160000)\n"
          ]
        }
      ]
    },
    {
      "cell_type": "code",
      "metadata": {
        "id": "OVY9rIwFD1An"
      },
      "source": [
        "#desempacotar tuplas\n",
        "for key, value in dados.items():\n",
        "  print(key, value)"
      ],
      "execution_count": null,
      "outputs": []
    },
    {
      "cell_type": "code",
      "metadata": {
        "id": "ma2Ol8vcD1Ap",
        "colab": {
          "base_uri": "https://localhost:8080/"
        },
        "outputId": "9632ceff-d2da-4060-bf3a-20900d4d0fdc"
      },
      "source": [
        "for key, value in dados.items():\n",
        "  if(value > 100000):\n",
        "    print(key)"
      ],
      "execution_count": null,
      "outputs": [
        {
          "output_type": "stream",
          "name": "stdout",
          "text": [
            "DS5\n",
            "Fusca\n"
          ]
        }
      ]
    },
    {
      "cell_type": "code",
      "source": [
        "dados = {\n",
        "    'Crossfox': {'valor': 72000, 'ano': 2005}, \n",
        "    'DS5': {'valor': 125000, 'ano': 2015}, \n",
        "    'Fusca': {'valor': 150000, 'ano': 1976}, \n",
        "    'Jetta': {'valor': 88000, 'ano': 2010}, \n",
        "    'Passat': {'valor': 106000, 'ano': 1998}\n",
        "}"
      ],
      "metadata": {
        "id": "FdcrDC95RSF3"
      },
      "execution_count": null,
      "outputs": []
    },
    {
      "cell_type": "code",
      "source": [
        "#ano maior ou igual a 2000\n",
        "dados.items()"
      ],
      "metadata": {
        "colab": {
          "base_uri": "https://localhost:8080/"
        },
        "id": "Hx1PhroxRY3L",
        "outputId": "3f7003f1-2c0b-4d0b-f189-65b9d90487c3"
      },
      "execution_count": null,
      "outputs": [
        {
          "output_type": "execute_result",
          "data": {
            "text/plain": [
              "dict_items([('Crossfox', {'valor': 72000, 'ano': 2005}), ('DS5', {'valor': 125000, 'ano': 2015}), ('Fusca', {'valor': 150000, 'ano': 1976}), ('Jetta', {'valor': 88000, 'ano': 2010}), ('Passat', {'valor': 106000, 'ano': 1998})])"
            ]
          },
          "metadata": {},
          "execution_count": 66
        }
      ]
    },
    {
      "cell_type": "code",
      "source": [
        "for item in dados.items():\n",
        "  if( item[1]['ano'] >= 2000):\n",
        "        print(item[0])\n"
      ],
      "metadata": {
        "colab": {
          "base_uri": "https://localhost:8080/"
        },
        "id": "bA6a_6ywRh-s",
        "outputId": "eab9ba41-7365-4be4-fa5f-fc72bcc6d020"
      },
      "execution_count": null,
      "outputs": [
        {
          "output_type": "stream",
          "name": "stdout",
          "text": [
            "Crossfox\n",
            "DS5\n",
            "Jetta\n"
          ]
        }
      ]
    },
    {
      "cell_type": "markdown",
      "metadata": {
        "id": "-q3AlSg3D1Aq"
      },
      "source": [
        "# <font color=green> 4. FUNÇÕES E PACOTES\n",
        "---\n",
        "    \n",
        "Funções são unidades de código reutilizáveis que realizam uma tarefa específica, podem receber alguma entrada e também podem retornar alguma resultado."
      ]
    },
    {
      "cell_type": "markdown",
      "metadata": {
        "id": "5CfEcU58D1Aq"
      },
      "source": [
        "# 4.1 Built-in function\n",
        "\n",
        "A linguagem Python possui várias funções integradas que estão sempre acessíveis. Algumas já utilizamos em nosso treinamento: type(), print(), zip(), len(), set() etc.\n",
        "\n",
        "https://docs.python.org/3.6/library/functions.html"
      ]
    },
    {
      "cell_type": "code",
      "metadata": {
        "id": "DP7cmY7xD1Aq",
        "colab": {
          "base_uri": "https://localhost:8080/"
        },
        "outputId": "31936d37-3c86-49be-b4b9-6431d85d3388"
      },
      "source": [
        "dados = {'Jetta Variant': 88078.64, 'Passat': 106161.94, 'Crossfox': 72832.16}\n",
        "dados"
      ],
      "execution_count": null,
      "outputs": [
        {
          "output_type": "execute_result",
          "data": {
            "text/plain": [
              "{'Crossfox': 72832.16, 'Jetta Variant': 88078.64, 'Passat': 106161.94}"
            ]
          },
          "metadata": {},
          "execution_count": 73
        }
      ]
    },
    {
      "cell_type": "code",
      "metadata": {
        "id": "5zAcGSCbD1Ar",
        "colab": {
          "base_uri": "https://localhost:8080/"
        },
        "outputId": "514117fa-108a-466f-f418-3ecd013f93b3"
      },
      "source": [
        "#selecionar so os valores pra depois somar\n",
        "valores = []\n",
        "for valor in dados.values():\n",
        "  valores.append(valor)\n",
        "valores"
      ],
      "execution_count": null,
      "outputs": [
        {
          "output_type": "execute_result",
          "data": {
            "text/plain": [
              "[88078.64, 106161.94, 72832.16]"
            ]
          },
          "metadata": {},
          "execution_count": 75
        }
      ]
    },
    {
      "cell_type": "code",
      "metadata": {
        "id": "zG9_jU_1D1At",
        "colab": {
          "base_uri": "https://localhost:8080/"
        },
        "outputId": "167fe7f8-ea94-4d52-9f5d-a1ce5f9050e4"
      },
      "source": [
        "#agora vamos somar todos os valores\n",
        "soma = 0\n",
        "for valor in dados.values():\n",
        "  soma += valor\n",
        "soma"
      ],
      "execution_count": null,
      "outputs": [
        {
          "output_type": "execute_result",
          "data": {
            "text/plain": [
              "267072.74"
            ]
          },
          "metadata": {},
          "execution_count": 76
        }
      ]
    },
    {
      "cell_type": "code",
      "metadata": {
        "id": "jn0O3uXZD1Au",
        "colab": {
          "base_uri": "https://localhost:8080/"
        },
        "outputId": "b6182ea0-b6d8-4f3d-e9dc-8d41ca8be7eb"
      },
      "source": [
        "#escrever a primeira parte em uma linha\n",
        "list(dados.values())"
      ],
      "execution_count": null,
      "outputs": [
        {
          "output_type": "execute_result",
          "data": {
            "text/plain": [
              "[88078.64, 106161.94, 72832.16]"
            ]
          },
          "metadata": {},
          "execution_count": 77
        }
      ]
    },
    {
      "cell_type": "code",
      "metadata": {
        "id": "lnUjKVnoD1Aw",
        "colab": {
          "base_uri": "https://localhost:8080/"
        },
        "outputId": "9ec649e9-36b8-4638-d057-c540f35686df"
      },
      "source": [
        "#escrever a soma tb usando uma  linha com built in fuction\n",
        "sum(dados.values())"
      ],
      "execution_count": null,
      "outputs": [
        {
          "output_type": "execute_result",
          "data": {
            "text/plain": [
              "267072.74"
            ]
          },
          "metadata": {},
          "execution_count": 78
        }
      ]
    },
    {
      "cell_type": "code",
      "metadata": {
        "scrolled": false,
        "id": "WdEuYXe2D1Ay",
        "colab": {
          "base_uri": "https://localhost:8080/"
        },
        "outputId": "28017f93-980d-4cf6-81c7-f82a2ece2c88"
      },
      "source": [
        "#se vc quer começar ja com um valor e add a soma vc coloca depois da virgula\n",
        "sum(dados.values(), 1000000)"
      ],
      "execution_count": null,
      "outputs": [
        {
          "output_type": "execute_result",
          "data": {
            "text/plain": [
              "1267072.7399999998"
            ]
          },
          "metadata": {},
          "execution_count": 79
        }
      ]
    },
    {
      "cell_type": "code",
      "metadata": {
        "id": "hIA29O3tD1Az",
        "colab": {
          "base_uri": "https://localhost:8080/"
        },
        "outputId": "6962e3d9-23d1-45cf-aa72-2563b25267b4"
      },
      "source": [
        "help(print)"
      ],
      "execution_count": null,
      "outputs": [
        {
          "output_type": "stream",
          "name": "stdout",
          "text": [
            "Help on built-in function print in module builtins:\n",
            "\n",
            "print(...)\n",
            "    print(value, ..., sep=' ', end='\\n', file=sys.stdout, flush=False)\n",
            "    \n",
            "    Prints the values to a stream, or to sys.stdout by default.\n",
            "    Optional keyword arguments:\n",
            "    file:  a file-like object (stream); defaults to the current sys.stdout.\n",
            "    sep:   string inserted between values, default a space.\n",
            "    end:   string appended after the last value, default a newline.\n",
            "    flush: whether to forcibly flush the stream.\n",
            "\n"
          ]
        }
      ]
    },
    {
      "cell_type": "code",
      "source": [
        "print?"
      ],
      "metadata": {
        "id": "IslPI0Nblt9V"
      },
      "execution_count": null,
      "outputs": []
    },
    {
      "cell_type": "code",
      "source": [
        ""
      ],
      "metadata": {
        "id": "C3EJPMD8ltkw"
      },
      "execution_count": null,
      "outputs": []
    },
    {
      "cell_type": "markdown",
      "metadata": {
        "id": "6w62Sl5ZD1A0"
      },
      "source": [
        "# 4.2 Definindo funções sem e com parâmetros"
      ]
    },
    {
      "cell_type": "markdown",
      "metadata": {
        "id": "OADZiBP2D1A0"
      },
      "source": [
        "### Funções sem parâmetros\n",
        "\n",
        "#### Formato padrão\n",
        "\n",
        "```\n",
        "def <nome>():\n",
        "    <instruções>\n",
        "```"
      ]
    },
    {
      "cell_type": "code",
      "metadata": {
        "id": "uCkplEpQD1A0"
      },
      "source": [
        "def media():\n",
        "  valor = (1 + 2 + 3)/3\n",
        "  print(valor)"
      ],
      "execution_count": null,
      "outputs": []
    },
    {
      "cell_type": "code",
      "metadata": {
        "id": "fOCEGq5VD1A1",
        "colab": {
          "base_uri": "https://localhost:8080/"
        },
        "outputId": "52ecad4a-e769-4406-fbd6-9569ca2dc8cf"
      },
      "source": [
        "media()"
      ],
      "execution_count": null,
      "outputs": [
        {
          "output_type": "stream",
          "name": "stdout",
          "text": [
            "2.0\n"
          ]
        }
      ]
    },
    {
      "cell_type": "markdown",
      "metadata": {
        "id": "PwSlYSVAD1A2"
      },
      "source": [
        "### Funções com parâmetros\n",
        "\n",
        "#### Formato padrão\n",
        "\n",
        "```\n",
        "def <nome>(<param_1>, <param_2>, ..., <param_n>):\n",
        "    <instruções>\n",
        "```"
      ]
    },
    {
      "cell_type": "code",
      "metadata": {
        "id": "A3YnBUduD1A3"
      },
      "source": [
        "def media(number_1, number_2, number_3):\n",
        "  valor = (number_1 + number_2 + number_3)/3\n",
        "  print(valor)\n"
      ],
      "execution_count": null,
      "outputs": []
    },
    {
      "cell_type": "code",
      "metadata": {
        "id": "rGUZbRERD1A3",
        "colab": {
          "base_uri": "https://localhost:8080/"
        },
        "outputId": "0473283e-6881-49ff-b688-b81eb7923494"
      },
      "source": [
        "media(1, 2, 3)"
      ],
      "execution_count": null,
      "outputs": [
        {
          "output_type": "stream",
          "name": "stdout",
          "text": [
            "2.0\n"
          ]
        }
      ]
    },
    {
      "cell_type": "code",
      "metadata": {
        "id": "B9WDlRE7D1A5",
        "colab": {
          "base_uri": "https://localhost:8080/"
        },
        "outputId": "fba1c762-826d-454f-83ee-3a5152ba3be1"
      },
      "source": [
        "media(25, 65, 52)"
      ],
      "execution_count": null,
      "outputs": [
        {
          "output_type": "stream",
          "name": "stdout",
          "text": [
            "47.333333333333336\n"
          ]
        }
      ]
    },
    {
      "cell_type": "code",
      "metadata": {
        "id": "1HAy8OK_D1A6"
      },
      "source": [
        "# podemos criar uma lista para fazer a com varios numeros, podemos udar bulit in fuction , sum para somatoria e len para saber tamanho da lista\n",
        "def media(lista):\n",
        "  valor = sum(lista)/len(lista)\n",
        "  print(valor)"
      ],
      "execution_count": null,
      "outputs": []
    },
    {
      "cell_type": "code",
      "metadata": {
        "id": "_CDa4oOfD1A6",
        "colab": {
          "base_uri": "https://localhost:8080/"
        },
        "outputId": "691d7269-276f-4722-db46-9cdd61dde3cd"
      },
      "source": [
        "media([1, 2, 3, 4, 5, 6, 7, 8, 9])"
      ],
      "execution_count": null,
      "outputs": [
        {
          "output_type": "stream",
          "name": "stdout",
          "text": [
            "5.0\n"
          ]
        }
      ]
    },
    {
      "cell_type": "code",
      "metadata": {
        "id": "xH-mxqYAD1A8",
        "colab": {
          "base_uri": "https://localhost:8080/"
        },
        "outputId": "371985ce-3346-47da-8562-95d97f31b1ad"
      },
      "source": [
        "resultado = media([1, 2, 3, 4, 5, 6, 7, 8, 9])"
      ],
      "execution_count": null,
      "outputs": [
        {
          "output_type": "stream",
          "name": "stdout",
          "text": [
            "5.0\n"
          ]
        }
      ]
    },
    {
      "cell_type": "code",
      "metadata": {
        "id": "WXXC_UidD1A8"
      },
      "source": [
        "resultado "
      ],
      "execution_count": null,
      "outputs": []
    },
    {
      "cell_type": "code",
      "source": [
        "type(resultado) # nao tem valor nesta variavel , ela está só imprimir"
      ],
      "metadata": {
        "colab": {
          "base_uri": "https://localhost:8080/"
        },
        "id": "UNoc_QHVp-OO",
        "outputId": "6f8310da-4f53-4d9e-e29e-1e88295b60b3"
      },
      "execution_count": null,
      "outputs": [
        {
          "output_type": "execute_result",
          "data": {
            "text/plain": [
              "NoneType"
            ]
          },
          "metadata": {},
          "execution_count": 11
        }
      ]
    },
    {
      "cell_type": "code",
      "source": [
        "dados = {\n",
        "    'Crossfox': {'km': 35000, 'ano': 2005}, \n",
        "    'DS5': {'km': 17000, 'ano': 2015}, \n",
        "    'Fusca': {'km': 130000, 'ano': 1979}, \n",
        "    'Jetta': {'km': 56000, 'ano': 2011}, \n",
        "    'Passat': {'km': 62000, 'ano': 1999}\n",
        "}"
      ],
      "metadata": {
        "id": "FmAiNYQAsE5M"
      },
      "execution_count": null,
      "outputs": []
    },
    {
      "cell_type": "code",
      "source": [
        "def km_media(dataset, ano_atual):\n",
        "    for item in dataset.items():\n",
        "        result = item[1]['km'] / (ano_atual - item[1]['ano'])\n",
        "        print(result)"
      ],
      "metadata": {
        "id": "gXBJnU3IsEmO"
      },
      "execution_count": null,
      "outputs": []
    },
    {
      "cell_type": "code",
      "source": [
        "km_media(dados, 2019)"
      ],
      "metadata": {
        "colab": {
          "base_uri": "https://localhost:8080/"
        },
        "id": "1WBbl0ZItgn3",
        "outputId": "b67fef2a-02e4-4213-98fd-69e043235266"
      },
      "execution_count": null,
      "outputs": [
        {
          "output_type": "stream",
          "name": "stdout",
          "text": [
            "2500.0\n",
            "4250.0\n",
            "3250.0\n",
            "7000.0\n",
            "3100.0\n"
          ]
        }
      ]
    },
    {
      "cell_type": "code",
      "source": [
        "def km_media(dataset, ano_atual):\n",
        "    result = {}\n",
        "    for item in dataset.items():\n",
        "        media = item[1]['km'] / (ano_atual - item[1]['ano'])\n",
        "        result.update({ item[0]: media })\n",
        "    return (result)"
      ],
      "metadata": {
        "id": "Ewe_nrdtk50L"
      },
      "execution_count": null,
      "outputs": []
    },
    {
      "cell_type": "code",
      "source": [
        "km_media(dados, 2019)"
      ],
      "metadata": {
        "colab": {
          "base_uri": "https://localhost:8080/"
        },
        "id": "nLdOK7_9mhL8",
        "outputId": "61da4244-e21f-4cb7-9db6-84ce063f92cc"
      },
      "execution_count": null,
      "outputs": [
        {
          "output_type": "execute_result",
          "data": {
            "text/plain": [
              "{'Crossfox': 2500.0,\n",
              " 'DS5': 4250.0,\n",
              " 'Fusca': 3250.0,\n",
              " 'Jetta': 7000.0,\n",
              " 'Passat': 3100.0}"
            ]
          },
          "metadata": {},
          "execution_count": 23
        }
      ]
    },
    {
      "cell_type": "code",
      "source": [
        "def km_media(dataset, ano_atual):\n",
        "    result = {}\n",
        "    for item in dataset.items():\n",
        "        media = item[1]['km'] / (ano_atual - item[1]['ano'])\n",
        "        item[1].update({ 'km_media': media })\n",
        "        result.update({ item[0]: item[1] })\n",
        "    return result"
      ],
      "metadata": {
        "id": "Ir9UuBLLqTSg"
      },
      "execution_count": null,
      "outputs": []
    },
    {
      "cell_type": "code",
      "source": [
        "km_media(dados, 2019)"
      ],
      "metadata": {
        "colab": {
          "base_uri": "https://localhost:8080/"
        },
        "id": "h2tC-G5fqYB3",
        "outputId": "23f407aa-2041-4545-bf0d-2a4cbc1af8fd"
      },
      "execution_count": null,
      "outputs": [
        {
          "output_type": "execute_result",
          "data": {
            "text/plain": [
              "{'Crossfox': {'ano': 2005, 'km': 35000, 'km_media': 2500.0},\n",
              " 'DS5': {'ano': 2015, 'km': 17000, 'km_media': 4250.0},\n",
              " 'Fusca': {'ano': 1979, 'km': 130000, 'km_media': 3250.0},\n",
              " 'Jetta': {'ano': 2011, 'km': 56000, 'km_media': 7000.0},\n",
              " 'Passat': {'ano': 1999, 'km': 62000, 'km_media': 3100.0}}"
            ]
          },
          "metadata": {},
          "execution_count": 25
        }
      ]
    },
    {
      "cell_type": "markdown",
      "metadata": {
        "id": "8zNYrmFbD1A9"
      },
      "source": [
        "# 4.3 Definindo funções que retornam valores"
      ]
    },
    {
      "cell_type": "markdown",
      "metadata": {
        "id": "J44K-dMOD1A9"
      },
      "source": [
        "### Funções que retornam um valor\n",
        "\n",
        "#### Formato padrão\n",
        "\n",
        "```\n",
        "def <nome>(<param_1>, <param_2>, ..., <param_n>):\n",
        "    <instruções>\n",
        "    return <resultado>\n",
        "```"
      ]
    },
    {
      "cell_type": "code",
      "metadata": {
        "id": "-UG42RQJD1A9"
      },
      "source": [
        "def media(lista):\n",
        "  valor = sum(lista)/len(lista)\n",
        "  return valor"
      ],
      "execution_count": null,
      "outputs": []
    },
    {
      "cell_type": "code",
      "metadata": {
        "id": "VJwdvoT5D1A-",
        "colab": {
          "base_uri": "https://localhost:8080/"
        },
        "outputId": "826e6b00-2029-4c44-abc9-34d84d0f577a"
      },
      "source": [
        "media([1, 2, 3, 4, 7, 8])"
      ],
      "execution_count": null,
      "outputs": [
        {
          "output_type": "execute_result",
          "data": {
            "text/plain": [
              "4.166666666666667"
            ]
          },
          "metadata": {},
          "execution_count": 5
        }
      ]
    },
    {
      "cell_type": "code",
      "metadata": {
        "id": "AgAeJkpND1A-"
      },
      "source": [
        "resultado = media([1, 2, 3, 4, 7, 8])"
      ],
      "execution_count": null,
      "outputs": []
    },
    {
      "cell_type": "code",
      "metadata": {
        "id": "_r616TevD1A_",
        "colab": {
          "base_uri": "https://localhost:8080/"
        },
        "outputId": "c6d1d260-f92d-4398-bfe7-e2ac72f96e30"
      },
      "source": [
        "resultado"
      ],
      "execution_count": null,
      "outputs": [
        {
          "output_type": "execute_result",
          "data": {
            "text/plain": [
              "4.166666666666667"
            ]
          },
          "metadata": {},
          "execution_count": 7
        }
      ]
    },
    {
      "cell_type": "markdown",
      "metadata": {
        "id": "MQaK8GV5D1BA"
      },
      "source": [
        "### Funções que retornam mais de um valor\n",
        "\n",
        "#### Formato padrão\n",
        "\n",
        "```\n",
        "def <nome>(<param_1>, <param_2>, ..., <param_n>):\n",
        "    <instruções>\n",
        "    return (<resultado_1>, <resultado_2>, ..., <resultado_n>)\n",
        "```"
      ]
    },
    {
      "cell_type": "code",
      "metadata": {
        "id": "v0PUMegVD1BA"
      },
      "source": [
        "def media(lista):\n",
        "  valor = sum(lista)/len(lista)\n",
        "  return (valor, len(lista))"
      ],
      "execution_count": null,
      "outputs": []
    },
    {
      "cell_type": "code",
      "metadata": {
        "id": "Ys-etom8D1BA",
        "colab": {
          "base_uri": "https://localhost:8080/"
        },
        "outputId": "4be82bf5-719b-47db-d8ab-7d35e9078b45"
      },
      "source": [
        "media([1, 2, 3, 4, 7, 8, 11,25])\n"
      ],
      "execution_count": null,
      "outputs": [
        {
          "output_type": "execute_result",
          "data": {
            "text/plain": [
              "(7.625, 8)"
            ]
          },
          "metadata": {},
          "execution_count": 13
        }
      ]
    },
    {
      "cell_type": "code",
      "metadata": {
        "id": "LERrvkMHD1BC"
      },
      "source": [
        "resultado, n = media([1, 2, 3, 4, 7, 8, 11,25])"
      ],
      "execution_count": null,
      "outputs": []
    },
    {
      "cell_type": "code",
      "metadata": {
        "id": "sqoFOWSsD1BC",
        "colab": {
          "base_uri": "https://localhost:8080/"
        },
        "outputId": "ac1c29a2-0a95-4470-9c09-3f42d617211c"
      },
      "source": [
        "resultado"
      ],
      "execution_count": null,
      "outputs": [
        {
          "output_type": "execute_result",
          "data": {
            "text/plain": [
              "7.625"
            ]
          },
          "metadata": {},
          "execution_count": 15
        }
      ]
    },
    {
      "cell_type": "code",
      "metadata": {
        "id": "NdB_Jyw_D1BD",
        "colab": {
          "base_uri": "https://localhost:8080/"
        },
        "outputId": "825759cf-b82d-4044-f15a-0704d17d7b88"
      },
      "source": [
        "n"
      ],
      "execution_count": null,
      "outputs": [
        {
          "output_type": "execute_result",
          "data": {
            "text/plain": [
              "8"
            ]
          },
          "metadata": {},
          "execution_count": 16
        }
      ]
    },
    {
      "cell_type": "code",
      "source": [
        ""
      ],
      "metadata": {
        "id": "-RX0dILjk1jO"
      },
      "execution_count": null,
      "outputs": []
    },
    {
      "cell_type": "code",
      "source": [
        ""
      ],
      "metadata": {
        "id": "J9bOPjfek1N2"
      },
      "execution_count": null,
      "outputs": []
    },
    {
      "cell_type": "markdown",
      "metadata": {
        "id": "uQ5lNnKrD1BD"
      },
      "source": [
        "# <font color=green> 5. PANDAS BÁSICO\n",
        "---\n",
        "\n",
        "**versão: 0.25.2**\n",
        "  \n",
        "Pandas é uma ferramenta de manipulação de dados de alto nível, construída com base no pacote Numpy. O pacote pandas possui estruturas de dados bastante interessantes para manipulação de dados e por isso é muito utilizado por cientistas de dados.\n",
        "\n",
        "\n",
        "## Estruturas de Dados\n",
        "\n",
        "### Series\n",
        "\n",
        "Series são arrays unidimensionais rotulados capazes de armazenar qualquer tipo de dado. Os rótulos das linhas são chamados de **index**. A forma básica de criação de uma Series é a seguinte:\n",
        "\n",
        "\n",
        "```\n",
        "    s = pd.Series(dados, index = index)\n",
        "```\n",
        "\n",
        "O argumento *dados* pode ser um dicionário, uma lista, um array Numpy ou uma constante.\n",
        "\n",
        "### DataFrames\n",
        "\n",
        "DataFrame é uma estrutura de dados tabular bidimensional com rótulos nas linha e colunas. Como a Series, os DataFrames são capazes de armazenar qualquer tipo de dados.\n",
        "\n",
        "\n",
        "```\n",
        "    df = pd.DataFrame(dados, index = index, columns = columns)\n",
        "```\n",
        "\n",
        "O argumento *dados* pode ser um dicionário, uma lista, um array Numpy, uma Series e outro DataFrame.\n",
        "\n",
        "**Documentação:** https://pandas.pydata.org/pandas-docs/version/0.25/"
      ]
    },
    {
      "cell_type": "markdown",
      "metadata": {
        "id": "2qa7RC03D1BD"
      },
      "source": [
        "# 5.1 Estruturas de dados"
      ]
    },
    {
      "cell_type": "code",
      "metadata": {
        "id": "4QyFDeS4D1BD"
      },
      "source": [
        "import pandas as pd"
      ],
      "execution_count": 6,
      "outputs": []
    },
    {
      "cell_type": "markdown",
      "metadata": {
        "id": "kIey8_OcD1BF"
      },
      "source": [
        "### Criando uma Series a partir de uma lista"
      ]
    },
    {
      "cell_type": "code",
      "metadata": {
        "id": "yEZR6DWiD1BF",
        "colab": {
          "base_uri": "https://localhost:8080/"
        },
        "outputId": "c8fa5c4e-2bbe-4d48-b770-441b94f76e85"
      },
      "source": [
        "carros = ['Jetta Variant', 'Passat', 'Crossfox']\n",
        "carros"
      ],
      "execution_count": null,
      "outputs": [
        {
          "output_type": "execute_result",
          "data": {
            "text/plain": [
              "['Jetta Variant', 'Passat', 'Crossfox']"
            ]
          },
          "metadata": {},
          "execution_count": 2
        }
      ]
    },
    {
      "cell_type": "code",
      "metadata": {
        "id": "rLudWKZ_D1BF",
        "colab": {
          "base_uri": "https://localhost:8080/"
        },
        "outputId": "c08bfbf9-5d30-4bb2-d3e8-03bbccd4ad1c"
      },
      "source": [
        "pd.Series(carros)"
      ],
      "execution_count": null,
      "outputs": [
        {
          "output_type": "execute_result",
          "data": {
            "text/plain": [
              "0    Jetta Variant\n",
              "1           Passat\n",
              "2         Crossfox\n",
              "dtype: object"
            ]
          },
          "metadata": {},
          "execution_count": 3
        }
      ]
    },
    {
      "cell_type": "markdown",
      "metadata": {
        "id": "VYVIKd1-D1BG"
      },
      "source": [
        "### Criando um DataFrame a partir de uma lista de dicionários"
      ]
    },
    {
      "cell_type": "code",
      "metadata": {
        "id": "QFNS9PckD1BG"
      },
      "source": [
        "dados = [\n",
        "    {'Nome': 'Jetta Variant', 'Motor': 'Motor 4.0 Turbo', 'Ano': 2003, 'Quilometragem': 44410.0, 'Zero_km': False, 'Valor': 88078.64},\n",
        "    {'Nome': 'Passat', 'Motor': 'Motor Diesel', 'Ano': 1991, 'Quilometragem': 5712.0, 'Zero_km': False, 'Valor': 106161.94},\n",
        "    {'Nome': 'Crossfox', 'Motor': 'Motor Diesel V8', 'Ano': 1990, 'Quilometragem': 37123.0, 'Zero_km': False, 'Valor': 72832.16}\n",
        "]# aqui é uma lista com varios dicionários dentro"
      ],
      "execution_count": null,
      "outputs": []
    },
    {
      "cell_type": "code",
      "metadata": {
        "id": "WDQb9AnKD1BH"
      },
      "source": [
        "dataset = pd.DataFrame(dados)"
      ],
      "execution_count": null,
      "outputs": []
    },
    {
      "cell_type": "code",
      "metadata": {
        "id": "-2-jGvmGD1BI",
        "colab": {
          "base_uri": "https://localhost:8080/",
          "height": 144
        },
        "outputId": "0ad46f78-e02d-49d9-e489-3a83fa251ffe"
      },
      "source": [
        "dataset # como nao queremos mudar ovalor do indez e já temos as colunas por isso nao foi calocado acima index e  column"
      ],
      "execution_count": null,
      "outputs": [
        {
          "output_type": "execute_result",
          "data": {
            "text/html": [
              "\n",
              "  <div id=\"df-003e8be3-0533-4d48-9338-8b3bca925688\">\n",
              "    <div class=\"colab-df-container\">\n",
              "      <div>\n",
              "<style scoped>\n",
              "    .dataframe tbody tr th:only-of-type {\n",
              "        vertical-align: middle;\n",
              "    }\n",
              "\n",
              "    .dataframe tbody tr th {\n",
              "        vertical-align: top;\n",
              "    }\n",
              "\n",
              "    .dataframe thead th {\n",
              "        text-align: right;\n",
              "    }\n",
              "</style>\n",
              "<table border=\"1\" class=\"dataframe\">\n",
              "  <thead>\n",
              "    <tr style=\"text-align: right;\">\n",
              "      <th></th>\n",
              "      <th>Nome</th>\n",
              "      <th>Motor</th>\n",
              "      <th>Ano</th>\n",
              "      <th>Quilometragem</th>\n",
              "      <th>Zero_km</th>\n",
              "      <th>Valor</th>\n",
              "    </tr>\n",
              "  </thead>\n",
              "  <tbody>\n",
              "    <tr>\n",
              "      <th>0</th>\n",
              "      <td>Jetta Variant</td>\n",
              "      <td>Motor 4.0 Turbo</td>\n",
              "      <td>2003</td>\n",
              "      <td>44410.0</td>\n",
              "      <td>False</td>\n",
              "      <td>88078.64</td>\n",
              "    </tr>\n",
              "    <tr>\n",
              "      <th>1</th>\n",
              "      <td>Passat</td>\n",
              "      <td>Motor Diesel</td>\n",
              "      <td>1991</td>\n",
              "      <td>5712.0</td>\n",
              "      <td>False</td>\n",
              "      <td>106161.94</td>\n",
              "    </tr>\n",
              "    <tr>\n",
              "      <th>2</th>\n",
              "      <td>Crossfox</td>\n",
              "      <td>Motor Diesel V8</td>\n",
              "      <td>1990</td>\n",
              "      <td>37123.0</td>\n",
              "      <td>False</td>\n",
              "      <td>72832.16</td>\n",
              "    </tr>\n",
              "  </tbody>\n",
              "</table>\n",
              "</div>\n",
              "      <button class=\"colab-df-convert\" onclick=\"convertToInteractive('df-003e8be3-0533-4d48-9338-8b3bca925688')\"\n",
              "              title=\"Convert this dataframe to an interactive table.\"\n",
              "              style=\"display:none;\">\n",
              "        \n",
              "  <svg xmlns=\"http://www.w3.org/2000/svg\" height=\"24px\"viewBox=\"0 0 24 24\"\n",
              "       width=\"24px\">\n",
              "    <path d=\"M0 0h24v24H0V0z\" fill=\"none\"/>\n",
              "    <path d=\"M18.56 5.44l.94 2.06.94-2.06 2.06-.94-2.06-.94-.94-2.06-.94 2.06-2.06.94zm-11 1L8.5 8.5l.94-2.06 2.06-.94-2.06-.94L8.5 2.5l-.94 2.06-2.06.94zm10 10l.94 2.06.94-2.06 2.06-.94-2.06-.94-.94-2.06-.94 2.06-2.06.94z\"/><path d=\"M17.41 7.96l-1.37-1.37c-.4-.4-.92-.59-1.43-.59-.52 0-1.04.2-1.43.59L10.3 9.45l-7.72 7.72c-.78.78-.78 2.05 0 2.83L4 21.41c.39.39.9.59 1.41.59.51 0 1.02-.2 1.41-.59l7.78-7.78 2.81-2.81c.8-.78.8-2.07 0-2.86zM5.41 20L4 18.59l7.72-7.72 1.47 1.35L5.41 20z\"/>\n",
              "  </svg>\n",
              "      </button>\n",
              "      \n",
              "  <style>\n",
              "    .colab-df-container {\n",
              "      display:flex;\n",
              "      flex-wrap:wrap;\n",
              "      gap: 12px;\n",
              "    }\n",
              "\n",
              "    .colab-df-convert {\n",
              "      background-color: #E8F0FE;\n",
              "      border: none;\n",
              "      border-radius: 50%;\n",
              "      cursor: pointer;\n",
              "      display: none;\n",
              "      fill: #1967D2;\n",
              "      height: 32px;\n",
              "      padding: 0 0 0 0;\n",
              "      width: 32px;\n",
              "    }\n",
              "\n",
              "    .colab-df-convert:hover {\n",
              "      background-color: #E2EBFA;\n",
              "      box-shadow: 0px 1px 2px rgba(60, 64, 67, 0.3), 0px 1px 3px 1px rgba(60, 64, 67, 0.15);\n",
              "      fill: #174EA6;\n",
              "    }\n",
              "\n",
              "    [theme=dark] .colab-df-convert {\n",
              "      background-color: #3B4455;\n",
              "      fill: #D2E3FC;\n",
              "    }\n",
              "\n",
              "    [theme=dark] .colab-df-convert:hover {\n",
              "      background-color: #434B5C;\n",
              "      box-shadow: 0px 1px 3px 1px rgba(0, 0, 0, 0.15);\n",
              "      filter: drop-shadow(0px 1px 2px rgba(0, 0, 0, 0.3));\n",
              "      fill: #FFFFFF;\n",
              "    }\n",
              "  </style>\n",
              "\n",
              "      <script>\n",
              "        const buttonEl =\n",
              "          document.querySelector('#df-003e8be3-0533-4d48-9338-8b3bca925688 button.colab-df-convert');\n",
              "        buttonEl.style.display =\n",
              "          google.colab.kernel.accessAllowed ? 'block' : 'none';\n",
              "\n",
              "        async function convertToInteractive(key) {\n",
              "          const element = document.querySelector('#df-003e8be3-0533-4d48-9338-8b3bca925688');\n",
              "          const dataTable =\n",
              "            await google.colab.kernel.invokeFunction('convertToInteractive',\n",
              "                                                     [key], {});\n",
              "          if (!dataTable) return;\n",
              "\n",
              "          const docLinkHtml = 'Like what you see? Visit the ' +\n",
              "            '<a target=\"_blank\" href=https://colab.research.google.com/notebooks/data_table.ipynb>data table notebook</a>'\n",
              "            + ' to learn more about interactive tables.';\n",
              "          element.innerHTML = '';\n",
              "          dataTable['output_type'] = 'display_data';\n",
              "          await google.colab.output.renderOutput(dataTable, element);\n",
              "          const docLink = document.createElement('div');\n",
              "          docLink.innerHTML = docLinkHtml;\n",
              "          element.appendChild(docLink);\n",
              "        }\n",
              "      </script>\n",
              "    </div>\n",
              "  </div>\n",
              "  "
            ],
            "text/plain": [
              "            Nome            Motor   Ano  Quilometragem  Zero_km      Valor\n",
              "0  Jetta Variant  Motor 4.0 Turbo  2003        44410.0    False   88078.64\n",
              "1         Passat     Motor Diesel  1991         5712.0    False  106161.94\n",
              "2       Crossfox  Motor Diesel V8  1990        37123.0    False   72832.16"
            ]
          },
          "metadata": {},
          "execution_count": 7
        }
      ]
    },
    {
      "cell_type": "code",
      "metadata": {
        "id": "2kbyOThiD1BJ",
        "colab": {
          "base_uri": "https://localhost:8080/",
          "height": 144
        },
        "outputId": "7cee39fc-f795-4852-9233-c9fb31120196"
      },
      "source": [
        "#para mudar as ordem da coluna\n",
        "dataset[['Nome',\t'Motor',\t'Ano',\t'Quilometragem',\t'Zero_km',\t'Valor']]"
      ],
      "execution_count": null,
      "outputs": [
        {
          "output_type": "execute_result",
          "data": {
            "text/html": [
              "\n",
              "  <div id=\"df-6eb0140c-c5fb-4d94-9668-778e763256f6\">\n",
              "    <div class=\"colab-df-container\">\n",
              "      <div>\n",
              "<style scoped>\n",
              "    .dataframe tbody tr th:only-of-type {\n",
              "        vertical-align: middle;\n",
              "    }\n",
              "\n",
              "    .dataframe tbody tr th {\n",
              "        vertical-align: top;\n",
              "    }\n",
              "\n",
              "    .dataframe thead th {\n",
              "        text-align: right;\n",
              "    }\n",
              "</style>\n",
              "<table border=\"1\" class=\"dataframe\">\n",
              "  <thead>\n",
              "    <tr style=\"text-align: right;\">\n",
              "      <th></th>\n",
              "      <th>Nome</th>\n",
              "      <th>Motor</th>\n",
              "      <th>Ano</th>\n",
              "      <th>Quilometragem</th>\n",
              "      <th>Zero_km</th>\n",
              "      <th>Valor</th>\n",
              "    </tr>\n",
              "  </thead>\n",
              "  <tbody>\n",
              "    <tr>\n",
              "      <th>0</th>\n",
              "      <td>Jetta Variant</td>\n",
              "      <td>Motor 4.0 Turbo</td>\n",
              "      <td>2003</td>\n",
              "      <td>44410.0</td>\n",
              "      <td>False</td>\n",
              "      <td>88078.64</td>\n",
              "    </tr>\n",
              "    <tr>\n",
              "      <th>1</th>\n",
              "      <td>Passat</td>\n",
              "      <td>Motor Diesel</td>\n",
              "      <td>1991</td>\n",
              "      <td>5712.0</td>\n",
              "      <td>False</td>\n",
              "      <td>106161.94</td>\n",
              "    </tr>\n",
              "    <tr>\n",
              "      <th>2</th>\n",
              "      <td>Crossfox</td>\n",
              "      <td>Motor Diesel V8</td>\n",
              "      <td>1990</td>\n",
              "      <td>37123.0</td>\n",
              "      <td>False</td>\n",
              "      <td>72832.16</td>\n",
              "    </tr>\n",
              "  </tbody>\n",
              "</table>\n",
              "</div>\n",
              "      <button class=\"colab-df-convert\" onclick=\"convertToInteractive('df-6eb0140c-c5fb-4d94-9668-778e763256f6')\"\n",
              "              title=\"Convert this dataframe to an interactive table.\"\n",
              "              style=\"display:none;\">\n",
              "        \n",
              "  <svg xmlns=\"http://www.w3.org/2000/svg\" height=\"24px\"viewBox=\"0 0 24 24\"\n",
              "       width=\"24px\">\n",
              "    <path d=\"M0 0h24v24H0V0z\" fill=\"none\"/>\n",
              "    <path d=\"M18.56 5.44l.94 2.06.94-2.06 2.06-.94-2.06-.94-.94-2.06-.94 2.06-2.06.94zm-11 1L8.5 8.5l.94-2.06 2.06-.94-2.06-.94L8.5 2.5l-.94 2.06-2.06.94zm10 10l.94 2.06.94-2.06 2.06-.94-2.06-.94-.94-2.06-.94 2.06-2.06.94z\"/><path d=\"M17.41 7.96l-1.37-1.37c-.4-.4-.92-.59-1.43-.59-.52 0-1.04.2-1.43.59L10.3 9.45l-7.72 7.72c-.78.78-.78 2.05 0 2.83L4 21.41c.39.39.9.59 1.41.59.51 0 1.02-.2 1.41-.59l7.78-7.78 2.81-2.81c.8-.78.8-2.07 0-2.86zM5.41 20L4 18.59l7.72-7.72 1.47 1.35L5.41 20z\"/>\n",
              "  </svg>\n",
              "      </button>\n",
              "      \n",
              "  <style>\n",
              "    .colab-df-container {\n",
              "      display:flex;\n",
              "      flex-wrap:wrap;\n",
              "      gap: 12px;\n",
              "    }\n",
              "\n",
              "    .colab-df-convert {\n",
              "      background-color: #E8F0FE;\n",
              "      border: none;\n",
              "      border-radius: 50%;\n",
              "      cursor: pointer;\n",
              "      display: none;\n",
              "      fill: #1967D2;\n",
              "      height: 32px;\n",
              "      padding: 0 0 0 0;\n",
              "      width: 32px;\n",
              "    }\n",
              "\n",
              "    .colab-df-convert:hover {\n",
              "      background-color: #E2EBFA;\n",
              "      box-shadow: 0px 1px 2px rgba(60, 64, 67, 0.3), 0px 1px 3px 1px rgba(60, 64, 67, 0.15);\n",
              "      fill: #174EA6;\n",
              "    }\n",
              "\n",
              "    [theme=dark] .colab-df-convert {\n",
              "      background-color: #3B4455;\n",
              "      fill: #D2E3FC;\n",
              "    }\n",
              "\n",
              "    [theme=dark] .colab-df-convert:hover {\n",
              "      background-color: #434B5C;\n",
              "      box-shadow: 0px 1px 3px 1px rgba(0, 0, 0, 0.15);\n",
              "      filter: drop-shadow(0px 1px 2px rgba(0, 0, 0, 0.3));\n",
              "      fill: #FFFFFF;\n",
              "    }\n",
              "  </style>\n",
              "\n",
              "      <script>\n",
              "        const buttonEl =\n",
              "          document.querySelector('#df-6eb0140c-c5fb-4d94-9668-778e763256f6 button.colab-df-convert');\n",
              "        buttonEl.style.display =\n",
              "          google.colab.kernel.accessAllowed ? 'block' : 'none';\n",
              "\n",
              "        async function convertToInteractive(key) {\n",
              "          const element = document.querySelector('#df-6eb0140c-c5fb-4d94-9668-778e763256f6');\n",
              "          const dataTable =\n",
              "            await google.colab.kernel.invokeFunction('convertToInteractive',\n",
              "                                                     [key], {});\n",
              "          if (!dataTable) return;\n",
              "\n",
              "          const docLinkHtml = 'Like what you see? Visit the ' +\n",
              "            '<a target=\"_blank\" href=https://colab.research.google.com/notebooks/data_table.ipynb>data table notebook</a>'\n",
              "            + ' to learn more about interactive tables.';\n",
              "          element.innerHTML = '';\n",
              "          dataTable['output_type'] = 'display_data';\n",
              "          await google.colab.output.renderOutput(dataTable, element);\n",
              "          const docLink = document.createElement('div');\n",
              "          docLink.innerHTML = docLinkHtml;\n",
              "          element.appendChild(docLink);\n",
              "        }\n",
              "      </script>\n",
              "    </div>\n",
              "  </div>\n",
              "  "
            ],
            "text/plain": [
              "            Nome            Motor   Ano  Quilometragem  Zero_km      Valor\n",
              "0  Jetta Variant  Motor 4.0 Turbo  2003        44410.0    False   88078.64\n",
              "1         Passat     Motor Diesel  1991         5712.0    False  106161.94\n",
              "2       Crossfox  Motor Diesel V8  1990        37123.0    False   72832.16"
            ]
          },
          "metadata": {},
          "execution_count": 8
        }
      ]
    },
    {
      "cell_type": "code",
      "source": [
        ""
      ],
      "metadata": {
        "id": "TauazlpWBt4t"
      },
      "execution_count": null,
      "outputs": []
    },
    {
      "cell_type": "markdown",
      "metadata": {
        "id": "pJK2tQgYD1BK"
      },
      "source": [
        "### Criando um DataFrame a partir de um dicionário"
      ]
    },
    {
      "cell_type": "code",
      "metadata": {
        "id": "WKNQwKucD1BK"
      },
      "source": [
        "dados = {\n",
        "    'Nome': ['Jetta Variant', 'Passat', 'Crossfox'], \n",
        "    'Motor': ['Motor 4.0 Turbo', 'Motor Diesel', 'Motor Diesel V8'],\n",
        "    'Ano': [2003, 1991, 1990],\n",
        "    'Quilometragem': [44410.0, 5712.0, 37123.0],\n",
        "    'Zero_km': [False, False, False],\n",
        "    'Valor': [88078.64, 106161.94, 72832.16]\n",
        "}# aqui tem a chave e o valor é uma lista"
      ],
      "execution_count": 8,
      "outputs": []
    },
    {
      "cell_type": "code",
      "metadata": {
        "id": "lKnuZfzcD1BK"
      },
      "source": [
        "#copiamos e criamos da mesma forma\n",
        "dataset = pd.DataFrame(dados)\n"
      ],
      "execution_count": 9,
      "outputs": []
    },
    {
      "cell_type": "code",
      "metadata": {
        "id": "PNqTytC-D1BL",
        "colab": {
          "base_uri": "https://localhost:8080/",
          "height": 144
        },
        "outputId": "529d7bf5-0c71-4b01-ec1a-a0acbb2a9a4c"
      },
      "source": [
        "dataset"
      ],
      "execution_count": null,
      "outputs": [
        {
          "output_type": "execute_result",
          "data": {
            "text/html": [
              "\n",
              "  <div id=\"df-fdd3a4bc-4c18-40a6-a434-d3ff4ca72733\">\n",
              "    <div class=\"colab-df-container\">\n",
              "      <div>\n",
              "<style scoped>\n",
              "    .dataframe tbody tr th:only-of-type {\n",
              "        vertical-align: middle;\n",
              "    }\n",
              "\n",
              "    .dataframe tbody tr th {\n",
              "        vertical-align: top;\n",
              "    }\n",
              "\n",
              "    .dataframe thead th {\n",
              "        text-align: right;\n",
              "    }\n",
              "</style>\n",
              "<table border=\"1\" class=\"dataframe\">\n",
              "  <thead>\n",
              "    <tr style=\"text-align: right;\">\n",
              "      <th></th>\n",
              "      <th>Nome</th>\n",
              "      <th>Motor</th>\n",
              "      <th>Ano</th>\n",
              "      <th>Quilometragem</th>\n",
              "      <th>Zero_km</th>\n",
              "      <th>Valor</th>\n",
              "    </tr>\n",
              "  </thead>\n",
              "  <tbody>\n",
              "    <tr>\n",
              "      <th>0</th>\n",
              "      <td>Jetta Variant</td>\n",
              "      <td>Motor 4.0 Turbo</td>\n",
              "      <td>2003</td>\n",
              "      <td>44410.0</td>\n",
              "      <td>False</td>\n",
              "      <td>88078.64</td>\n",
              "    </tr>\n",
              "    <tr>\n",
              "      <th>1</th>\n",
              "      <td>Passat</td>\n",
              "      <td>Motor Diesel</td>\n",
              "      <td>1991</td>\n",
              "      <td>5712.0</td>\n",
              "      <td>False</td>\n",
              "      <td>106161.94</td>\n",
              "    </tr>\n",
              "    <tr>\n",
              "      <th>2</th>\n",
              "      <td>Crossfox</td>\n",
              "      <td>Motor Diesel V8</td>\n",
              "      <td>1990</td>\n",
              "      <td>37123.0</td>\n",
              "      <td>False</td>\n",
              "      <td>72832.16</td>\n",
              "    </tr>\n",
              "  </tbody>\n",
              "</table>\n",
              "</div>\n",
              "      <button class=\"colab-df-convert\" onclick=\"convertToInteractive('df-fdd3a4bc-4c18-40a6-a434-d3ff4ca72733')\"\n",
              "              title=\"Convert this dataframe to an interactive table.\"\n",
              "              style=\"display:none;\">\n",
              "        \n",
              "  <svg xmlns=\"http://www.w3.org/2000/svg\" height=\"24px\"viewBox=\"0 0 24 24\"\n",
              "       width=\"24px\">\n",
              "    <path d=\"M0 0h24v24H0V0z\" fill=\"none\"/>\n",
              "    <path d=\"M18.56 5.44l.94 2.06.94-2.06 2.06-.94-2.06-.94-.94-2.06-.94 2.06-2.06.94zm-11 1L8.5 8.5l.94-2.06 2.06-.94-2.06-.94L8.5 2.5l-.94 2.06-2.06.94zm10 10l.94 2.06.94-2.06 2.06-.94-2.06-.94-.94-2.06-.94 2.06-2.06.94z\"/><path d=\"M17.41 7.96l-1.37-1.37c-.4-.4-.92-.59-1.43-.59-.52 0-1.04.2-1.43.59L10.3 9.45l-7.72 7.72c-.78.78-.78 2.05 0 2.83L4 21.41c.39.39.9.59 1.41.59.51 0 1.02-.2 1.41-.59l7.78-7.78 2.81-2.81c.8-.78.8-2.07 0-2.86zM5.41 20L4 18.59l7.72-7.72 1.47 1.35L5.41 20z\"/>\n",
              "  </svg>\n",
              "      </button>\n",
              "      \n",
              "  <style>\n",
              "    .colab-df-container {\n",
              "      display:flex;\n",
              "      flex-wrap:wrap;\n",
              "      gap: 12px;\n",
              "    }\n",
              "\n",
              "    .colab-df-convert {\n",
              "      background-color: #E8F0FE;\n",
              "      border: none;\n",
              "      border-radius: 50%;\n",
              "      cursor: pointer;\n",
              "      display: none;\n",
              "      fill: #1967D2;\n",
              "      height: 32px;\n",
              "      padding: 0 0 0 0;\n",
              "      width: 32px;\n",
              "    }\n",
              "\n",
              "    .colab-df-convert:hover {\n",
              "      background-color: #E2EBFA;\n",
              "      box-shadow: 0px 1px 2px rgba(60, 64, 67, 0.3), 0px 1px 3px 1px rgba(60, 64, 67, 0.15);\n",
              "      fill: #174EA6;\n",
              "    }\n",
              "\n",
              "    [theme=dark] .colab-df-convert {\n",
              "      background-color: #3B4455;\n",
              "      fill: #D2E3FC;\n",
              "    }\n",
              "\n",
              "    [theme=dark] .colab-df-convert:hover {\n",
              "      background-color: #434B5C;\n",
              "      box-shadow: 0px 1px 3px 1px rgba(0, 0, 0, 0.15);\n",
              "      filter: drop-shadow(0px 1px 2px rgba(0, 0, 0, 0.3));\n",
              "      fill: #FFFFFF;\n",
              "    }\n",
              "  </style>\n",
              "\n",
              "      <script>\n",
              "        const buttonEl =\n",
              "          document.querySelector('#df-fdd3a4bc-4c18-40a6-a434-d3ff4ca72733 button.colab-df-convert');\n",
              "        buttonEl.style.display =\n",
              "          google.colab.kernel.accessAllowed ? 'block' : 'none';\n",
              "\n",
              "        async function convertToInteractive(key) {\n",
              "          const element = document.querySelector('#df-fdd3a4bc-4c18-40a6-a434-d3ff4ca72733');\n",
              "          const dataTable =\n",
              "            await google.colab.kernel.invokeFunction('convertToInteractive',\n",
              "                                                     [key], {});\n",
              "          if (!dataTable) return;\n",
              "\n",
              "          const docLinkHtml = 'Like what you see? Visit the ' +\n",
              "            '<a target=\"_blank\" href=https://colab.research.google.com/notebooks/data_table.ipynb>data table notebook</a>'\n",
              "            + ' to learn more about interactive tables.';\n",
              "          element.innerHTML = '';\n",
              "          dataTable['output_type'] = 'display_data';\n",
              "          await google.colab.output.renderOutput(dataTable, element);\n",
              "          const docLink = document.createElement('div');\n",
              "          docLink.innerHTML = docLinkHtml;\n",
              "          element.appendChild(docLink);\n",
              "        }\n",
              "      </script>\n",
              "    </div>\n",
              "  </div>\n",
              "  "
            ],
            "text/plain": [
              "            Nome            Motor   Ano  Quilometragem  Zero_km      Valor\n",
              "0  Jetta Variant  Motor 4.0 Turbo  2003        44410.0    False   88078.64\n",
              "1         Passat     Motor Diesel  1991         5712.0    False  106161.94\n",
              "2       Crossfox  Motor Diesel V8  1990        37123.0    False   72832.16"
            ]
          },
          "metadata": {},
          "execution_count": 11
        }
      ]
    },
    {
      "cell_type": "markdown",
      "metadata": {
        "id": "fCCXs0reD1BL"
      },
      "source": [
        "### Criando um DataFrame a partir de uma arquivo externo"
      ]
    },
    {
      "cell_type": "code",
      "metadata": {
        "id": "78PRHGeZD1BL"
      },
      "source": [
        "#primeiro faco o upload do novo arquivo e depois faço codigo , \n",
        "#e meu dataset das colunas estao separaradas por ponto e virgula, e se colocar index a coluna 0 sera a primeira\n",
        "dataset =  pd.read_csv('db.csv', sep = ';', index_col = 0)"
      ],
      "execution_count": 73,
      "outputs": []
    },
    {
      "cell_type": "code",
      "metadata": {
        "scrolled": true,
        "id": "1o1YlnVPD1BM",
        "colab": {
          "base_uri": "https://localhost:8080/",
          "height": 637
        },
        "outputId": "54217b0a-6b2e-4109-b22f-7eb51db74b34"
      },
      "source": [
        "dataset"
      ],
      "execution_count": 21,
      "outputs": [
        {
          "output_type": "execute_result",
          "data": {
            "text/html": [
              "\n",
              "  <div id=\"df-75b1efb9-0e0a-465e-991c-3274e84a5697\">\n",
              "    <div class=\"colab-df-container\">\n",
              "      <div>\n",
              "<style scoped>\n",
              "    .dataframe tbody tr th:only-of-type {\n",
              "        vertical-align: middle;\n",
              "    }\n",
              "\n",
              "    .dataframe tbody tr th {\n",
              "        vertical-align: top;\n",
              "    }\n",
              "\n",
              "    .dataframe thead th {\n",
              "        text-align: right;\n",
              "    }\n",
              "</style>\n",
              "<table border=\"1\" class=\"dataframe\">\n",
              "  <thead>\n",
              "    <tr style=\"text-align: right;\">\n",
              "      <th></th>\n",
              "      <th>Motor</th>\n",
              "      <th>Ano</th>\n",
              "      <th>Quilometragem</th>\n",
              "      <th>Zero_km</th>\n",
              "      <th>Acessórios</th>\n",
              "      <th>Valor</th>\n",
              "    </tr>\n",
              "    <tr>\n",
              "      <th>Nome</th>\n",
              "      <th></th>\n",
              "      <th></th>\n",
              "      <th></th>\n",
              "      <th></th>\n",
              "      <th></th>\n",
              "      <th></th>\n",
              "    </tr>\n",
              "  </thead>\n",
              "  <tbody>\n",
              "    <tr>\n",
              "      <th>Jetta Variant</th>\n",
              "      <td>Motor 4.0 Turbo</td>\n",
              "      <td>2003</td>\n",
              "      <td>44410.0</td>\n",
              "      <td>False</td>\n",
              "      <td>['Rodas de liga', 'Travas elétricas', 'Piloto ...</td>\n",
              "      <td>88078.64</td>\n",
              "    </tr>\n",
              "    <tr>\n",
              "      <th>Passat</th>\n",
              "      <td>Motor Diesel</td>\n",
              "      <td>1991</td>\n",
              "      <td>5712.0</td>\n",
              "      <td>False</td>\n",
              "      <td>['Central multimídia', 'Teto panorâmico', 'Fre...</td>\n",
              "      <td>106161.94</td>\n",
              "    </tr>\n",
              "    <tr>\n",
              "      <th>Crossfox</th>\n",
              "      <td>Motor Diesel V8</td>\n",
              "      <td>1990</td>\n",
              "      <td>37123.0</td>\n",
              "      <td>False</td>\n",
              "      <td>['Piloto automático', 'Controle de estabilidad...</td>\n",
              "      <td>72832.16</td>\n",
              "    </tr>\n",
              "    <tr>\n",
              "      <th>DS5</th>\n",
              "      <td>Motor 2.4 Turbo</td>\n",
              "      <td>2019</td>\n",
              "      <td>NaN</td>\n",
              "      <td>True</td>\n",
              "      <td>['Travas elétricas', '4 X 4', 'Vidros elétrico...</td>\n",
              "      <td>124549.07</td>\n",
              "    </tr>\n",
              "    <tr>\n",
              "      <th>Aston Martin DB4</th>\n",
              "      <td>Motor 2.4 Turbo</td>\n",
              "      <td>2006</td>\n",
              "      <td>25757.0</td>\n",
              "      <td>False</td>\n",
              "      <td>['Rodas de liga', '4 X 4', 'Central multimídia...</td>\n",
              "      <td>92612.10</td>\n",
              "    </tr>\n",
              "    <tr>\n",
              "      <th>...</th>\n",
              "      <td>...</td>\n",
              "      <td>...</td>\n",
              "      <td>...</td>\n",
              "      <td>...</td>\n",
              "      <td>...</td>\n",
              "      <td>...</td>\n",
              "    </tr>\n",
              "    <tr>\n",
              "      <th>Phantom 2013</th>\n",
              "      <td>Motor V8</td>\n",
              "      <td>2014</td>\n",
              "      <td>27505.0</td>\n",
              "      <td>False</td>\n",
              "      <td>['Controle de estabilidade', 'Piloto automátic...</td>\n",
              "      <td>51759.58</td>\n",
              "    </tr>\n",
              "    <tr>\n",
              "      <th>Cadillac Ciel concept</th>\n",
              "      <td>Motor V8</td>\n",
              "      <td>1991</td>\n",
              "      <td>29981.0</td>\n",
              "      <td>False</td>\n",
              "      <td>['Bancos de couro', 'Painel digital', 'Sensor ...</td>\n",
              "      <td>51667.06</td>\n",
              "    </tr>\n",
              "    <tr>\n",
              "      <th>Classe GLK</th>\n",
              "      <td>Motor 5.0 V8 Bi-Turbo</td>\n",
              "      <td>2002</td>\n",
              "      <td>52637.0</td>\n",
              "      <td>False</td>\n",
              "      <td>['Rodas de liga', 'Controle de tração', 'Câmbi...</td>\n",
              "      <td>68934.03</td>\n",
              "    </tr>\n",
              "    <tr>\n",
              "      <th>Aston Martin DB5</th>\n",
              "      <td>Motor Diesel</td>\n",
              "      <td>1996</td>\n",
              "      <td>7685.0</td>\n",
              "      <td>False</td>\n",
              "      <td>['Ar condicionado', '4 X 4', 'Câmbio automátic...</td>\n",
              "      <td>122110.90</td>\n",
              "    </tr>\n",
              "    <tr>\n",
              "      <th>Macan</th>\n",
              "      <td>Motor Diesel V6</td>\n",
              "      <td>1992</td>\n",
              "      <td>50188.0</td>\n",
              "      <td>False</td>\n",
              "      <td>['Central multimídia', 'Teto panorâmico', 'Vid...</td>\n",
              "      <td>90381.47</td>\n",
              "    </tr>\n",
              "  </tbody>\n",
              "</table>\n",
              "<p>258 rows × 6 columns</p>\n",
              "</div>\n",
              "      <button class=\"colab-df-convert\" onclick=\"convertToInteractive('df-75b1efb9-0e0a-465e-991c-3274e84a5697')\"\n",
              "              title=\"Convert this dataframe to an interactive table.\"\n",
              "              style=\"display:none;\">\n",
              "        \n",
              "  <svg xmlns=\"http://www.w3.org/2000/svg\" height=\"24px\"viewBox=\"0 0 24 24\"\n",
              "       width=\"24px\">\n",
              "    <path d=\"M0 0h24v24H0V0z\" fill=\"none\"/>\n",
              "    <path d=\"M18.56 5.44l.94 2.06.94-2.06 2.06-.94-2.06-.94-.94-2.06-.94 2.06-2.06.94zm-11 1L8.5 8.5l.94-2.06 2.06-.94-2.06-.94L8.5 2.5l-.94 2.06-2.06.94zm10 10l.94 2.06.94-2.06 2.06-.94-2.06-.94-.94-2.06-.94 2.06-2.06.94z\"/><path d=\"M17.41 7.96l-1.37-1.37c-.4-.4-.92-.59-1.43-.59-.52 0-1.04.2-1.43.59L10.3 9.45l-7.72 7.72c-.78.78-.78 2.05 0 2.83L4 21.41c.39.39.9.59 1.41.59.51 0 1.02-.2 1.41-.59l7.78-7.78 2.81-2.81c.8-.78.8-2.07 0-2.86zM5.41 20L4 18.59l7.72-7.72 1.47 1.35L5.41 20z\"/>\n",
              "  </svg>\n",
              "      </button>\n",
              "      \n",
              "  <style>\n",
              "    .colab-df-container {\n",
              "      display:flex;\n",
              "      flex-wrap:wrap;\n",
              "      gap: 12px;\n",
              "    }\n",
              "\n",
              "    .colab-df-convert {\n",
              "      background-color: #E8F0FE;\n",
              "      border: none;\n",
              "      border-radius: 50%;\n",
              "      cursor: pointer;\n",
              "      display: none;\n",
              "      fill: #1967D2;\n",
              "      height: 32px;\n",
              "      padding: 0 0 0 0;\n",
              "      width: 32px;\n",
              "    }\n",
              "\n",
              "    .colab-df-convert:hover {\n",
              "      background-color: #E2EBFA;\n",
              "      box-shadow: 0px 1px 2px rgba(60, 64, 67, 0.3), 0px 1px 3px 1px rgba(60, 64, 67, 0.15);\n",
              "      fill: #174EA6;\n",
              "    }\n",
              "\n",
              "    [theme=dark] .colab-df-convert {\n",
              "      background-color: #3B4455;\n",
              "      fill: #D2E3FC;\n",
              "    }\n",
              "\n",
              "    [theme=dark] .colab-df-convert:hover {\n",
              "      background-color: #434B5C;\n",
              "      box-shadow: 0px 1px 3px 1px rgba(0, 0, 0, 0.15);\n",
              "      filter: drop-shadow(0px 1px 2px rgba(0, 0, 0, 0.3));\n",
              "      fill: #FFFFFF;\n",
              "    }\n",
              "  </style>\n",
              "\n",
              "      <script>\n",
              "        const buttonEl =\n",
              "          document.querySelector('#df-75b1efb9-0e0a-465e-991c-3274e84a5697 button.colab-df-convert');\n",
              "        buttonEl.style.display =\n",
              "          google.colab.kernel.accessAllowed ? 'block' : 'none';\n",
              "\n",
              "        async function convertToInteractive(key) {\n",
              "          const element = document.querySelector('#df-75b1efb9-0e0a-465e-991c-3274e84a5697');\n",
              "          const dataTable =\n",
              "            await google.colab.kernel.invokeFunction('convertToInteractive',\n",
              "                                                     [key], {});\n",
              "          if (!dataTable) return;\n",
              "\n",
              "          const docLinkHtml = 'Like what you see? Visit the ' +\n",
              "            '<a target=\"_blank\" href=https://colab.research.google.com/notebooks/data_table.ipynb>data table notebook</a>'\n",
              "            + ' to learn more about interactive tables.';\n",
              "          element.innerHTML = '';\n",
              "          dataTable['output_type'] = 'display_data';\n",
              "          await google.colab.output.renderOutput(dataTable, element);\n",
              "          const docLink = document.createElement('div');\n",
              "          docLink.innerHTML = docLinkHtml;\n",
              "          element.appendChild(docLink);\n",
              "        }\n",
              "      </script>\n",
              "    </div>\n",
              "  </div>\n",
              "  "
            ],
            "text/plain": [
              "                                       Motor   Ano  Quilometragem  Zero_km  \\\n",
              "Nome                                                                         \n",
              "Jetta Variant                Motor 4.0 Turbo  2003        44410.0    False   \n",
              "Passat                          Motor Diesel  1991         5712.0    False   \n",
              "Crossfox                     Motor Diesel V8  1990        37123.0    False   \n",
              "DS5                          Motor 2.4 Turbo  2019            NaN     True   \n",
              "Aston Martin DB4             Motor 2.4 Turbo  2006        25757.0    False   \n",
              "...                                      ...   ...            ...      ...   \n",
              "Phantom 2013                        Motor V8  2014        27505.0    False   \n",
              "Cadillac Ciel concept               Motor V8  1991        29981.0    False   \n",
              "Classe GLK             Motor 5.0 V8 Bi-Turbo  2002        52637.0    False   \n",
              "Aston Martin DB5                Motor Diesel  1996         7685.0    False   \n",
              "Macan                        Motor Diesel V6  1992        50188.0    False   \n",
              "\n",
              "                                                              Acessórios  \\\n",
              "Nome                                                                       \n",
              "Jetta Variant          ['Rodas de liga', 'Travas elétricas', 'Piloto ...   \n",
              "Passat                 ['Central multimídia', 'Teto panorâmico', 'Fre...   \n",
              "Crossfox               ['Piloto automático', 'Controle de estabilidad...   \n",
              "DS5                    ['Travas elétricas', '4 X 4', 'Vidros elétrico...   \n",
              "Aston Martin DB4       ['Rodas de liga', '4 X 4', 'Central multimídia...   \n",
              "...                                                                  ...   \n",
              "Phantom 2013           ['Controle de estabilidade', 'Piloto automátic...   \n",
              "Cadillac Ciel concept  ['Bancos de couro', 'Painel digital', 'Sensor ...   \n",
              "Classe GLK             ['Rodas de liga', 'Controle de tração', 'Câmbi...   \n",
              "Aston Martin DB5       ['Ar condicionado', '4 X 4', 'Câmbio automátic...   \n",
              "Macan                  ['Central multimídia', 'Teto panorâmico', 'Vid...   \n",
              "\n",
              "                           Valor  \n",
              "Nome                              \n",
              "Jetta Variant           88078.64  \n",
              "Passat                 106161.94  \n",
              "Crossfox                72832.16  \n",
              "DS5                    124549.07  \n",
              "Aston Martin DB4        92612.10  \n",
              "...                          ...  \n",
              "Phantom 2013            51759.58  \n",
              "Cadillac Ciel concept   51667.06  \n",
              "Classe GLK              68934.03  \n",
              "Aston Martin DB5       122110.90  \n",
              "Macan                   90381.47  \n",
              "\n",
              "[258 rows x 6 columns]"
            ]
          },
          "metadata": {},
          "execution_count": 21
        }
      ]
    },
    {
      "cell_type": "code",
      "source": [
        "#pd.set_option('display.max_columns', 1000)\n",
        "pd.set_option('display.max_rows', 10)"
      ],
      "metadata": {
        "id": "SU3679m6BxDa"
      },
      "execution_count": 18,
      "outputs": []
    },
    {
      "cell_type": "code",
      "source": [
        "dataset"
      ],
      "metadata": {
        "colab": {
          "base_uri": "https://localhost:8080/",
          "height": 637
        },
        "id": "3FIB0Dr6Bzxe",
        "outputId": "01acea73-1012-4bf6-916d-199319a6755a"
      },
      "execution_count": 12,
      "outputs": [
        {
          "output_type": "execute_result",
          "data": {
            "text/html": [
              "\n",
              "  <div id=\"df-95089d7f-7d39-4e39-99e6-8a412c1d89f5\">\n",
              "    <div class=\"colab-df-container\">\n",
              "      <div>\n",
              "<style scoped>\n",
              "    .dataframe tbody tr th:only-of-type {\n",
              "        vertical-align: middle;\n",
              "    }\n",
              "\n",
              "    .dataframe tbody tr th {\n",
              "        vertical-align: top;\n",
              "    }\n",
              "\n",
              "    .dataframe thead th {\n",
              "        text-align: right;\n",
              "    }\n",
              "</style>\n",
              "<table border=\"1\" class=\"dataframe\">\n",
              "  <thead>\n",
              "    <tr style=\"text-align: right;\">\n",
              "      <th></th>\n",
              "      <th>Motor</th>\n",
              "      <th>Ano</th>\n",
              "      <th>Quilometragem</th>\n",
              "      <th>Zero_km</th>\n",
              "      <th>Acessórios</th>\n",
              "      <th>Valor</th>\n",
              "    </tr>\n",
              "    <tr>\n",
              "      <th>Nome</th>\n",
              "      <th></th>\n",
              "      <th></th>\n",
              "      <th></th>\n",
              "      <th></th>\n",
              "      <th></th>\n",
              "      <th></th>\n",
              "    </tr>\n",
              "  </thead>\n",
              "  <tbody>\n",
              "    <tr>\n",
              "      <th>Jetta Variant</th>\n",
              "      <td>Motor 4.0 Turbo</td>\n",
              "      <td>2003</td>\n",
              "      <td>44410.0</td>\n",
              "      <td>False</td>\n",
              "      <td>['Rodas de liga', 'Travas elétricas', 'Piloto ...</td>\n",
              "      <td>88078.64</td>\n",
              "    </tr>\n",
              "    <tr>\n",
              "      <th>Passat</th>\n",
              "      <td>Motor Diesel</td>\n",
              "      <td>1991</td>\n",
              "      <td>5712.0</td>\n",
              "      <td>False</td>\n",
              "      <td>['Central multimídia', 'Teto panorâmico', 'Fre...</td>\n",
              "      <td>106161.94</td>\n",
              "    </tr>\n",
              "    <tr>\n",
              "      <th>Crossfox</th>\n",
              "      <td>Motor Diesel V8</td>\n",
              "      <td>1990</td>\n",
              "      <td>37123.0</td>\n",
              "      <td>False</td>\n",
              "      <td>['Piloto automático', 'Controle de estabilidad...</td>\n",
              "      <td>72832.16</td>\n",
              "    </tr>\n",
              "    <tr>\n",
              "      <th>DS5</th>\n",
              "      <td>Motor 2.4 Turbo</td>\n",
              "      <td>2019</td>\n",
              "      <td>NaN</td>\n",
              "      <td>True</td>\n",
              "      <td>['Travas elétricas', '4 X 4', 'Vidros elétrico...</td>\n",
              "      <td>124549.07</td>\n",
              "    </tr>\n",
              "    <tr>\n",
              "      <th>Aston Martin DB4</th>\n",
              "      <td>Motor 2.4 Turbo</td>\n",
              "      <td>2006</td>\n",
              "      <td>25757.0</td>\n",
              "      <td>False</td>\n",
              "      <td>['Rodas de liga', '4 X 4', 'Central multimídia...</td>\n",
              "      <td>92612.10</td>\n",
              "    </tr>\n",
              "    <tr>\n",
              "      <th>...</th>\n",
              "      <td>...</td>\n",
              "      <td>...</td>\n",
              "      <td>...</td>\n",
              "      <td>...</td>\n",
              "      <td>...</td>\n",
              "      <td>...</td>\n",
              "    </tr>\n",
              "    <tr>\n",
              "      <th>Phantom 2013</th>\n",
              "      <td>Motor V8</td>\n",
              "      <td>2014</td>\n",
              "      <td>27505.0</td>\n",
              "      <td>False</td>\n",
              "      <td>['Controle de estabilidade', 'Piloto automátic...</td>\n",
              "      <td>51759.58</td>\n",
              "    </tr>\n",
              "    <tr>\n",
              "      <th>Cadillac Ciel concept</th>\n",
              "      <td>Motor V8</td>\n",
              "      <td>1991</td>\n",
              "      <td>29981.0</td>\n",
              "      <td>False</td>\n",
              "      <td>['Bancos de couro', 'Painel digital', 'Sensor ...</td>\n",
              "      <td>51667.06</td>\n",
              "    </tr>\n",
              "    <tr>\n",
              "      <th>Classe GLK</th>\n",
              "      <td>Motor 5.0 V8 Bi-Turbo</td>\n",
              "      <td>2002</td>\n",
              "      <td>52637.0</td>\n",
              "      <td>False</td>\n",
              "      <td>['Rodas de liga', 'Controle de tração', 'Câmbi...</td>\n",
              "      <td>68934.03</td>\n",
              "    </tr>\n",
              "    <tr>\n",
              "      <th>Aston Martin DB5</th>\n",
              "      <td>Motor Diesel</td>\n",
              "      <td>1996</td>\n",
              "      <td>7685.0</td>\n",
              "      <td>False</td>\n",
              "      <td>['Ar condicionado', '4 X 4', 'Câmbio automátic...</td>\n",
              "      <td>122110.90</td>\n",
              "    </tr>\n",
              "    <tr>\n",
              "      <th>Macan</th>\n",
              "      <td>Motor Diesel V6</td>\n",
              "      <td>1992</td>\n",
              "      <td>50188.0</td>\n",
              "      <td>False</td>\n",
              "      <td>['Central multimídia', 'Teto panorâmico', 'Vid...</td>\n",
              "      <td>90381.47</td>\n",
              "    </tr>\n",
              "  </tbody>\n",
              "</table>\n",
              "<p>258 rows × 6 columns</p>\n",
              "</div>\n",
              "      <button class=\"colab-df-convert\" onclick=\"convertToInteractive('df-95089d7f-7d39-4e39-99e6-8a412c1d89f5')\"\n",
              "              title=\"Convert this dataframe to an interactive table.\"\n",
              "              style=\"display:none;\">\n",
              "        \n",
              "  <svg xmlns=\"http://www.w3.org/2000/svg\" height=\"24px\"viewBox=\"0 0 24 24\"\n",
              "       width=\"24px\">\n",
              "    <path d=\"M0 0h24v24H0V0z\" fill=\"none\"/>\n",
              "    <path d=\"M18.56 5.44l.94 2.06.94-2.06 2.06-.94-2.06-.94-.94-2.06-.94 2.06-2.06.94zm-11 1L8.5 8.5l.94-2.06 2.06-.94-2.06-.94L8.5 2.5l-.94 2.06-2.06.94zm10 10l.94 2.06.94-2.06 2.06-.94-2.06-.94-.94-2.06-.94 2.06-2.06.94z\"/><path d=\"M17.41 7.96l-1.37-1.37c-.4-.4-.92-.59-1.43-.59-.52 0-1.04.2-1.43.59L10.3 9.45l-7.72 7.72c-.78.78-.78 2.05 0 2.83L4 21.41c.39.39.9.59 1.41.59.51 0 1.02-.2 1.41-.59l7.78-7.78 2.81-2.81c.8-.78.8-2.07 0-2.86zM5.41 20L4 18.59l7.72-7.72 1.47 1.35L5.41 20z\"/>\n",
              "  </svg>\n",
              "      </button>\n",
              "      \n",
              "  <style>\n",
              "    .colab-df-container {\n",
              "      display:flex;\n",
              "      flex-wrap:wrap;\n",
              "      gap: 12px;\n",
              "    }\n",
              "\n",
              "    .colab-df-convert {\n",
              "      background-color: #E8F0FE;\n",
              "      border: none;\n",
              "      border-radius: 50%;\n",
              "      cursor: pointer;\n",
              "      display: none;\n",
              "      fill: #1967D2;\n",
              "      height: 32px;\n",
              "      padding: 0 0 0 0;\n",
              "      width: 32px;\n",
              "    }\n",
              "\n",
              "    .colab-df-convert:hover {\n",
              "      background-color: #E2EBFA;\n",
              "      box-shadow: 0px 1px 2px rgba(60, 64, 67, 0.3), 0px 1px 3px 1px rgba(60, 64, 67, 0.15);\n",
              "      fill: #174EA6;\n",
              "    }\n",
              "\n",
              "    [theme=dark] .colab-df-convert {\n",
              "      background-color: #3B4455;\n",
              "      fill: #D2E3FC;\n",
              "    }\n",
              "\n",
              "    [theme=dark] .colab-df-convert:hover {\n",
              "      background-color: #434B5C;\n",
              "      box-shadow: 0px 1px 3px 1px rgba(0, 0, 0, 0.15);\n",
              "      filter: drop-shadow(0px 1px 2px rgba(0, 0, 0, 0.3));\n",
              "      fill: #FFFFFF;\n",
              "    }\n",
              "  </style>\n",
              "\n",
              "      <script>\n",
              "        const buttonEl =\n",
              "          document.querySelector('#df-95089d7f-7d39-4e39-99e6-8a412c1d89f5 button.colab-df-convert');\n",
              "        buttonEl.style.display =\n",
              "          google.colab.kernel.accessAllowed ? 'block' : 'none';\n",
              "\n",
              "        async function convertToInteractive(key) {\n",
              "          const element = document.querySelector('#df-95089d7f-7d39-4e39-99e6-8a412c1d89f5');\n",
              "          const dataTable =\n",
              "            await google.colab.kernel.invokeFunction('convertToInteractive',\n",
              "                                                     [key], {});\n",
              "          if (!dataTable) return;\n",
              "\n",
              "          const docLinkHtml = 'Like what you see? Visit the ' +\n",
              "            '<a target=\"_blank\" href=https://colab.research.google.com/notebooks/data_table.ipynb>data table notebook</a>'\n",
              "            + ' to learn more about interactive tables.';\n",
              "          element.innerHTML = '';\n",
              "          dataTable['output_type'] = 'display_data';\n",
              "          await google.colab.output.renderOutput(dataTable, element);\n",
              "          const docLink = document.createElement('div');\n",
              "          docLink.innerHTML = docLinkHtml;\n",
              "          element.appendChild(docLink);\n",
              "        }\n",
              "      </script>\n",
              "    </div>\n",
              "  </div>\n",
              "  "
            ],
            "text/plain": [
              "                                       Motor  ...      Valor\n",
              "Nome                                          ...           \n",
              "Jetta Variant                Motor 4.0 Turbo  ...   88078.64\n",
              "Passat                          Motor Diesel  ...  106161.94\n",
              "Crossfox                     Motor Diesel V8  ...   72832.16\n",
              "DS5                          Motor 2.4 Turbo  ...  124549.07\n",
              "Aston Martin DB4             Motor 2.4 Turbo  ...   92612.10\n",
              "...                                      ...  ...        ...\n",
              "Phantom 2013                        Motor V8  ...   51759.58\n",
              "Cadillac Ciel concept               Motor V8  ...   51667.06\n",
              "Classe GLK             Motor 5.0 V8 Bi-Turbo  ...   68934.03\n",
              "Aston Martin DB5                Motor Diesel  ...  122110.90\n",
              "Macan                        Motor Diesel V6  ...   90381.47\n",
              "\n",
              "[258 rows x 6 columns]"
            ]
          },
          "metadata": {},
          "execution_count": 12
        }
      ]
    },
    {
      "cell_type": "code",
      "source": [
        "dados = {\n",
        "    'Crossfox': {'km': 35000, 'ano': 2005}, \n",
        "    'DS5': {'km': 17000, 'ano': 2015}, \n",
        "    'Fusca': {'km': 130000, 'ano': 1979}, \n",
        "    'Jetta': {'km': 56000, 'ano': 2011}, \n",
        "    'Passat': {'km': 62000, 'ano': 1999}\n",
        "}"
      ],
      "metadata": {
        "id": "8IgtzrpZEZkJ"
      },
      "execution_count": 13,
      "outputs": []
    },
    {
      "cell_type": "code",
      "source": [
        "def km_media(dataset, ano_atual):\n",
        "    result = {}\n",
        "    for item in dataset.items():\n",
        "        media = item[1]['km'] / (ano_atual - item[1]['ano'])\n",
        "        item[1].update({ 'km_media': media })\n",
        "        result.update({ item[0]: item[1] })\n",
        "\n",
        "    return result"
      ],
      "metadata": {
        "id": "XlY1YY15EhkQ"
      },
      "execution_count": 14,
      "outputs": []
    },
    {
      "cell_type": "code",
      "source": [
        "km_media(dados, 2019)"
      ],
      "metadata": {
        "colab": {
          "base_uri": "https://localhost:8080/"
        },
        "id": "-glDX7vtEhWJ",
        "outputId": "4ea4b944-6fe8-4962-92ff-50b31e103e2d"
      },
      "execution_count": 15,
      "outputs": [
        {
          "output_type": "execute_result",
          "data": {
            "text/plain": [
              "{'Crossfox': {'ano': 2005, 'km': 35000, 'km_media': 2500.0},\n",
              " 'DS5': {'ano': 2015, 'km': 17000, 'km_media': 4250.0},\n",
              " 'Fusca': {'ano': 1979, 'km': 130000, 'km_media': 3250.0},\n",
              " 'Jetta': {'ano': 2011, 'km': 56000, 'km_media': 7000.0},\n",
              " 'Passat': {'ano': 1999, 'km': 62000, 'km_media': 3100.0}}"
            ]
          },
          "metadata": {},
          "execution_count": 15
        }
      ]
    },
    {
      "cell_type": "code",
      "source": [
        "carros = pd.DataFrame(km_media(dados, 2019)).T  # para criar um dataframe da funcao acima usando o transponse T,\n",
        "# A propriedade T é uma forma de acessar o método transpose() do DataFrame."
      ],
      "metadata": {
        "id": "2xox_A0jEhGX"
      },
      "execution_count": 16,
      "outputs": []
    },
    {
      "cell_type": "code",
      "source": [
        "carros"
      ],
      "metadata": {
        "colab": {
          "base_uri": "https://localhost:8080/",
          "height": 206
        },
        "id": "yL8i2hN3Egzd",
        "outputId": "96e95319-7cf5-4bd9-863c-551f67ac433f"
      },
      "execution_count": 27,
      "outputs": [
        {
          "output_type": "execute_result",
          "data": {
            "text/html": [
              "\n",
              "  <div id=\"df-cb2bdb2c-ae7d-47c9-b2e9-17ec0b545491\">\n",
              "    <div class=\"colab-df-container\">\n",
              "      <div>\n",
              "<style scoped>\n",
              "    .dataframe tbody tr th:only-of-type {\n",
              "        vertical-align: middle;\n",
              "    }\n",
              "\n",
              "    .dataframe tbody tr th {\n",
              "        vertical-align: top;\n",
              "    }\n",
              "\n",
              "    .dataframe thead th {\n",
              "        text-align: right;\n",
              "    }\n",
              "</style>\n",
              "<table border=\"1\" class=\"dataframe\">\n",
              "  <thead>\n",
              "    <tr style=\"text-align: right;\">\n",
              "      <th></th>\n",
              "      <th>km</th>\n",
              "      <th>ano</th>\n",
              "      <th>km_media</th>\n",
              "    </tr>\n",
              "  </thead>\n",
              "  <tbody>\n",
              "    <tr>\n",
              "      <th>Crossfox</th>\n",
              "      <td>35000.0</td>\n",
              "      <td>2005.0</td>\n",
              "      <td>2500.0</td>\n",
              "    </tr>\n",
              "    <tr>\n",
              "      <th>DS5</th>\n",
              "      <td>17000.0</td>\n",
              "      <td>2015.0</td>\n",
              "      <td>4250.0</td>\n",
              "    </tr>\n",
              "    <tr>\n",
              "      <th>Fusca</th>\n",
              "      <td>130000.0</td>\n",
              "      <td>1979.0</td>\n",
              "      <td>3250.0</td>\n",
              "    </tr>\n",
              "    <tr>\n",
              "      <th>Jetta</th>\n",
              "      <td>56000.0</td>\n",
              "      <td>2011.0</td>\n",
              "      <td>7000.0</td>\n",
              "    </tr>\n",
              "    <tr>\n",
              "      <th>Passat</th>\n",
              "      <td>62000.0</td>\n",
              "      <td>1999.0</td>\n",
              "      <td>3100.0</td>\n",
              "    </tr>\n",
              "  </tbody>\n",
              "</table>\n",
              "</div>\n",
              "      <button class=\"colab-df-convert\" onclick=\"convertToInteractive('df-cb2bdb2c-ae7d-47c9-b2e9-17ec0b545491')\"\n",
              "              title=\"Convert this dataframe to an interactive table.\"\n",
              "              style=\"display:none;\">\n",
              "        \n",
              "  <svg xmlns=\"http://www.w3.org/2000/svg\" height=\"24px\"viewBox=\"0 0 24 24\"\n",
              "       width=\"24px\">\n",
              "    <path d=\"M0 0h24v24H0V0z\" fill=\"none\"/>\n",
              "    <path d=\"M18.56 5.44l.94 2.06.94-2.06 2.06-.94-2.06-.94-.94-2.06-.94 2.06-2.06.94zm-11 1L8.5 8.5l.94-2.06 2.06-.94-2.06-.94L8.5 2.5l-.94 2.06-2.06.94zm10 10l.94 2.06.94-2.06 2.06-.94-2.06-.94-.94-2.06-.94 2.06-2.06.94z\"/><path d=\"M17.41 7.96l-1.37-1.37c-.4-.4-.92-.59-1.43-.59-.52 0-1.04.2-1.43.59L10.3 9.45l-7.72 7.72c-.78.78-.78 2.05 0 2.83L4 21.41c.39.39.9.59 1.41.59.51 0 1.02-.2 1.41-.59l7.78-7.78 2.81-2.81c.8-.78.8-2.07 0-2.86zM5.41 20L4 18.59l7.72-7.72 1.47 1.35L5.41 20z\"/>\n",
              "  </svg>\n",
              "      </button>\n",
              "      \n",
              "  <style>\n",
              "    .colab-df-container {\n",
              "      display:flex;\n",
              "      flex-wrap:wrap;\n",
              "      gap: 12px;\n",
              "    }\n",
              "\n",
              "    .colab-df-convert {\n",
              "      background-color: #E8F0FE;\n",
              "      border: none;\n",
              "      border-radius: 50%;\n",
              "      cursor: pointer;\n",
              "      display: none;\n",
              "      fill: #1967D2;\n",
              "      height: 32px;\n",
              "      padding: 0 0 0 0;\n",
              "      width: 32px;\n",
              "    }\n",
              "\n",
              "    .colab-df-convert:hover {\n",
              "      background-color: #E2EBFA;\n",
              "      box-shadow: 0px 1px 2px rgba(60, 64, 67, 0.3), 0px 1px 3px 1px rgba(60, 64, 67, 0.15);\n",
              "      fill: #174EA6;\n",
              "    }\n",
              "\n",
              "    [theme=dark] .colab-df-convert {\n",
              "      background-color: #3B4455;\n",
              "      fill: #D2E3FC;\n",
              "    }\n",
              "\n",
              "    [theme=dark] .colab-df-convert:hover {\n",
              "      background-color: #434B5C;\n",
              "      box-shadow: 0px 1px 3px 1px rgba(0, 0, 0, 0.15);\n",
              "      filter: drop-shadow(0px 1px 2px rgba(0, 0, 0, 0.3));\n",
              "      fill: #FFFFFF;\n",
              "    }\n",
              "  </style>\n",
              "\n",
              "      <script>\n",
              "        const buttonEl =\n",
              "          document.querySelector('#df-cb2bdb2c-ae7d-47c9-b2e9-17ec0b545491 button.colab-df-convert');\n",
              "        buttonEl.style.display =\n",
              "          google.colab.kernel.accessAllowed ? 'block' : 'none';\n",
              "\n",
              "        async function convertToInteractive(key) {\n",
              "          const element = document.querySelector('#df-cb2bdb2c-ae7d-47c9-b2e9-17ec0b545491');\n",
              "          const dataTable =\n",
              "            await google.colab.kernel.invokeFunction('convertToInteractive',\n",
              "                                                     [key], {});\n",
              "          if (!dataTable) return;\n",
              "\n",
              "          const docLinkHtml = 'Like what you see? Visit the ' +\n",
              "            '<a target=\"_blank\" href=https://colab.research.google.com/notebooks/data_table.ipynb>data table notebook</a>'\n",
              "            + ' to learn more about interactive tables.';\n",
              "          element.innerHTML = '';\n",
              "          dataTable['output_type'] = 'display_data';\n",
              "          await google.colab.output.renderOutput(dataTable, element);\n",
              "          const docLink = document.createElement('div');\n",
              "          docLink.innerHTML = docLinkHtml;\n",
              "          element.appendChild(docLink);\n",
              "        }\n",
              "      </script>\n",
              "    </div>\n",
              "  </div>\n",
              "  "
            ],
            "text/plain": [
              "                km     ano  km_media\n",
              "Crossfox   35000.0  2005.0    2500.0\n",
              "DS5        17000.0  2015.0    4250.0\n",
              "Fusca     130000.0  1979.0    3250.0\n",
              "Jetta      56000.0  2011.0    7000.0\n",
              "Passat     62000.0  1999.0    3100.0"
            ]
          },
          "metadata": {},
          "execution_count": 27
        }
      ]
    },
    {
      "cell_type": "markdown",
      "metadata": {
        "id": "y5V-1AK-D1BN"
      },
      "source": [
        "# 5.2 Seleções com DataFrames"
      ]
    },
    {
      "cell_type": "markdown",
      "metadata": {
        "id": "wZjqlHe9D1BN"
      },
      "source": [
        "### Selecionando colunas"
      ]
    },
    {
      "cell_type": "code",
      "metadata": {
        "scrolled": true,
        "id": "gM3LbtzlD1BN",
        "colab": {
          "base_uri": "https://localhost:8080/",
          "height": 281
        },
        "outputId": "3428792c-a8d0-4519-b0fb-89682ed215f4"
      },
      "source": [
        "dataset.head()#mostrar os 5 primeiros"
      ],
      "execution_count": 17,
      "outputs": [
        {
          "output_type": "execute_result",
          "data": {
            "text/html": [
              "\n",
              "  <div id=\"df-41e62e0a-21ef-4c0a-b494-9338053142fd\">\n",
              "    <div class=\"colab-df-container\">\n",
              "      <div>\n",
              "<style scoped>\n",
              "    .dataframe tbody tr th:only-of-type {\n",
              "        vertical-align: middle;\n",
              "    }\n",
              "\n",
              "    .dataframe tbody tr th {\n",
              "        vertical-align: top;\n",
              "    }\n",
              "\n",
              "    .dataframe thead th {\n",
              "        text-align: right;\n",
              "    }\n",
              "</style>\n",
              "<table border=\"1\" class=\"dataframe\">\n",
              "  <thead>\n",
              "    <tr style=\"text-align: right;\">\n",
              "      <th></th>\n",
              "      <th>Motor</th>\n",
              "      <th>Ano</th>\n",
              "      <th>Quilometragem</th>\n",
              "      <th>Zero_km</th>\n",
              "      <th>Acessórios</th>\n",
              "      <th>Valor</th>\n",
              "    </tr>\n",
              "    <tr>\n",
              "      <th>Nome</th>\n",
              "      <th></th>\n",
              "      <th></th>\n",
              "      <th></th>\n",
              "      <th></th>\n",
              "      <th></th>\n",
              "      <th></th>\n",
              "    </tr>\n",
              "  </thead>\n",
              "  <tbody>\n",
              "    <tr>\n",
              "      <th>Jetta Variant</th>\n",
              "      <td>Motor 4.0 Turbo</td>\n",
              "      <td>2003</td>\n",
              "      <td>44410.0</td>\n",
              "      <td>False</td>\n",
              "      <td>['Rodas de liga', 'Travas elétricas', 'Piloto ...</td>\n",
              "      <td>88078.64</td>\n",
              "    </tr>\n",
              "    <tr>\n",
              "      <th>Passat</th>\n",
              "      <td>Motor Diesel</td>\n",
              "      <td>1991</td>\n",
              "      <td>5712.0</td>\n",
              "      <td>False</td>\n",
              "      <td>['Central multimídia', 'Teto panorâmico', 'Fre...</td>\n",
              "      <td>106161.94</td>\n",
              "    </tr>\n",
              "    <tr>\n",
              "      <th>Crossfox</th>\n",
              "      <td>Motor Diesel V8</td>\n",
              "      <td>1990</td>\n",
              "      <td>37123.0</td>\n",
              "      <td>False</td>\n",
              "      <td>['Piloto automático', 'Controle de estabilidad...</td>\n",
              "      <td>72832.16</td>\n",
              "    </tr>\n",
              "    <tr>\n",
              "      <th>DS5</th>\n",
              "      <td>Motor 2.4 Turbo</td>\n",
              "      <td>2019</td>\n",
              "      <td>NaN</td>\n",
              "      <td>True</td>\n",
              "      <td>['Travas elétricas', '4 X 4', 'Vidros elétrico...</td>\n",
              "      <td>124549.07</td>\n",
              "    </tr>\n",
              "    <tr>\n",
              "      <th>Aston Martin DB4</th>\n",
              "      <td>Motor 2.4 Turbo</td>\n",
              "      <td>2006</td>\n",
              "      <td>25757.0</td>\n",
              "      <td>False</td>\n",
              "      <td>['Rodas de liga', '4 X 4', 'Central multimídia...</td>\n",
              "      <td>92612.10</td>\n",
              "    </tr>\n",
              "  </tbody>\n",
              "</table>\n",
              "</div>\n",
              "      <button class=\"colab-df-convert\" onclick=\"convertToInteractive('df-41e62e0a-21ef-4c0a-b494-9338053142fd')\"\n",
              "              title=\"Convert this dataframe to an interactive table.\"\n",
              "              style=\"display:none;\">\n",
              "        \n",
              "  <svg xmlns=\"http://www.w3.org/2000/svg\" height=\"24px\"viewBox=\"0 0 24 24\"\n",
              "       width=\"24px\">\n",
              "    <path d=\"M0 0h24v24H0V0z\" fill=\"none\"/>\n",
              "    <path d=\"M18.56 5.44l.94 2.06.94-2.06 2.06-.94-2.06-.94-.94-2.06-.94 2.06-2.06.94zm-11 1L8.5 8.5l.94-2.06 2.06-.94-2.06-.94L8.5 2.5l-.94 2.06-2.06.94zm10 10l.94 2.06.94-2.06 2.06-.94-2.06-.94-.94-2.06-.94 2.06-2.06.94z\"/><path d=\"M17.41 7.96l-1.37-1.37c-.4-.4-.92-.59-1.43-.59-.52 0-1.04.2-1.43.59L10.3 9.45l-7.72 7.72c-.78.78-.78 2.05 0 2.83L4 21.41c.39.39.9.59 1.41.59.51 0 1.02-.2 1.41-.59l7.78-7.78 2.81-2.81c.8-.78.8-2.07 0-2.86zM5.41 20L4 18.59l7.72-7.72 1.47 1.35L5.41 20z\"/>\n",
              "  </svg>\n",
              "      </button>\n",
              "      \n",
              "  <style>\n",
              "    .colab-df-container {\n",
              "      display:flex;\n",
              "      flex-wrap:wrap;\n",
              "      gap: 12px;\n",
              "    }\n",
              "\n",
              "    .colab-df-convert {\n",
              "      background-color: #E8F0FE;\n",
              "      border: none;\n",
              "      border-radius: 50%;\n",
              "      cursor: pointer;\n",
              "      display: none;\n",
              "      fill: #1967D2;\n",
              "      height: 32px;\n",
              "      padding: 0 0 0 0;\n",
              "      width: 32px;\n",
              "    }\n",
              "\n",
              "    .colab-df-convert:hover {\n",
              "      background-color: #E2EBFA;\n",
              "      box-shadow: 0px 1px 2px rgba(60, 64, 67, 0.3), 0px 1px 3px 1px rgba(60, 64, 67, 0.15);\n",
              "      fill: #174EA6;\n",
              "    }\n",
              "\n",
              "    [theme=dark] .colab-df-convert {\n",
              "      background-color: #3B4455;\n",
              "      fill: #D2E3FC;\n",
              "    }\n",
              "\n",
              "    [theme=dark] .colab-df-convert:hover {\n",
              "      background-color: #434B5C;\n",
              "      box-shadow: 0px 1px 3px 1px rgba(0, 0, 0, 0.15);\n",
              "      filter: drop-shadow(0px 1px 2px rgba(0, 0, 0, 0.3));\n",
              "      fill: #FFFFFF;\n",
              "    }\n",
              "  </style>\n",
              "\n",
              "      <script>\n",
              "        const buttonEl =\n",
              "          document.querySelector('#df-41e62e0a-21ef-4c0a-b494-9338053142fd button.colab-df-convert');\n",
              "        buttonEl.style.display =\n",
              "          google.colab.kernel.accessAllowed ? 'block' : 'none';\n",
              "\n",
              "        async function convertToInteractive(key) {\n",
              "          const element = document.querySelector('#df-41e62e0a-21ef-4c0a-b494-9338053142fd');\n",
              "          const dataTable =\n",
              "            await google.colab.kernel.invokeFunction('convertToInteractive',\n",
              "                                                     [key], {});\n",
              "          if (!dataTable) return;\n",
              "\n",
              "          const docLinkHtml = 'Like what you see? Visit the ' +\n",
              "            '<a target=\"_blank\" href=https://colab.research.google.com/notebooks/data_table.ipynb>data table notebook</a>'\n",
              "            + ' to learn more about interactive tables.';\n",
              "          element.innerHTML = '';\n",
              "          dataTable['output_type'] = 'display_data';\n",
              "          await google.colab.output.renderOutput(dataTable, element);\n",
              "          const docLink = document.createElement('div');\n",
              "          docLink.innerHTML = docLinkHtml;\n",
              "          element.appendChild(docLink);\n",
              "        }\n",
              "      </script>\n",
              "    </div>\n",
              "  </div>\n",
              "  "
            ],
            "text/plain": [
              "                            Motor  ...      Valor\n",
              "Nome                               ...           \n",
              "Jetta Variant     Motor 4.0 Turbo  ...   88078.64\n",
              "Passat               Motor Diesel  ...  106161.94\n",
              "Crossfox          Motor Diesel V8  ...   72832.16\n",
              "DS5               Motor 2.4 Turbo  ...  124549.07\n",
              "Aston Martin DB4  Motor 2.4 Turbo  ...   92612.10\n",
              "\n",
              "[5 rows x 6 columns]"
            ]
          },
          "metadata": {},
          "execution_count": 17
        }
      ]
    },
    {
      "cell_type": "code",
      "metadata": {
        "id": "R2FWgCM_D1BO",
        "colab": {
          "base_uri": "https://localhost:8080/"
        },
        "outputId": "49fbd6fa-551c-4faa-cb37-5492cc0f7872"
      },
      "source": [
        "#para ver somente uma coluna e indice vem junto e hoje o indice é coluna Nome\n",
        "dataset['Valor']"
      ],
      "execution_count": 18,
      "outputs": [
        {
          "output_type": "execute_result",
          "data": {
            "text/plain": [
              "Nome\n",
              "Jetta Variant             88078.64\n",
              "Passat                   106161.94\n",
              "Crossfox                  72832.16\n",
              "DS5                      124549.07\n",
              "Aston Martin DB4          92612.10\n",
              "                           ...    \n",
              "Phantom 2013              51759.58\n",
              "Cadillac Ciel concept     51667.06\n",
              "Classe GLK                68934.03\n",
              "Aston Martin DB5         122110.90\n",
              "Macan                     90381.47\n",
              "Name: Valor, Length: 258, dtype: float64"
            ]
          },
          "metadata": {},
          "execution_count": 18
        }
      ]
    },
    {
      "cell_type": "code",
      "metadata": {
        "scrolled": true,
        "id": "lCCumsxsD1BP",
        "colab": {
          "base_uri": "https://localhost:8080/"
        },
        "outputId": "bb48279e-f9f6-40dd-a527-150beb55d58b"
      },
      "source": [
        "type(dataset['Valor'])"
      ],
      "execution_count": 30,
      "outputs": [
        {
          "output_type": "execute_result",
          "data": {
            "text/plain": [
              "pandas.core.series.Series"
            ]
          },
          "metadata": {},
          "execution_count": 30
        }
      ]
    },
    {
      "cell_type": "code",
      "metadata": {
        "id": "zxlyC3B8D1BP",
        "colab": {
          "base_uri": "https://localhost:8080/",
          "height": 455
        },
        "outputId": "99da16ba-0102-49b2-e776-969810428cab"
      },
      "source": [
        "dataset[['Valor']] # para retornar um dataframe"
      ],
      "execution_count": 19,
      "outputs": [
        {
          "output_type": "execute_result",
          "data": {
            "text/html": [
              "\n",
              "  <div id=\"df-04e92eb8-6366-44a1-aab2-e67482aeb61d\">\n",
              "    <div class=\"colab-df-container\">\n",
              "      <div>\n",
              "<style scoped>\n",
              "    .dataframe tbody tr th:only-of-type {\n",
              "        vertical-align: middle;\n",
              "    }\n",
              "\n",
              "    .dataframe tbody tr th {\n",
              "        vertical-align: top;\n",
              "    }\n",
              "\n",
              "    .dataframe thead th {\n",
              "        text-align: right;\n",
              "    }\n",
              "</style>\n",
              "<table border=\"1\" class=\"dataframe\">\n",
              "  <thead>\n",
              "    <tr style=\"text-align: right;\">\n",
              "      <th></th>\n",
              "      <th>Valor</th>\n",
              "    </tr>\n",
              "    <tr>\n",
              "      <th>Nome</th>\n",
              "      <th></th>\n",
              "    </tr>\n",
              "  </thead>\n",
              "  <tbody>\n",
              "    <tr>\n",
              "      <th>Jetta Variant</th>\n",
              "      <td>88078.64</td>\n",
              "    </tr>\n",
              "    <tr>\n",
              "      <th>Passat</th>\n",
              "      <td>106161.94</td>\n",
              "    </tr>\n",
              "    <tr>\n",
              "      <th>Crossfox</th>\n",
              "      <td>72832.16</td>\n",
              "    </tr>\n",
              "    <tr>\n",
              "      <th>DS5</th>\n",
              "      <td>124549.07</td>\n",
              "    </tr>\n",
              "    <tr>\n",
              "      <th>Aston Martin DB4</th>\n",
              "      <td>92612.10</td>\n",
              "    </tr>\n",
              "    <tr>\n",
              "      <th>...</th>\n",
              "      <td>...</td>\n",
              "    </tr>\n",
              "    <tr>\n",
              "      <th>Phantom 2013</th>\n",
              "      <td>51759.58</td>\n",
              "    </tr>\n",
              "    <tr>\n",
              "      <th>Cadillac Ciel concept</th>\n",
              "      <td>51667.06</td>\n",
              "    </tr>\n",
              "    <tr>\n",
              "      <th>Classe GLK</th>\n",
              "      <td>68934.03</td>\n",
              "    </tr>\n",
              "    <tr>\n",
              "      <th>Aston Martin DB5</th>\n",
              "      <td>122110.90</td>\n",
              "    </tr>\n",
              "    <tr>\n",
              "      <th>Macan</th>\n",
              "      <td>90381.47</td>\n",
              "    </tr>\n",
              "  </tbody>\n",
              "</table>\n",
              "<p>258 rows × 1 columns</p>\n",
              "</div>\n",
              "      <button class=\"colab-df-convert\" onclick=\"convertToInteractive('df-04e92eb8-6366-44a1-aab2-e67482aeb61d')\"\n",
              "              title=\"Convert this dataframe to an interactive table.\"\n",
              "              style=\"display:none;\">\n",
              "        \n",
              "  <svg xmlns=\"http://www.w3.org/2000/svg\" height=\"24px\"viewBox=\"0 0 24 24\"\n",
              "       width=\"24px\">\n",
              "    <path d=\"M0 0h24v24H0V0z\" fill=\"none\"/>\n",
              "    <path d=\"M18.56 5.44l.94 2.06.94-2.06 2.06-.94-2.06-.94-.94-2.06-.94 2.06-2.06.94zm-11 1L8.5 8.5l.94-2.06 2.06-.94-2.06-.94L8.5 2.5l-.94 2.06-2.06.94zm10 10l.94 2.06.94-2.06 2.06-.94-2.06-.94-.94-2.06-.94 2.06-2.06.94z\"/><path d=\"M17.41 7.96l-1.37-1.37c-.4-.4-.92-.59-1.43-.59-.52 0-1.04.2-1.43.59L10.3 9.45l-7.72 7.72c-.78.78-.78 2.05 0 2.83L4 21.41c.39.39.9.59 1.41.59.51 0 1.02-.2 1.41-.59l7.78-7.78 2.81-2.81c.8-.78.8-2.07 0-2.86zM5.41 20L4 18.59l7.72-7.72 1.47 1.35L5.41 20z\"/>\n",
              "  </svg>\n",
              "      </button>\n",
              "      \n",
              "  <style>\n",
              "    .colab-df-container {\n",
              "      display:flex;\n",
              "      flex-wrap:wrap;\n",
              "      gap: 12px;\n",
              "    }\n",
              "\n",
              "    .colab-df-convert {\n",
              "      background-color: #E8F0FE;\n",
              "      border: none;\n",
              "      border-radius: 50%;\n",
              "      cursor: pointer;\n",
              "      display: none;\n",
              "      fill: #1967D2;\n",
              "      height: 32px;\n",
              "      padding: 0 0 0 0;\n",
              "      width: 32px;\n",
              "    }\n",
              "\n",
              "    .colab-df-convert:hover {\n",
              "      background-color: #E2EBFA;\n",
              "      box-shadow: 0px 1px 2px rgba(60, 64, 67, 0.3), 0px 1px 3px 1px rgba(60, 64, 67, 0.15);\n",
              "      fill: #174EA6;\n",
              "    }\n",
              "\n",
              "    [theme=dark] .colab-df-convert {\n",
              "      background-color: #3B4455;\n",
              "      fill: #D2E3FC;\n",
              "    }\n",
              "\n",
              "    [theme=dark] .colab-df-convert:hover {\n",
              "      background-color: #434B5C;\n",
              "      box-shadow: 0px 1px 3px 1px rgba(0, 0, 0, 0.15);\n",
              "      filter: drop-shadow(0px 1px 2px rgba(0, 0, 0, 0.3));\n",
              "      fill: #FFFFFF;\n",
              "    }\n",
              "  </style>\n",
              "\n",
              "      <script>\n",
              "        const buttonEl =\n",
              "          document.querySelector('#df-04e92eb8-6366-44a1-aab2-e67482aeb61d button.colab-df-convert');\n",
              "        buttonEl.style.display =\n",
              "          google.colab.kernel.accessAllowed ? 'block' : 'none';\n",
              "\n",
              "        async function convertToInteractive(key) {\n",
              "          const element = document.querySelector('#df-04e92eb8-6366-44a1-aab2-e67482aeb61d');\n",
              "          const dataTable =\n",
              "            await google.colab.kernel.invokeFunction('convertToInteractive',\n",
              "                                                     [key], {});\n",
              "          if (!dataTable) return;\n",
              "\n",
              "          const docLinkHtml = 'Like what you see? Visit the ' +\n",
              "            '<a target=\"_blank\" href=https://colab.research.google.com/notebooks/data_table.ipynb>data table notebook</a>'\n",
              "            + ' to learn more about interactive tables.';\n",
              "          element.innerHTML = '';\n",
              "          dataTable['output_type'] = 'display_data';\n",
              "          await google.colab.output.renderOutput(dataTable, element);\n",
              "          const docLink = document.createElement('div');\n",
              "          docLink.innerHTML = docLinkHtml;\n",
              "          element.appendChild(docLink);\n",
              "        }\n",
              "      </script>\n",
              "    </div>\n",
              "  </div>\n",
              "  "
            ],
            "text/plain": [
              "                           Valor\n",
              "Nome                            \n",
              "Jetta Variant           88078.64\n",
              "Passat                 106161.94\n",
              "Crossfox                72832.16\n",
              "DS5                    124549.07\n",
              "Aston Martin DB4        92612.10\n",
              "...                          ...\n",
              "Phantom 2013            51759.58\n",
              "Cadillac Ciel concept   51667.06\n",
              "Classe GLK              68934.03\n",
              "Aston Martin DB5       122110.90\n",
              "Macan                   90381.47\n",
              "\n",
              "[258 rows x 1 columns]"
            ]
          },
          "metadata": {},
          "execution_count": 19
        }
      ]
    },
    {
      "cell_type": "code",
      "source": [
        "type(dataset[['Valor']])"
      ],
      "metadata": {
        "colab": {
          "base_uri": "https://localhost:8080/"
        },
        "id": "XFP15gqJJ3hK",
        "outputId": "066c4797-7a7f-4ab8-a630-233c5840b893"
      },
      "execution_count": 32,
      "outputs": [
        {
          "output_type": "execute_result",
          "data": {
            "text/plain": [
              "pandas.core.frame.DataFrame"
            ]
          },
          "metadata": {},
          "execution_count": 32
        }
      ]
    },
    {
      "cell_type": "markdown",
      "metadata": {
        "id": "7RPXPm1XD1BQ"
      },
      "source": [
        "### Selecionando linhas - [ i : j ] \n",
        "\n",
        "<font color=red>**Observação:**</font> A indexação tem origem no zero e nos fatiamentos (*slices*) a linha com índice i é **incluída** e a linha com índice j **não é incluída** no resultado."
      ]
    },
    {
      "cell_type": "code",
      "metadata": {
        "id": "PdDUwPw3D1BQ",
        "colab": {
          "base_uri": "https://localhost:8080/",
          "height": 175
        },
        "outputId": "f8d4f69b-e64e-4301-bd38-2b688bf96b04"
      },
      "source": [
        "dataset[:3] # aqui pode ou não colocar o zero[0:3]"
      ],
      "execution_count": 20,
      "outputs": [
        {
          "output_type": "execute_result",
          "data": {
            "text/html": [
              "\n",
              "  <div id=\"df-6e67ecf6-dee1-48c8-9444-fb5c331cda60\">\n",
              "    <div class=\"colab-df-container\">\n",
              "      <div>\n",
              "<style scoped>\n",
              "    .dataframe tbody tr th:only-of-type {\n",
              "        vertical-align: middle;\n",
              "    }\n",
              "\n",
              "    .dataframe tbody tr th {\n",
              "        vertical-align: top;\n",
              "    }\n",
              "\n",
              "    .dataframe thead th {\n",
              "        text-align: right;\n",
              "    }\n",
              "</style>\n",
              "<table border=\"1\" class=\"dataframe\">\n",
              "  <thead>\n",
              "    <tr style=\"text-align: right;\">\n",
              "      <th></th>\n",
              "      <th>Motor</th>\n",
              "      <th>Ano</th>\n",
              "      <th>Quilometragem</th>\n",
              "      <th>Zero_km</th>\n",
              "      <th>Acessórios</th>\n",
              "      <th>Valor</th>\n",
              "    </tr>\n",
              "    <tr>\n",
              "      <th>Nome</th>\n",
              "      <th></th>\n",
              "      <th></th>\n",
              "      <th></th>\n",
              "      <th></th>\n",
              "      <th></th>\n",
              "      <th></th>\n",
              "    </tr>\n",
              "  </thead>\n",
              "  <tbody>\n",
              "    <tr>\n",
              "      <th>Jetta Variant</th>\n",
              "      <td>Motor 4.0 Turbo</td>\n",
              "      <td>2003</td>\n",
              "      <td>44410.0</td>\n",
              "      <td>False</td>\n",
              "      <td>['Rodas de liga', 'Travas elétricas', 'Piloto ...</td>\n",
              "      <td>88078.64</td>\n",
              "    </tr>\n",
              "    <tr>\n",
              "      <th>Passat</th>\n",
              "      <td>Motor Diesel</td>\n",
              "      <td>1991</td>\n",
              "      <td>5712.0</td>\n",
              "      <td>False</td>\n",
              "      <td>['Central multimídia', 'Teto panorâmico', 'Fre...</td>\n",
              "      <td>106161.94</td>\n",
              "    </tr>\n",
              "    <tr>\n",
              "      <th>Crossfox</th>\n",
              "      <td>Motor Diesel V8</td>\n",
              "      <td>1990</td>\n",
              "      <td>37123.0</td>\n",
              "      <td>False</td>\n",
              "      <td>['Piloto automático', 'Controle de estabilidad...</td>\n",
              "      <td>72832.16</td>\n",
              "    </tr>\n",
              "  </tbody>\n",
              "</table>\n",
              "</div>\n",
              "      <button class=\"colab-df-convert\" onclick=\"convertToInteractive('df-6e67ecf6-dee1-48c8-9444-fb5c331cda60')\"\n",
              "              title=\"Convert this dataframe to an interactive table.\"\n",
              "              style=\"display:none;\">\n",
              "        \n",
              "  <svg xmlns=\"http://www.w3.org/2000/svg\" height=\"24px\"viewBox=\"0 0 24 24\"\n",
              "       width=\"24px\">\n",
              "    <path d=\"M0 0h24v24H0V0z\" fill=\"none\"/>\n",
              "    <path d=\"M18.56 5.44l.94 2.06.94-2.06 2.06-.94-2.06-.94-.94-2.06-.94 2.06-2.06.94zm-11 1L8.5 8.5l.94-2.06 2.06-.94-2.06-.94L8.5 2.5l-.94 2.06-2.06.94zm10 10l.94 2.06.94-2.06 2.06-.94-2.06-.94-.94-2.06-.94 2.06-2.06.94z\"/><path d=\"M17.41 7.96l-1.37-1.37c-.4-.4-.92-.59-1.43-.59-.52 0-1.04.2-1.43.59L10.3 9.45l-7.72 7.72c-.78.78-.78 2.05 0 2.83L4 21.41c.39.39.9.59 1.41.59.51 0 1.02-.2 1.41-.59l7.78-7.78 2.81-2.81c.8-.78.8-2.07 0-2.86zM5.41 20L4 18.59l7.72-7.72 1.47 1.35L5.41 20z\"/>\n",
              "  </svg>\n",
              "      </button>\n",
              "      \n",
              "  <style>\n",
              "    .colab-df-container {\n",
              "      display:flex;\n",
              "      flex-wrap:wrap;\n",
              "      gap: 12px;\n",
              "    }\n",
              "\n",
              "    .colab-df-convert {\n",
              "      background-color: #E8F0FE;\n",
              "      border: none;\n",
              "      border-radius: 50%;\n",
              "      cursor: pointer;\n",
              "      display: none;\n",
              "      fill: #1967D2;\n",
              "      height: 32px;\n",
              "      padding: 0 0 0 0;\n",
              "      width: 32px;\n",
              "    }\n",
              "\n",
              "    .colab-df-convert:hover {\n",
              "      background-color: #E2EBFA;\n",
              "      box-shadow: 0px 1px 2px rgba(60, 64, 67, 0.3), 0px 1px 3px 1px rgba(60, 64, 67, 0.15);\n",
              "      fill: #174EA6;\n",
              "    }\n",
              "\n",
              "    [theme=dark] .colab-df-convert {\n",
              "      background-color: #3B4455;\n",
              "      fill: #D2E3FC;\n",
              "    }\n",
              "\n",
              "    [theme=dark] .colab-df-convert:hover {\n",
              "      background-color: #434B5C;\n",
              "      box-shadow: 0px 1px 3px 1px rgba(0, 0, 0, 0.15);\n",
              "      filter: drop-shadow(0px 1px 2px rgba(0, 0, 0, 0.3));\n",
              "      fill: #FFFFFF;\n",
              "    }\n",
              "  </style>\n",
              "\n",
              "      <script>\n",
              "        const buttonEl =\n",
              "          document.querySelector('#df-6e67ecf6-dee1-48c8-9444-fb5c331cda60 button.colab-df-convert');\n",
              "        buttonEl.style.display =\n",
              "          google.colab.kernel.accessAllowed ? 'block' : 'none';\n",
              "\n",
              "        async function convertToInteractive(key) {\n",
              "          const element = document.querySelector('#df-6e67ecf6-dee1-48c8-9444-fb5c331cda60');\n",
              "          const dataTable =\n",
              "            await google.colab.kernel.invokeFunction('convertToInteractive',\n",
              "                                                     [key], {});\n",
              "          if (!dataTable) return;\n",
              "\n",
              "          const docLinkHtml = 'Like what you see? Visit the ' +\n",
              "            '<a target=\"_blank\" href=https://colab.research.google.com/notebooks/data_table.ipynb>data table notebook</a>'\n",
              "            + ' to learn more about interactive tables.';\n",
              "          element.innerHTML = '';\n",
              "          dataTable['output_type'] = 'display_data';\n",
              "          await google.colab.output.renderOutput(dataTable, element);\n",
              "          const docLink = document.createElement('div');\n",
              "          docLink.innerHTML = docLinkHtml;\n",
              "          element.appendChild(docLink);\n",
              "        }\n",
              "      </script>\n",
              "    </div>\n",
              "  </div>\n",
              "  "
            ],
            "text/plain": [
              "                         Motor  ...      Valor\n",
              "Nome                            ...           \n",
              "Jetta Variant  Motor 4.0 Turbo  ...   88078.64\n",
              "Passat            Motor Diesel  ...  106161.94\n",
              "Crossfox       Motor Diesel V8  ...   72832.16\n",
              "\n",
              "[3 rows x 6 columns]"
            ]
          },
          "metadata": {},
          "execution_count": 20
        }
      ]
    },
    {
      "cell_type": "markdown",
      "metadata": {
        "id": "G3DMSk97D1BR"
      },
      "source": [
        "### Utilizando .loc para seleções\n",
        "\n",
        "<font color=red>**Observação:**</font> Seleciona um grupo de linhas e colunas segundo os rótulos ou uma matriz booleana."
      ]
    },
    {
      "cell_type": "code",
      "metadata": {
        "id": "Ftg-hNOoD1BR",
        "colab": {
          "base_uri": "https://localhost:8080/",
          "height": 144
        },
        "outputId": "14df5e6f-b6bb-4c79-9c9e-b3a3141dc62f"
      },
      "source": [
        "#para retornar mais de uma informação vai precisar de um dataframe e com isso colocar dois [[]],\n",
        "#acessando o index do dataframe, rotulo nome\n",
        "dataset.loc[['Passat', 'DS5']]"
      ],
      "execution_count": 22,
      "outputs": [
        {
          "output_type": "execute_result",
          "data": {
            "text/html": [
              "\n",
              "  <div id=\"df-59340e00-f6bc-4535-a32f-78a410b5445e\">\n",
              "    <div class=\"colab-df-container\">\n",
              "      <div>\n",
              "<style scoped>\n",
              "    .dataframe tbody tr th:only-of-type {\n",
              "        vertical-align: middle;\n",
              "    }\n",
              "\n",
              "    .dataframe tbody tr th {\n",
              "        vertical-align: top;\n",
              "    }\n",
              "\n",
              "    .dataframe thead th {\n",
              "        text-align: right;\n",
              "    }\n",
              "</style>\n",
              "<table border=\"1\" class=\"dataframe\">\n",
              "  <thead>\n",
              "    <tr style=\"text-align: right;\">\n",
              "      <th></th>\n",
              "      <th>Motor</th>\n",
              "      <th>Ano</th>\n",
              "      <th>Quilometragem</th>\n",
              "      <th>Zero_km</th>\n",
              "      <th>Acessórios</th>\n",
              "      <th>Valor</th>\n",
              "    </tr>\n",
              "    <tr>\n",
              "      <th>Nome</th>\n",
              "      <th></th>\n",
              "      <th></th>\n",
              "      <th></th>\n",
              "      <th></th>\n",
              "      <th></th>\n",
              "      <th></th>\n",
              "    </tr>\n",
              "  </thead>\n",
              "  <tbody>\n",
              "    <tr>\n",
              "      <th>Passat</th>\n",
              "      <td>Motor Diesel</td>\n",
              "      <td>1991</td>\n",
              "      <td>5712.0</td>\n",
              "      <td>False</td>\n",
              "      <td>['Central multimídia', 'Teto panorâmico', 'Fre...</td>\n",
              "      <td>106161.94</td>\n",
              "    </tr>\n",
              "    <tr>\n",
              "      <th>DS5</th>\n",
              "      <td>Motor 2.4 Turbo</td>\n",
              "      <td>2019</td>\n",
              "      <td>NaN</td>\n",
              "      <td>True</td>\n",
              "      <td>['Travas elétricas', '4 X 4', 'Vidros elétrico...</td>\n",
              "      <td>124549.07</td>\n",
              "    </tr>\n",
              "  </tbody>\n",
              "</table>\n",
              "</div>\n",
              "      <button class=\"colab-df-convert\" onclick=\"convertToInteractive('df-59340e00-f6bc-4535-a32f-78a410b5445e')\"\n",
              "              title=\"Convert this dataframe to an interactive table.\"\n",
              "              style=\"display:none;\">\n",
              "        \n",
              "  <svg xmlns=\"http://www.w3.org/2000/svg\" height=\"24px\"viewBox=\"0 0 24 24\"\n",
              "       width=\"24px\">\n",
              "    <path d=\"M0 0h24v24H0V0z\" fill=\"none\"/>\n",
              "    <path d=\"M18.56 5.44l.94 2.06.94-2.06 2.06-.94-2.06-.94-.94-2.06-.94 2.06-2.06.94zm-11 1L8.5 8.5l.94-2.06 2.06-.94-2.06-.94L8.5 2.5l-.94 2.06-2.06.94zm10 10l.94 2.06.94-2.06 2.06-.94-2.06-.94-.94-2.06-.94 2.06-2.06.94z\"/><path d=\"M17.41 7.96l-1.37-1.37c-.4-.4-.92-.59-1.43-.59-.52 0-1.04.2-1.43.59L10.3 9.45l-7.72 7.72c-.78.78-.78 2.05 0 2.83L4 21.41c.39.39.9.59 1.41.59.51 0 1.02-.2 1.41-.59l7.78-7.78 2.81-2.81c.8-.78.8-2.07 0-2.86zM5.41 20L4 18.59l7.72-7.72 1.47 1.35L5.41 20z\"/>\n",
              "  </svg>\n",
              "      </button>\n",
              "      \n",
              "  <style>\n",
              "    .colab-df-container {\n",
              "      display:flex;\n",
              "      flex-wrap:wrap;\n",
              "      gap: 12px;\n",
              "    }\n",
              "\n",
              "    .colab-df-convert {\n",
              "      background-color: #E8F0FE;\n",
              "      border: none;\n",
              "      border-radius: 50%;\n",
              "      cursor: pointer;\n",
              "      display: none;\n",
              "      fill: #1967D2;\n",
              "      height: 32px;\n",
              "      padding: 0 0 0 0;\n",
              "      width: 32px;\n",
              "    }\n",
              "\n",
              "    .colab-df-convert:hover {\n",
              "      background-color: #E2EBFA;\n",
              "      box-shadow: 0px 1px 2px rgba(60, 64, 67, 0.3), 0px 1px 3px 1px rgba(60, 64, 67, 0.15);\n",
              "      fill: #174EA6;\n",
              "    }\n",
              "\n",
              "    [theme=dark] .colab-df-convert {\n",
              "      background-color: #3B4455;\n",
              "      fill: #D2E3FC;\n",
              "    }\n",
              "\n",
              "    [theme=dark] .colab-df-convert:hover {\n",
              "      background-color: #434B5C;\n",
              "      box-shadow: 0px 1px 3px 1px rgba(0, 0, 0, 0.15);\n",
              "      filter: drop-shadow(0px 1px 2px rgba(0, 0, 0, 0.3));\n",
              "      fill: #FFFFFF;\n",
              "    }\n",
              "  </style>\n",
              "\n",
              "      <script>\n",
              "        const buttonEl =\n",
              "          document.querySelector('#df-59340e00-f6bc-4535-a32f-78a410b5445e button.colab-df-convert');\n",
              "        buttonEl.style.display =\n",
              "          google.colab.kernel.accessAllowed ? 'block' : 'none';\n",
              "\n",
              "        async function convertToInteractive(key) {\n",
              "          const element = document.querySelector('#df-59340e00-f6bc-4535-a32f-78a410b5445e');\n",
              "          const dataTable =\n",
              "            await google.colab.kernel.invokeFunction('convertToInteractive',\n",
              "                                                     [key], {});\n",
              "          if (!dataTable) return;\n",
              "\n",
              "          const docLinkHtml = 'Like what you see? Visit the ' +\n",
              "            '<a target=\"_blank\" href=https://colab.research.google.com/notebooks/data_table.ipynb>data table notebook</a>'\n",
              "            + ' to learn more about interactive tables.';\n",
              "          element.innerHTML = '';\n",
              "          dataTable['output_type'] = 'display_data';\n",
              "          await google.colab.output.renderOutput(dataTable, element);\n",
              "          const docLink = document.createElement('div');\n",
              "          docLink.innerHTML = docLinkHtml;\n",
              "          element.appendChild(docLink);\n",
              "        }\n",
              "      </script>\n",
              "    </div>\n",
              "  </div>\n",
              "  "
            ],
            "text/plain": [
              "                  Motor  ...      Valor\n",
              "Nome                     ...           \n",
              "Passat     Motor Diesel  ...  106161.94\n",
              "DS5     Motor 2.4 Turbo  ...  124549.07\n",
              "\n",
              "[2 rows x 6 columns]"
            ]
          },
          "metadata": {},
          "execution_count": 22
        }
      ]
    },
    {
      "cell_type": "code",
      "metadata": {
        "id": "xdxkDrHvD1BS",
        "colab": {
          "base_uri": "https://localhost:8080/",
          "height": 144
        },
        "outputId": "b12e3c89-5cac-4c0f-b07f-eff3b2603b41"
      },
      "source": [
        "# para selecionar somentre algumas info, primerio vem a linhas [], depois o nome das colunas []\n",
        "dataset.loc[['Passat', 'DS5'], ['Motor', 'Valor']]"
      ],
      "execution_count": 24,
      "outputs": [
        {
          "output_type": "execute_result",
          "data": {
            "text/html": [
              "\n",
              "  <div id=\"df-27681d56-096d-4499-be9a-cb0f9de53a92\">\n",
              "    <div class=\"colab-df-container\">\n",
              "      <div>\n",
              "<style scoped>\n",
              "    .dataframe tbody tr th:only-of-type {\n",
              "        vertical-align: middle;\n",
              "    }\n",
              "\n",
              "    .dataframe tbody tr th {\n",
              "        vertical-align: top;\n",
              "    }\n",
              "\n",
              "    .dataframe thead th {\n",
              "        text-align: right;\n",
              "    }\n",
              "</style>\n",
              "<table border=\"1\" class=\"dataframe\">\n",
              "  <thead>\n",
              "    <tr style=\"text-align: right;\">\n",
              "      <th></th>\n",
              "      <th>Motor</th>\n",
              "      <th>Valor</th>\n",
              "    </tr>\n",
              "    <tr>\n",
              "      <th>Nome</th>\n",
              "      <th></th>\n",
              "      <th></th>\n",
              "    </tr>\n",
              "  </thead>\n",
              "  <tbody>\n",
              "    <tr>\n",
              "      <th>Passat</th>\n",
              "      <td>Motor Diesel</td>\n",
              "      <td>106161.94</td>\n",
              "    </tr>\n",
              "    <tr>\n",
              "      <th>DS5</th>\n",
              "      <td>Motor 2.4 Turbo</td>\n",
              "      <td>124549.07</td>\n",
              "    </tr>\n",
              "  </tbody>\n",
              "</table>\n",
              "</div>\n",
              "      <button class=\"colab-df-convert\" onclick=\"convertToInteractive('df-27681d56-096d-4499-be9a-cb0f9de53a92')\"\n",
              "              title=\"Convert this dataframe to an interactive table.\"\n",
              "              style=\"display:none;\">\n",
              "        \n",
              "  <svg xmlns=\"http://www.w3.org/2000/svg\" height=\"24px\"viewBox=\"0 0 24 24\"\n",
              "       width=\"24px\">\n",
              "    <path d=\"M0 0h24v24H0V0z\" fill=\"none\"/>\n",
              "    <path d=\"M18.56 5.44l.94 2.06.94-2.06 2.06-.94-2.06-.94-.94-2.06-.94 2.06-2.06.94zm-11 1L8.5 8.5l.94-2.06 2.06-.94-2.06-.94L8.5 2.5l-.94 2.06-2.06.94zm10 10l.94 2.06.94-2.06 2.06-.94-2.06-.94-.94-2.06-.94 2.06-2.06.94z\"/><path d=\"M17.41 7.96l-1.37-1.37c-.4-.4-.92-.59-1.43-.59-.52 0-1.04.2-1.43.59L10.3 9.45l-7.72 7.72c-.78.78-.78 2.05 0 2.83L4 21.41c.39.39.9.59 1.41.59.51 0 1.02-.2 1.41-.59l7.78-7.78 2.81-2.81c.8-.78.8-2.07 0-2.86zM5.41 20L4 18.59l7.72-7.72 1.47 1.35L5.41 20z\"/>\n",
              "  </svg>\n",
              "      </button>\n",
              "      \n",
              "  <style>\n",
              "    .colab-df-container {\n",
              "      display:flex;\n",
              "      flex-wrap:wrap;\n",
              "      gap: 12px;\n",
              "    }\n",
              "\n",
              "    .colab-df-convert {\n",
              "      background-color: #E8F0FE;\n",
              "      border: none;\n",
              "      border-radius: 50%;\n",
              "      cursor: pointer;\n",
              "      display: none;\n",
              "      fill: #1967D2;\n",
              "      height: 32px;\n",
              "      padding: 0 0 0 0;\n",
              "      width: 32px;\n",
              "    }\n",
              "\n",
              "    .colab-df-convert:hover {\n",
              "      background-color: #E2EBFA;\n",
              "      box-shadow: 0px 1px 2px rgba(60, 64, 67, 0.3), 0px 1px 3px 1px rgba(60, 64, 67, 0.15);\n",
              "      fill: #174EA6;\n",
              "    }\n",
              "\n",
              "    [theme=dark] .colab-df-convert {\n",
              "      background-color: #3B4455;\n",
              "      fill: #D2E3FC;\n",
              "    }\n",
              "\n",
              "    [theme=dark] .colab-df-convert:hover {\n",
              "      background-color: #434B5C;\n",
              "      box-shadow: 0px 1px 3px 1px rgba(0, 0, 0, 0.15);\n",
              "      filter: drop-shadow(0px 1px 2px rgba(0, 0, 0, 0.3));\n",
              "      fill: #FFFFFF;\n",
              "    }\n",
              "  </style>\n",
              "\n",
              "      <script>\n",
              "        const buttonEl =\n",
              "          document.querySelector('#df-27681d56-096d-4499-be9a-cb0f9de53a92 button.colab-df-convert');\n",
              "        buttonEl.style.display =\n",
              "          google.colab.kernel.accessAllowed ? 'block' : 'none';\n",
              "\n",
              "        async function convertToInteractive(key) {\n",
              "          const element = document.querySelector('#df-27681d56-096d-4499-be9a-cb0f9de53a92');\n",
              "          const dataTable =\n",
              "            await google.colab.kernel.invokeFunction('convertToInteractive',\n",
              "                                                     [key], {});\n",
              "          if (!dataTable) return;\n",
              "\n",
              "          const docLinkHtml = 'Like what you see? Visit the ' +\n",
              "            '<a target=\"_blank\" href=https://colab.research.google.com/notebooks/data_table.ipynb>data table notebook</a>'\n",
              "            + ' to learn more about interactive tables.';\n",
              "          element.innerHTML = '';\n",
              "          dataTable['output_type'] = 'display_data';\n",
              "          await google.colab.output.renderOutput(dataTable, element);\n",
              "          const docLink = document.createElement('div');\n",
              "          docLink.innerHTML = docLinkHtml;\n",
              "          element.appendChild(docLink);\n",
              "        }\n",
              "      </script>\n",
              "    </div>\n",
              "  </div>\n",
              "  "
            ],
            "text/plain": [
              "                  Motor      Valor\n",
              "Nome                              \n",
              "Passat     Motor Diesel  106161.94\n",
              "DS5     Motor 2.4 Turbo  124549.07"
            ]
          },
          "metadata": {},
          "execution_count": 24
        }
      ]
    },
    {
      "cell_type": "code",
      "metadata": {
        "id": "pMN3U1KjD1BS",
        "colab": {
          "base_uri": "https://localhost:8080/",
          "height": 455
        },
        "outputId": "943695f8-2f35-4ae8-d1c0-0891d6db22cf"
      },
      "source": [
        "#selecionar todas as linhas\n",
        "dataset.loc[:, ['Motor', 'Valor']]"
      ],
      "execution_count": 25,
      "outputs": [
        {
          "output_type": "execute_result",
          "data": {
            "text/html": [
              "\n",
              "  <div id=\"df-95f9946a-8644-43d0-982e-4f2389879739\">\n",
              "    <div class=\"colab-df-container\">\n",
              "      <div>\n",
              "<style scoped>\n",
              "    .dataframe tbody tr th:only-of-type {\n",
              "        vertical-align: middle;\n",
              "    }\n",
              "\n",
              "    .dataframe tbody tr th {\n",
              "        vertical-align: top;\n",
              "    }\n",
              "\n",
              "    .dataframe thead th {\n",
              "        text-align: right;\n",
              "    }\n",
              "</style>\n",
              "<table border=\"1\" class=\"dataframe\">\n",
              "  <thead>\n",
              "    <tr style=\"text-align: right;\">\n",
              "      <th></th>\n",
              "      <th>Motor</th>\n",
              "      <th>Valor</th>\n",
              "    </tr>\n",
              "    <tr>\n",
              "      <th>Nome</th>\n",
              "      <th></th>\n",
              "      <th></th>\n",
              "    </tr>\n",
              "  </thead>\n",
              "  <tbody>\n",
              "    <tr>\n",
              "      <th>Jetta Variant</th>\n",
              "      <td>Motor 4.0 Turbo</td>\n",
              "      <td>88078.64</td>\n",
              "    </tr>\n",
              "    <tr>\n",
              "      <th>Passat</th>\n",
              "      <td>Motor Diesel</td>\n",
              "      <td>106161.94</td>\n",
              "    </tr>\n",
              "    <tr>\n",
              "      <th>Crossfox</th>\n",
              "      <td>Motor Diesel V8</td>\n",
              "      <td>72832.16</td>\n",
              "    </tr>\n",
              "    <tr>\n",
              "      <th>DS5</th>\n",
              "      <td>Motor 2.4 Turbo</td>\n",
              "      <td>124549.07</td>\n",
              "    </tr>\n",
              "    <tr>\n",
              "      <th>Aston Martin DB4</th>\n",
              "      <td>Motor 2.4 Turbo</td>\n",
              "      <td>92612.10</td>\n",
              "    </tr>\n",
              "    <tr>\n",
              "      <th>...</th>\n",
              "      <td>...</td>\n",
              "      <td>...</td>\n",
              "    </tr>\n",
              "    <tr>\n",
              "      <th>Phantom 2013</th>\n",
              "      <td>Motor V8</td>\n",
              "      <td>51759.58</td>\n",
              "    </tr>\n",
              "    <tr>\n",
              "      <th>Cadillac Ciel concept</th>\n",
              "      <td>Motor V8</td>\n",
              "      <td>51667.06</td>\n",
              "    </tr>\n",
              "    <tr>\n",
              "      <th>Classe GLK</th>\n",
              "      <td>Motor 5.0 V8 Bi-Turbo</td>\n",
              "      <td>68934.03</td>\n",
              "    </tr>\n",
              "    <tr>\n",
              "      <th>Aston Martin DB5</th>\n",
              "      <td>Motor Diesel</td>\n",
              "      <td>122110.90</td>\n",
              "    </tr>\n",
              "    <tr>\n",
              "      <th>Macan</th>\n",
              "      <td>Motor Diesel V6</td>\n",
              "      <td>90381.47</td>\n",
              "    </tr>\n",
              "  </tbody>\n",
              "</table>\n",
              "<p>258 rows × 2 columns</p>\n",
              "</div>\n",
              "      <button class=\"colab-df-convert\" onclick=\"convertToInteractive('df-95f9946a-8644-43d0-982e-4f2389879739')\"\n",
              "              title=\"Convert this dataframe to an interactive table.\"\n",
              "              style=\"display:none;\">\n",
              "        \n",
              "  <svg xmlns=\"http://www.w3.org/2000/svg\" height=\"24px\"viewBox=\"0 0 24 24\"\n",
              "       width=\"24px\">\n",
              "    <path d=\"M0 0h24v24H0V0z\" fill=\"none\"/>\n",
              "    <path d=\"M18.56 5.44l.94 2.06.94-2.06 2.06-.94-2.06-.94-.94-2.06-.94 2.06-2.06.94zm-11 1L8.5 8.5l.94-2.06 2.06-.94-2.06-.94L8.5 2.5l-.94 2.06-2.06.94zm10 10l.94 2.06.94-2.06 2.06-.94-2.06-.94-.94-2.06-.94 2.06-2.06.94z\"/><path d=\"M17.41 7.96l-1.37-1.37c-.4-.4-.92-.59-1.43-.59-.52 0-1.04.2-1.43.59L10.3 9.45l-7.72 7.72c-.78.78-.78 2.05 0 2.83L4 21.41c.39.39.9.59 1.41.59.51 0 1.02-.2 1.41-.59l7.78-7.78 2.81-2.81c.8-.78.8-2.07 0-2.86zM5.41 20L4 18.59l7.72-7.72 1.47 1.35L5.41 20z\"/>\n",
              "  </svg>\n",
              "      </button>\n",
              "      \n",
              "  <style>\n",
              "    .colab-df-container {\n",
              "      display:flex;\n",
              "      flex-wrap:wrap;\n",
              "      gap: 12px;\n",
              "    }\n",
              "\n",
              "    .colab-df-convert {\n",
              "      background-color: #E8F0FE;\n",
              "      border: none;\n",
              "      border-radius: 50%;\n",
              "      cursor: pointer;\n",
              "      display: none;\n",
              "      fill: #1967D2;\n",
              "      height: 32px;\n",
              "      padding: 0 0 0 0;\n",
              "      width: 32px;\n",
              "    }\n",
              "\n",
              "    .colab-df-convert:hover {\n",
              "      background-color: #E2EBFA;\n",
              "      box-shadow: 0px 1px 2px rgba(60, 64, 67, 0.3), 0px 1px 3px 1px rgba(60, 64, 67, 0.15);\n",
              "      fill: #174EA6;\n",
              "    }\n",
              "\n",
              "    [theme=dark] .colab-df-convert {\n",
              "      background-color: #3B4455;\n",
              "      fill: #D2E3FC;\n",
              "    }\n",
              "\n",
              "    [theme=dark] .colab-df-convert:hover {\n",
              "      background-color: #434B5C;\n",
              "      box-shadow: 0px 1px 3px 1px rgba(0, 0, 0, 0.15);\n",
              "      filter: drop-shadow(0px 1px 2px rgba(0, 0, 0, 0.3));\n",
              "      fill: #FFFFFF;\n",
              "    }\n",
              "  </style>\n",
              "\n",
              "      <script>\n",
              "        const buttonEl =\n",
              "          document.querySelector('#df-95f9946a-8644-43d0-982e-4f2389879739 button.colab-df-convert');\n",
              "        buttonEl.style.display =\n",
              "          google.colab.kernel.accessAllowed ? 'block' : 'none';\n",
              "\n",
              "        async function convertToInteractive(key) {\n",
              "          const element = document.querySelector('#df-95f9946a-8644-43d0-982e-4f2389879739');\n",
              "          const dataTable =\n",
              "            await google.colab.kernel.invokeFunction('convertToInteractive',\n",
              "                                                     [key], {});\n",
              "          if (!dataTable) return;\n",
              "\n",
              "          const docLinkHtml = 'Like what you see? Visit the ' +\n",
              "            '<a target=\"_blank\" href=https://colab.research.google.com/notebooks/data_table.ipynb>data table notebook</a>'\n",
              "            + ' to learn more about interactive tables.';\n",
              "          element.innerHTML = '';\n",
              "          dataTable['output_type'] = 'display_data';\n",
              "          await google.colab.output.renderOutput(dataTable, element);\n",
              "          const docLink = document.createElement('div');\n",
              "          docLink.innerHTML = docLinkHtml;\n",
              "          element.appendChild(docLink);\n",
              "        }\n",
              "      </script>\n",
              "    </div>\n",
              "  </div>\n",
              "  "
            ],
            "text/plain": [
              "                                       Motor      Valor\n",
              "Nome                                                   \n",
              "Jetta Variant                Motor 4.0 Turbo   88078.64\n",
              "Passat                          Motor Diesel  106161.94\n",
              "Crossfox                     Motor Diesel V8   72832.16\n",
              "DS5                          Motor 2.4 Turbo  124549.07\n",
              "Aston Martin DB4             Motor 2.4 Turbo   92612.10\n",
              "...                                      ...        ...\n",
              "Phantom 2013                        Motor V8   51759.58\n",
              "Cadillac Ciel concept               Motor V8   51667.06\n",
              "Classe GLK             Motor 5.0 V8 Bi-Turbo   68934.03\n",
              "Aston Martin DB5                Motor Diesel  122110.90\n",
              "Macan                        Motor Diesel V6   90381.47\n",
              "\n",
              "[258 rows x 2 columns]"
            ]
          },
          "metadata": {},
          "execution_count": 25
        }
      ]
    },
    {
      "cell_type": "code",
      "metadata": {
        "scrolled": true,
        "id": "oOEO72uZD1BT"
      },
      "source": [
        ""
      ],
      "execution_count": null,
      "outputs": []
    },
    {
      "cell_type": "markdown",
      "metadata": {
        "id": "SYKEe3vCD1BT"
      },
      "source": [
        "### Utilizando .iloc para seleções\n",
        "\n",
        "<font color=red>**Observação:**</font> Seleciona com base nos índices, ou seja, se baseia na posição das informações."
      ]
    },
    {
      "cell_type": "code",
      "metadata": {
        "id": "U4Bru90bD1BT",
        "colab": {
          "base_uri": "https://localhost:8080/"
        },
        "outputId": "ebfc50f3-6a8f-46be-aced-5d61a8781a56"
      },
      "source": [
        "#aqui usa a localização do indice, [ em formato de serie] e [[ em formato de dataframe]]\n",
        "dataset.iloc[1]"
      ],
      "execution_count": 26,
      "outputs": [
        {
          "output_type": "execute_result",
          "data": {
            "text/plain": [
              "Motor                                                 Motor Diesel\n",
              "Ano                                                           1991\n",
              "Quilometragem                                               5712.0\n",
              "Zero_km                                                      False\n",
              "Acessórios       ['Central multimídia', 'Teto panorâmico', 'Fre...\n",
              "Valor                                                    106161.94\n",
              "Name: Passat, dtype: object"
            ]
          },
          "metadata": {},
          "execution_count": 26
        }
      ]
    },
    {
      "cell_type": "code",
      "metadata": {
        "id": "iLKUyrzND1BU",
        "colab": {
          "base_uri": "https://localhost:8080/",
          "height": 112
        },
        "outputId": "50bb584d-b778-46ab-953d-23e591df9d27"
      },
      "source": [
        "dataset.iloc[[1]]"
      ],
      "execution_count": 28,
      "outputs": [
        {
          "output_type": "execute_result",
          "data": {
            "text/html": [
              "\n",
              "  <div id=\"df-929e37d8-35e1-4a00-bbf1-a7a85ea7ecb4\">\n",
              "    <div class=\"colab-df-container\">\n",
              "      <div>\n",
              "<style scoped>\n",
              "    .dataframe tbody tr th:only-of-type {\n",
              "        vertical-align: middle;\n",
              "    }\n",
              "\n",
              "    .dataframe tbody tr th {\n",
              "        vertical-align: top;\n",
              "    }\n",
              "\n",
              "    .dataframe thead th {\n",
              "        text-align: right;\n",
              "    }\n",
              "</style>\n",
              "<table border=\"1\" class=\"dataframe\">\n",
              "  <thead>\n",
              "    <tr style=\"text-align: right;\">\n",
              "      <th></th>\n",
              "      <th>Motor</th>\n",
              "      <th>Ano</th>\n",
              "      <th>Quilometragem</th>\n",
              "      <th>Zero_km</th>\n",
              "      <th>Acessórios</th>\n",
              "      <th>Valor</th>\n",
              "    </tr>\n",
              "    <tr>\n",
              "      <th>Nome</th>\n",
              "      <th></th>\n",
              "      <th></th>\n",
              "      <th></th>\n",
              "      <th></th>\n",
              "      <th></th>\n",
              "      <th></th>\n",
              "    </tr>\n",
              "  </thead>\n",
              "  <tbody>\n",
              "    <tr>\n",
              "      <th>Passat</th>\n",
              "      <td>Motor Diesel</td>\n",
              "      <td>1991</td>\n",
              "      <td>5712.0</td>\n",
              "      <td>False</td>\n",
              "      <td>['Central multimídia', 'Teto panorâmico', 'Fre...</td>\n",
              "      <td>106161.94</td>\n",
              "    </tr>\n",
              "  </tbody>\n",
              "</table>\n",
              "</div>\n",
              "      <button class=\"colab-df-convert\" onclick=\"convertToInteractive('df-929e37d8-35e1-4a00-bbf1-a7a85ea7ecb4')\"\n",
              "              title=\"Convert this dataframe to an interactive table.\"\n",
              "              style=\"display:none;\">\n",
              "        \n",
              "  <svg xmlns=\"http://www.w3.org/2000/svg\" height=\"24px\"viewBox=\"0 0 24 24\"\n",
              "       width=\"24px\">\n",
              "    <path d=\"M0 0h24v24H0V0z\" fill=\"none\"/>\n",
              "    <path d=\"M18.56 5.44l.94 2.06.94-2.06 2.06-.94-2.06-.94-.94-2.06-.94 2.06-2.06.94zm-11 1L8.5 8.5l.94-2.06 2.06-.94-2.06-.94L8.5 2.5l-.94 2.06-2.06.94zm10 10l.94 2.06.94-2.06 2.06-.94-2.06-.94-.94-2.06-.94 2.06-2.06.94z\"/><path d=\"M17.41 7.96l-1.37-1.37c-.4-.4-.92-.59-1.43-.59-.52 0-1.04.2-1.43.59L10.3 9.45l-7.72 7.72c-.78.78-.78 2.05 0 2.83L4 21.41c.39.39.9.59 1.41.59.51 0 1.02-.2 1.41-.59l7.78-7.78 2.81-2.81c.8-.78.8-2.07 0-2.86zM5.41 20L4 18.59l7.72-7.72 1.47 1.35L5.41 20z\"/>\n",
              "  </svg>\n",
              "      </button>\n",
              "      \n",
              "  <style>\n",
              "    .colab-df-container {\n",
              "      display:flex;\n",
              "      flex-wrap:wrap;\n",
              "      gap: 12px;\n",
              "    }\n",
              "\n",
              "    .colab-df-convert {\n",
              "      background-color: #E8F0FE;\n",
              "      border: none;\n",
              "      border-radius: 50%;\n",
              "      cursor: pointer;\n",
              "      display: none;\n",
              "      fill: #1967D2;\n",
              "      height: 32px;\n",
              "      padding: 0 0 0 0;\n",
              "      width: 32px;\n",
              "    }\n",
              "\n",
              "    .colab-df-convert:hover {\n",
              "      background-color: #E2EBFA;\n",
              "      box-shadow: 0px 1px 2px rgba(60, 64, 67, 0.3), 0px 1px 3px 1px rgba(60, 64, 67, 0.15);\n",
              "      fill: #174EA6;\n",
              "    }\n",
              "\n",
              "    [theme=dark] .colab-df-convert {\n",
              "      background-color: #3B4455;\n",
              "      fill: #D2E3FC;\n",
              "    }\n",
              "\n",
              "    [theme=dark] .colab-df-convert:hover {\n",
              "      background-color: #434B5C;\n",
              "      box-shadow: 0px 1px 3px 1px rgba(0, 0, 0, 0.15);\n",
              "      filter: drop-shadow(0px 1px 2px rgba(0, 0, 0, 0.3));\n",
              "      fill: #FFFFFF;\n",
              "    }\n",
              "  </style>\n",
              "\n",
              "      <script>\n",
              "        const buttonEl =\n",
              "          document.querySelector('#df-929e37d8-35e1-4a00-bbf1-a7a85ea7ecb4 button.colab-df-convert');\n",
              "        buttonEl.style.display =\n",
              "          google.colab.kernel.accessAllowed ? 'block' : 'none';\n",
              "\n",
              "        async function convertToInteractive(key) {\n",
              "          const element = document.querySelector('#df-929e37d8-35e1-4a00-bbf1-a7a85ea7ecb4');\n",
              "          const dataTable =\n",
              "            await google.colab.kernel.invokeFunction('convertToInteractive',\n",
              "                                                     [key], {});\n",
              "          if (!dataTable) return;\n",
              "\n",
              "          const docLinkHtml = 'Like what you see? Visit the ' +\n",
              "            '<a target=\"_blank\" href=https://colab.research.google.com/notebooks/data_table.ipynb>data table notebook</a>'\n",
              "            + ' to learn more about interactive tables.';\n",
              "          element.innerHTML = '';\n",
              "          dataTable['output_type'] = 'display_data';\n",
              "          await google.colab.output.renderOutput(dataTable, element);\n",
              "          const docLink = document.createElement('div');\n",
              "          docLink.innerHTML = docLinkHtml;\n",
              "          element.appendChild(docLink);\n",
              "        }\n",
              "      </script>\n",
              "    </div>\n",
              "  </div>\n",
              "  "
            ],
            "text/plain": [
              "               Motor  ...      Valor\n",
              "Nome                  ...           \n",
              "Passat  Motor Diesel  ...  106161.94\n",
              "\n",
              "[1 rows x 6 columns]"
            ]
          },
          "metadata": {},
          "execution_count": 28
        }
      ]
    },
    {
      "cell_type": "code",
      "metadata": {
        "id": "KGZpixYUD1BU",
        "colab": {
          "base_uri": "https://localhost:8080/",
          "height": 281
        },
        "outputId": "5f82654f-8b94-4bbd-d2b1-072adf480bc1"
      },
      "source": [
        "dataset.head()"
      ],
      "execution_count": 29,
      "outputs": [
        {
          "output_type": "execute_result",
          "data": {
            "text/html": [
              "\n",
              "  <div id=\"df-0c4385d7-cd23-41fe-b878-c396b813a6d6\">\n",
              "    <div class=\"colab-df-container\">\n",
              "      <div>\n",
              "<style scoped>\n",
              "    .dataframe tbody tr th:only-of-type {\n",
              "        vertical-align: middle;\n",
              "    }\n",
              "\n",
              "    .dataframe tbody tr th {\n",
              "        vertical-align: top;\n",
              "    }\n",
              "\n",
              "    .dataframe thead th {\n",
              "        text-align: right;\n",
              "    }\n",
              "</style>\n",
              "<table border=\"1\" class=\"dataframe\">\n",
              "  <thead>\n",
              "    <tr style=\"text-align: right;\">\n",
              "      <th></th>\n",
              "      <th>Motor</th>\n",
              "      <th>Ano</th>\n",
              "      <th>Quilometragem</th>\n",
              "      <th>Zero_km</th>\n",
              "      <th>Acessórios</th>\n",
              "      <th>Valor</th>\n",
              "    </tr>\n",
              "    <tr>\n",
              "      <th>Nome</th>\n",
              "      <th></th>\n",
              "      <th></th>\n",
              "      <th></th>\n",
              "      <th></th>\n",
              "      <th></th>\n",
              "      <th></th>\n",
              "    </tr>\n",
              "  </thead>\n",
              "  <tbody>\n",
              "    <tr>\n",
              "      <th>Jetta Variant</th>\n",
              "      <td>Motor 4.0 Turbo</td>\n",
              "      <td>2003</td>\n",
              "      <td>44410.0</td>\n",
              "      <td>False</td>\n",
              "      <td>['Rodas de liga', 'Travas elétricas', 'Piloto ...</td>\n",
              "      <td>88078.64</td>\n",
              "    </tr>\n",
              "    <tr>\n",
              "      <th>Passat</th>\n",
              "      <td>Motor Diesel</td>\n",
              "      <td>1991</td>\n",
              "      <td>5712.0</td>\n",
              "      <td>False</td>\n",
              "      <td>['Central multimídia', 'Teto panorâmico', 'Fre...</td>\n",
              "      <td>106161.94</td>\n",
              "    </tr>\n",
              "    <tr>\n",
              "      <th>Crossfox</th>\n",
              "      <td>Motor Diesel V8</td>\n",
              "      <td>1990</td>\n",
              "      <td>37123.0</td>\n",
              "      <td>False</td>\n",
              "      <td>['Piloto automático', 'Controle de estabilidad...</td>\n",
              "      <td>72832.16</td>\n",
              "    </tr>\n",
              "    <tr>\n",
              "      <th>DS5</th>\n",
              "      <td>Motor 2.4 Turbo</td>\n",
              "      <td>2019</td>\n",
              "      <td>NaN</td>\n",
              "      <td>True</td>\n",
              "      <td>['Travas elétricas', '4 X 4', 'Vidros elétrico...</td>\n",
              "      <td>124549.07</td>\n",
              "    </tr>\n",
              "    <tr>\n",
              "      <th>Aston Martin DB4</th>\n",
              "      <td>Motor 2.4 Turbo</td>\n",
              "      <td>2006</td>\n",
              "      <td>25757.0</td>\n",
              "      <td>False</td>\n",
              "      <td>['Rodas de liga', '4 X 4', 'Central multimídia...</td>\n",
              "      <td>92612.10</td>\n",
              "    </tr>\n",
              "  </tbody>\n",
              "</table>\n",
              "</div>\n",
              "      <button class=\"colab-df-convert\" onclick=\"convertToInteractive('df-0c4385d7-cd23-41fe-b878-c396b813a6d6')\"\n",
              "              title=\"Convert this dataframe to an interactive table.\"\n",
              "              style=\"display:none;\">\n",
              "        \n",
              "  <svg xmlns=\"http://www.w3.org/2000/svg\" height=\"24px\"viewBox=\"0 0 24 24\"\n",
              "       width=\"24px\">\n",
              "    <path d=\"M0 0h24v24H0V0z\" fill=\"none\"/>\n",
              "    <path d=\"M18.56 5.44l.94 2.06.94-2.06 2.06-.94-2.06-.94-.94-2.06-.94 2.06-2.06.94zm-11 1L8.5 8.5l.94-2.06 2.06-.94-2.06-.94L8.5 2.5l-.94 2.06-2.06.94zm10 10l.94 2.06.94-2.06 2.06-.94-2.06-.94-.94-2.06-.94 2.06-2.06.94z\"/><path d=\"M17.41 7.96l-1.37-1.37c-.4-.4-.92-.59-1.43-.59-.52 0-1.04.2-1.43.59L10.3 9.45l-7.72 7.72c-.78.78-.78 2.05 0 2.83L4 21.41c.39.39.9.59 1.41.59.51 0 1.02-.2 1.41-.59l7.78-7.78 2.81-2.81c.8-.78.8-2.07 0-2.86zM5.41 20L4 18.59l7.72-7.72 1.47 1.35L5.41 20z\"/>\n",
              "  </svg>\n",
              "      </button>\n",
              "      \n",
              "  <style>\n",
              "    .colab-df-container {\n",
              "      display:flex;\n",
              "      flex-wrap:wrap;\n",
              "      gap: 12px;\n",
              "    }\n",
              "\n",
              "    .colab-df-convert {\n",
              "      background-color: #E8F0FE;\n",
              "      border: none;\n",
              "      border-radius: 50%;\n",
              "      cursor: pointer;\n",
              "      display: none;\n",
              "      fill: #1967D2;\n",
              "      height: 32px;\n",
              "      padding: 0 0 0 0;\n",
              "      width: 32px;\n",
              "    }\n",
              "\n",
              "    .colab-df-convert:hover {\n",
              "      background-color: #E2EBFA;\n",
              "      box-shadow: 0px 1px 2px rgba(60, 64, 67, 0.3), 0px 1px 3px 1px rgba(60, 64, 67, 0.15);\n",
              "      fill: #174EA6;\n",
              "    }\n",
              "\n",
              "    [theme=dark] .colab-df-convert {\n",
              "      background-color: #3B4455;\n",
              "      fill: #D2E3FC;\n",
              "    }\n",
              "\n",
              "    [theme=dark] .colab-df-convert:hover {\n",
              "      background-color: #434B5C;\n",
              "      box-shadow: 0px 1px 3px 1px rgba(0, 0, 0, 0.15);\n",
              "      filter: drop-shadow(0px 1px 2px rgba(0, 0, 0, 0.3));\n",
              "      fill: #FFFFFF;\n",
              "    }\n",
              "  </style>\n",
              "\n",
              "      <script>\n",
              "        const buttonEl =\n",
              "          document.querySelector('#df-0c4385d7-cd23-41fe-b878-c396b813a6d6 button.colab-df-convert');\n",
              "        buttonEl.style.display =\n",
              "          google.colab.kernel.accessAllowed ? 'block' : 'none';\n",
              "\n",
              "        async function convertToInteractive(key) {\n",
              "          const element = document.querySelector('#df-0c4385d7-cd23-41fe-b878-c396b813a6d6');\n",
              "          const dataTable =\n",
              "            await google.colab.kernel.invokeFunction('convertToInteractive',\n",
              "                                                     [key], {});\n",
              "          if (!dataTable) return;\n",
              "\n",
              "          const docLinkHtml = 'Like what you see? Visit the ' +\n",
              "            '<a target=\"_blank\" href=https://colab.research.google.com/notebooks/data_table.ipynb>data table notebook</a>'\n",
              "            + ' to learn more about interactive tables.';\n",
              "          element.innerHTML = '';\n",
              "          dataTable['output_type'] = 'display_data';\n",
              "          await google.colab.output.renderOutput(dataTable, element);\n",
              "          const docLink = document.createElement('div');\n",
              "          docLink.innerHTML = docLinkHtml;\n",
              "          element.appendChild(docLink);\n",
              "        }\n",
              "      </script>\n",
              "    </div>\n",
              "  </div>\n",
              "  "
            ],
            "text/plain": [
              "                            Motor  ...      Valor\n",
              "Nome                               ...           \n",
              "Jetta Variant     Motor 4.0 Turbo  ...   88078.64\n",
              "Passat               Motor Diesel  ...  106161.94\n",
              "Crossfox          Motor Diesel V8  ...   72832.16\n",
              "DS5               Motor 2.4 Turbo  ...  124549.07\n",
              "Aston Martin DB4  Motor 2.4 Turbo  ...   92612.10\n",
              "\n",
              "[5 rows x 6 columns]"
            ]
          },
          "metadata": {},
          "execution_count": 29
        }
      ]
    },
    {
      "cell_type": "code",
      "source": [
        "dataset.iloc[1:4] #aqui nao precisa de dois [[]] por que vc quer mais de uma linha"
      ],
      "metadata": {
        "colab": {
          "base_uri": "https://localhost:8080/",
          "height": 175
        },
        "id": "G5vLGCSzzYA9",
        "outputId": "33f817dc-acd4-47f9-aef0-64a9f5704de5"
      },
      "execution_count": 31,
      "outputs": [
        {
          "output_type": "execute_result",
          "data": {
            "text/html": [
              "\n",
              "  <div id=\"df-aecae0c1-62cf-45ce-9f31-0fdd63aa4c36\">\n",
              "    <div class=\"colab-df-container\">\n",
              "      <div>\n",
              "<style scoped>\n",
              "    .dataframe tbody tr th:only-of-type {\n",
              "        vertical-align: middle;\n",
              "    }\n",
              "\n",
              "    .dataframe tbody tr th {\n",
              "        vertical-align: top;\n",
              "    }\n",
              "\n",
              "    .dataframe thead th {\n",
              "        text-align: right;\n",
              "    }\n",
              "</style>\n",
              "<table border=\"1\" class=\"dataframe\">\n",
              "  <thead>\n",
              "    <tr style=\"text-align: right;\">\n",
              "      <th></th>\n",
              "      <th>Motor</th>\n",
              "      <th>Ano</th>\n",
              "      <th>Quilometragem</th>\n",
              "      <th>Zero_km</th>\n",
              "      <th>Acessórios</th>\n",
              "      <th>Valor</th>\n",
              "    </tr>\n",
              "    <tr>\n",
              "      <th>Nome</th>\n",
              "      <th></th>\n",
              "      <th></th>\n",
              "      <th></th>\n",
              "      <th></th>\n",
              "      <th></th>\n",
              "      <th></th>\n",
              "    </tr>\n",
              "  </thead>\n",
              "  <tbody>\n",
              "    <tr>\n",
              "      <th>Passat</th>\n",
              "      <td>Motor Diesel</td>\n",
              "      <td>1991</td>\n",
              "      <td>5712.0</td>\n",
              "      <td>False</td>\n",
              "      <td>['Central multimídia', 'Teto panorâmico', 'Fre...</td>\n",
              "      <td>106161.94</td>\n",
              "    </tr>\n",
              "    <tr>\n",
              "      <th>Crossfox</th>\n",
              "      <td>Motor Diesel V8</td>\n",
              "      <td>1990</td>\n",
              "      <td>37123.0</td>\n",
              "      <td>False</td>\n",
              "      <td>['Piloto automático', 'Controle de estabilidad...</td>\n",
              "      <td>72832.16</td>\n",
              "    </tr>\n",
              "    <tr>\n",
              "      <th>DS5</th>\n",
              "      <td>Motor 2.4 Turbo</td>\n",
              "      <td>2019</td>\n",
              "      <td>NaN</td>\n",
              "      <td>True</td>\n",
              "      <td>['Travas elétricas', '4 X 4', 'Vidros elétrico...</td>\n",
              "      <td>124549.07</td>\n",
              "    </tr>\n",
              "  </tbody>\n",
              "</table>\n",
              "</div>\n",
              "      <button class=\"colab-df-convert\" onclick=\"convertToInteractive('df-aecae0c1-62cf-45ce-9f31-0fdd63aa4c36')\"\n",
              "              title=\"Convert this dataframe to an interactive table.\"\n",
              "              style=\"display:none;\">\n",
              "        \n",
              "  <svg xmlns=\"http://www.w3.org/2000/svg\" height=\"24px\"viewBox=\"0 0 24 24\"\n",
              "       width=\"24px\">\n",
              "    <path d=\"M0 0h24v24H0V0z\" fill=\"none\"/>\n",
              "    <path d=\"M18.56 5.44l.94 2.06.94-2.06 2.06-.94-2.06-.94-.94-2.06-.94 2.06-2.06.94zm-11 1L8.5 8.5l.94-2.06 2.06-.94-2.06-.94L8.5 2.5l-.94 2.06-2.06.94zm10 10l.94 2.06.94-2.06 2.06-.94-2.06-.94-.94-2.06-.94 2.06-2.06.94z\"/><path d=\"M17.41 7.96l-1.37-1.37c-.4-.4-.92-.59-1.43-.59-.52 0-1.04.2-1.43.59L10.3 9.45l-7.72 7.72c-.78.78-.78 2.05 0 2.83L4 21.41c.39.39.9.59 1.41.59.51 0 1.02-.2 1.41-.59l7.78-7.78 2.81-2.81c.8-.78.8-2.07 0-2.86zM5.41 20L4 18.59l7.72-7.72 1.47 1.35L5.41 20z\"/>\n",
              "  </svg>\n",
              "      </button>\n",
              "      \n",
              "  <style>\n",
              "    .colab-df-container {\n",
              "      display:flex;\n",
              "      flex-wrap:wrap;\n",
              "      gap: 12px;\n",
              "    }\n",
              "\n",
              "    .colab-df-convert {\n",
              "      background-color: #E8F0FE;\n",
              "      border: none;\n",
              "      border-radius: 50%;\n",
              "      cursor: pointer;\n",
              "      display: none;\n",
              "      fill: #1967D2;\n",
              "      height: 32px;\n",
              "      padding: 0 0 0 0;\n",
              "      width: 32px;\n",
              "    }\n",
              "\n",
              "    .colab-df-convert:hover {\n",
              "      background-color: #E2EBFA;\n",
              "      box-shadow: 0px 1px 2px rgba(60, 64, 67, 0.3), 0px 1px 3px 1px rgba(60, 64, 67, 0.15);\n",
              "      fill: #174EA6;\n",
              "    }\n",
              "\n",
              "    [theme=dark] .colab-df-convert {\n",
              "      background-color: #3B4455;\n",
              "      fill: #D2E3FC;\n",
              "    }\n",
              "\n",
              "    [theme=dark] .colab-df-convert:hover {\n",
              "      background-color: #434B5C;\n",
              "      box-shadow: 0px 1px 3px 1px rgba(0, 0, 0, 0.15);\n",
              "      filter: drop-shadow(0px 1px 2px rgba(0, 0, 0, 0.3));\n",
              "      fill: #FFFFFF;\n",
              "    }\n",
              "  </style>\n",
              "\n",
              "      <script>\n",
              "        const buttonEl =\n",
              "          document.querySelector('#df-aecae0c1-62cf-45ce-9f31-0fdd63aa4c36 button.colab-df-convert');\n",
              "        buttonEl.style.display =\n",
              "          google.colab.kernel.accessAllowed ? 'block' : 'none';\n",
              "\n",
              "        async function convertToInteractive(key) {\n",
              "          const element = document.querySelector('#df-aecae0c1-62cf-45ce-9f31-0fdd63aa4c36');\n",
              "          const dataTable =\n",
              "            await google.colab.kernel.invokeFunction('convertToInteractive',\n",
              "                                                     [key], {});\n",
              "          if (!dataTable) return;\n",
              "\n",
              "          const docLinkHtml = 'Like what you see? Visit the ' +\n",
              "            '<a target=\"_blank\" href=https://colab.research.google.com/notebooks/data_table.ipynb>data table notebook</a>'\n",
              "            + ' to learn more about interactive tables.';\n",
              "          element.innerHTML = '';\n",
              "          dataTable['output_type'] = 'display_data';\n",
              "          await google.colab.output.renderOutput(dataTable, element);\n",
              "          const docLink = document.createElement('div');\n",
              "          docLink.innerHTML = docLinkHtml;\n",
              "          element.appendChild(docLink);\n",
              "        }\n",
              "      </script>\n",
              "    </div>\n",
              "  </div>\n",
              "  "
            ],
            "text/plain": [
              "                    Motor  ...      Valor\n",
              "Nome                       ...           \n",
              "Passat       Motor Diesel  ...  106161.94\n",
              "Crossfox  Motor Diesel V8  ...   72832.16\n",
              "DS5       Motor 2.4 Turbo  ...  124549.07\n",
              "\n",
              "[3 rows x 6 columns]"
            ]
          },
          "metadata": {},
          "execution_count": 31
        }
      ]
    },
    {
      "cell_type": "code",
      "metadata": {
        "id": "GxdqIz4LD1BV",
        "colab": {
          "base_uri": "https://localhost:8080/",
          "height": 175
        },
        "outputId": "d4b436ee-7c88-4825-f5d3-c94feb7cb262"
      },
      "source": [
        "dataset.iloc[1:4, [0, 5, 2]]"
      ],
      "execution_count": 32,
      "outputs": [
        {
          "output_type": "execute_result",
          "data": {
            "text/html": [
              "\n",
              "  <div id=\"df-483a96e4-d140-44d9-bbcd-dec8d6192b51\">\n",
              "    <div class=\"colab-df-container\">\n",
              "      <div>\n",
              "<style scoped>\n",
              "    .dataframe tbody tr th:only-of-type {\n",
              "        vertical-align: middle;\n",
              "    }\n",
              "\n",
              "    .dataframe tbody tr th {\n",
              "        vertical-align: top;\n",
              "    }\n",
              "\n",
              "    .dataframe thead th {\n",
              "        text-align: right;\n",
              "    }\n",
              "</style>\n",
              "<table border=\"1\" class=\"dataframe\">\n",
              "  <thead>\n",
              "    <tr style=\"text-align: right;\">\n",
              "      <th></th>\n",
              "      <th>Motor</th>\n",
              "      <th>Valor</th>\n",
              "      <th>Quilometragem</th>\n",
              "    </tr>\n",
              "    <tr>\n",
              "      <th>Nome</th>\n",
              "      <th></th>\n",
              "      <th></th>\n",
              "      <th></th>\n",
              "    </tr>\n",
              "  </thead>\n",
              "  <tbody>\n",
              "    <tr>\n",
              "      <th>Passat</th>\n",
              "      <td>Motor Diesel</td>\n",
              "      <td>106161.94</td>\n",
              "      <td>5712.0</td>\n",
              "    </tr>\n",
              "    <tr>\n",
              "      <th>Crossfox</th>\n",
              "      <td>Motor Diesel V8</td>\n",
              "      <td>72832.16</td>\n",
              "      <td>37123.0</td>\n",
              "    </tr>\n",
              "    <tr>\n",
              "      <th>DS5</th>\n",
              "      <td>Motor 2.4 Turbo</td>\n",
              "      <td>124549.07</td>\n",
              "      <td>NaN</td>\n",
              "    </tr>\n",
              "  </tbody>\n",
              "</table>\n",
              "</div>\n",
              "      <button class=\"colab-df-convert\" onclick=\"convertToInteractive('df-483a96e4-d140-44d9-bbcd-dec8d6192b51')\"\n",
              "              title=\"Convert this dataframe to an interactive table.\"\n",
              "              style=\"display:none;\">\n",
              "        \n",
              "  <svg xmlns=\"http://www.w3.org/2000/svg\" height=\"24px\"viewBox=\"0 0 24 24\"\n",
              "       width=\"24px\">\n",
              "    <path d=\"M0 0h24v24H0V0z\" fill=\"none\"/>\n",
              "    <path d=\"M18.56 5.44l.94 2.06.94-2.06 2.06-.94-2.06-.94-.94-2.06-.94 2.06-2.06.94zm-11 1L8.5 8.5l.94-2.06 2.06-.94-2.06-.94L8.5 2.5l-.94 2.06-2.06.94zm10 10l.94 2.06.94-2.06 2.06-.94-2.06-.94-.94-2.06-.94 2.06-2.06.94z\"/><path d=\"M17.41 7.96l-1.37-1.37c-.4-.4-.92-.59-1.43-.59-.52 0-1.04.2-1.43.59L10.3 9.45l-7.72 7.72c-.78.78-.78 2.05 0 2.83L4 21.41c.39.39.9.59 1.41.59.51 0 1.02-.2 1.41-.59l7.78-7.78 2.81-2.81c.8-.78.8-2.07 0-2.86zM5.41 20L4 18.59l7.72-7.72 1.47 1.35L5.41 20z\"/>\n",
              "  </svg>\n",
              "      </button>\n",
              "      \n",
              "  <style>\n",
              "    .colab-df-container {\n",
              "      display:flex;\n",
              "      flex-wrap:wrap;\n",
              "      gap: 12px;\n",
              "    }\n",
              "\n",
              "    .colab-df-convert {\n",
              "      background-color: #E8F0FE;\n",
              "      border: none;\n",
              "      border-radius: 50%;\n",
              "      cursor: pointer;\n",
              "      display: none;\n",
              "      fill: #1967D2;\n",
              "      height: 32px;\n",
              "      padding: 0 0 0 0;\n",
              "      width: 32px;\n",
              "    }\n",
              "\n",
              "    .colab-df-convert:hover {\n",
              "      background-color: #E2EBFA;\n",
              "      box-shadow: 0px 1px 2px rgba(60, 64, 67, 0.3), 0px 1px 3px 1px rgba(60, 64, 67, 0.15);\n",
              "      fill: #174EA6;\n",
              "    }\n",
              "\n",
              "    [theme=dark] .colab-df-convert {\n",
              "      background-color: #3B4455;\n",
              "      fill: #D2E3FC;\n",
              "    }\n",
              "\n",
              "    [theme=dark] .colab-df-convert:hover {\n",
              "      background-color: #434B5C;\n",
              "      box-shadow: 0px 1px 3px 1px rgba(0, 0, 0, 0.15);\n",
              "      filter: drop-shadow(0px 1px 2px rgba(0, 0, 0, 0.3));\n",
              "      fill: #FFFFFF;\n",
              "    }\n",
              "  </style>\n",
              "\n",
              "      <script>\n",
              "        const buttonEl =\n",
              "          document.querySelector('#df-483a96e4-d140-44d9-bbcd-dec8d6192b51 button.colab-df-convert');\n",
              "        buttonEl.style.display =\n",
              "          google.colab.kernel.accessAllowed ? 'block' : 'none';\n",
              "\n",
              "        async function convertToInteractive(key) {\n",
              "          const element = document.querySelector('#df-483a96e4-d140-44d9-bbcd-dec8d6192b51');\n",
              "          const dataTable =\n",
              "            await google.colab.kernel.invokeFunction('convertToInteractive',\n",
              "                                                     [key], {});\n",
              "          if (!dataTable) return;\n",
              "\n",
              "          const docLinkHtml = 'Like what you see? Visit the ' +\n",
              "            '<a target=\"_blank\" href=https://colab.research.google.com/notebooks/data_table.ipynb>data table notebook</a>'\n",
              "            + ' to learn more about interactive tables.';\n",
              "          element.innerHTML = '';\n",
              "          dataTable['output_type'] = 'display_data';\n",
              "          await google.colab.output.renderOutput(dataTable, element);\n",
              "          const docLink = document.createElement('div');\n",
              "          docLink.innerHTML = docLinkHtml;\n",
              "          element.appendChild(docLink);\n",
              "        }\n",
              "      </script>\n",
              "    </div>\n",
              "  </div>\n",
              "  "
            ],
            "text/plain": [
              "                    Motor      Valor  Quilometragem\n",
              "Nome                                               \n",
              "Passat       Motor Diesel  106161.94         5712.0\n",
              "Crossfox  Motor Diesel V8   72832.16        37123.0\n",
              "DS5       Motor 2.4 Turbo  124549.07            NaN"
            ]
          },
          "metadata": {},
          "execution_count": 32
        }
      ]
    },
    {
      "cell_type": "code",
      "source": [
        ""
      ],
      "metadata": {
        "id": "gpqlIiAg6s-1"
      },
      "execution_count": null,
      "outputs": []
    },
    {
      "cell_type": "code",
      "metadata": {
        "scrolled": true,
        "id": "AVIhs7uLD1BW",
        "colab": {
          "base_uri": "https://localhost:8080/",
          "height": 175
        },
        "outputId": "650d3301-7846-434a-e883-ce52094e8d5c"
      },
      "source": [
        "dataset.iloc[[1, 42, 22], [0, 5, 2]]"
      ],
      "execution_count": 34,
      "outputs": [
        {
          "output_type": "execute_result",
          "data": {
            "text/html": [
              "\n",
              "  <div id=\"df-49766f32-2614-4653-a4ad-18fb264c3d0b\">\n",
              "    <div class=\"colab-df-container\">\n",
              "      <div>\n",
              "<style scoped>\n",
              "    .dataframe tbody tr th:only-of-type {\n",
              "        vertical-align: middle;\n",
              "    }\n",
              "\n",
              "    .dataframe tbody tr th {\n",
              "        vertical-align: top;\n",
              "    }\n",
              "\n",
              "    .dataframe thead th {\n",
              "        text-align: right;\n",
              "    }\n",
              "</style>\n",
              "<table border=\"1\" class=\"dataframe\">\n",
              "  <thead>\n",
              "    <tr style=\"text-align: right;\">\n",
              "      <th></th>\n",
              "      <th>Motor</th>\n",
              "      <th>Valor</th>\n",
              "      <th>Quilometragem</th>\n",
              "    </tr>\n",
              "    <tr>\n",
              "      <th>Nome</th>\n",
              "      <th></th>\n",
              "      <th></th>\n",
              "      <th></th>\n",
              "    </tr>\n",
              "  </thead>\n",
              "  <tbody>\n",
              "    <tr>\n",
              "      <th>Passat</th>\n",
              "      <td>Motor Diesel</td>\n",
              "      <td>106161.94</td>\n",
              "      <td>5712.0</td>\n",
              "    </tr>\n",
              "    <tr>\n",
              "      <th>Optima</th>\n",
              "      <td>Motor 1.8 16v</td>\n",
              "      <td>86641.34</td>\n",
              "      <td>NaN</td>\n",
              "    </tr>\n",
              "    <tr>\n",
              "      <th>Lamborghini Obvious</th>\n",
              "      <td>Motor Diesel V6</td>\n",
              "      <td>133529.84</td>\n",
              "      <td>98079.0</td>\n",
              "    </tr>\n",
              "  </tbody>\n",
              "</table>\n",
              "</div>\n",
              "      <button class=\"colab-df-convert\" onclick=\"convertToInteractive('df-49766f32-2614-4653-a4ad-18fb264c3d0b')\"\n",
              "              title=\"Convert this dataframe to an interactive table.\"\n",
              "              style=\"display:none;\">\n",
              "        \n",
              "  <svg xmlns=\"http://www.w3.org/2000/svg\" height=\"24px\"viewBox=\"0 0 24 24\"\n",
              "       width=\"24px\">\n",
              "    <path d=\"M0 0h24v24H0V0z\" fill=\"none\"/>\n",
              "    <path d=\"M18.56 5.44l.94 2.06.94-2.06 2.06-.94-2.06-.94-.94-2.06-.94 2.06-2.06.94zm-11 1L8.5 8.5l.94-2.06 2.06-.94-2.06-.94L8.5 2.5l-.94 2.06-2.06.94zm10 10l.94 2.06.94-2.06 2.06-.94-2.06-.94-.94-2.06-.94 2.06-2.06.94z\"/><path d=\"M17.41 7.96l-1.37-1.37c-.4-.4-.92-.59-1.43-.59-.52 0-1.04.2-1.43.59L10.3 9.45l-7.72 7.72c-.78.78-.78 2.05 0 2.83L4 21.41c.39.39.9.59 1.41.59.51 0 1.02-.2 1.41-.59l7.78-7.78 2.81-2.81c.8-.78.8-2.07 0-2.86zM5.41 20L4 18.59l7.72-7.72 1.47 1.35L5.41 20z\"/>\n",
              "  </svg>\n",
              "      </button>\n",
              "      \n",
              "  <style>\n",
              "    .colab-df-container {\n",
              "      display:flex;\n",
              "      flex-wrap:wrap;\n",
              "      gap: 12px;\n",
              "    }\n",
              "\n",
              "    .colab-df-convert {\n",
              "      background-color: #E8F0FE;\n",
              "      border: none;\n",
              "      border-radius: 50%;\n",
              "      cursor: pointer;\n",
              "      display: none;\n",
              "      fill: #1967D2;\n",
              "      height: 32px;\n",
              "      padding: 0 0 0 0;\n",
              "      width: 32px;\n",
              "    }\n",
              "\n",
              "    .colab-df-convert:hover {\n",
              "      background-color: #E2EBFA;\n",
              "      box-shadow: 0px 1px 2px rgba(60, 64, 67, 0.3), 0px 1px 3px 1px rgba(60, 64, 67, 0.15);\n",
              "      fill: #174EA6;\n",
              "    }\n",
              "\n",
              "    [theme=dark] .colab-df-convert {\n",
              "      background-color: #3B4455;\n",
              "      fill: #D2E3FC;\n",
              "    }\n",
              "\n",
              "    [theme=dark] .colab-df-convert:hover {\n",
              "      background-color: #434B5C;\n",
              "      box-shadow: 0px 1px 3px 1px rgba(0, 0, 0, 0.15);\n",
              "      filter: drop-shadow(0px 1px 2px rgba(0, 0, 0, 0.3));\n",
              "      fill: #FFFFFF;\n",
              "    }\n",
              "  </style>\n",
              "\n",
              "      <script>\n",
              "        const buttonEl =\n",
              "          document.querySelector('#df-49766f32-2614-4653-a4ad-18fb264c3d0b button.colab-df-convert');\n",
              "        buttonEl.style.display =\n",
              "          google.colab.kernel.accessAllowed ? 'block' : 'none';\n",
              "\n",
              "        async function convertToInteractive(key) {\n",
              "          const element = document.querySelector('#df-49766f32-2614-4653-a4ad-18fb264c3d0b');\n",
              "          const dataTable =\n",
              "            await google.colab.kernel.invokeFunction('convertToInteractive',\n",
              "                                                     [key], {});\n",
              "          if (!dataTable) return;\n",
              "\n",
              "          const docLinkHtml = 'Like what you see? Visit the ' +\n",
              "            '<a target=\"_blank\" href=https://colab.research.google.com/notebooks/data_table.ipynb>data table notebook</a>'\n",
              "            + ' to learn more about interactive tables.';\n",
              "          element.innerHTML = '';\n",
              "          dataTable['output_type'] = 'display_data';\n",
              "          await google.colab.output.renderOutput(dataTable, element);\n",
              "          const docLink = document.createElement('div');\n",
              "          docLink.innerHTML = docLinkHtml;\n",
              "          element.appendChild(docLink);\n",
              "        }\n",
              "      </script>\n",
              "    </div>\n",
              "  </div>\n",
              "  "
            ],
            "text/plain": [
              "                               Motor      Valor  Quilometragem\n",
              "Nome                                                          \n",
              "Passat                  Motor Diesel  106161.94         5712.0\n",
              "Optima                 Motor 1.8 16v   86641.34            NaN\n",
              "Lamborghini Obvious  Motor Diesel V6  133529.84        98079.0"
            ]
          },
          "metadata": {},
          "execution_count": 34
        }
      ]
    },
    {
      "cell_type": "code",
      "source": [
        "dataset.iloc[[1, 35, 257], :]"
      ],
      "metadata": {
        "colab": {
          "base_uri": "https://localhost:8080/",
          "height": 219
        },
        "id": "3j9NOf4G6xVe",
        "outputId": "b05cb3e7-c142-4d86-9933-fa77695ca789"
      },
      "execution_count": 35,
      "outputs": [
        {
          "output_type": "execute_result",
          "data": {
            "text/html": [
              "\n",
              "  <div id=\"df-bf4e5ad1-9d74-4040-81cb-f2d02382519f\">\n",
              "    <div class=\"colab-df-container\">\n",
              "      <div>\n",
              "<style scoped>\n",
              "    .dataframe tbody tr th:only-of-type {\n",
              "        vertical-align: middle;\n",
              "    }\n",
              "\n",
              "    .dataframe tbody tr th {\n",
              "        vertical-align: top;\n",
              "    }\n",
              "\n",
              "    .dataframe thead th {\n",
              "        text-align: right;\n",
              "    }\n",
              "</style>\n",
              "<table border=\"1\" class=\"dataframe\">\n",
              "  <thead>\n",
              "    <tr style=\"text-align: right;\">\n",
              "      <th></th>\n",
              "      <th>Motor</th>\n",
              "      <th>Ano</th>\n",
              "      <th>Quilometragem</th>\n",
              "      <th>Zero_km</th>\n",
              "      <th>Acessórios</th>\n",
              "      <th>Valor</th>\n",
              "    </tr>\n",
              "    <tr>\n",
              "      <th>Nome</th>\n",
              "      <th></th>\n",
              "      <th></th>\n",
              "      <th></th>\n",
              "      <th></th>\n",
              "      <th></th>\n",
              "      <th></th>\n",
              "    </tr>\n",
              "  </thead>\n",
              "  <tbody>\n",
              "    <tr>\n",
              "      <th>Passat</th>\n",
              "      <td>Motor Diesel</td>\n",
              "      <td>1991</td>\n",
              "      <td>5712.0</td>\n",
              "      <td>False</td>\n",
              "      <td>['Central multimídia', 'Teto panorâmico', 'Fre...</td>\n",
              "      <td>106161.94</td>\n",
              "    </tr>\n",
              "    <tr>\n",
              "      <th>Aston Martin DBS</th>\n",
              "      <td>Motor V8</td>\n",
              "      <td>1995</td>\n",
              "      <td>43975.0</td>\n",
              "      <td>False</td>\n",
              "      <td>['Teto panorâmico', 'Piloto automático', 'Ar c...</td>\n",
              "      <td>118909.52</td>\n",
              "    </tr>\n",
              "    <tr>\n",
              "      <th>Macan</th>\n",
              "      <td>Motor Diesel V6</td>\n",
              "      <td>1992</td>\n",
              "      <td>50188.0</td>\n",
              "      <td>False</td>\n",
              "      <td>['Central multimídia', 'Teto panorâmico', 'Vid...</td>\n",
              "      <td>90381.47</td>\n",
              "    </tr>\n",
              "  </tbody>\n",
              "</table>\n",
              "</div>\n",
              "      <button class=\"colab-df-convert\" onclick=\"convertToInteractive('df-bf4e5ad1-9d74-4040-81cb-f2d02382519f')\"\n",
              "              title=\"Convert this dataframe to an interactive table.\"\n",
              "              style=\"display:none;\">\n",
              "        \n",
              "  <svg xmlns=\"http://www.w3.org/2000/svg\" height=\"24px\"viewBox=\"0 0 24 24\"\n",
              "       width=\"24px\">\n",
              "    <path d=\"M0 0h24v24H0V0z\" fill=\"none\"/>\n",
              "    <path d=\"M18.56 5.44l.94 2.06.94-2.06 2.06-.94-2.06-.94-.94-2.06-.94 2.06-2.06.94zm-11 1L8.5 8.5l.94-2.06 2.06-.94-2.06-.94L8.5 2.5l-.94 2.06-2.06.94zm10 10l.94 2.06.94-2.06 2.06-.94-2.06-.94-.94-2.06-.94 2.06-2.06.94z\"/><path d=\"M17.41 7.96l-1.37-1.37c-.4-.4-.92-.59-1.43-.59-.52 0-1.04.2-1.43.59L10.3 9.45l-7.72 7.72c-.78.78-.78 2.05 0 2.83L4 21.41c.39.39.9.59 1.41.59.51 0 1.02-.2 1.41-.59l7.78-7.78 2.81-2.81c.8-.78.8-2.07 0-2.86zM5.41 20L4 18.59l7.72-7.72 1.47 1.35L5.41 20z\"/>\n",
              "  </svg>\n",
              "      </button>\n",
              "      \n",
              "  <style>\n",
              "    .colab-df-container {\n",
              "      display:flex;\n",
              "      flex-wrap:wrap;\n",
              "      gap: 12px;\n",
              "    }\n",
              "\n",
              "    .colab-df-convert {\n",
              "      background-color: #E8F0FE;\n",
              "      border: none;\n",
              "      border-radius: 50%;\n",
              "      cursor: pointer;\n",
              "      display: none;\n",
              "      fill: #1967D2;\n",
              "      height: 32px;\n",
              "      padding: 0 0 0 0;\n",
              "      width: 32px;\n",
              "    }\n",
              "\n",
              "    .colab-df-convert:hover {\n",
              "      background-color: #E2EBFA;\n",
              "      box-shadow: 0px 1px 2px rgba(60, 64, 67, 0.3), 0px 1px 3px 1px rgba(60, 64, 67, 0.15);\n",
              "      fill: #174EA6;\n",
              "    }\n",
              "\n",
              "    [theme=dark] .colab-df-convert {\n",
              "      background-color: #3B4455;\n",
              "      fill: #D2E3FC;\n",
              "    }\n",
              "\n",
              "    [theme=dark] .colab-df-convert:hover {\n",
              "      background-color: #434B5C;\n",
              "      box-shadow: 0px 1px 3px 1px rgba(0, 0, 0, 0.15);\n",
              "      filter: drop-shadow(0px 1px 2px rgba(0, 0, 0, 0.3));\n",
              "      fill: #FFFFFF;\n",
              "    }\n",
              "  </style>\n",
              "\n",
              "      <script>\n",
              "        const buttonEl =\n",
              "          document.querySelector('#df-bf4e5ad1-9d74-4040-81cb-f2d02382519f button.colab-df-convert');\n",
              "        buttonEl.style.display =\n",
              "          google.colab.kernel.accessAllowed ? 'block' : 'none';\n",
              "\n",
              "        async function convertToInteractive(key) {\n",
              "          const element = document.querySelector('#df-bf4e5ad1-9d74-4040-81cb-f2d02382519f');\n",
              "          const dataTable =\n",
              "            await google.colab.kernel.invokeFunction('convertToInteractive',\n",
              "                                                     [key], {});\n",
              "          if (!dataTable) return;\n",
              "\n",
              "          const docLinkHtml = 'Like what you see? Visit the ' +\n",
              "            '<a target=\"_blank\" href=https://colab.research.google.com/notebooks/data_table.ipynb>data table notebook</a>'\n",
              "            + ' to learn more about interactive tables.';\n",
              "          element.innerHTML = '';\n",
              "          dataTable['output_type'] = 'display_data';\n",
              "          await google.colab.output.renderOutput(dataTable, element);\n",
              "          const docLink = document.createElement('div');\n",
              "          docLink.innerHTML = docLinkHtml;\n",
              "          element.appendChild(docLink);\n",
              "        }\n",
              "      </script>\n",
              "    </div>\n",
              "  </div>\n",
              "  "
            ],
            "text/plain": [
              "                            Motor  ...      Valor\n",
              "Nome                               ...           \n",
              "Passat               Motor Diesel  ...  106161.94\n",
              "Aston Martin DBS         Motor V8  ...  118909.52\n",
              "Macan             Motor Diesel V6  ...   90381.47\n",
              "\n",
              "[3 rows x 6 columns]"
            ]
          },
          "metadata": {},
          "execution_count": 35
        }
      ]
    },
    {
      "cell_type": "code",
      "source": [
        "import pandas as pd\n",
        "\n",
        "dados = {\n",
        "    'Nome': ['Jetta', 'Passat', 'Crossfox', 'DS5', 'Fusca'], \n",
        "    'Motor': ['Motor 4.0 Turbo', 'Motor Diesel', 'Motor Diesel V8', 'Motor 2.0', 'Motor 1.6'],\n",
        "    'Ano': [2019, 2003, 1991, 2019, 1990],\n",
        "    'Quilometragem': [0.0, 5712.0, 37123.0, 0.0, 120000.0],\n",
        "    'Zero_km': [True, False, False, True, False],\n",
        "    'Valor': [88000.0, 106000.0, 72000.0, 89000.0, 32000.0]\n",
        "}\n",
        "\n",
        "dataset = pd.DataFrame(dados)"
      ],
      "metadata": {
        "id": "s_RgM8H98Pkm"
      },
      "execution_count": 36,
      "outputs": []
    },
    {
      "cell_type": "code",
      "source": [
        "dataset.head()"
      ],
      "metadata": {
        "colab": {
          "base_uri": "https://localhost:8080/",
          "height": 206
        },
        "id": "Gk-pzM-z8Skg",
        "outputId": "e311acf1-a200-49f1-cf6b-2cccd09eeb04"
      },
      "execution_count": 37,
      "outputs": [
        {
          "output_type": "execute_result",
          "data": {
            "text/html": [
              "\n",
              "  <div id=\"df-2e292e67-f387-49c5-b7ff-a9db043b5c95\">\n",
              "    <div class=\"colab-df-container\">\n",
              "      <div>\n",
              "<style scoped>\n",
              "    .dataframe tbody tr th:only-of-type {\n",
              "        vertical-align: middle;\n",
              "    }\n",
              "\n",
              "    .dataframe tbody tr th {\n",
              "        vertical-align: top;\n",
              "    }\n",
              "\n",
              "    .dataframe thead th {\n",
              "        text-align: right;\n",
              "    }\n",
              "</style>\n",
              "<table border=\"1\" class=\"dataframe\">\n",
              "  <thead>\n",
              "    <tr style=\"text-align: right;\">\n",
              "      <th></th>\n",
              "      <th>Nome</th>\n",
              "      <th>Motor</th>\n",
              "      <th>Ano</th>\n",
              "      <th>Quilometragem</th>\n",
              "      <th>Zero_km</th>\n",
              "      <th>Valor</th>\n",
              "    </tr>\n",
              "  </thead>\n",
              "  <tbody>\n",
              "    <tr>\n",
              "      <th>0</th>\n",
              "      <td>Jetta</td>\n",
              "      <td>Motor 4.0 Turbo</td>\n",
              "      <td>2019</td>\n",
              "      <td>0.0</td>\n",
              "      <td>True</td>\n",
              "      <td>88000.0</td>\n",
              "    </tr>\n",
              "    <tr>\n",
              "      <th>1</th>\n",
              "      <td>Passat</td>\n",
              "      <td>Motor Diesel</td>\n",
              "      <td>2003</td>\n",
              "      <td>5712.0</td>\n",
              "      <td>False</td>\n",
              "      <td>106000.0</td>\n",
              "    </tr>\n",
              "    <tr>\n",
              "      <th>2</th>\n",
              "      <td>Crossfox</td>\n",
              "      <td>Motor Diesel V8</td>\n",
              "      <td>1991</td>\n",
              "      <td>37123.0</td>\n",
              "      <td>False</td>\n",
              "      <td>72000.0</td>\n",
              "    </tr>\n",
              "    <tr>\n",
              "      <th>3</th>\n",
              "      <td>DS5</td>\n",
              "      <td>Motor 2.0</td>\n",
              "      <td>2019</td>\n",
              "      <td>0.0</td>\n",
              "      <td>True</td>\n",
              "      <td>89000.0</td>\n",
              "    </tr>\n",
              "    <tr>\n",
              "      <th>4</th>\n",
              "      <td>Fusca</td>\n",
              "      <td>Motor 1.6</td>\n",
              "      <td>1990</td>\n",
              "      <td>120000.0</td>\n",
              "      <td>False</td>\n",
              "      <td>32000.0</td>\n",
              "    </tr>\n",
              "  </tbody>\n",
              "</table>\n",
              "</div>\n",
              "      <button class=\"colab-df-convert\" onclick=\"convertToInteractive('df-2e292e67-f387-49c5-b7ff-a9db043b5c95')\"\n",
              "              title=\"Convert this dataframe to an interactive table.\"\n",
              "              style=\"display:none;\">\n",
              "        \n",
              "  <svg xmlns=\"http://www.w3.org/2000/svg\" height=\"24px\"viewBox=\"0 0 24 24\"\n",
              "       width=\"24px\">\n",
              "    <path d=\"M0 0h24v24H0V0z\" fill=\"none\"/>\n",
              "    <path d=\"M18.56 5.44l.94 2.06.94-2.06 2.06-.94-2.06-.94-.94-2.06-.94 2.06-2.06.94zm-11 1L8.5 8.5l.94-2.06 2.06-.94-2.06-.94L8.5 2.5l-.94 2.06-2.06.94zm10 10l.94 2.06.94-2.06 2.06-.94-2.06-.94-.94-2.06-.94 2.06-2.06.94z\"/><path d=\"M17.41 7.96l-1.37-1.37c-.4-.4-.92-.59-1.43-.59-.52 0-1.04.2-1.43.59L10.3 9.45l-7.72 7.72c-.78.78-.78 2.05 0 2.83L4 21.41c.39.39.9.59 1.41.59.51 0 1.02-.2 1.41-.59l7.78-7.78 2.81-2.81c.8-.78.8-2.07 0-2.86zM5.41 20L4 18.59l7.72-7.72 1.47 1.35L5.41 20z\"/>\n",
              "  </svg>\n",
              "      </button>\n",
              "      \n",
              "  <style>\n",
              "    .colab-df-container {\n",
              "      display:flex;\n",
              "      flex-wrap:wrap;\n",
              "      gap: 12px;\n",
              "    }\n",
              "\n",
              "    .colab-df-convert {\n",
              "      background-color: #E8F0FE;\n",
              "      border: none;\n",
              "      border-radius: 50%;\n",
              "      cursor: pointer;\n",
              "      display: none;\n",
              "      fill: #1967D2;\n",
              "      height: 32px;\n",
              "      padding: 0 0 0 0;\n",
              "      width: 32px;\n",
              "    }\n",
              "\n",
              "    .colab-df-convert:hover {\n",
              "      background-color: #E2EBFA;\n",
              "      box-shadow: 0px 1px 2px rgba(60, 64, 67, 0.3), 0px 1px 3px 1px rgba(60, 64, 67, 0.15);\n",
              "      fill: #174EA6;\n",
              "    }\n",
              "\n",
              "    [theme=dark] .colab-df-convert {\n",
              "      background-color: #3B4455;\n",
              "      fill: #D2E3FC;\n",
              "    }\n",
              "\n",
              "    [theme=dark] .colab-df-convert:hover {\n",
              "      background-color: #434B5C;\n",
              "      box-shadow: 0px 1px 3px 1px rgba(0, 0, 0, 0.15);\n",
              "      filter: drop-shadow(0px 1px 2px rgba(0, 0, 0, 0.3));\n",
              "      fill: #FFFFFF;\n",
              "    }\n",
              "  </style>\n",
              "\n",
              "      <script>\n",
              "        const buttonEl =\n",
              "          document.querySelector('#df-2e292e67-f387-49c5-b7ff-a9db043b5c95 button.colab-df-convert');\n",
              "        buttonEl.style.display =\n",
              "          google.colab.kernel.accessAllowed ? 'block' : 'none';\n",
              "\n",
              "        async function convertToInteractive(key) {\n",
              "          const element = document.querySelector('#df-2e292e67-f387-49c5-b7ff-a9db043b5c95');\n",
              "          const dataTable =\n",
              "            await google.colab.kernel.invokeFunction('convertToInteractive',\n",
              "                                                     [key], {});\n",
              "          if (!dataTable) return;\n",
              "\n",
              "          const docLinkHtml = 'Like what you see? Visit the ' +\n",
              "            '<a target=\"_blank\" href=https://colab.research.google.com/notebooks/data_table.ipynb>data table notebook</a>'\n",
              "            + ' to learn more about interactive tables.';\n",
              "          element.innerHTML = '';\n",
              "          dataTable['output_type'] = 'display_data';\n",
              "          await google.colab.output.renderOutput(dataTable, element);\n",
              "          const docLink = document.createElement('div');\n",
              "          docLink.innerHTML = docLinkHtml;\n",
              "          element.appendChild(docLink);\n",
              "        }\n",
              "      </script>\n",
              "    </div>\n",
              "  </div>\n",
              "  "
            ],
            "text/plain": [
              "       Nome            Motor   Ano  Quilometragem  Zero_km     Valor\n",
              "0     Jetta  Motor 4.0 Turbo  2019            0.0     True   88000.0\n",
              "1    Passat     Motor Diesel  2003         5712.0    False  106000.0\n",
              "2  Crossfox  Motor Diesel V8  1991        37123.0    False   72000.0\n",
              "3       DS5        Motor 2.0  2019            0.0     True   89000.0\n",
              "4     Fusca        Motor 1.6  1990       120000.0    False   32000.0"
            ]
          },
          "metadata": {},
          "execution_count": 37
        }
      ]
    },
    {
      "cell_type": "code",
      "source": [
        "#seleciona somente as informações de Nome, Ano, Quilometragem e Valor dos carros Passat e Crossfox.\n",
        "dataset.iloc[[1, 2], [0, 2, 3, 5]]"
      ],
      "metadata": {
        "colab": {
          "base_uri": "https://localhost:8080/",
          "height": 112
        },
        "id": "7jAcb7Py8a7B",
        "outputId": "cd2efa2b-f91d-453c-fc74-c5267bd8cefa"
      },
      "execution_count": 41,
      "outputs": [
        {
          "output_type": "execute_result",
          "data": {
            "text/html": [
              "\n",
              "  <div id=\"df-f4ac23ad-4d95-425b-b973-55ca3a4d8af9\">\n",
              "    <div class=\"colab-df-container\">\n",
              "      <div>\n",
              "<style scoped>\n",
              "    .dataframe tbody tr th:only-of-type {\n",
              "        vertical-align: middle;\n",
              "    }\n",
              "\n",
              "    .dataframe tbody tr th {\n",
              "        vertical-align: top;\n",
              "    }\n",
              "\n",
              "    .dataframe thead th {\n",
              "        text-align: right;\n",
              "    }\n",
              "</style>\n",
              "<table border=\"1\" class=\"dataframe\">\n",
              "  <thead>\n",
              "    <tr style=\"text-align: right;\">\n",
              "      <th></th>\n",
              "      <th>Nome</th>\n",
              "      <th>Ano</th>\n",
              "      <th>Quilometragem</th>\n",
              "      <th>Valor</th>\n",
              "    </tr>\n",
              "  </thead>\n",
              "  <tbody>\n",
              "    <tr>\n",
              "      <th>1</th>\n",
              "      <td>Passat</td>\n",
              "      <td>2003</td>\n",
              "      <td>5712.0</td>\n",
              "      <td>106000.0</td>\n",
              "    </tr>\n",
              "    <tr>\n",
              "      <th>2</th>\n",
              "      <td>Crossfox</td>\n",
              "      <td>1991</td>\n",
              "      <td>37123.0</td>\n",
              "      <td>72000.0</td>\n",
              "    </tr>\n",
              "  </tbody>\n",
              "</table>\n",
              "</div>\n",
              "      <button class=\"colab-df-convert\" onclick=\"convertToInteractive('df-f4ac23ad-4d95-425b-b973-55ca3a4d8af9')\"\n",
              "              title=\"Convert this dataframe to an interactive table.\"\n",
              "              style=\"display:none;\">\n",
              "        \n",
              "  <svg xmlns=\"http://www.w3.org/2000/svg\" height=\"24px\"viewBox=\"0 0 24 24\"\n",
              "       width=\"24px\">\n",
              "    <path d=\"M0 0h24v24H0V0z\" fill=\"none\"/>\n",
              "    <path d=\"M18.56 5.44l.94 2.06.94-2.06 2.06-.94-2.06-.94-.94-2.06-.94 2.06-2.06.94zm-11 1L8.5 8.5l.94-2.06 2.06-.94-2.06-.94L8.5 2.5l-.94 2.06-2.06.94zm10 10l.94 2.06.94-2.06 2.06-.94-2.06-.94-.94-2.06-.94 2.06-2.06.94z\"/><path d=\"M17.41 7.96l-1.37-1.37c-.4-.4-.92-.59-1.43-.59-.52 0-1.04.2-1.43.59L10.3 9.45l-7.72 7.72c-.78.78-.78 2.05 0 2.83L4 21.41c.39.39.9.59 1.41.59.51 0 1.02-.2 1.41-.59l7.78-7.78 2.81-2.81c.8-.78.8-2.07 0-2.86zM5.41 20L4 18.59l7.72-7.72 1.47 1.35L5.41 20z\"/>\n",
              "  </svg>\n",
              "      </button>\n",
              "      \n",
              "  <style>\n",
              "    .colab-df-container {\n",
              "      display:flex;\n",
              "      flex-wrap:wrap;\n",
              "      gap: 12px;\n",
              "    }\n",
              "\n",
              "    .colab-df-convert {\n",
              "      background-color: #E8F0FE;\n",
              "      border: none;\n",
              "      border-radius: 50%;\n",
              "      cursor: pointer;\n",
              "      display: none;\n",
              "      fill: #1967D2;\n",
              "      height: 32px;\n",
              "      padding: 0 0 0 0;\n",
              "      width: 32px;\n",
              "    }\n",
              "\n",
              "    .colab-df-convert:hover {\n",
              "      background-color: #E2EBFA;\n",
              "      box-shadow: 0px 1px 2px rgba(60, 64, 67, 0.3), 0px 1px 3px 1px rgba(60, 64, 67, 0.15);\n",
              "      fill: #174EA6;\n",
              "    }\n",
              "\n",
              "    [theme=dark] .colab-df-convert {\n",
              "      background-color: #3B4455;\n",
              "      fill: #D2E3FC;\n",
              "    }\n",
              "\n",
              "    [theme=dark] .colab-df-convert:hover {\n",
              "      background-color: #434B5C;\n",
              "      box-shadow: 0px 1px 3px 1px rgba(0, 0, 0, 0.15);\n",
              "      filter: drop-shadow(0px 1px 2px rgba(0, 0, 0, 0.3));\n",
              "      fill: #FFFFFF;\n",
              "    }\n",
              "  </style>\n",
              "\n",
              "      <script>\n",
              "        const buttonEl =\n",
              "          document.querySelector('#df-f4ac23ad-4d95-425b-b973-55ca3a4d8af9 button.colab-df-convert');\n",
              "        buttonEl.style.display =\n",
              "          google.colab.kernel.accessAllowed ? 'block' : 'none';\n",
              "\n",
              "        async function convertToInteractive(key) {\n",
              "          const element = document.querySelector('#df-f4ac23ad-4d95-425b-b973-55ca3a4d8af9');\n",
              "          const dataTable =\n",
              "            await google.colab.kernel.invokeFunction('convertToInteractive',\n",
              "                                                     [key], {});\n",
              "          if (!dataTable) return;\n",
              "\n",
              "          const docLinkHtml = 'Like what you see? Visit the ' +\n",
              "            '<a target=\"_blank\" href=https://colab.research.google.com/notebooks/data_table.ipynb>data table notebook</a>'\n",
              "            + ' to learn more about interactive tables.';\n",
              "          element.innerHTML = '';\n",
              "          dataTable['output_type'] = 'display_data';\n",
              "          await google.colab.output.renderOutput(dataTable, element);\n",
              "          const docLink = document.createElement('div');\n",
              "          docLink.innerHTML = docLinkHtml;\n",
              "          element.appendChild(docLink);\n",
              "        }\n",
              "      </script>\n",
              "    </div>\n",
              "  </div>\n",
              "  "
            ],
            "text/plain": [
              "       Nome   Ano  Quilometragem     Valor\n",
              "1    Passat  2003         5712.0  106000.0\n",
              "2  Crossfox  1991        37123.0   72000.0"
            ]
          },
          "metadata": {},
          "execution_count": 41
        }
      ]
    },
    {
      "cell_type": "code",
      "source": [
        "dataset[['Nome', 'Ano', 'Quilometragem', 'Valor']][1:3] # duas formas de fazer a mesma selecao"
      ],
      "metadata": {
        "colab": {
          "base_uri": "https://localhost:8080/",
          "height": 112
        },
        "id": "qjWnbFLd_6Sv",
        "outputId": "adbc6c8f-9227-4da1-fd40-799a916ddbe6"
      },
      "execution_count": 45,
      "outputs": [
        {
          "output_type": "execute_result",
          "data": {
            "text/html": [
              "\n",
              "  <div id=\"df-ebc7521d-b266-4970-9f60-6a48b54f6dbd\">\n",
              "    <div class=\"colab-df-container\">\n",
              "      <div>\n",
              "<style scoped>\n",
              "    .dataframe tbody tr th:only-of-type {\n",
              "        vertical-align: middle;\n",
              "    }\n",
              "\n",
              "    .dataframe tbody tr th {\n",
              "        vertical-align: top;\n",
              "    }\n",
              "\n",
              "    .dataframe thead th {\n",
              "        text-align: right;\n",
              "    }\n",
              "</style>\n",
              "<table border=\"1\" class=\"dataframe\">\n",
              "  <thead>\n",
              "    <tr style=\"text-align: right;\">\n",
              "      <th></th>\n",
              "      <th>Nome</th>\n",
              "      <th>Ano</th>\n",
              "      <th>Quilometragem</th>\n",
              "      <th>Valor</th>\n",
              "    </tr>\n",
              "  </thead>\n",
              "  <tbody>\n",
              "    <tr>\n",
              "      <th>1</th>\n",
              "      <td>Passat</td>\n",
              "      <td>2003</td>\n",
              "      <td>5712.0</td>\n",
              "      <td>106000.0</td>\n",
              "    </tr>\n",
              "    <tr>\n",
              "      <th>2</th>\n",
              "      <td>Crossfox</td>\n",
              "      <td>1991</td>\n",
              "      <td>37123.0</td>\n",
              "      <td>72000.0</td>\n",
              "    </tr>\n",
              "  </tbody>\n",
              "</table>\n",
              "</div>\n",
              "      <button class=\"colab-df-convert\" onclick=\"convertToInteractive('df-ebc7521d-b266-4970-9f60-6a48b54f6dbd')\"\n",
              "              title=\"Convert this dataframe to an interactive table.\"\n",
              "              style=\"display:none;\">\n",
              "        \n",
              "  <svg xmlns=\"http://www.w3.org/2000/svg\" height=\"24px\"viewBox=\"0 0 24 24\"\n",
              "       width=\"24px\">\n",
              "    <path d=\"M0 0h24v24H0V0z\" fill=\"none\"/>\n",
              "    <path d=\"M18.56 5.44l.94 2.06.94-2.06 2.06-.94-2.06-.94-.94-2.06-.94 2.06-2.06.94zm-11 1L8.5 8.5l.94-2.06 2.06-.94-2.06-.94L8.5 2.5l-.94 2.06-2.06.94zm10 10l.94 2.06.94-2.06 2.06-.94-2.06-.94-.94-2.06-.94 2.06-2.06.94z\"/><path d=\"M17.41 7.96l-1.37-1.37c-.4-.4-.92-.59-1.43-.59-.52 0-1.04.2-1.43.59L10.3 9.45l-7.72 7.72c-.78.78-.78 2.05 0 2.83L4 21.41c.39.39.9.59 1.41.59.51 0 1.02-.2 1.41-.59l7.78-7.78 2.81-2.81c.8-.78.8-2.07 0-2.86zM5.41 20L4 18.59l7.72-7.72 1.47 1.35L5.41 20z\"/>\n",
              "  </svg>\n",
              "      </button>\n",
              "      \n",
              "  <style>\n",
              "    .colab-df-container {\n",
              "      display:flex;\n",
              "      flex-wrap:wrap;\n",
              "      gap: 12px;\n",
              "    }\n",
              "\n",
              "    .colab-df-convert {\n",
              "      background-color: #E8F0FE;\n",
              "      border: none;\n",
              "      border-radius: 50%;\n",
              "      cursor: pointer;\n",
              "      display: none;\n",
              "      fill: #1967D2;\n",
              "      height: 32px;\n",
              "      padding: 0 0 0 0;\n",
              "      width: 32px;\n",
              "    }\n",
              "\n",
              "    .colab-df-convert:hover {\n",
              "      background-color: #E2EBFA;\n",
              "      box-shadow: 0px 1px 2px rgba(60, 64, 67, 0.3), 0px 1px 3px 1px rgba(60, 64, 67, 0.15);\n",
              "      fill: #174EA6;\n",
              "    }\n",
              "\n",
              "    [theme=dark] .colab-df-convert {\n",
              "      background-color: #3B4455;\n",
              "      fill: #D2E3FC;\n",
              "    }\n",
              "\n",
              "    [theme=dark] .colab-df-convert:hover {\n",
              "      background-color: #434B5C;\n",
              "      box-shadow: 0px 1px 3px 1px rgba(0, 0, 0, 0.15);\n",
              "      filter: drop-shadow(0px 1px 2px rgba(0, 0, 0, 0.3));\n",
              "      fill: #FFFFFF;\n",
              "    }\n",
              "  </style>\n",
              "\n",
              "      <script>\n",
              "        const buttonEl =\n",
              "          document.querySelector('#df-ebc7521d-b266-4970-9f60-6a48b54f6dbd button.colab-df-convert');\n",
              "        buttonEl.style.display =\n",
              "          google.colab.kernel.accessAllowed ? 'block' : 'none';\n",
              "\n",
              "        async function convertToInteractive(key) {\n",
              "          const element = document.querySelector('#df-ebc7521d-b266-4970-9f60-6a48b54f6dbd');\n",
              "          const dataTable =\n",
              "            await google.colab.kernel.invokeFunction('convertToInteractive',\n",
              "                                                     [key], {});\n",
              "          if (!dataTable) return;\n",
              "\n",
              "          const docLinkHtml = 'Like what you see? Visit the ' +\n",
              "            '<a target=\"_blank\" href=https://colab.research.google.com/notebooks/data_table.ipynb>data table notebook</a>'\n",
              "            + ' to learn more about interactive tables.';\n",
              "          element.innerHTML = '';\n",
              "          dataTable['output_type'] = 'display_data';\n",
              "          await google.colab.output.renderOutput(dataTable, element);\n",
              "          const docLink = document.createElement('div');\n",
              "          docLink.innerHTML = docLinkHtml;\n",
              "          element.appendChild(docLink);\n",
              "        }\n",
              "      </script>\n",
              "    </div>\n",
              "  </div>\n",
              "  "
            ],
            "text/plain": [
              "       Nome   Ano  Quilometragem     Valor\n",
              "1    Passat  2003         5712.0  106000.0\n",
              "2  Crossfox  1991        37123.0   72000.0"
            ]
          },
          "metadata": {},
          "execution_count": 45
        }
      ]
    },
    {
      "cell_type": "code",
      "source": [
        "import pandas as pd\n",
        "\n",
        "dados = {\n",
        "    'Motor': ['Motor 4.0 Turbo', 'Motor Diesel', 'Motor Diesel V8', 'Motor 2.0', 'Motor 1.6'],\n",
        "    'Ano': [2019, 2003, 1991, 2019, 1990],\n",
        "    'Quilometragem': [0.0, 5712.0, 37123.0, 0.0, 120000.0],\n",
        "    'Zero_km': [True, False, False, True, False],\n",
        "    'Valor': [88000.0, 106000.0, 72000.0, 89000.0, 32000.0]\n",
        "}\n",
        "\n",
        "dataset = pd.DataFrame(dados, index = ['Jetta', 'Passat', 'Crossfox', 'DS5', 'Fusca'])"
      ],
      "metadata": {
        "id": "w8joIR0bA7_6"
      },
      "execution_count": 46,
      "outputs": []
    },
    {
      "cell_type": "code",
      "source": [
        "dataset.head()"
      ],
      "metadata": {
        "colab": {
          "base_uri": "https://localhost:8080/",
          "height": 206
        },
        "id": "P9LeW0bDBBX8",
        "outputId": "c3d2cc6b-7388-414a-eccc-9e1ea2fb4b21"
      },
      "execution_count": 47,
      "outputs": [
        {
          "output_type": "execute_result",
          "data": {
            "text/html": [
              "\n",
              "  <div id=\"df-eacb2a0e-fe63-4f26-a9df-7ece530c2e3e\">\n",
              "    <div class=\"colab-df-container\">\n",
              "      <div>\n",
              "<style scoped>\n",
              "    .dataframe tbody tr th:only-of-type {\n",
              "        vertical-align: middle;\n",
              "    }\n",
              "\n",
              "    .dataframe tbody tr th {\n",
              "        vertical-align: top;\n",
              "    }\n",
              "\n",
              "    .dataframe thead th {\n",
              "        text-align: right;\n",
              "    }\n",
              "</style>\n",
              "<table border=\"1\" class=\"dataframe\">\n",
              "  <thead>\n",
              "    <tr style=\"text-align: right;\">\n",
              "      <th></th>\n",
              "      <th>Motor</th>\n",
              "      <th>Ano</th>\n",
              "      <th>Quilometragem</th>\n",
              "      <th>Zero_km</th>\n",
              "      <th>Valor</th>\n",
              "    </tr>\n",
              "  </thead>\n",
              "  <tbody>\n",
              "    <tr>\n",
              "      <th>Jetta</th>\n",
              "      <td>Motor 4.0 Turbo</td>\n",
              "      <td>2019</td>\n",
              "      <td>0.0</td>\n",
              "      <td>True</td>\n",
              "      <td>88000.0</td>\n",
              "    </tr>\n",
              "    <tr>\n",
              "      <th>Passat</th>\n",
              "      <td>Motor Diesel</td>\n",
              "      <td>2003</td>\n",
              "      <td>5712.0</td>\n",
              "      <td>False</td>\n",
              "      <td>106000.0</td>\n",
              "    </tr>\n",
              "    <tr>\n",
              "      <th>Crossfox</th>\n",
              "      <td>Motor Diesel V8</td>\n",
              "      <td>1991</td>\n",
              "      <td>37123.0</td>\n",
              "      <td>False</td>\n",
              "      <td>72000.0</td>\n",
              "    </tr>\n",
              "    <tr>\n",
              "      <th>DS5</th>\n",
              "      <td>Motor 2.0</td>\n",
              "      <td>2019</td>\n",
              "      <td>0.0</td>\n",
              "      <td>True</td>\n",
              "      <td>89000.0</td>\n",
              "    </tr>\n",
              "    <tr>\n",
              "      <th>Fusca</th>\n",
              "      <td>Motor 1.6</td>\n",
              "      <td>1990</td>\n",
              "      <td>120000.0</td>\n",
              "      <td>False</td>\n",
              "      <td>32000.0</td>\n",
              "    </tr>\n",
              "  </tbody>\n",
              "</table>\n",
              "</div>\n",
              "      <button class=\"colab-df-convert\" onclick=\"convertToInteractive('df-eacb2a0e-fe63-4f26-a9df-7ece530c2e3e')\"\n",
              "              title=\"Convert this dataframe to an interactive table.\"\n",
              "              style=\"display:none;\">\n",
              "        \n",
              "  <svg xmlns=\"http://www.w3.org/2000/svg\" height=\"24px\"viewBox=\"0 0 24 24\"\n",
              "       width=\"24px\">\n",
              "    <path d=\"M0 0h24v24H0V0z\" fill=\"none\"/>\n",
              "    <path d=\"M18.56 5.44l.94 2.06.94-2.06 2.06-.94-2.06-.94-.94-2.06-.94 2.06-2.06.94zm-11 1L8.5 8.5l.94-2.06 2.06-.94-2.06-.94L8.5 2.5l-.94 2.06-2.06.94zm10 10l.94 2.06.94-2.06 2.06-.94-2.06-.94-.94-2.06-.94 2.06-2.06.94z\"/><path d=\"M17.41 7.96l-1.37-1.37c-.4-.4-.92-.59-1.43-.59-.52 0-1.04.2-1.43.59L10.3 9.45l-7.72 7.72c-.78.78-.78 2.05 0 2.83L4 21.41c.39.39.9.59 1.41.59.51 0 1.02-.2 1.41-.59l7.78-7.78 2.81-2.81c.8-.78.8-2.07 0-2.86zM5.41 20L4 18.59l7.72-7.72 1.47 1.35L5.41 20z\"/>\n",
              "  </svg>\n",
              "      </button>\n",
              "      \n",
              "  <style>\n",
              "    .colab-df-container {\n",
              "      display:flex;\n",
              "      flex-wrap:wrap;\n",
              "      gap: 12px;\n",
              "    }\n",
              "\n",
              "    .colab-df-convert {\n",
              "      background-color: #E8F0FE;\n",
              "      border: none;\n",
              "      border-radius: 50%;\n",
              "      cursor: pointer;\n",
              "      display: none;\n",
              "      fill: #1967D2;\n",
              "      height: 32px;\n",
              "      padding: 0 0 0 0;\n",
              "      width: 32px;\n",
              "    }\n",
              "\n",
              "    .colab-df-convert:hover {\n",
              "      background-color: #E2EBFA;\n",
              "      box-shadow: 0px 1px 2px rgba(60, 64, 67, 0.3), 0px 1px 3px 1px rgba(60, 64, 67, 0.15);\n",
              "      fill: #174EA6;\n",
              "    }\n",
              "\n",
              "    [theme=dark] .colab-df-convert {\n",
              "      background-color: #3B4455;\n",
              "      fill: #D2E3FC;\n",
              "    }\n",
              "\n",
              "    [theme=dark] .colab-df-convert:hover {\n",
              "      background-color: #434B5C;\n",
              "      box-shadow: 0px 1px 3px 1px rgba(0, 0, 0, 0.15);\n",
              "      filter: drop-shadow(0px 1px 2px rgba(0, 0, 0, 0.3));\n",
              "      fill: #FFFFFF;\n",
              "    }\n",
              "  </style>\n",
              "\n",
              "      <script>\n",
              "        const buttonEl =\n",
              "          document.querySelector('#df-eacb2a0e-fe63-4f26-a9df-7ece530c2e3e button.colab-df-convert');\n",
              "        buttonEl.style.display =\n",
              "          google.colab.kernel.accessAllowed ? 'block' : 'none';\n",
              "\n",
              "        async function convertToInteractive(key) {\n",
              "          const element = document.querySelector('#df-eacb2a0e-fe63-4f26-a9df-7ece530c2e3e');\n",
              "          const dataTable =\n",
              "            await google.colab.kernel.invokeFunction('convertToInteractive',\n",
              "                                                     [key], {});\n",
              "          if (!dataTable) return;\n",
              "\n",
              "          const docLinkHtml = 'Like what you see? Visit the ' +\n",
              "            '<a target=\"_blank\" href=https://colab.research.google.com/notebooks/data_table.ipynb>data table notebook</a>'\n",
              "            + ' to learn more about interactive tables.';\n",
              "          element.innerHTML = '';\n",
              "          dataTable['output_type'] = 'display_data';\n",
              "          await google.colab.output.renderOutput(dataTable, element);\n",
              "          const docLink = document.createElement('div');\n",
              "          docLink.innerHTML = docLinkHtml;\n",
              "          element.appendChild(docLink);\n",
              "        }\n",
              "      </script>\n",
              "    </div>\n",
              "  </div>\n",
              "  "
            ],
            "text/plain": [
              "                    Motor   Ano  Quilometragem  Zero_km     Valor\n",
              "Jetta     Motor 4.0 Turbo  2019            0.0     True   88000.0\n",
              "Passat       Motor Diesel  2003         5712.0    False  106000.0\n",
              "Crossfox  Motor Diesel V8  1991        37123.0    False   72000.0\n",
              "DS5             Motor 2.0  2019            0.0     True   89000.0\n",
              "Fusca           Motor 1.6  1990       120000.0    False   32000.0"
            ]
          },
          "metadata": {},
          "execution_count": 47
        }
      ]
    },
    {
      "cell_type": "code",
      "source": [
        "dataset.iloc[[1, 3], [0,-1]] "
      ],
      "metadata": {
        "colab": {
          "base_uri": "https://localhost:8080/",
          "height": 112
        },
        "id": "jd1U-fvbBHtb",
        "outputId": "cf1f410d-72ec-4ba3-fa25-6dfef5662c7c"
      },
      "execution_count": 48,
      "outputs": [
        {
          "output_type": "execute_result",
          "data": {
            "text/html": [
              "\n",
              "  <div id=\"df-5f398417-c2eb-487d-ae73-2e278795d28a\">\n",
              "    <div class=\"colab-df-container\">\n",
              "      <div>\n",
              "<style scoped>\n",
              "    .dataframe tbody tr th:only-of-type {\n",
              "        vertical-align: middle;\n",
              "    }\n",
              "\n",
              "    .dataframe tbody tr th {\n",
              "        vertical-align: top;\n",
              "    }\n",
              "\n",
              "    .dataframe thead th {\n",
              "        text-align: right;\n",
              "    }\n",
              "</style>\n",
              "<table border=\"1\" class=\"dataframe\">\n",
              "  <thead>\n",
              "    <tr style=\"text-align: right;\">\n",
              "      <th></th>\n",
              "      <th>Motor</th>\n",
              "      <th>Valor</th>\n",
              "    </tr>\n",
              "  </thead>\n",
              "  <tbody>\n",
              "    <tr>\n",
              "      <th>Passat</th>\n",
              "      <td>Motor Diesel</td>\n",
              "      <td>106000.0</td>\n",
              "    </tr>\n",
              "    <tr>\n",
              "      <th>DS5</th>\n",
              "      <td>Motor 2.0</td>\n",
              "      <td>89000.0</td>\n",
              "    </tr>\n",
              "  </tbody>\n",
              "</table>\n",
              "</div>\n",
              "      <button class=\"colab-df-convert\" onclick=\"convertToInteractive('df-5f398417-c2eb-487d-ae73-2e278795d28a')\"\n",
              "              title=\"Convert this dataframe to an interactive table.\"\n",
              "              style=\"display:none;\">\n",
              "        \n",
              "  <svg xmlns=\"http://www.w3.org/2000/svg\" height=\"24px\"viewBox=\"0 0 24 24\"\n",
              "       width=\"24px\">\n",
              "    <path d=\"M0 0h24v24H0V0z\" fill=\"none\"/>\n",
              "    <path d=\"M18.56 5.44l.94 2.06.94-2.06 2.06-.94-2.06-.94-.94-2.06-.94 2.06-2.06.94zm-11 1L8.5 8.5l.94-2.06 2.06-.94-2.06-.94L8.5 2.5l-.94 2.06-2.06.94zm10 10l.94 2.06.94-2.06 2.06-.94-2.06-.94-.94-2.06-.94 2.06-2.06.94z\"/><path d=\"M17.41 7.96l-1.37-1.37c-.4-.4-.92-.59-1.43-.59-.52 0-1.04.2-1.43.59L10.3 9.45l-7.72 7.72c-.78.78-.78 2.05 0 2.83L4 21.41c.39.39.9.59 1.41.59.51 0 1.02-.2 1.41-.59l7.78-7.78 2.81-2.81c.8-.78.8-2.07 0-2.86zM5.41 20L4 18.59l7.72-7.72 1.47 1.35L5.41 20z\"/>\n",
              "  </svg>\n",
              "      </button>\n",
              "      \n",
              "  <style>\n",
              "    .colab-df-container {\n",
              "      display:flex;\n",
              "      flex-wrap:wrap;\n",
              "      gap: 12px;\n",
              "    }\n",
              "\n",
              "    .colab-df-convert {\n",
              "      background-color: #E8F0FE;\n",
              "      border: none;\n",
              "      border-radius: 50%;\n",
              "      cursor: pointer;\n",
              "      display: none;\n",
              "      fill: #1967D2;\n",
              "      height: 32px;\n",
              "      padding: 0 0 0 0;\n",
              "      width: 32px;\n",
              "    }\n",
              "\n",
              "    .colab-df-convert:hover {\n",
              "      background-color: #E2EBFA;\n",
              "      box-shadow: 0px 1px 2px rgba(60, 64, 67, 0.3), 0px 1px 3px 1px rgba(60, 64, 67, 0.15);\n",
              "      fill: #174EA6;\n",
              "    }\n",
              "\n",
              "    [theme=dark] .colab-df-convert {\n",
              "      background-color: #3B4455;\n",
              "      fill: #D2E3FC;\n",
              "    }\n",
              "\n",
              "    [theme=dark] .colab-df-convert:hover {\n",
              "      background-color: #434B5C;\n",
              "      box-shadow: 0px 1px 3px 1px rgba(0, 0, 0, 0.15);\n",
              "      filter: drop-shadow(0px 1px 2px rgba(0, 0, 0, 0.3));\n",
              "      fill: #FFFFFF;\n",
              "    }\n",
              "  </style>\n",
              "\n",
              "      <script>\n",
              "        const buttonEl =\n",
              "          document.querySelector('#df-5f398417-c2eb-487d-ae73-2e278795d28a button.colab-df-convert');\n",
              "        buttonEl.style.display =\n",
              "          google.colab.kernel.accessAllowed ? 'block' : 'none';\n",
              "\n",
              "        async function convertToInteractive(key) {\n",
              "          const element = document.querySelector('#df-5f398417-c2eb-487d-ae73-2e278795d28a');\n",
              "          const dataTable =\n",
              "            await google.colab.kernel.invokeFunction('convertToInteractive',\n",
              "                                                     [key], {});\n",
              "          if (!dataTable) return;\n",
              "\n",
              "          const docLinkHtml = 'Like what you see? Visit the ' +\n",
              "            '<a target=\"_blank\" href=https://colab.research.google.com/notebooks/data_table.ipynb>data table notebook</a>'\n",
              "            + ' to learn more about interactive tables.';\n",
              "          element.innerHTML = '';\n",
              "          dataTable['output_type'] = 'display_data';\n",
              "          await google.colab.output.renderOutput(dataTable, element);\n",
              "          const docLink = document.createElement('div');\n",
              "          docLink.innerHTML = docLinkHtml;\n",
              "          element.appendChild(docLink);\n",
              "        }\n",
              "      </script>\n",
              "    </div>\n",
              "  </div>\n",
              "  "
            ],
            "text/plain": [
              "               Motor     Valor\n",
              "Passat  Motor Diesel  106000.0\n",
              "DS5        Motor 2.0   89000.0"
            ]
          },
          "metadata": {},
          "execution_count": 48
        }
      ]
    },
    {
      "cell_type": "code",
      "source": [
        "dataset.loc[['Passat', 'DS5'], ['Motor', 'Valor']]"
      ],
      "metadata": {
        "colab": {
          "base_uri": "https://localhost:8080/",
          "height": 112
        },
        "id": "4s_EZh0sBWc1",
        "outputId": "870cfb54-8874-4a20-851c-3a3403937ed8"
      },
      "execution_count": 50,
      "outputs": [
        {
          "output_type": "execute_result",
          "data": {
            "text/html": [
              "\n",
              "  <div id=\"df-d4730de8-30b9-4219-8861-5fcaf182fc24\">\n",
              "    <div class=\"colab-df-container\">\n",
              "      <div>\n",
              "<style scoped>\n",
              "    .dataframe tbody tr th:only-of-type {\n",
              "        vertical-align: middle;\n",
              "    }\n",
              "\n",
              "    .dataframe tbody tr th {\n",
              "        vertical-align: top;\n",
              "    }\n",
              "\n",
              "    .dataframe thead th {\n",
              "        text-align: right;\n",
              "    }\n",
              "</style>\n",
              "<table border=\"1\" class=\"dataframe\">\n",
              "  <thead>\n",
              "    <tr style=\"text-align: right;\">\n",
              "      <th></th>\n",
              "      <th>Motor</th>\n",
              "      <th>Valor</th>\n",
              "    </tr>\n",
              "  </thead>\n",
              "  <tbody>\n",
              "    <tr>\n",
              "      <th>Passat</th>\n",
              "      <td>Motor Diesel</td>\n",
              "      <td>106000.0</td>\n",
              "    </tr>\n",
              "    <tr>\n",
              "      <th>DS5</th>\n",
              "      <td>Motor 2.0</td>\n",
              "      <td>89000.0</td>\n",
              "    </tr>\n",
              "  </tbody>\n",
              "</table>\n",
              "</div>\n",
              "      <button class=\"colab-df-convert\" onclick=\"convertToInteractive('df-d4730de8-30b9-4219-8861-5fcaf182fc24')\"\n",
              "              title=\"Convert this dataframe to an interactive table.\"\n",
              "              style=\"display:none;\">\n",
              "        \n",
              "  <svg xmlns=\"http://www.w3.org/2000/svg\" height=\"24px\"viewBox=\"0 0 24 24\"\n",
              "       width=\"24px\">\n",
              "    <path d=\"M0 0h24v24H0V0z\" fill=\"none\"/>\n",
              "    <path d=\"M18.56 5.44l.94 2.06.94-2.06 2.06-.94-2.06-.94-.94-2.06-.94 2.06-2.06.94zm-11 1L8.5 8.5l.94-2.06 2.06-.94-2.06-.94L8.5 2.5l-.94 2.06-2.06.94zm10 10l.94 2.06.94-2.06 2.06-.94-2.06-.94-.94-2.06-.94 2.06-2.06.94z\"/><path d=\"M17.41 7.96l-1.37-1.37c-.4-.4-.92-.59-1.43-.59-.52 0-1.04.2-1.43.59L10.3 9.45l-7.72 7.72c-.78.78-.78 2.05 0 2.83L4 21.41c.39.39.9.59 1.41.59.51 0 1.02-.2 1.41-.59l7.78-7.78 2.81-2.81c.8-.78.8-2.07 0-2.86zM5.41 20L4 18.59l7.72-7.72 1.47 1.35L5.41 20z\"/>\n",
              "  </svg>\n",
              "      </button>\n",
              "      \n",
              "  <style>\n",
              "    .colab-df-container {\n",
              "      display:flex;\n",
              "      flex-wrap:wrap;\n",
              "      gap: 12px;\n",
              "    }\n",
              "\n",
              "    .colab-df-convert {\n",
              "      background-color: #E8F0FE;\n",
              "      border: none;\n",
              "      border-radius: 50%;\n",
              "      cursor: pointer;\n",
              "      display: none;\n",
              "      fill: #1967D2;\n",
              "      height: 32px;\n",
              "      padding: 0 0 0 0;\n",
              "      width: 32px;\n",
              "    }\n",
              "\n",
              "    .colab-df-convert:hover {\n",
              "      background-color: #E2EBFA;\n",
              "      box-shadow: 0px 1px 2px rgba(60, 64, 67, 0.3), 0px 1px 3px 1px rgba(60, 64, 67, 0.15);\n",
              "      fill: #174EA6;\n",
              "    }\n",
              "\n",
              "    [theme=dark] .colab-df-convert {\n",
              "      background-color: #3B4455;\n",
              "      fill: #D2E3FC;\n",
              "    }\n",
              "\n",
              "    [theme=dark] .colab-df-convert:hover {\n",
              "      background-color: #434B5C;\n",
              "      box-shadow: 0px 1px 3px 1px rgba(0, 0, 0, 0.15);\n",
              "      filter: drop-shadow(0px 1px 2px rgba(0, 0, 0, 0.3));\n",
              "      fill: #FFFFFF;\n",
              "    }\n",
              "  </style>\n",
              "\n",
              "      <script>\n",
              "        const buttonEl =\n",
              "          document.querySelector('#df-d4730de8-30b9-4219-8861-5fcaf182fc24 button.colab-df-convert');\n",
              "        buttonEl.style.display =\n",
              "          google.colab.kernel.accessAllowed ? 'block' : 'none';\n",
              "\n",
              "        async function convertToInteractive(key) {\n",
              "          const element = document.querySelector('#df-d4730de8-30b9-4219-8861-5fcaf182fc24');\n",
              "          const dataTable =\n",
              "            await google.colab.kernel.invokeFunction('convertToInteractive',\n",
              "                                                     [key], {});\n",
              "          if (!dataTable) return;\n",
              "\n",
              "          const docLinkHtml = 'Like what you see? Visit the ' +\n",
              "            '<a target=\"_blank\" href=https://colab.research.google.com/notebooks/data_table.ipynb>data table notebook</a>'\n",
              "            + ' to learn more about interactive tables.';\n",
              "          element.innerHTML = '';\n",
              "          dataTable['output_type'] = 'display_data';\n",
              "          await google.colab.output.renderOutput(dataTable, element);\n",
              "          const docLink = document.createElement('div');\n",
              "          docLink.innerHTML = docLinkHtml;\n",
              "          element.appendChild(docLink);\n",
              "        }\n",
              "      </script>\n",
              "    </div>\n",
              "  </div>\n",
              "  "
            ],
            "text/plain": [
              "               Motor     Valor\n",
              "Passat  Motor Diesel  106000.0\n",
              "DS5        Motor 2.0   89000.0"
            ]
          },
          "metadata": {},
          "execution_count": 50
        }
      ]
    },
    {
      "cell_type": "markdown",
      "metadata": {
        "id": "eAbwq1oLD1BW"
      },
      "source": [
        "# 5.3 Queries com DataFrames"
      ]
    },
    {
      "cell_type": "code",
      "source": [
        "dataset.head()"
      ],
      "metadata": {
        "colab": {
          "base_uri": "https://localhost:8080/",
          "height": 206
        },
        "id": "eIYYp7CRDQin",
        "outputId": "a72ae4d5-e9b0-48d5-c789-58c62e96d5e4"
      },
      "execution_count": 52,
      "outputs": [
        {
          "output_type": "execute_result",
          "data": {
            "text/html": [
              "\n",
              "  <div id=\"df-3f417558-d281-4fcc-9b21-9bb225c0a589\">\n",
              "    <div class=\"colab-df-container\">\n",
              "      <div>\n",
              "<style scoped>\n",
              "    .dataframe tbody tr th:only-of-type {\n",
              "        vertical-align: middle;\n",
              "    }\n",
              "\n",
              "    .dataframe tbody tr th {\n",
              "        vertical-align: top;\n",
              "    }\n",
              "\n",
              "    .dataframe thead th {\n",
              "        text-align: right;\n",
              "    }\n",
              "</style>\n",
              "<table border=\"1\" class=\"dataframe\">\n",
              "  <thead>\n",
              "    <tr style=\"text-align: right;\">\n",
              "      <th></th>\n",
              "      <th>Motor</th>\n",
              "      <th>Ano</th>\n",
              "      <th>Quilometragem</th>\n",
              "      <th>Zero_km</th>\n",
              "      <th>Valor</th>\n",
              "    </tr>\n",
              "  </thead>\n",
              "  <tbody>\n",
              "    <tr>\n",
              "      <th>Jetta</th>\n",
              "      <td>Motor 4.0 Turbo</td>\n",
              "      <td>2019</td>\n",
              "      <td>0.0</td>\n",
              "      <td>True</td>\n",
              "      <td>88000.0</td>\n",
              "    </tr>\n",
              "    <tr>\n",
              "      <th>Passat</th>\n",
              "      <td>Motor Diesel</td>\n",
              "      <td>2003</td>\n",
              "      <td>5712.0</td>\n",
              "      <td>False</td>\n",
              "      <td>106000.0</td>\n",
              "    </tr>\n",
              "    <tr>\n",
              "      <th>Crossfox</th>\n",
              "      <td>Motor Diesel V8</td>\n",
              "      <td>1991</td>\n",
              "      <td>37123.0</td>\n",
              "      <td>False</td>\n",
              "      <td>72000.0</td>\n",
              "    </tr>\n",
              "    <tr>\n",
              "      <th>DS5</th>\n",
              "      <td>Motor 2.0</td>\n",
              "      <td>2019</td>\n",
              "      <td>0.0</td>\n",
              "      <td>True</td>\n",
              "      <td>89000.0</td>\n",
              "    </tr>\n",
              "    <tr>\n",
              "      <th>Fusca</th>\n",
              "      <td>Motor 1.6</td>\n",
              "      <td>1990</td>\n",
              "      <td>120000.0</td>\n",
              "      <td>False</td>\n",
              "      <td>32000.0</td>\n",
              "    </tr>\n",
              "  </tbody>\n",
              "</table>\n",
              "</div>\n",
              "      <button class=\"colab-df-convert\" onclick=\"convertToInteractive('df-3f417558-d281-4fcc-9b21-9bb225c0a589')\"\n",
              "              title=\"Convert this dataframe to an interactive table.\"\n",
              "              style=\"display:none;\">\n",
              "        \n",
              "  <svg xmlns=\"http://www.w3.org/2000/svg\" height=\"24px\"viewBox=\"0 0 24 24\"\n",
              "       width=\"24px\">\n",
              "    <path d=\"M0 0h24v24H0V0z\" fill=\"none\"/>\n",
              "    <path d=\"M18.56 5.44l.94 2.06.94-2.06 2.06-.94-2.06-.94-.94-2.06-.94 2.06-2.06.94zm-11 1L8.5 8.5l.94-2.06 2.06-.94-2.06-.94L8.5 2.5l-.94 2.06-2.06.94zm10 10l.94 2.06.94-2.06 2.06-.94-2.06-.94-.94-2.06-.94 2.06-2.06.94z\"/><path d=\"M17.41 7.96l-1.37-1.37c-.4-.4-.92-.59-1.43-.59-.52 0-1.04.2-1.43.59L10.3 9.45l-7.72 7.72c-.78.78-.78 2.05 0 2.83L4 21.41c.39.39.9.59 1.41.59.51 0 1.02-.2 1.41-.59l7.78-7.78 2.81-2.81c.8-.78.8-2.07 0-2.86zM5.41 20L4 18.59l7.72-7.72 1.47 1.35L5.41 20z\"/>\n",
              "  </svg>\n",
              "      </button>\n",
              "      \n",
              "  <style>\n",
              "    .colab-df-container {\n",
              "      display:flex;\n",
              "      flex-wrap:wrap;\n",
              "      gap: 12px;\n",
              "    }\n",
              "\n",
              "    .colab-df-convert {\n",
              "      background-color: #E8F0FE;\n",
              "      border: none;\n",
              "      border-radius: 50%;\n",
              "      cursor: pointer;\n",
              "      display: none;\n",
              "      fill: #1967D2;\n",
              "      height: 32px;\n",
              "      padding: 0 0 0 0;\n",
              "      width: 32px;\n",
              "    }\n",
              "\n",
              "    .colab-df-convert:hover {\n",
              "      background-color: #E2EBFA;\n",
              "      box-shadow: 0px 1px 2px rgba(60, 64, 67, 0.3), 0px 1px 3px 1px rgba(60, 64, 67, 0.15);\n",
              "      fill: #174EA6;\n",
              "    }\n",
              "\n",
              "    [theme=dark] .colab-df-convert {\n",
              "      background-color: #3B4455;\n",
              "      fill: #D2E3FC;\n",
              "    }\n",
              "\n",
              "    [theme=dark] .colab-df-convert:hover {\n",
              "      background-color: #434B5C;\n",
              "      box-shadow: 0px 1px 3px 1px rgba(0, 0, 0, 0.15);\n",
              "      filter: drop-shadow(0px 1px 2px rgba(0, 0, 0, 0.3));\n",
              "      fill: #FFFFFF;\n",
              "    }\n",
              "  </style>\n",
              "\n",
              "      <script>\n",
              "        const buttonEl =\n",
              "          document.querySelector('#df-3f417558-d281-4fcc-9b21-9bb225c0a589 button.colab-df-convert');\n",
              "        buttonEl.style.display =\n",
              "          google.colab.kernel.accessAllowed ? 'block' : 'none';\n",
              "\n",
              "        async function convertToInteractive(key) {\n",
              "          const element = document.querySelector('#df-3f417558-d281-4fcc-9b21-9bb225c0a589');\n",
              "          const dataTable =\n",
              "            await google.colab.kernel.invokeFunction('convertToInteractive',\n",
              "                                                     [key], {});\n",
              "          if (!dataTable) return;\n",
              "\n",
              "          const docLinkHtml = 'Like what you see? Visit the ' +\n",
              "            '<a target=\"_blank\" href=https://colab.research.google.com/notebooks/data_table.ipynb>data table notebook</a>'\n",
              "            + ' to learn more about interactive tables.';\n",
              "          element.innerHTML = '';\n",
              "          dataTable['output_type'] = 'display_data';\n",
              "          await google.colab.output.renderOutput(dataTable, element);\n",
              "          const docLink = document.createElement('div');\n",
              "          docLink.innerHTML = docLinkHtml;\n",
              "          element.appendChild(docLink);\n",
              "        }\n",
              "      </script>\n",
              "    </div>\n",
              "  </div>\n",
              "  "
            ],
            "text/plain": [
              "                    Motor   Ano  Quilometragem  Zero_km     Valor\n",
              "Jetta     Motor 4.0 Turbo  2019            0.0     True   88000.0\n",
              "Passat       Motor Diesel  2003         5712.0    False  106000.0\n",
              "Crossfox  Motor Diesel V8  1991        37123.0    False   72000.0\n",
              "DS5             Motor 2.0  2019            0.0     True   89000.0\n",
              "Fusca           Motor 1.6  1990       120000.0    False   32000.0"
            ]
          },
          "metadata": {},
          "execution_count": 52
        }
      ]
    },
    {
      "cell_type": "code",
      "metadata": {
        "scrolled": true,
        "id": "AOZTWzehD1BW",
        "colab": {
          "base_uri": "https://localhost:8080/"
        },
        "outputId": "0d1b2cbd-738a-4d5b-9c84-a7ed72241b29"
      },
      "source": [
        "dataset.Motor #quando naotem espaco no nome da para selecionar somente com nome"
      ],
      "execution_count": 54,
      "outputs": [
        {
          "output_type": "execute_result",
          "data": {
            "text/plain": [
              "Jetta       Motor 4.0 Turbo\n",
              "Passat         Motor Diesel\n",
              "Crossfox    Motor Diesel V8\n",
              "DS5               Motor 2.0\n",
              "Fusca             Motor 1.6\n",
              "Name: Motor, dtype: object"
            ]
          },
          "metadata": {},
          "execution_count": 54
        }
      ]
    },
    {
      "cell_type": "code",
      "metadata": {
        "scrolled": true,
        "id": "rO5T4h94D1BX"
      },
      "source": [
        "select = dataset.Motor == 'Motor Diesel'\n",
        "#isso é uma series boliana e vamos criar uma variavel chamada select depois"
      ],
      "execution_count": 56,
      "outputs": []
    },
    {
      "cell_type": "code",
      "metadata": {
        "id": "STZ-l8oaD1BX",
        "colab": {
          "base_uri": "https://localhost:8080/"
        },
        "outputId": "e4739078-3206-4e71-8ac2-b212b15d5235"
      },
      "source": [
        "type(select)"
      ],
      "execution_count": 57,
      "outputs": [
        {
          "output_type": "execute_result",
          "data": {
            "text/plain": [
              "pandas.core.series.Series"
            ]
          },
          "metadata": {},
          "execution_count": 57
        }
      ]
    },
    {
      "cell_type": "code",
      "metadata": {
        "id": "OZC8NAn6D1BX",
        "colab": {
          "base_uri": "https://localhost:8080/",
          "height": 81
        },
        "outputId": "2cfc0287-8216-44c6-e66a-482c9e24b6c0"
      },
      "source": [
        "#fazer uma query- consulta usando esta variavel\n",
        "dataset[select]"
      ],
      "execution_count": 58,
      "outputs": [
        {
          "output_type": "execute_result",
          "data": {
            "text/html": [
              "\n",
              "  <div id=\"df-73e16ac9-f318-43b6-b456-18c2bd705262\">\n",
              "    <div class=\"colab-df-container\">\n",
              "      <div>\n",
              "<style scoped>\n",
              "    .dataframe tbody tr th:only-of-type {\n",
              "        vertical-align: middle;\n",
              "    }\n",
              "\n",
              "    .dataframe tbody tr th {\n",
              "        vertical-align: top;\n",
              "    }\n",
              "\n",
              "    .dataframe thead th {\n",
              "        text-align: right;\n",
              "    }\n",
              "</style>\n",
              "<table border=\"1\" class=\"dataframe\">\n",
              "  <thead>\n",
              "    <tr style=\"text-align: right;\">\n",
              "      <th></th>\n",
              "      <th>Motor</th>\n",
              "      <th>Ano</th>\n",
              "      <th>Quilometragem</th>\n",
              "      <th>Zero_km</th>\n",
              "      <th>Valor</th>\n",
              "    </tr>\n",
              "  </thead>\n",
              "  <tbody>\n",
              "    <tr>\n",
              "      <th>Passat</th>\n",
              "      <td>Motor Diesel</td>\n",
              "      <td>2003</td>\n",
              "      <td>5712.0</td>\n",
              "      <td>False</td>\n",
              "      <td>106000.0</td>\n",
              "    </tr>\n",
              "  </tbody>\n",
              "</table>\n",
              "</div>\n",
              "      <button class=\"colab-df-convert\" onclick=\"convertToInteractive('df-73e16ac9-f318-43b6-b456-18c2bd705262')\"\n",
              "              title=\"Convert this dataframe to an interactive table.\"\n",
              "              style=\"display:none;\">\n",
              "        \n",
              "  <svg xmlns=\"http://www.w3.org/2000/svg\" height=\"24px\"viewBox=\"0 0 24 24\"\n",
              "       width=\"24px\">\n",
              "    <path d=\"M0 0h24v24H0V0z\" fill=\"none\"/>\n",
              "    <path d=\"M18.56 5.44l.94 2.06.94-2.06 2.06-.94-2.06-.94-.94-2.06-.94 2.06-2.06.94zm-11 1L8.5 8.5l.94-2.06 2.06-.94-2.06-.94L8.5 2.5l-.94 2.06-2.06.94zm10 10l.94 2.06.94-2.06 2.06-.94-2.06-.94-.94-2.06-.94 2.06-2.06.94z\"/><path d=\"M17.41 7.96l-1.37-1.37c-.4-.4-.92-.59-1.43-.59-.52 0-1.04.2-1.43.59L10.3 9.45l-7.72 7.72c-.78.78-.78 2.05 0 2.83L4 21.41c.39.39.9.59 1.41.59.51 0 1.02-.2 1.41-.59l7.78-7.78 2.81-2.81c.8-.78.8-2.07 0-2.86zM5.41 20L4 18.59l7.72-7.72 1.47 1.35L5.41 20z\"/>\n",
              "  </svg>\n",
              "      </button>\n",
              "      \n",
              "  <style>\n",
              "    .colab-df-container {\n",
              "      display:flex;\n",
              "      flex-wrap:wrap;\n",
              "      gap: 12px;\n",
              "    }\n",
              "\n",
              "    .colab-df-convert {\n",
              "      background-color: #E8F0FE;\n",
              "      border: none;\n",
              "      border-radius: 50%;\n",
              "      cursor: pointer;\n",
              "      display: none;\n",
              "      fill: #1967D2;\n",
              "      height: 32px;\n",
              "      padding: 0 0 0 0;\n",
              "      width: 32px;\n",
              "    }\n",
              "\n",
              "    .colab-df-convert:hover {\n",
              "      background-color: #E2EBFA;\n",
              "      box-shadow: 0px 1px 2px rgba(60, 64, 67, 0.3), 0px 1px 3px 1px rgba(60, 64, 67, 0.15);\n",
              "      fill: #174EA6;\n",
              "    }\n",
              "\n",
              "    [theme=dark] .colab-df-convert {\n",
              "      background-color: #3B4455;\n",
              "      fill: #D2E3FC;\n",
              "    }\n",
              "\n",
              "    [theme=dark] .colab-df-convert:hover {\n",
              "      background-color: #434B5C;\n",
              "      box-shadow: 0px 1px 3px 1px rgba(0, 0, 0, 0.15);\n",
              "      filter: drop-shadow(0px 1px 2px rgba(0, 0, 0, 0.3));\n",
              "      fill: #FFFFFF;\n",
              "    }\n",
              "  </style>\n",
              "\n",
              "      <script>\n",
              "        const buttonEl =\n",
              "          document.querySelector('#df-73e16ac9-f318-43b6-b456-18c2bd705262 button.colab-df-convert');\n",
              "        buttonEl.style.display =\n",
              "          google.colab.kernel.accessAllowed ? 'block' : 'none';\n",
              "\n",
              "        async function convertToInteractive(key) {\n",
              "          const element = document.querySelector('#df-73e16ac9-f318-43b6-b456-18c2bd705262');\n",
              "          const dataTable =\n",
              "            await google.colab.kernel.invokeFunction('convertToInteractive',\n",
              "                                                     [key], {});\n",
              "          if (!dataTable) return;\n",
              "\n",
              "          const docLinkHtml = 'Like what you see? Visit the ' +\n",
              "            '<a target=\"_blank\" href=https://colab.research.google.com/notebooks/data_table.ipynb>data table notebook</a>'\n",
              "            + ' to learn more about interactive tables.';\n",
              "          element.innerHTML = '';\n",
              "          dataTable['output_type'] = 'display_data';\n",
              "          await google.colab.output.renderOutput(dataTable, element);\n",
              "          const docLink = document.createElement('div');\n",
              "          docLink.innerHTML = docLinkHtml;\n",
              "          element.appendChild(docLink);\n",
              "        }\n",
              "      </script>\n",
              "    </div>\n",
              "  </div>\n",
              "  "
            ],
            "text/plain": [
              "               Motor   Ano  Quilometragem  Zero_km     Valor\n",
              "Passat  Motor Diesel  2003         5712.0    False  106000.0"
            ]
          },
          "metadata": {},
          "execution_count": 58
        }
      ]
    },
    {
      "cell_type": "code",
      "metadata": {
        "scrolled": true,
        "id": "OzXC2M40D1BY",
        "colab": {
          "base_uri": "https://localhost:8080/",
          "height": 81
        },
        "outputId": "755eaa34-6b9d-4f5b-c8ff-b3e50df5de0e"
      },
      "source": [
        "#motor a diesel e zero km , cada condicao com parenteses e & para unir as duas como um E\n",
        "dataset[(dataset.Motor == 'Motor Diesel') & (dataset.Zero_km == False)]"
      ],
      "execution_count": 59,
      "outputs": [
        {
          "output_type": "execute_result",
          "data": {
            "text/html": [
              "\n",
              "  <div id=\"df-b33b1ac0-88b5-40f9-a421-7975c5090326\">\n",
              "    <div class=\"colab-df-container\">\n",
              "      <div>\n",
              "<style scoped>\n",
              "    .dataframe tbody tr th:only-of-type {\n",
              "        vertical-align: middle;\n",
              "    }\n",
              "\n",
              "    .dataframe tbody tr th {\n",
              "        vertical-align: top;\n",
              "    }\n",
              "\n",
              "    .dataframe thead th {\n",
              "        text-align: right;\n",
              "    }\n",
              "</style>\n",
              "<table border=\"1\" class=\"dataframe\">\n",
              "  <thead>\n",
              "    <tr style=\"text-align: right;\">\n",
              "      <th></th>\n",
              "      <th>Motor</th>\n",
              "      <th>Ano</th>\n",
              "      <th>Quilometragem</th>\n",
              "      <th>Zero_km</th>\n",
              "      <th>Valor</th>\n",
              "    </tr>\n",
              "  </thead>\n",
              "  <tbody>\n",
              "    <tr>\n",
              "      <th>Passat</th>\n",
              "      <td>Motor Diesel</td>\n",
              "      <td>2003</td>\n",
              "      <td>5712.0</td>\n",
              "      <td>False</td>\n",
              "      <td>106000.0</td>\n",
              "    </tr>\n",
              "  </tbody>\n",
              "</table>\n",
              "</div>\n",
              "      <button class=\"colab-df-convert\" onclick=\"convertToInteractive('df-b33b1ac0-88b5-40f9-a421-7975c5090326')\"\n",
              "              title=\"Convert this dataframe to an interactive table.\"\n",
              "              style=\"display:none;\">\n",
              "        \n",
              "  <svg xmlns=\"http://www.w3.org/2000/svg\" height=\"24px\"viewBox=\"0 0 24 24\"\n",
              "       width=\"24px\">\n",
              "    <path d=\"M0 0h24v24H0V0z\" fill=\"none\"/>\n",
              "    <path d=\"M18.56 5.44l.94 2.06.94-2.06 2.06-.94-2.06-.94-.94-2.06-.94 2.06-2.06.94zm-11 1L8.5 8.5l.94-2.06 2.06-.94-2.06-.94L8.5 2.5l-.94 2.06-2.06.94zm10 10l.94 2.06.94-2.06 2.06-.94-2.06-.94-.94-2.06-.94 2.06-2.06.94z\"/><path d=\"M17.41 7.96l-1.37-1.37c-.4-.4-.92-.59-1.43-.59-.52 0-1.04.2-1.43.59L10.3 9.45l-7.72 7.72c-.78.78-.78 2.05 0 2.83L4 21.41c.39.39.9.59 1.41.59.51 0 1.02-.2 1.41-.59l7.78-7.78 2.81-2.81c.8-.78.8-2.07 0-2.86zM5.41 20L4 18.59l7.72-7.72 1.47 1.35L5.41 20z\"/>\n",
              "  </svg>\n",
              "      </button>\n",
              "      \n",
              "  <style>\n",
              "    .colab-df-container {\n",
              "      display:flex;\n",
              "      flex-wrap:wrap;\n",
              "      gap: 12px;\n",
              "    }\n",
              "\n",
              "    .colab-df-convert {\n",
              "      background-color: #E8F0FE;\n",
              "      border: none;\n",
              "      border-radius: 50%;\n",
              "      cursor: pointer;\n",
              "      display: none;\n",
              "      fill: #1967D2;\n",
              "      height: 32px;\n",
              "      padding: 0 0 0 0;\n",
              "      width: 32px;\n",
              "    }\n",
              "\n",
              "    .colab-df-convert:hover {\n",
              "      background-color: #E2EBFA;\n",
              "      box-shadow: 0px 1px 2px rgba(60, 64, 67, 0.3), 0px 1px 3px 1px rgba(60, 64, 67, 0.15);\n",
              "      fill: #174EA6;\n",
              "    }\n",
              "\n",
              "    [theme=dark] .colab-df-convert {\n",
              "      background-color: #3B4455;\n",
              "      fill: #D2E3FC;\n",
              "    }\n",
              "\n",
              "    [theme=dark] .colab-df-convert:hover {\n",
              "      background-color: #434B5C;\n",
              "      box-shadow: 0px 1px 3px 1px rgba(0, 0, 0, 0.15);\n",
              "      filter: drop-shadow(0px 1px 2px rgba(0, 0, 0, 0.3));\n",
              "      fill: #FFFFFF;\n",
              "    }\n",
              "  </style>\n",
              "\n",
              "      <script>\n",
              "        const buttonEl =\n",
              "          document.querySelector('#df-b33b1ac0-88b5-40f9-a421-7975c5090326 button.colab-df-convert');\n",
              "        buttonEl.style.display =\n",
              "          google.colab.kernel.accessAllowed ? 'block' : 'none';\n",
              "\n",
              "        async function convertToInteractive(key) {\n",
              "          const element = document.querySelector('#df-b33b1ac0-88b5-40f9-a421-7975c5090326');\n",
              "          const dataTable =\n",
              "            await google.colab.kernel.invokeFunction('convertToInteractive',\n",
              "                                                     [key], {});\n",
              "          if (!dataTable) return;\n",
              "\n",
              "          const docLinkHtml = 'Like what you see? Visit the ' +\n",
              "            '<a target=\"_blank\" href=https://colab.research.google.com/notebooks/data_table.ipynb>data table notebook</a>'\n",
              "            + ' to learn more about interactive tables.';\n",
              "          element.innerHTML = '';\n",
              "          dataTable['output_type'] = 'display_data';\n",
              "          await google.colab.output.renderOutput(dataTable, element);\n",
              "          const docLink = document.createElement('div');\n",
              "          docLink.innerHTML = docLinkHtml;\n",
              "          element.appendChild(docLink);\n",
              "        }\n",
              "      </script>\n",
              "    </div>\n",
              "  </div>\n",
              "  "
            ],
            "text/plain": [
              "               Motor   Ano  Quilometragem  Zero_km     Valor\n",
              "Passat  Motor Diesel  2003         5712.0    False  106000.0"
            ]
          },
          "metadata": {},
          "execution_count": 59
        }
      ]
    },
    {
      "cell_type": "code",
      "source": [
        "(dataset.Motor == 'Motor Diesel') & (dataset.Zero_km == False)# é tb series boliana"
      ],
      "metadata": {
        "colab": {
          "base_uri": "https://localhost:8080/"
        },
        "id": "d9nS-tcGGSYM",
        "outputId": "4687f617-f284-4c90-beb6-2b3471681c4e"
      },
      "execution_count": 60,
      "outputs": [
        {
          "output_type": "execute_result",
          "data": {
            "text/plain": [
              "Jetta       False\n",
              "Passat       True\n",
              "Crossfox    False\n",
              "DS5         False\n",
              "Fusca       False\n",
              "dtype: bool"
            ]
          },
          "metadata": {},
          "execution_count": 60
        }
      ]
    },
    {
      "cell_type": "markdown",
      "metadata": {
        "id": "_XKXcWO-D1BY"
      },
      "source": [
        "### Utilizando o método query"
      ]
    },
    {
      "cell_type": "code",
      "metadata": {
        "id": "AB9JirSoD1BY",
        "colab": {
          "base_uri": "https://localhost:8080/",
          "height": 81
        },
        "outputId": "1eda462a-3fc1-4b11-f348-f467e6513121"
      },
      "source": [
        "dataset.query('Motor == \"Motor Diesel\" and Zero_km == False')"
      ],
      "execution_count": 61,
      "outputs": [
        {
          "output_type": "execute_result",
          "data": {
            "text/html": [
              "\n",
              "  <div id=\"df-1a0aad32-cc2c-4a8a-8173-5561c4393322\">\n",
              "    <div class=\"colab-df-container\">\n",
              "      <div>\n",
              "<style scoped>\n",
              "    .dataframe tbody tr th:only-of-type {\n",
              "        vertical-align: middle;\n",
              "    }\n",
              "\n",
              "    .dataframe tbody tr th {\n",
              "        vertical-align: top;\n",
              "    }\n",
              "\n",
              "    .dataframe thead th {\n",
              "        text-align: right;\n",
              "    }\n",
              "</style>\n",
              "<table border=\"1\" class=\"dataframe\">\n",
              "  <thead>\n",
              "    <tr style=\"text-align: right;\">\n",
              "      <th></th>\n",
              "      <th>Motor</th>\n",
              "      <th>Ano</th>\n",
              "      <th>Quilometragem</th>\n",
              "      <th>Zero_km</th>\n",
              "      <th>Valor</th>\n",
              "    </tr>\n",
              "  </thead>\n",
              "  <tbody>\n",
              "    <tr>\n",
              "      <th>Passat</th>\n",
              "      <td>Motor Diesel</td>\n",
              "      <td>2003</td>\n",
              "      <td>5712.0</td>\n",
              "      <td>False</td>\n",
              "      <td>106000.0</td>\n",
              "    </tr>\n",
              "  </tbody>\n",
              "</table>\n",
              "</div>\n",
              "      <button class=\"colab-df-convert\" onclick=\"convertToInteractive('df-1a0aad32-cc2c-4a8a-8173-5561c4393322')\"\n",
              "              title=\"Convert this dataframe to an interactive table.\"\n",
              "              style=\"display:none;\">\n",
              "        \n",
              "  <svg xmlns=\"http://www.w3.org/2000/svg\" height=\"24px\"viewBox=\"0 0 24 24\"\n",
              "       width=\"24px\">\n",
              "    <path d=\"M0 0h24v24H0V0z\" fill=\"none\"/>\n",
              "    <path d=\"M18.56 5.44l.94 2.06.94-2.06 2.06-.94-2.06-.94-.94-2.06-.94 2.06-2.06.94zm-11 1L8.5 8.5l.94-2.06 2.06-.94-2.06-.94L8.5 2.5l-.94 2.06-2.06.94zm10 10l.94 2.06.94-2.06 2.06-.94-2.06-.94-.94-2.06-.94 2.06-2.06.94z\"/><path d=\"M17.41 7.96l-1.37-1.37c-.4-.4-.92-.59-1.43-.59-.52 0-1.04.2-1.43.59L10.3 9.45l-7.72 7.72c-.78.78-.78 2.05 0 2.83L4 21.41c.39.39.9.59 1.41.59.51 0 1.02-.2 1.41-.59l7.78-7.78 2.81-2.81c.8-.78.8-2.07 0-2.86zM5.41 20L4 18.59l7.72-7.72 1.47 1.35L5.41 20z\"/>\n",
              "  </svg>\n",
              "      </button>\n",
              "      \n",
              "  <style>\n",
              "    .colab-df-container {\n",
              "      display:flex;\n",
              "      flex-wrap:wrap;\n",
              "      gap: 12px;\n",
              "    }\n",
              "\n",
              "    .colab-df-convert {\n",
              "      background-color: #E8F0FE;\n",
              "      border: none;\n",
              "      border-radius: 50%;\n",
              "      cursor: pointer;\n",
              "      display: none;\n",
              "      fill: #1967D2;\n",
              "      height: 32px;\n",
              "      padding: 0 0 0 0;\n",
              "      width: 32px;\n",
              "    }\n",
              "\n",
              "    .colab-df-convert:hover {\n",
              "      background-color: #E2EBFA;\n",
              "      box-shadow: 0px 1px 2px rgba(60, 64, 67, 0.3), 0px 1px 3px 1px rgba(60, 64, 67, 0.15);\n",
              "      fill: #174EA6;\n",
              "    }\n",
              "\n",
              "    [theme=dark] .colab-df-convert {\n",
              "      background-color: #3B4455;\n",
              "      fill: #D2E3FC;\n",
              "    }\n",
              "\n",
              "    [theme=dark] .colab-df-convert:hover {\n",
              "      background-color: #434B5C;\n",
              "      box-shadow: 0px 1px 3px 1px rgba(0, 0, 0, 0.15);\n",
              "      filter: drop-shadow(0px 1px 2px rgba(0, 0, 0, 0.3));\n",
              "      fill: #FFFFFF;\n",
              "    }\n",
              "  </style>\n",
              "\n",
              "      <script>\n",
              "        const buttonEl =\n",
              "          document.querySelector('#df-1a0aad32-cc2c-4a8a-8173-5561c4393322 button.colab-df-convert');\n",
              "        buttonEl.style.display =\n",
              "          google.colab.kernel.accessAllowed ? 'block' : 'none';\n",
              "\n",
              "        async function convertToInteractive(key) {\n",
              "          const element = document.querySelector('#df-1a0aad32-cc2c-4a8a-8173-5561c4393322');\n",
              "          const dataTable =\n",
              "            await google.colab.kernel.invokeFunction('convertToInteractive',\n",
              "                                                     [key], {});\n",
              "          if (!dataTable) return;\n",
              "\n",
              "          const docLinkHtml = 'Like what you see? Visit the ' +\n",
              "            '<a target=\"_blank\" href=https://colab.research.google.com/notebooks/data_table.ipynb>data table notebook</a>'\n",
              "            + ' to learn more about interactive tables.';\n",
              "          element.innerHTML = '';\n",
              "          dataTable['output_type'] = 'display_data';\n",
              "          await google.colab.output.renderOutput(dataTable, element);\n",
              "          const docLink = document.createElement('div');\n",
              "          docLink.innerHTML = docLinkHtml;\n",
              "          element.appendChild(docLink);\n",
              "        }\n",
              "      </script>\n",
              "    </div>\n",
              "  </div>\n",
              "  "
            ],
            "text/plain": [
              "               Motor   Ano  Quilometragem  Zero_km     Valor\n",
              "Passat  Motor Diesel  2003         5712.0    False  106000.0"
            ]
          },
          "metadata": {},
          "execution_count": 61
        }
      ]
    },
    {
      "cell_type": "code",
      "source": [
        "import pandas as pd\n",
        "\n",
        "dados = {\n",
        "    'Motor': ['Motor 4.0 Turbo', 'Motor Diesel', 'Motor Diesel V8', 'Motor Diesel', 'Motor 1.6'],\n",
        "    'Ano': [2019, 2003, 1991, 2019, 1990],\n",
        "    'Quilometragem': [0.0, 5712.0, 37123.0, 0.0, 120000.0],\n",
        "    'Zero_km': [True, False, False, True, False],\n",
        "    'Valor': [88000.0, 106000.0, 72000.0, 89000.0, 32000.0]\n",
        "}\n",
        "\n",
        "dataset = pd.DataFrame(dados, index = ['Jetta', 'Passat', 'Crossfox', 'DS5', 'Fusca'])"
      ],
      "metadata": {
        "id": "wml4buIpHf35"
      },
      "execution_count": 62,
      "outputs": []
    },
    {
      "cell_type": "code",
      "source": [
        "dataset"
      ],
      "metadata": {
        "colab": {
          "base_uri": "https://localhost:8080/",
          "height": 206
        },
        "id": "Jbj3O0UaHfK6",
        "outputId": "3cae4317-d368-44b8-fb0a-f939c2040a7b"
      },
      "execution_count": 63,
      "outputs": [
        {
          "output_type": "execute_result",
          "data": {
            "text/html": [
              "\n",
              "  <div id=\"df-dc1fb182-f967-4f22-883c-06f91b25efec\">\n",
              "    <div class=\"colab-df-container\">\n",
              "      <div>\n",
              "<style scoped>\n",
              "    .dataframe tbody tr th:only-of-type {\n",
              "        vertical-align: middle;\n",
              "    }\n",
              "\n",
              "    .dataframe tbody tr th {\n",
              "        vertical-align: top;\n",
              "    }\n",
              "\n",
              "    .dataframe thead th {\n",
              "        text-align: right;\n",
              "    }\n",
              "</style>\n",
              "<table border=\"1\" class=\"dataframe\">\n",
              "  <thead>\n",
              "    <tr style=\"text-align: right;\">\n",
              "      <th></th>\n",
              "      <th>Motor</th>\n",
              "      <th>Ano</th>\n",
              "      <th>Quilometragem</th>\n",
              "      <th>Zero_km</th>\n",
              "      <th>Valor</th>\n",
              "    </tr>\n",
              "  </thead>\n",
              "  <tbody>\n",
              "    <tr>\n",
              "      <th>Jetta</th>\n",
              "      <td>Motor 4.0 Turbo</td>\n",
              "      <td>2019</td>\n",
              "      <td>0.0</td>\n",
              "      <td>True</td>\n",
              "      <td>88000.0</td>\n",
              "    </tr>\n",
              "    <tr>\n",
              "      <th>Passat</th>\n",
              "      <td>Motor Diesel</td>\n",
              "      <td>2003</td>\n",
              "      <td>5712.0</td>\n",
              "      <td>False</td>\n",
              "      <td>106000.0</td>\n",
              "    </tr>\n",
              "    <tr>\n",
              "      <th>Crossfox</th>\n",
              "      <td>Motor Diesel V8</td>\n",
              "      <td>1991</td>\n",
              "      <td>37123.0</td>\n",
              "      <td>False</td>\n",
              "      <td>72000.0</td>\n",
              "    </tr>\n",
              "    <tr>\n",
              "      <th>DS5</th>\n",
              "      <td>Motor Diesel</td>\n",
              "      <td>2019</td>\n",
              "      <td>0.0</td>\n",
              "      <td>True</td>\n",
              "      <td>89000.0</td>\n",
              "    </tr>\n",
              "    <tr>\n",
              "      <th>Fusca</th>\n",
              "      <td>Motor 1.6</td>\n",
              "      <td>1990</td>\n",
              "      <td>120000.0</td>\n",
              "      <td>False</td>\n",
              "      <td>32000.0</td>\n",
              "    </tr>\n",
              "  </tbody>\n",
              "</table>\n",
              "</div>\n",
              "      <button class=\"colab-df-convert\" onclick=\"convertToInteractive('df-dc1fb182-f967-4f22-883c-06f91b25efec')\"\n",
              "              title=\"Convert this dataframe to an interactive table.\"\n",
              "              style=\"display:none;\">\n",
              "        \n",
              "  <svg xmlns=\"http://www.w3.org/2000/svg\" height=\"24px\"viewBox=\"0 0 24 24\"\n",
              "       width=\"24px\">\n",
              "    <path d=\"M0 0h24v24H0V0z\" fill=\"none\"/>\n",
              "    <path d=\"M18.56 5.44l.94 2.06.94-2.06 2.06-.94-2.06-.94-.94-2.06-.94 2.06-2.06.94zm-11 1L8.5 8.5l.94-2.06 2.06-.94-2.06-.94L8.5 2.5l-.94 2.06-2.06.94zm10 10l.94 2.06.94-2.06 2.06-.94-2.06-.94-.94-2.06-.94 2.06-2.06.94z\"/><path d=\"M17.41 7.96l-1.37-1.37c-.4-.4-.92-.59-1.43-.59-.52 0-1.04.2-1.43.59L10.3 9.45l-7.72 7.72c-.78.78-.78 2.05 0 2.83L4 21.41c.39.39.9.59 1.41.59.51 0 1.02-.2 1.41-.59l7.78-7.78 2.81-2.81c.8-.78.8-2.07 0-2.86zM5.41 20L4 18.59l7.72-7.72 1.47 1.35L5.41 20z\"/>\n",
              "  </svg>\n",
              "      </button>\n",
              "      \n",
              "  <style>\n",
              "    .colab-df-container {\n",
              "      display:flex;\n",
              "      flex-wrap:wrap;\n",
              "      gap: 12px;\n",
              "    }\n",
              "\n",
              "    .colab-df-convert {\n",
              "      background-color: #E8F0FE;\n",
              "      border: none;\n",
              "      border-radius: 50%;\n",
              "      cursor: pointer;\n",
              "      display: none;\n",
              "      fill: #1967D2;\n",
              "      height: 32px;\n",
              "      padding: 0 0 0 0;\n",
              "      width: 32px;\n",
              "    }\n",
              "\n",
              "    .colab-df-convert:hover {\n",
              "      background-color: #E2EBFA;\n",
              "      box-shadow: 0px 1px 2px rgba(60, 64, 67, 0.3), 0px 1px 3px 1px rgba(60, 64, 67, 0.15);\n",
              "      fill: #174EA6;\n",
              "    }\n",
              "\n",
              "    [theme=dark] .colab-df-convert {\n",
              "      background-color: #3B4455;\n",
              "      fill: #D2E3FC;\n",
              "    }\n",
              "\n",
              "    [theme=dark] .colab-df-convert:hover {\n",
              "      background-color: #434B5C;\n",
              "      box-shadow: 0px 1px 3px 1px rgba(0, 0, 0, 0.15);\n",
              "      filter: drop-shadow(0px 1px 2px rgba(0, 0, 0, 0.3));\n",
              "      fill: #FFFFFF;\n",
              "    }\n",
              "  </style>\n",
              "\n",
              "      <script>\n",
              "        const buttonEl =\n",
              "          document.querySelector('#df-dc1fb182-f967-4f22-883c-06f91b25efec button.colab-df-convert');\n",
              "        buttonEl.style.display =\n",
              "          google.colab.kernel.accessAllowed ? 'block' : 'none';\n",
              "\n",
              "        async function convertToInteractive(key) {\n",
              "          const element = document.querySelector('#df-dc1fb182-f967-4f22-883c-06f91b25efec');\n",
              "          const dataTable =\n",
              "            await google.colab.kernel.invokeFunction('convertToInteractive',\n",
              "                                                     [key], {});\n",
              "          if (!dataTable) return;\n",
              "\n",
              "          const docLinkHtml = 'Like what you see? Visit the ' +\n",
              "            '<a target=\"_blank\" href=https://colab.research.google.com/notebooks/data_table.ipynb>data table notebook</a>'\n",
              "            + ' to learn more about interactive tables.';\n",
              "          element.innerHTML = '';\n",
              "          dataTable['output_type'] = 'display_data';\n",
              "          await google.colab.output.renderOutput(dataTable, element);\n",
              "          const docLink = document.createElement('div');\n",
              "          docLink.innerHTML = docLinkHtml;\n",
              "          element.appendChild(docLink);\n",
              "        }\n",
              "      </script>\n",
              "    </div>\n",
              "  </div>\n",
              "  "
            ],
            "text/plain": [
              "                    Motor   Ano  Quilometragem  Zero_km     Valor\n",
              "Jetta     Motor 4.0 Turbo  2019            0.0     True   88000.0\n",
              "Passat       Motor Diesel  2003         5712.0    False  106000.0\n",
              "Crossfox  Motor Diesel V8  1991        37123.0    False   72000.0\n",
              "DS5          Motor Diesel  2019            0.0     True   89000.0\n",
              "Fusca           Motor 1.6  1990       120000.0    False   32000.0"
            ]
          },
          "metadata": {},
          "execution_count": 63
        }
      ]
    },
    {
      "cell_type": "code",
      "source": [
        "dataset.iloc[[0, 1, 3]]"
      ],
      "metadata": {
        "colab": {
          "base_uri": "https://localhost:8080/",
          "height": 144
        },
        "id": "nelTP8XTHkxb",
        "outputId": "c64cc67d-ced1-4b23-a005-9642fb663a9d"
      },
      "execution_count": 65,
      "outputs": [
        {
          "output_type": "execute_result",
          "data": {
            "text/html": [
              "\n",
              "  <div id=\"df-5e853132-60cd-46a8-9443-2bb8482d7575\">\n",
              "    <div class=\"colab-df-container\">\n",
              "      <div>\n",
              "<style scoped>\n",
              "    .dataframe tbody tr th:only-of-type {\n",
              "        vertical-align: middle;\n",
              "    }\n",
              "\n",
              "    .dataframe tbody tr th {\n",
              "        vertical-align: top;\n",
              "    }\n",
              "\n",
              "    .dataframe thead th {\n",
              "        text-align: right;\n",
              "    }\n",
              "</style>\n",
              "<table border=\"1\" class=\"dataframe\">\n",
              "  <thead>\n",
              "    <tr style=\"text-align: right;\">\n",
              "      <th></th>\n",
              "      <th>Motor</th>\n",
              "      <th>Ano</th>\n",
              "      <th>Quilometragem</th>\n",
              "      <th>Zero_km</th>\n",
              "      <th>Valor</th>\n",
              "    </tr>\n",
              "  </thead>\n",
              "  <tbody>\n",
              "    <tr>\n",
              "      <th>Jetta</th>\n",
              "      <td>Motor 4.0 Turbo</td>\n",
              "      <td>2019</td>\n",
              "      <td>0.0</td>\n",
              "      <td>True</td>\n",
              "      <td>88000.0</td>\n",
              "    </tr>\n",
              "    <tr>\n",
              "      <th>Passat</th>\n",
              "      <td>Motor Diesel</td>\n",
              "      <td>2003</td>\n",
              "      <td>5712.0</td>\n",
              "      <td>False</td>\n",
              "      <td>106000.0</td>\n",
              "    </tr>\n",
              "    <tr>\n",
              "      <th>DS5</th>\n",
              "      <td>Motor Diesel</td>\n",
              "      <td>2019</td>\n",
              "      <td>0.0</td>\n",
              "      <td>True</td>\n",
              "      <td>89000.0</td>\n",
              "    </tr>\n",
              "  </tbody>\n",
              "</table>\n",
              "</div>\n",
              "      <button class=\"colab-df-convert\" onclick=\"convertToInteractive('df-5e853132-60cd-46a8-9443-2bb8482d7575')\"\n",
              "              title=\"Convert this dataframe to an interactive table.\"\n",
              "              style=\"display:none;\">\n",
              "        \n",
              "  <svg xmlns=\"http://www.w3.org/2000/svg\" height=\"24px\"viewBox=\"0 0 24 24\"\n",
              "       width=\"24px\">\n",
              "    <path d=\"M0 0h24v24H0V0z\" fill=\"none\"/>\n",
              "    <path d=\"M18.56 5.44l.94 2.06.94-2.06 2.06-.94-2.06-.94-.94-2.06-.94 2.06-2.06.94zm-11 1L8.5 8.5l.94-2.06 2.06-.94-2.06-.94L8.5 2.5l-.94 2.06-2.06.94zm10 10l.94 2.06.94-2.06 2.06-.94-2.06-.94-.94-2.06-.94 2.06-2.06.94z\"/><path d=\"M17.41 7.96l-1.37-1.37c-.4-.4-.92-.59-1.43-.59-.52 0-1.04.2-1.43.59L10.3 9.45l-7.72 7.72c-.78.78-.78 2.05 0 2.83L4 21.41c.39.39.9.59 1.41.59.51 0 1.02-.2 1.41-.59l7.78-7.78 2.81-2.81c.8-.78.8-2.07 0-2.86zM5.41 20L4 18.59l7.72-7.72 1.47 1.35L5.41 20z\"/>\n",
              "  </svg>\n",
              "      </button>\n",
              "      \n",
              "  <style>\n",
              "    .colab-df-container {\n",
              "      display:flex;\n",
              "      flex-wrap:wrap;\n",
              "      gap: 12px;\n",
              "    }\n",
              "\n",
              "    .colab-df-convert {\n",
              "      background-color: #E8F0FE;\n",
              "      border: none;\n",
              "      border-radius: 50%;\n",
              "      cursor: pointer;\n",
              "      display: none;\n",
              "      fill: #1967D2;\n",
              "      height: 32px;\n",
              "      padding: 0 0 0 0;\n",
              "      width: 32px;\n",
              "    }\n",
              "\n",
              "    .colab-df-convert:hover {\n",
              "      background-color: #E2EBFA;\n",
              "      box-shadow: 0px 1px 2px rgba(60, 64, 67, 0.3), 0px 1px 3px 1px rgba(60, 64, 67, 0.15);\n",
              "      fill: #174EA6;\n",
              "    }\n",
              "\n",
              "    [theme=dark] .colab-df-convert {\n",
              "      background-color: #3B4455;\n",
              "      fill: #D2E3FC;\n",
              "    }\n",
              "\n",
              "    [theme=dark] .colab-df-convert:hover {\n",
              "      background-color: #434B5C;\n",
              "      box-shadow: 0px 1px 3px 1px rgba(0, 0, 0, 0.15);\n",
              "      filter: drop-shadow(0px 1px 2px rgba(0, 0, 0, 0.3));\n",
              "      fill: #FFFFFF;\n",
              "    }\n",
              "  </style>\n",
              "\n",
              "      <script>\n",
              "        const buttonEl =\n",
              "          document.querySelector('#df-5e853132-60cd-46a8-9443-2bb8482d7575 button.colab-df-convert');\n",
              "        buttonEl.style.display =\n",
              "          google.colab.kernel.accessAllowed ? 'block' : 'none';\n",
              "\n",
              "        async function convertToInteractive(key) {\n",
              "          const element = document.querySelector('#df-5e853132-60cd-46a8-9443-2bb8482d7575');\n",
              "          const dataTable =\n",
              "            await google.colab.kernel.invokeFunction('convertToInteractive',\n",
              "                                                     [key], {});\n",
              "          if (!dataTable) return;\n",
              "\n",
              "          const docLinkHtml = 'Like what you see? Visit the ' +\n",
              "            '<a target=\"_blank\" href=https://colab.research.google.com/notebooks/data_table.ipynb>data table notebook</a>'\n",
              "            + ' to learn more about interactive tables.';\n",
              "          element.innerHTML = '';\n",
              "          dataTable['output_type'] = 'display_data';\n",
              "          await google.colab.output.renderOutput(dataTable, element);\n",
              "          const docLink = document.createElement('div');\n",
              "          docLink.innerHTML = docLinkHtml;\n",
              "          element.appendChild(docLink);\n",
              "        }\n",
              "      </script>\n",
              "    </div>\n",
              "  </div>\n",
              "  "
            ],
            "text/plain": [
              "                  Motor   Ano  Quilometragem  Zero_km     Valor\n",
              "Jetta   Motor 4.0 Turbo  2019            0.0     True   88000.0\n",
              "Passat     Motor Diesel  2003         5712.0    False  106000.0\n",
              "DS5        Motor Diesel  2019            0.0     True   89000.0"
            ]
          },
          "metadata": {},
          "execution_count": 65
        }
      ]
    },
    {
      "cell_type": "code",
      "source": [
        "dataset.loc[['Jetta', 'Passat', 'DS5']]"
      ],
      "metadata": {
        "colab": {
          "base_uri": "https://localhost:8080/",
          "height": 144
        },
        "id": "bmHGk3g9IUOF",
        "outputId": "9392fd47-b9fb-4baf-a007-eae77db795ac"
      },
      "execution_count": 69,
      "outputs": [
        {
          "output_type": "execute_result",
          "data": {
            "text/html": [
              "\n",
              "  <div id=\"df-2091f118-1b3e-4d2e-8ef2-57fb825f8fe9\">\n",
              "    <div class=\"colab-df-container\">\n",
              "      <div>\n",
              "<style scoped>\n",
              "    .dataframe tbody tr th:only-of-type {\n",
              "        vertical-align: middle;\n",
              "    }\n",
              "\n",
              "    .dataframe tbody tr th {\n",
              "        vertical-align: top;\n",
              "    }\n",
              "\n",
              "    .dataframe thead th {\n",
              "        text-align: right;\n",
              "    }\n",
              "</style>\n",
              "<table border=\"1\" class=\"dataframe\">\n",
              "  <thead>\n",
              "    <tr style=\"text-align: right;\">\n",
              "      <th></th>\n",
              "      <th>Motor</th>\n",
              "      <th>Ano</th>\n",
              "      <th>Quilometragem</th>\n",
              "      <th>Zero_km</th>\n",
              "      <th>Valor</th>\n",
              "    </tr>\n",
              "  </thead>\n",
              "  <tbody>\n",
              "    <tr>\n",
              "      <th>Jetta</th>\n",
              "      <td>Motor 4.0 Turbo</td>\n",
              "      <td>2019</td>\n",
              "      <td>0.0</td>\n",
              "      <td>True</td>\n",
              "      <td>88000.0</td>\n",
              "    </tr>\n",
              "    <tr>\n",
              "      <th>Passat</th>\n",
              "      <td>Motor Diesel</td>\n",
              "      <td>2003</td>\n",
              "      <td>5712.0</td>\n",
              "      <td>False</td>\n",
              "      <td>106000.0</td>\n",
              "    </tr>\n",
              "    <tr>\n",
              "      <th>DS5</th>\n",
              "      <td>Motor Diesel</td>\n",
              "      <td>2019</td>\n",
              "      <td>0.0</td>\n",
              "      <td>True</td>\n",
              "      <td>89000.0</td>\n",
              "    </tr>\n",
              "  </tbody>\n",
              "</table>\n",
              "</div>\n",
              "      <button class=\"colab-df-convert\" onclick=\"convertToInteractive('df-2091f118-1b3e-4d2e-8ef2-57fb825f8fe9')\"\n",
              "              title=\"Convert this dataframe to an interactive table.\"\n",
              "              style=\"display:none;\">\n",
              "        \n",
              "  <svg xmlns=\"http://www.w3.org/2000/svg\" height=\"24px\"viewBox=\"0 0 24 24\"\n",
              "       width=\"24px\">\n",
              "    <path d=\"M0 0h24v24H0V0z\" fill=\"none\"/>\n",
              "    <path d=\"M18.56 5.44l.94 2.06.94-2.06 2.06-.94-2.06-.94-.94-2.06-.94 2.06-2.06.94zm-11 1L8.5 8.5l.94-2.06 2.06-.94-2.06-.94L8.5 2.5l-.94 2.06-2.06.94zm10 10l.94 2.06.94-2.06 2.06-.94-2.06-.94-.94-2.06-.94 2.06-2.06.94z\"/><path d=\"M17.41 7.96l-1.37-1.37c-.4-.4-.92-.59-1.43-.59-.52 0-1.04.2-1.43.59L10.3 9.45l-7.72 7.72c-.78.78-.78 2.05 0 2.83L4 21.41c.39.39.9.59 1.41.59.51 0 1.02-.2 1.41-.59l7.78-7.78 2.81-2.81c.8-.78.8-2.07 0-2.86zM5.41 20L4 18.59l7.72-7.72 1.47 1.35L5.41 20z\"/>\n",
              "  </svg>\n",
              "      </button>\n",
              "      \n",
              "  <style>\n",
              "    .colab-df-container {\n",
              "      display:flex;\n",
              "      flex-wrap:wrap;\n",
              "      gap: 12px;\n",
              "    }\n",
              "\n",
              "    .colab-df-convert {\n",
              "      background-color: #E8F0FE;\n",
              "      border: none;\n",
              "      border-radius: 50%;\n",
              "      cursor: pointer;\n",
              "      display: none;\n",
              "      fill: #1967D2;\n",
              "      height: 32px;\n",
              "      padding: 0 0 0 0;\n",
              "      width: 32px;\n",
              "    }\n",
              "\n",
              "    .colab-df-convert:hover {\n",
              "      background-color: #E2EBFA;\n",
              "      box-shadow: 0px 1px 2px rgba(60, 64, 67, 0.3), 0px 1px 3px 1px rgba(60, 64, 67, 0.15);\n",
              "      fill: #174EA6;\n",
              "    }\n",
              "\n",
              "    [theme=dark] .colab-df-convert {\n",
              "      background-color: #3B4455;\n",
              "      fill: #D2E3FC;\n",
              "    }\n",
              "\n",
              "    [theme=dark] .colab-df-convert:hover {\n",
              "      background-color: #434B5C;\n",
              "      box-shadow: 0px 1px 3px 1px rgba(0, 0, 0, 0.15);\n",
              "      filter: drop-shadow(0px 1px 2px rgba(0, 0, 0, 0.3));\n",
              "      fill: #FFFFFF;\n",
              "    }\n",
              "  </style>\n",
              "\n",
              "      <script>\n",
              "        const buttonEl =\n",
              "          document.querySelector('#df-2091f118-1b3e-4d2e-8ef2-57fb825f8fe9 button.colab-df-convert');\n",
              "        buttonEl.style.display =\n",
              "          google.colab.kernel.accessAllowed ? 'block' : 'none';\n",
              "\n",
              "        async function convertToInteractive(key) {\n",
              "          const element = document.querySelector('#df-2091f118-1b3e-4d2e-8ef2-57fb825f8fe9');\n",
              "          const dataTable =\n",
              "            await google.colab.kernel.invokeFunction('convertToInteractive',\n",
              "                                                     [key], {});\n",
              "          if (!dataTable) return;\n",
              "\n",
              "          const docLinkHtml = 'Like what you see? Visit the ' +\n",
              "            '<a target=\"_blank\" href=https://colab.research.google.com/notebooks/data_table.ipynb>data table notebook</a>'\n",
              "            + ' to learn more about interactive tables.';\n",
              "          element.innerHTML = '';\n",
              "          dataTable['output_type'] = 'display_data';\n",
              "          await google.colab.output.renderOutput(dataTable, element);\n",
              "          const docLink = document.createElement('div');\n",
              "          docLink.innerHTML = docLinkHtml;\n",
              "          element.appendChild(docLink);\n",
              "        }\n",
              "      </script>\n",
              "    </div>\n",
              "  </div>\n",
              "  "
            ],
            "text/plain": [
              "                  Motor   Ano  Quilometragem  Zero_km     Valor\n",
              "Jetta   Motor 4.0 Turbo  2019            0.0     True   88000.0\n",
              "Passat     Motor Diesel  2003         5712.0    False  106000.0\n",
              "DS5        Motor Diesel  2019            0.0     True   89000.0"
            ]
          },
          "metadata": {},
          "execution_count": 69
        }
      ]
    },
    {
      "cell_type": "code",
      "source": [
        "dataset.query('Motor == \"Motor Diesel\" or Zero_km == True')"
      ],
      "metadata": {
        "colab": {
          "base_uri": "https://localhost:8080/",
          "height": 144
        },
        "id": "Z_6wx12hI758",
        "outputId": "1aaa9026-8447-4aa3-ae56-0934c1ce05a3"
      },
      "execution_count": 70,
      "outputs": [
        {
          "output_type": "execute_result",
          "data": {
            "text/html": [
              "\n",
              "  <div id=\"df-34b06e87-ca6f-4df2-9ee9-8ee093172bfb\">\n",
              "    <div class=\"colab-df-container\">\n",
              "      <div>\n",
              "<style scoped>\n",
              "    .dataframe tbody tr th:only-of-type {\n",
              "        vertical-align: middle;\n",
              "    }\n",
              "\n",
              "    .dataframe tbody tr th {\n",
              "        vertical-align: top;\n",
              "    }\n",
              "\n",
              "    .dataframe thead th {\n",
              "        text-align: right;\n",
              "    }\n",
              "</style>\n",
              "<table border=\"1\" class=\"dataframe\">\n",
              "  <thead>\n",
              "    <tr style=\"text-align: right;\">\n",
              "      <th></th>\n",
              "      <th>Motor</th>\n",
              "      <th>Ano</th>\n",
              "      <th>Quilometragem</th>\n",
              "      <th>Zero_km</th>\n",
              "      <th>Valor</th>\n",
              "    </tr>\n",
              "  </thead>\n",
              "  <tbody>\n",
              "    <tr>\n",
              "      <th>Jetta</th>\n",
              "      <td>Motor 4.0 Turbo</td>\n",
              "      <td>2019</td>\n",
              "      <td>0.0</td>\n",
              "      <td>True</td>\n",
              "      <td>88000.0</td>\n",
              "    </tr>\n",
              "    <tr>\n",
              "      <th>Passat</th>\n",
              "      <td>Motor Diesel</td>\n",
              "      <td>2003</td>\n",
              "      <td>5712.0</td>\n",
              "      <td>False</td>\n",
              "      <td>106000.0</td>\n",
              "    </tr>\n",
              "    <tr>\n",
              "      <th>DS5</th>\n",
              "      <td>Motor Diesel</td>\n",
              "      <td>2019</td>\n",
              "      <td>0.0</td>\n",
              "      <td>True</td>\n",
              "      <td>89000.0</td>\n",
              "    </tr>\n",
              "  </tbody>\n",
              "</table>\n",
              "</div>\n",
              "      <button class=\"colab-df-convert\" onclick=\"convertToInteractive('df-34b06e87-ca6f-4df2-9ee9-8ee093172bfb')\"\n",
              "              title=\"Convert this dataframe to an interactive table.\"\n",
              "              style=\"display:none;\">\n",
              "        \n",
              "  <svg xmlns=\"http://www.w3.org/2000/svg\" height=\"24px\"viewBox=\"0 0 24 24\"\n",
              "       width=\"24px\">\n",
              "    <path d=\"M0 0h24v24H0V0z\" fill=\"none\"/>\n",
              "    <path d=\"M18.56 5.44l.94 2.06.94-2.06 2.06-.94-2.06-.94-.94-2.06-.94 2.06-2.06.94zm-11 1L8.5 8.5l.94-2.06 2.06-.94-2.06-.94L8.5 2.5l-.94 2.06-2.06.94zm10 10l.94 2.06.94-2.06 2.06-.94-2.06-.94-.94-2.06-.94 2.06-2.06.94z\"/><path d=\"M17.41 7.96l-1.37-1.37c-.4-.4-.92-.59-1.43-.59-.52 0-1.04.2-1.43.59L10.3 9.45l-7.72 7.72c-.78.78-.78 2.05 0 2.83L4 21.41c.39.39.9.59 1.41.59.51 0 1.02-.2 1.41-.59l7.78-7.78 2.81-2.81c.8-.78.8-2.07 0-2.86zM5.41 20L4 18.59l7.72-7.72 1.47 1.35L5.41 20z\"/>\n",
              "  </svg>\n",
              "      </button>\n",
              "      \n",
              "  <style>\n",
              "    .colab-df-container {\n",
              "      display:flex;\n",
              "      flex-wrap:wrap;\n",
              "      gap: 12px;\n",
              "    }\n",
              "\n",
              "    .colab-df-convert {\n",
              "      background-color: #E8F0FE;\n",
              "      border: none;\n",
              "      border-radius: 50%;\n",
              "      cursor: pointer;\n",
              "      display: none;\n",
              "      fill: #1967D2;\n",
              "      height: 32px;\n",
              "      padding: 0 0 0 0;\n",
              "      width: 32px;\n",
              "    }\n",
              "\n",
              "    .colab-df-convert:hover {\n",
              "      background-color: #E2EBFA;\n",
              "      box-shadow: 0px 1px 2px rgba(60, 64, 67, 0.3), 0px 1px 3px 1px rgba(60, 64, 67, 0.15);\n",
              "      fill: #174EA6;\n",
              "    }\n",
              "\n",
              "    [theme=dark] .colab-df-convert {\n",
              "      background-color: #3B4455;\n",
              "      fill: #D2E3FC;\n",
              "    }\n",
              "\n",
              "    [theme=dark] .colab-df-convert:hover {\n",
              "      background-color: #434B5C;\n",
              "      box-shadow: 0px 1px 3px 1px rgba(0, 0, 0, 0.15);\n",
              "      filter: drop-shadow(0px 1px 2px rgba(0, 0, 0, 0.3));\n",
              "      fill: #FFFFFF;\n",
              "    }\n",
              "  </style>\n",
              "\n",
              "      <script>\n",
              "        const buttonEl =\n",
              "          document.querySelector('#df-34b06e87-ca6f-4df2-9ee9-8ee093172bfb button.colab-df-convert');\n",
              "        buttonEl.style.display =\n",
              "          google.colab.kernel.accessAllowed ? 'block' : 'none';\n",
              "\n",
              "        async function convertToInteractive(key) {\n",
              "          const element = document.querySelector('#df-34b06e87-ca6f-4df2-9ee9-8ee093172bfb');\n",
              "          const dataTable =\n",
              "            await google.colab.kernel.invokeFunction('convertToInteractive',\n",
              "                                                     [key], {});\n",
              "          if (!dataTable) return;\n",
              "\n",
              "          const docLinkHtml = 'Like what you see? Visit the ' +\n",
              "            '<a target=\"_blank\" href=https://colab.research.google.com/notebooks/data_table.ipynb>data table notebook</a>'\n",
              "            + ' to learn more about interactive tables.';\n",
              "          element.innerHTML = '';\n",
              "          dataTable['output_type'] = 'display_data';\n",
              "          await google.colab.output.renderOutput(dataTable, element);\n",
              "          const docLink = document.createElement('div');\n",
              "          docLink.innerHTML = docLinkHtml;\n",
              "          element.appendChild(docLink);\n",
              "        }\n",
              "      </script>\n",
              "    </div>\n",
              "  </div>\n",
              "  "
            ],
            "text/plain": [
              "                  Motor   Ano  Quilometragem  Zero_km     Valor\n",
              "Jetta   Motor 4.0 Turbo  2019            0.0     True   88000.0\n",
              "Passat     Motor Diesel  2003         5712.0    False  106000.0\n",
              "DS5        Motor Diesel  2019            0.0     True   89000.0"
            ]
          },
          "metadata": {},
          "execution_count": 70
        }
      ]
    },
    {
      "cell_type": "code",
      "source": [
        "dataset[(dataset.Motor == 'Motor Diesel') | (dataset.Zero_km == True)]"
      ],
      "metadata": {
        "colab": {
          "base_uri": "https://localhost:8080/",
          "height": 144
        },
        "id": "7-cnlHs2JGr3",
        "outputId": "0463bc14-6fa9-4ebf-d653-a96bf34a6749"
      },
      "execution_count": 72,
      "outputs": [
        {
          "output_type": "execute_result",
          "data": {
            "text/html": [
              "\n",
              "  <div id=\"df-e962295c-54ae-4496-adb1-dd225e96a806\">\n",
              "    <div class=\"colab-df-container\">\n",
              "      <div>\n",
              "<style scoped>\n",
              "    .dataframe tbody tr th:only-of-type {\n",
              "        vertical-align: middle;\n",
              "    }\n",
              "\n",
              "    .dataframe tbody tr th {\n",
              "        vertical-align: top;\n",
              "    }\n",
              "\n",
              "    .dataframe thead th {\n",
              "        text-align: right;\n",
              "    }\n",
              "</style>\n",
              "<table border=\"1\" class=\"dataframe\">\n",
              "  <thead>\n",
              "    <tr style=\"text-align: right;\">\n",
              "      <th></th>\n",
              "      <th>Motor</th>\n",
              "      <th>Ano</th>\n",
              "      <th>Quilometragem</th>\n",
              "      <th>Zero_km</th>\n",
              "      <th>Valor</th>\n",
              "    </tr>\n",
              "  </thead>\n",
              "  <tbody>\n",
              "    <tr>\n",
              "      <th>Jetta</th>\n",
              "      <td>Motor 4.0 Turbo</td>\n",
              "      <td>2019</td>\n",
              "      <td>0.0</td>\n",
              "      <td>True</td>\n",
              "      <td>88000.0</td>\n",
              "    </tr>\n",
              "    <tr>\n",
              "      <th>Passat</th>\n",
              "      <td>Motor Diesel</td>\n",
              "      <td>2003</td>\n",
              "      <td>5712.0</td>\n",
              "      <td>False</td>\n",
              "      <td>106000.0</td>\n",
              "    </tr>\n",
              "    <tr>\n",
              "      <th>DS5</th>\n",
              "      <td>Motor Diesel</td>\n",
              "      <td>2019</td>\n",
              "      <td>0.0</td>\n",
              "      <td>True</td>\n",
              "      <td>89000.0</td>\n",
              "    </tr>\n",
              "  </tbody>\n",
              "</table>\n",
              "</div>\n",
              "      <button class=\"colab-df-convert\" onclick=\"convertToInteractive('df-e962295c-54ae-4496-adb1-dd225e96a806')\"\n",
              "              title=\"Convert this dataframe to an interactive table.\"\n",
              "              style=\"display:none;\">\n",
              "        \n",
              "  <svg xmlns=\"http://www.w3.org/2000/svg\" height=\"24px\"viewBox=\"0 0 24 24\"\n",
              "       width=\"24px\">\n",
              "    <path d=\"M0 0h24v24H0V0z\" fill=\"none\"/>\n",
              "    <path d=\"M18.56 5.44l.94 2.06.94-2.06 2.06-.94-2.06-.94-.94-2.06-.94 2.06-2.06.94zm-11 1L8.5 8.5l.94-2.06 2.06-.94-2.06-.94L8.5 2.5l-.94 2.06-2.06.94zm10 10l.94 2.06.94-2.06 2.06-.94-2.06-.94-.94-2.06-.94 2.06-2.06.94z\"/><path d=\"M17.41 7.96l-1.37-1.37c-.4-.4-.92-.59-1.43-.59-.52 0-1.04.2-1.43.59L10.3 9.45l-7.72 7.72c-.78.78-.78 2.05 0 2.83L4 21.41c.39.39.9.59 1.41.59.51 0 1.02-.2 1.41-.59l7.78-7.78 2.81-2.81c.8-.78.8-2.07 0-2.86zM5.41 20L4 18.59l7.72-7.72 1.47 1.35L5.41 20z\"/>\n",
              "  </svg>\n",
              "      </button>\n",
              "      \n",
              "  <style>\n",
              "    .colab-df-container {\n",
              "      display:flex;\n",
              "      flex-wrap:wrap;\n",
              "      gap: 12px;\n",
              "    }\n",
              "\n",
              "    .colab-df-convert {\n",
              "      background-color: #E8F0FE;\n",
              "      border: none;\n",
              "      border-radius: 50%;\n",
              "      cursor: pointer;\n",
              "      display: none;\n",
              "      fill: #1967D2;\n",
              "      height: 32px;\n",
              "      padding: 0 0 0 0;\n",
              "      width: 32px;\n",
              "    }\n",
              "\n",
              "    .colab-df-convert:hover {\n",
              "      background-color: #E2EBFA;\n",
              "      box-shadow: 0px 1px 2px rgba(60, 64, 67, 0.3), 0px 1px 3px 1px rgba(60, 64, 67, 0.15);\n",
              "      fill: #174EA6;\n",
              "    }\n",
              "\n",
              "    [theme=dark] .colab-df-convert {\n",
              "      background-color: #3B4455;\n",
              "      fill: #D2E3FC;\n",
              "    }\n",
              "\n",
              "    [theme=dark] .colab-df-convert:hover {\n",
              "      background-color: #434B5C;\n",
              "      box-shadow: 0px 1px 3px 1px rgba(0, 0, 0, 0.15);\n",
              "      filter: drop-shadow(0px 1px 2px rgba(0, 0, 0, 0.3));\n",
              "      fill: #FFFFFF;\n",
              "    }\n",
              "  </style>\n",
              "\n",
              "      <script>\n",
              "        const buttonEl =\n",
              "          document.querySelector('#df-e962295c-54ae-4496-adb1-dd225e96a806 button.colab-df-convert');\n",
              "        buttonEl.style.display =\n",
              "          google.colab.kernel.accessAllowed ? 'block' : 'none';\n",
              "\n",
              "        async function convertToInteractive(key) {\n",
              "          const element = document.querySelector('#df-e962295c-54ae-4496-adb1-dd225e96a806');\n",
              "          const dataTable =\n",
              "            await google.colab.kernel.invokeFunction('convertToInteractive',\n",
              "                                                     [key], {});\n",
              "          if (!dataTable) return;\n",
              "\n",
              "          const docLinkHtml = 'Like what you see? Visit the ' +\n",
              "            '<a target=\"_blank\" href=https://colab.research.google.com/notebooks/data_table.ipynb>data table notebook</a>'\n",
              "            + ' to learn more about interactive tables.';\n",
              "          element.innerHTML = '';\n",
              "          dataTable['output_type'] = 'display_data';\n",
              "          await google.colab.output.renderOutput(dataTable, element);\n",
              "          const docLink = document.createElement('div');\n",
              "          docLink.innerHTML = docLinkHtml;\n",
              "          element.appendChild(docLink);\n",
              "        }\n",
              "      </script>\n",
              "    </div>\n",
              "  </div>\n",
              "  "
            ],
            "text/plain": [
              "                  Motor   Ano  Quilometragem  Zero_km     Valor\n",
              "Jetta   Motor 4.0 Turbo  2019            0.0     True   88000.0\n",
              "Passat     Motor Diesel  2003         5712.0    False  106000.0\n",
              "DS5        Motor Diesel  2019            0.0     True   89000.0"
            ]
          },
          "metadata": {},
          "execution_count": 72
        }
      ]
    },
    {
      "cell_type": "markdown",
      "metadata": {
        "id": "ciJ4dw_FD1BZ"
      },
      "source": [
        "# 5.4 Iterando com DataFrames"
      ]
    },
    {
      "cell_type": "code",
      "metadata": {
        "id": "TKAB-g5KD1BZ",
        "colab": {
          "base_uri": "https://localhost:8080/",
          "height": 281
        },
        "outputId": "c0a8f22a-e716-45a3-92df-6344caa36358"
      },
      "source": [
        "dataset.head()"
      ],
      "execution_count": 74,
      "outputs": [
        {
          "output_type": "execute_result",
          "data": {
            "text/html": [
              "\n",
              "  <div id=\"df-8fb819eb-aa9b-49bb-90e1-5c0ce7a699b7\">\n",
              "    <div class=\"colab-df-container\">\n",
              "      <div>\n",
              "<style scoped>\n",
              "    .dataframe tbody tr th:only-of-type {\n",
              "        vertical-align: middle;\n",
              "    }\n",
              "\n",
              "    .dataframe tbody tr th {\n",
              "        vertical-align: top;\n",
              "    }\n",
              "\n",
              "    .dataframe thead th {\n",
              "        text-align: right;\n",
              "    }\n",
              "</style>\n",
              "<table border=\"1\" class=\"dataframe\">\n",
              "  <thead>\n",
              "    <tr style=\"text-align: right;\">\n",
              "      <th></th>\n",
              "      <th>Motor</th>\n",
              "      <th>Ano</th>\n",
              "      <th>Quilometragem</th>\n",
              "      <th>Zero_km</th>\n",
              "      <th>Acessórios</th>\n",
              "      <th>Valor</th>\n",
              "    </tr>\n",
              "    <tr>\n",
              "      <th>Nome</th>\n",
              "      <th></th>\n",
              "      <th></th>\n",
              "      <th></th>\n",
              "      <th></th>\n",
              "      <th></th>\n",
              "      <th></th>\n",
              "    </tr>\n",
              "  </thead>\n",
              "  <tbody>\n",
              "    <tr>\n",
              "      <th>Jetta Variant</th>\n",
              "      <td>Motor 4.0 Turbo</td>\n",
              "      <td>2003</td>\n",
              "      <td>44410.0</td>\n",
              "      <td>False</td>\n",
              "      <td>['Rodas de liga', 'Travas elétricas', 'Piloto ...</td>\n",
              "      <td>88078.64</td>\n",
              "    </tr>\n",
              "    <tr>\n",
              "      <th>Passat</th>\n",
              "      <td>Motor Diesel</td>\n",
              "      <td>1991</td>\n",
              "      <td>5712.0</td>\n",
              "      <td>False</td>\n",
              "      <td>['Central multimídia', 'Teto panorâmico', 'Fre...</td>\n",
              "      <td>106161.94</td>\n",
              "    </tr>\n",
              "    <tr>\n",
              "      <th>Crossfox</th>\n",
              "      <td>Motor Diesel V8</td>\n",
              "      <td>1990</td>\n",
              "      <td>37123.0</td>\n",
              "      <td>False</td>\n",
              "      <td>['Piloto automático', 'Controle de estabilidad...</td>\n",
              "      <td>72832.16</td>\n",
              "    </tr>\n",
              "    <tr>\n",
              "      <th>DS5</th>\n",
              "      <td>Motor 2.4 Turbo</td>\n",
              "      <td>2019</td>\n",
              "      <td>NaN</td>\n",
              "      <td>True</td>\n",
              "      <td>['Travas elétricas', '4 X 4', 'Vidros elétrico...</td>\n",
              "      <td>124549.07</td>\n",
              "    </tr>\n",
              "    <tr>\n",
              "      <th>Aston Martin DB4</th>\n",
              "      <td>Motor 2.4 Turbo</td>\n",
              "      <td>2006</td>\n",
              "      <td>25757.0</td>\n",
              "      <td>False</td>\n",
              "      <td>['Rodas de liga', '4 X 4', 'Central multimídia...</td>\n",
              "      <td>92612.10</td>\n",
              "    </tr>\n",
              "  </tbody>\n",
              "</table>\n",
              "</div>\n",
              "      <button class=\"colab-df-convert\" onclick=\"convertToInteractive('df-8fb819eb-aa9b-49bb-90e1-5c0ce7a699b7')\"\n",
              "              title=\"Convert this dataframe to an interactive table.\"\n",
              "              style=\"display:none;\">\n",
              "        \n",
              "  <svg xmlns=\"http://www.w3.org/2000/svg\" height=\"24px\"viewBox=\"0 0 24 24\"\n",
              "       width=\"24px\">\n",
              "    <path d=\"M0 0h24v24H0V0z\" fill=\"none\"/>\n",
              "    <path d=\"M18.56 5.44l.94 2.06.94-2.06 2.06-.94-2.06-.94-.94-2.06-.94 2.06-2.06.94zm-11 1L8.5 8.5l.94-2.06 2.06-.94-2.06-.94L8.5 2.5l-.94 2.06-2.06.94zm10 10l.94 2.06.94-2.06 2.06-.94-2.06-.94-.94-2.06-.94 2.06-2.06.94z\"/><path d=\"M17.41 7.96l-1.37-1.37c-.4-.4-.92-.59-1.43-.59-.52 0-1.04.2-1.43.59L10.3 9.45l-7.72 7.72c-.78.78-.78 2.05 0 2.83L4 21.41c.39.39.9.59 1.41.59.51 0 1.02-.2 1.41-.59l7.78-7.78 2.81-2.81c.8-.78.8-2.07 0-2.86zM5.41 20L4 18.59l7.72-7.72 1.47 1.35L5.41 20z\"/>\n",
              "  </svg>\n",
              "      </button>\n",
              "      \n",
              "  <style>\n",
              "    .colab-df-container {\n",
              "      display:flex;\n",
              "      flex-wrap:wrap;\n",
              "      gap: 12px;\n",
              "    }\n",
              "\n",
              "    .colab-df-convert {\n",
              "      background-color: #E8F0FE;\n",
              "      border: none;\n",
              "      border-radius: 50%;\n",
              "      cursor: pointer;\n",
              "      display: none;\n",
              "      fill: #1967D2;\n",
              "      height: 32px;\n",
              "      padding: 0 0 0 0;\n",
              "      width: 32px;\n",
              "    }\n",
              "\n",
              "    .colab-df-convert:hover {\n",
              "      background-color: #E2EBFA;\n",
              "      box-shadow: 0px 1px 2px rgba(60, 64, 67, 0.3), 0px 1px 3px 1px rgba(60, 64, 67, 0.15);\n",
              "      fill: #174EA6;\n",
              "    }\n",
              "\n",
              "    [theme=dark] .colab-df-convert {\n",
              "      background-color: #3B4455;\n",
              "      fill: #D2E3FC;\n",
              "    }\n",
              "\n",
              "    [theme=dark] .colab-df-convert:hover {\n",
              "      background-color: #434B5C;\n",
              "      box-shadow: 0px 1px 3px 1px rgba(0, 0, 0, 0.15);\n",
              "      filter: drop-shadow(0px 1px 2px rgba(0, 0, 0, 0.3));\n",
              "      fill: #FFFFFF;\n",
              "    }\n",
              "  </style>\n",
              "\n",
              "      <script>\n",
              "        const buttonEl =\n",
              "          document.querySelector('#df-8fb819eb-aa9b-49bb-90e1-5c0ce7a699b7 button.colab-df-convert');\n",
              "        buttonEl.style.display =\n",
              "          google.colab.kernel.accessAllowed ? 'block' : 'none';\n",
              "\n",
              "        async function convertToInteractive(key) {\n",
              "          const element = document.querySelector('#df-8fb819eb-aa9b-49bb-90e1-5c0ce7a699b7');\n",
              "          const dataTable =\n",
              "            await google.colab.kernel.invokeFunction('convertToInteractive',\n",
              "                                                     [key], {});\n",
              "          if (!dataTable) return;\n",
              "\n",
              "          const docLinkHtml = 'Like what you see? Visit the ' +\n",
              "            '<a target=\"_blank\" href=https://colab.research.google.com/notebooks/data_table.ipynb>data table notebook</a>'\n",
              "            + ' to learn more about interactive tables.';\n",
              "          element.innerHTML = '';\n",
              "          dataTable['output_type'] = 'display_data';\n",
              "          await google.colab.output.renderOutput(dataTable, element);\n",
              "          const docLink = document.createElement('div');\n",
              "          docLink.innerHTML = docLinkHtml;\n",
              "          element.appendChild(docLink);\n",
              "        }\n",
              "      </script>\n",
              "    </div>\n",
              "  </div>\n",
              "  "
            ],
            "text/plain": [
              "                            Motor  ...      Valor\n",
              "Nome                               ...           \n",
              "Jetta Variant     Motor 4.0 Turbo  ...   88078.64\n",
              "Passat               Motor Diesel  ...  106161.94\n",
              "Crossfox          Motor Diesel V8  ...   72832.16\n",
              "DS5               Motor 2.4 Turbo  ...  124549.07\n",
              "Aston Martin DB4  Motor 2.4 Turbo  ...   92612.10\n",
              "\n",
              "[5 rows x 6 columns]"
            ]
          },
          "metadata": {},
          "execution_count": 74
        }
      ]
    },
    {
      "cell_type": "code",
      "metadata": {
        "id": "eFTNtPRWD1Ba",
        "colab": {
          "base_uri": "https://localhost:8080/"
        },
        "outputId": "93968918-9640-44c1-c1f7-dc7fc64d5252"
      },
      "source": [
        "for item in dataset:\n",
        "  print(item) #algo para varrer mas sem sentido para isso usamos o iterador iterrows"
      ],
      "execution_count": 75,
      "outputs": [
        {
          "output_type": "stream",
          "name": "stdout",
          "text": [
            "Motor\n",
            "Ano\n",
            "Quilometragem\n",
            "Zero_km\n",
            "Acessórios\n",
            "Valor\n"
          ]
        }
      ]
    },
    {
      "cell_type": "code",
      "source": [
        "#list(dataset.iterrows()) #criou uma lista com varis tuplas dentro dela"
      ],
      "metadata": {
        "id": "JkMBwlSZKnZf"
      },
      "execution_count": null,
      "outputs": []
    },
    {
      "cell_type": "code",
      "source": [
        "#então depois disso iremos fazer um for com este interador , e depoiscriar uma condição com if\n",
        "# referente ao da km media, calcular km media e colocando em questão divisao por 0\n",
        "for index, row in dataset.iterrows():\n",
        "  if(2019 - row['Ano'] != 0):\n",
        "     dataset.loc[index, 'km_media'] = row['Quilometragem'] /2019 - row['Ano']\n",
        "  else:\n",
        "    dataset.loc[index, 'km_media'] = 0\n",
        "\n",
        "dataset"
      ],
      "metadata": {
        "colab": {
          "base_uri": "https://localhost:8080/",
          "height": 672
        },
        "id": "n2UWdsfSMFJO",
        "outputId": "a2cfb633-dbac-4ae0-9dbd-c9e2e152dcbd"
      },
      "execution_count": 78,
      "outputs": [
        {
          "output_type": "execute_result",
          "data": {
            "text/html": [
              "\n",
              "  <div id=\"df-829d5be0-c096-4ae8-9210-472a0083c12d\">\n",
              "    <div class=\"colab-df-container\">\n",
              "      <div>\n",
              "<style scoped>\n",
              "    .dataframe tbody tr th:only-of-type {\n",
              "        vertical-align: middle;\n",
              "    }\n",
              "\n",
              "    .dataframe tbody tr th {\n",
              "        vertical-align: top;\n",
              "    }\n",
              "\n",
              "    .dataframe thead th {\n",
              "        text-align: right;\n",
              "    }\n",
              "</style>\n",
              "<table border=\"1\" class=\"dataframe\">\n",
              "  <thead>\n",
              "    <tr style=\"text-align: right;\">\n",
              "      <th></th>\n",
              "      <th>Motor</th>\n",
              "      <th>Ano</th>\n",
              "      <th>Quilometragem</th>\n",
              "      <th>Zero_km</th>\n",
              "      <th>Acessórios</th>\n",
              "      <th>Valor</th>\n",
              "      <th>km_media</th>\n",
              "    </tr>\n",
              "    <tr>\n",
              "      <th>Nome</th>\n",
              "      <th></th>\n",
              "      <th></th>\n",
              "      <th></th>\n",
              "      <th></th>\n",
              "      <th></th>\n",
              "      <th></th>\n",
              "      <th></th>\n",
              "    </tr>\n",
              "  </thead>\n",
              "  <tbody>\n",
              "    <tr>\n",
              "      <th>Jetta Variant</th>\n",
              "      <td>Motor 4.0 Turbo</td>\n",
              "      <td>2003</td>\n",
              "      <td>44410.0</td>\n",
              "      <td>False</td>\n",
              "      <td>['Rodas de liga', 'Travas elétricas', 'Piloto ...</td>\n",
              "      <td>88078.64</td>\n",
              "      <td>-1981.003962</td>\n",
              "    </tr>\n",
              "    <tr>\n",
              "      <th>Passat</th>\n",
              "      <td>Motor Diesel</td>\n",
              "      <td>1991</td>\n",
              "      <td>5712.0</td>\n",
              "      <td>False</td>\n",
              "      <td>['Central multimídia', 'Teto panorâmico', 'Fre...</td>\n",
              "      <td>106161.94</td>\n",
              "      <td>-1988.170877</td>\n",
              "    </tr>\n",
              "    <tr>\n",
              "      <th>Crossfox</th>\n",
              "      <td>Motor Diesel V8</td>\n",
              "      <td>1990</td>\n",
              "      <td>37123.0</td>\n",
              "      <td>False</td>\n",
              "      <td>['Piloto automático', 'Controle de estabilidad...</td>\n",
              "      <td>72832.16</td>\n",
              "      <td>-1971.613175</td>\n",
              "    </tr>\n",
              "    <tr>\n",
              "      <th>DS5</th>\n",
              "      <td>Motor 2.4 Turbo</td>\n",
              "      <td>2019</td>\n",
              "      <td>NaN</td>\n",
              "      <td>True</td>\n",
              "      <td>['Travas elétricas', '4 X 4', 'Vidros elétrico...</td>\n",
              "      <td>124549.07</td>\n",
              "      <td>0.000000</td>\n",
              "    </tr>\n",
              "    <tr>\n",
              "      <th>Aston Martin DB4</th>\n",
              "      <td>Motor 2.4 Turbo</td>\n",
              "      <td>2006</td>\n",
              "      <td>25757.0</td>\n",
              "      <td>False</td>\n",
              "      <td>['Rodas de liga', '4 X 4', 'Central multimídia...</td>\n",
              "      <td>92612.10</td>\n",
              "      <td>-1993.242694</td>\n",
              "    </tr>\n",
              "    <tr>\n",
              "      <th>...</th>\n",
              "      <td>...</td>\n",
              "      <td>...</td>\n",
              "      <td>...</td>\n",
              "      <td>...</td>\n",
              "      <td>...</td>\n",
              "      <td>...</td>\n",
              "      <td>...</td>\n",
              "    </tr>\n",
              "    <tr>\n",
              "      <th>Phantom 2013</th>\n",
              "      <td>Motor V8</td>\n",
              "      <td>2014</td>\n",
              "      <td>27505.0</td>\n",
              "      <td>False</td>\n",
              "      <td>['Controle de estabilidade', 'Piloto automátic...</td>\n",
              "      <td>51759.58</td>\n",
              "      <td>-2000.376919</td>\n",
              "    </tr>\n",
              "    <tr>\n",
              "      <th>Cadillac Ciel concept</th>\n",
              "      <td>Motor V8</td>\n",
              "      <td>1991</td>\n",
              "      <td>29981.0</td>\n",
              "      <td>False</td>\n",
              "      <td>['Bancos de couro', 'Painel digital', 'Sensor ...</td>\n",
              "      <td>51667.06</td>\n",
              "      <td>-1976.150570</td>\n",
              "    </tr>\n",
              "    <tr>\n",
              "      <th>Classe GLK</th>\n",
              "      <td>Motor 5.0 V8 Bi-Turbo</td>\n",
              "      <td>2002</td>\n",
              "      <td>52637.0</td>\n",
              "      <td>False</td>\n",
              "      <td>['Rodas de liga', 'Controle de tração', 'Câmbi...</td>\n",
              "      <td>68934.03</td>\n",
              "      <td>-1975.929173</td>\n",
              "    </tr>\n",
              "    <tr>\n",
              "      <th>Aston Martin DB5</th>\n",
              "      <td>Motor Diesel</td>\n",
              "      <td>1996</td>\n",
              "      <td>7685.0</td>\n",
              "      <td>False</td>\n",
              "      <td>['Ar condicionado', '4 X 4', 'Câmbio automátic...</td>\n",
              "      <td>122110.90</td>\n",
              "      <td>-1992.193660</td>\n",
              "    </tr>\n",
              "    <tr>\n",
              "      <th>Macan</th>\n",
              "      <td>Motor Diesel V6</td>\n",
              "      <td>1992</td>\n",
              "      <td>50188.0</td>\n",
              "      <td>False</td>\n",
              "      <td>['Central multimídia', 'Teto panorâmico', 'Vid...</td>\n",
              "      <td>90381.47</td>\n",
              "      <td>-1967.142150</td>\n",
              "    </tr>\n",
              "  </tbody>\n",
              "</table>\n",
              "<p>258 rows × 7 columns</p>\n",
              "</div>\n",
              "      <button class=\"colab-df-convert\" onclick=\"convertToInteractive('df-829d5be0-c096-4ae8-9210-472a0083c12d')\"\n",
              "              title=\"Convert this dataframe to an interactive table.\"\n",
              "              style=\"display:none;\">\n",
              "        \n",
              "  <svg xmlns=\"http://www.w3.org/2000/svg\" height=\"24px\"viewBox=\"0 0 24 24\"\n",
              "       width=\"24px\">\n",
              "    <path d=\"M0 0h24v24H0V0z\" fill=\"none\"/>\n",
              "    <path d=\"M18.56 5.44l.94 2.06.94-2.06 2.06-.94-2.06-.94-.94-2.06-.94 2.06-2.06.94zm-11 1L8.5 8.5l.94-2.06 2.06-.94-2.06-.94L8.5 2.5l-.94 2.06-2.06.94zm10 10l.94 2.06.94-2.06 2.06-.94-2.06-.94-.94-2.06-.94 2.06-2.06.94z\"/><path d=\"M17.41 7.96l-1.37-1.37c-.4-.4-.92-.59-1.43-.59-.52 0-1.04.2-1.43.59L10.3 9.45l-7.72 7.72c-.78.78-.78 2.05 0 2.83L4 21.41c.39.39.9.59 1.41.59.51 0 1.02-.2 1.41-.59l7.78-7.78 2.81-2.81c.8-.78.8-2.07 0-2.86zM5.41 20L4 18.59l7.72-7.72 1.47 1.35L5.41 20z\"/>\n",
              "  </svg>\n",
              "      </button>\n",
              "      \n",
              "  <style>\n",
              "    .colab-df-container {\n",
              "      display:flex;\n",
              "      flex-wrap:wrap;\n",
              "      gap: 12px;\n",
              "    }\n",
              "\n",
              "    .colab-df-convert {\n",
              "      background-color: #E8F0FE;\n",
              "      border: none;\n",
              "      border-radius: 50%;\n",
              "      cursor: pointer;\n",
              "      display: none;\n",
              "      fill: #1967D2;\n",
              "      height: 32px;\n",
              "      padding: 0 0 0 0;\n",
              "      width: 32px;\n",
              "    }\n",
              "\n",
              "    .colab-df-convert:hover {\n",
              "      background-color: #E2EBFA;\n",
              "      box-shadow: 0px 1px 2px rgba(60, 64, 67, 0.3), 0px 1px 3px 1px rgba(60, 64, 67, 0.15);\n",
              "      fill: #174EA6;\n",
              "    }\n",
              "\n",
              "    [theme=dark] .colab-df-convert {\n",
              "      background-color: #3B4455;\n",
              "      fill: #D2E3FC;\n",
              "    }\n",
              "\n",
              "    [theme=dark] .colab-df-convert:hover {\n",
              "      background-color: #434B5C;\n",
              "      box-shadow: 0px 1px 3px 1px rgba(0, 0, 0, 0.15);\n",
              "      filter: drop-shadow(0px 1px 2px rgba(0, 0, 0, 0.3));\n",
              "      fill: #FFFFFF;\n",
              "    }\n",
              "  </style>\n",
              "\n",
              "      <script>\n",
              "        const buttonEl =\n",
              "          document.querySelector('#df-829d5be0-c096-4ae8-9210-472a0083c12d button.colab-df-convert');\n",
              "        buttonEl.style.display =\n",
              "          google.colab.kernel.accessAllowed ? 'block' : 'none';\n",
              "\n",
              "        async function convertToInteractive(key) {\n",
              "          const element = document.querySelector('#df-829d5be0-c096-4ae8-9210-472a0083c12d');\n",
              "          const dataTable =\n",
              "            await google.colab.kernel.invokeFunction('convertToInteractive',\n",
              "                                                     [key], {});\n",
              "          if (!dataTable) return;\n",
              "\n",
              "          const docLinkHtml = 'Like what you see? Visit the ' +\n",
              "            '<a target=\"_blank\" href=https://colab.research.google.com/notebooks/data_table.ipynb>data table notebook</a>'\n",
              "            + ' to learn more about interactive tables.';\n",
              "          element.innerHTML = '';\n",
              "          dataTable['output_type'] = 'display_data';\n",
              "          await google.colab.output.renderOutput(dataTable, element);\n",
              "          const docLink = document.createElement('div');\n",
              "          docLink.innerHTML = docLinkHtml;\n",
              "          element.appendChild(docLink);\n",
              "        }\n",
              "      </script>\n",
              "    </div>\n",
              "  </div>\n",
              "  "
            ],
            "text/plain": [
              "                                       Motor   Ano  ...      Valor     km_media\n",
              "Nome                                                ...                        \n",
              "Jetta Variant                Motor 4.0 Turbo  2003  ...   88078.64 -1981.003962\n",
              "Passat                          Motor Diesel  1991  ...  106161.94 -1988.170877\n",
              "Crossfox                     Motor Diesel V8  1990  ...   72832.16 -1971.613175\n",
              "DS5                          Motor 2.4 Turbo  2019  ...  124549.07     0.000000\n",
              "Aston Martin DB4             Motor 2.4 Turbo  2006  ...   92612.10 -1993.242694\n",
              "...                                      ...   ...  ...        ...          ...\n",
              "Phantom 2013                        Motor V8  2014  ...   51759.58 -2000.376919\n",
              "Cadillac Ciel concept               Motor V8  1991  ...   51667.06 -1976.150570\n",
              "Classe GLK             Motor 5.0 V8 Bi-Turbo  2002  ...   68934.03 -1975.929173\n",
              "Aston Martin DB5                Motor Diesel  1996  ...  122110.90 -1992.193660\n",
              "Macan                        Motor Diesel V6  1992  ...   90381.47 -1967.142150\n",
              "\n",
              "[258 rows x 7 columns]"
            ]
          },
          "metadata": {},
          "execution_count": 78
        }
      ]
    },
    {
      "cell_type": "code",
      "source": [
        "dataset.items()"
      ],
      "metadata": {
        "colab": {
          "base_uri": "https://localhost:8080/"
        },
        "id": "UEfc2P95N7cy",
        "outputId": "e48aa2d8-a785-4eb9-9e52-e693884e6cfc"
      },
      "execution_count": 81,
      "outputs": [
        {
          "output_type": "execute_result",
          "data": {
            "text/plain": [
              "<generator object DataFrame.items at 0x7ff2ec2a45d0>"
            ]
          },
          "metadata": {},
          "execution_count": 81
        }
      ]
    },
    {
      "cell_type": "markdown",
      "metadata": {
        "id": "HnUzHFQPD1Ba"
      },
      "source": [
        "# 5.5 Tratamento de dados"
      ]
    },
    {
      "cell_type": "code",
      "metadata": {
        "id": "FRxBWoBGD1Ba",
        "colab": {
          "base_uri": "https://localhost:8080/"
        },
        "outputId": "9d529cf1-1f34-4881-8778-761b0156ae3c"
      },
      "source": [
        "dataset.info()"
      ],
      "execution_count": 83,
      "outputs": [
        {
          "output_type": "stream",
          "name": "stdout",
          "text": [
            "<class 'pandas.core.frame.DataFrame'>\n",
            "Index: 258 entries, Jetta Variant to Macan\n",
            "Data columns (total 7 columns):\n",
            " #   Column         Non-Null Count  Dtype  \n",
            "---  ------         --------------  -----  \n",
            " 0   Motor          258 non-null    object \n",
            " 1   Ano            258 non-null    int64  \n",
            " 2   Quilometragem  197 non-null    float64\n",
            " 3   Zero_km        258 non-null    bool   \n",
            " 4   Acessórios     258 non-null    object \n",
            " 5   Valor          258 non-null    float64\n",
            " 6   km_media       258 non-null    float64\n",
            "dtypes: bool(1), float64(3), int64(1), object(2)\n",
            "memory usage: 22.5+ KB\n"
          ]
        }
      ]
    },
    {
      "cell_type": "code",
      "metadata": {
        "id": "HHSwH0ZaD1Bc",
        "colab": {
          "base_uri": "https://localhost:8080/"
        },
        "outputId": "bfa915a5-5631-4a65-c9f8-727c868bf360"
      },
      "source": [
        "#selecionar as informações que sao nulas ou nao, series boliana quando for nan é true senao é false\n",
        "dataset.Quilometragem.isna()"
      ],
      "execution_count": 84,
      "outputs": [
        {
          "output_type": "execute_result",
          "data": {
            "text/plain": [
              "Nome\n",
              "Jetta Variant            False\n",
              "Passat                   False\n",
              "Crossfox                 False\n",
              "DS5                       True\n",
              "Aston Martin DB4         False\n",
              "                         ...  \n",
              "Phantom 2013             False\n",
              "Cadillac Ciel concept    False\n",
              "Classe GLK               False\n",
              "Aston Martin DB5         False\n",
              "Macan                    False\n",
              "Name: Quilometragem, Length: 258, dtype: bool"
            ]
          },
          "metadata": {},
          "execution_count": 84
        }
      ]
    },
    {
      "cell_type": "code",
      "metadata": {
        "scrolled": true,
        "id": "G27pxgZ5D1Bd",
        "colab": {
          "base_uri": "https://localhost:8080/",
          "height": 672
        },
        "outputId": "9680a06a-3ce8-4e1b-9c17-4d702f30ae07"
      },
      "source": [
        "#para isso fazeremos a selecao\n",
        "dataset[dataset.Quilometragem.isna()]"
      ],
      "execution_count": 85,
      "outputs": [
        {
          "output_type": "execute_result",
          "data": {
            "text/html": [
              "\n",
              "  <div id=\"df-da59f7d3-74f3-45c4-9f91-0b4683a94278\">\n",
              "    <div class=\"colab-df-container\">\n",
              "      <div>\n",
              "<style scoped>\n",
              "    .dataframe tbody tr th:only-of-type {\n",
              "        vertical-align: middle;\n",
              "    }\n",
              "\n",
              "    .dataframe tbody tr th {\n",
              "        vertical-align: top;\n",
              "    }\n",
              "\n",
              "    .dataframe thead th {\n",
              "        text-align: right;\n",
              "    }\n",
              "</style>\n",
              "<table border=\"1\" class=\"dataframe\">\n",
              "  <thead>\n",
              "    <tr style=\"text-align: right;\">\n",
              "      <th></th>\n",
              "      <th>Motor</th>\n",
              "      <th>Ano</th>\n",
              "      <th>Quilometragem</th>\n",
              "      <th>Zero_km</th>\n",
              "      <th>Acessórios</th>\n",
              "      <th>Valor</th>\n",
              "      <th>km_media</th>\n",
              "    </tr>\n",
              "    <tr>\n",
              "      <th>Nome</th>\n",
              "      <th></th>\n",
              "      <th></th>\n",
              "      <th></th>\n",
              "      <th></th>\n",
              "      <th></th>\n",
              "      <th></th>\n",
              "      <th></th>\n",
              "    </tr>\n",
              "  </thead>\n",
              "  <tbody>\n",
              "    <tr>\n",
              "      <th>DS5</th>\n",
              "      <td>Motor 2.4 Turbo</td>\n",
              "      <td>2019</td>\n",
              "      <td>NaN</td>\n",
              "      <td>True</td>\n",
              "      <td>['Travas elétricas', '4 X 4', 'Vidros elétrico...</td>\n",
              "      <td>124549.07</td>\n",
              "      <td>0.0</td>\n",
              "    </tr>\n",
              "    <tr>\n",
              "      <th>A5</th>\n",
              "      <td>Motor 4.0 Turbo</td>\n",
              "      <td>2019</td>\n",
              "      <td>NaN</td>\n",
              "      <td>True</td>\n",
              "      <td>['Câmbio automático', 'Câmera de estacionament...</td>\n",
              "      <td>56445.20</td>\n",
              "      <td>0.0</td>\n",
              "    </tr>\n",
              "    <tr>\n",
              "      <th>J5</th>\n",
              "      <td>Motor V6</td>\n",
              "      <td>2019</td>\n",
              "      <td>NaN</td>\n",
              "      <td>True</td>\n",
              "      <td>['Sensor crepuscular', 'Painel digital', 'Roda...</td>\n",
              "      <td>53183.38</td>\n",
              "      <td>0.0</td>\n",
              "    </tr>\n",
              "    <tr>\n",
              "      <th>A3</th>\n",
              "      <td>Motor 1.0 8v</td>\n",
              "      <td>2019</td>\n",
              "      <td>NaN</td>\n",
              "      <td>True</td>\n",
              "      <td>['4 X 4', 'Piloto automático', 'Central multim...</td>\n",
              "      <td>88552.39</td>\n",
              "      <td>0.0</td>\n",
              "    </tr>\n",
              "    <tr>\n",
              "      <th>Série 1 M</th>\n",
              "      <td>Motor V8</td>\n",
              "      <td>2019</td>\n",
              "      <td>NaN</td>\n",
              "      <td>True</td>\n",
              "      <td>['Controle de estabilidade', 'Central multimíd...</td>\n",
              "      <td>94564.40</td>\n",
              "      <td>0.0</td>\n",
              "    </tr>\n",
              "    <tr>\n",
              "      <th>...</th>\n",
              "      <td>...</td>\n",
              "      <td>...</td>\n",
              "      <td>...</td>\n",
              "      <td>...</td>\n",
              "      <td>...</td>\n",
              "      <td>...</td>\n",
              "      <td>...</td>\n",
              "    </tr>\n",
              "    <tr>\n",
              "      <th>Lamborghini Reventón</th>\n",
              "      <td>Motor 4.0 Turbo</td>\n",
              "      <td>2019</td>\n",
              "      <td>NaN</td>\n",
              "      <td>True</td>\n",
              "      <td>['Controle de tração', 'Ar condicionado', 'Cen...</td>\n",
              "      <td>67664.86</td>\n",
              "      <td>0.0</td>\n",
              "    </tr>\n",
              "    <tr>\n",
              "      <th>Benni Mini</th>\n",
              "      <td>Motor V8</td>\n",
              "      <td>2019</td>\n",
              "      <td>NaN</td>\n",
              "      <td>True</td>\n",
              "      <td>['Sensor crepuscular', 'Câmbio automático', 'C...</td>\n",
              "      <td>126247.84</td>\n",
              "      <td>0.0</td>\n",
              "    </tr>\n",
              "    <tr>\n",
              "      <th>Uno</th>\n",
              "      <td>Motor Diesel V6</td>\n",
              "      <td>2019</td>\n",
              "      <td>NaN</td>\n",
              "      <td>True</td>\n",
              "      <td>['Central multimídia', 'Sensor crepuscular', '...</td>\n",
              "      <td>128852.21</td>\n",
              "      <td>0.0</td>\n",
              "    </tr>\n",
              "    <tr>\n",
              "      <th>Santa Fe</th>\n",
              "      <td>Motor 3.0 32v</td>\n",
              "      <td>2019</td>\n",
              "      <td>NaN</td>\n",
              "      <td>True</td>\n",
              "      <td>['Travas elétricas', 'Ar condicionado', '4 X 4...</td>\n",
              "      <td>129415.33</td>\n",
              "      <td>0.0</td>\n",
              "    </tr>\n",
              "    <tr>\n",
              "      <th>XC60</th>\n",
              "      <td>Motor 4.0 Turbo</td>\n",
              "      <td>2019</td>\n",
              "      <td>NaN</td>\n",
              "      <td>True</td>\n",
              "      <td>['Painel digital', 'Piloto automático', 'Centr...</td>\n",
              "      <td>77675.79</td>\n",
              "      <td>0.0</td>\n",
              "    </tr>\n",
              "  </tbody>\n",
              "</table>\n",
              "<p>61 rows × 7 columns</p>\n",
              "</div>\n",
              "      <button class=\"colab-df-convert\" onclick=\"convertToInteractive('df-da59f7d3-74f3-45c4-9f91-0b4683a94278')\"\n",
              "              title=\"Convert this dataframe to an interactive table.\"\n",
              "              style=\"display:none;\">\n",
              "        \n",
              "  <svg xmlns=\"http://www.w3.org/2000/svg\" height=\"24px\"viewBox=\"0 0 24 24\"\n",
              "       width=\"24px\">\n",
              "    <path d=\"M0 0h24v24H0V0z\" fill=\"none\"/>\n",
              "    <path d=\"M18.56 5.44l.94 2.06.94-2.06 2.06-.94-2.06-.94-.94-2.06-.94 2.06-2.06.94zm-11 1L8.5 8.5l.94-2.06 2.06-.94-2.06-.94L8.5 2.5l-.94 2.06-2.06.94zm10 10l.94 2.06.94-2.06 2.06-.94-2.06-.94-.94-2.06-.94 2.06-2.06.94z\"/><path d=\"M17.41 7.96l-1.37-1.37c-.4-.4-.92-.59-1.43-.59-.52 0-1.04.2-1.43.59L10.3 9.45l-7.72 7.72c-.78.78-.78 2.05 0 2.83L4 21.41c.39.39.9.59 1.41.59.51 0 1.02-.2 1.41-.59l7.78-7.78 2.81-2.81c.8-.78.8-2.07 0-2.86zM5.41 20L4 18.59l7.72-7.72 1.47 1.35L5.41 20z\"/>\n",
              "  </svg>\n",
              "      </button>\n",
              "      \n",
              "  <style>\n",
              "    .colab-df-container {\n",
              "      display:flex;\n",
              "      flex-wrap:wrap;\n",
              "      gap: 12px;\n",
              "    }\n",
              "\n",
              "    .colab-df-convert {\n",
              "      background-color: #E8F0FE;\n",
              "      border: none;\n",
              "      border-radius: 50%;\n",
              "      cursor: pointer;\n",
              "      display: none;\n",
              "      fill: #1967D2;\n",
              "      height: 32px;\n",
              "      padding: 0 0 0 0;\n",
              "      width: 32px;\n",
              "    }\n",
              "\n",
              "    .colab-df-convert:hover {\n",
              "      background-color: #E2EBFA;\n",
              "      box-shadow: 0px 1px 2px rgba(60, 64, 67, 0.3), 0px 1px 3px 1px rgba(60, 64, 67, 0.15);\n",
              "      fill: #174EA6;\n",
              "    }\n",
              "\n",
              "    [theme=dark] .colab-df-convert {\n",
              "      background-color: #3B4455;\n",
              "      fill: #D2E3FC;\n",
              "    }\n",
              "\n",
              "    [theme=dark] .colab-df-convert:hover {\n",
              "      background-color: #434B5C;\n",
              "      box-shadow: 0px 1px 3px 1px rgba(0, 0, 0, 0.15);\n",
              "      filter: drop-shadow(0px 1px 2px rgba(0, 0, 0, 0.3));\n",
              "      fill: #FFFFFF;\n",
              "    }\n",
              "  </style>\n",
              "\n",
              "      <script>\n",
              "        const buttonEl =\n",
              "          document.querySelector('#df-da59f7d3-74f3-45c4-9f91-0b4683a94278 button.colab-df-convert');\n",
              "        buttonEl.style.display =\n",
              "          google.colab.kernel.accessAllowed ? 'block' : 'none';\n",
              "\n",
              "        async function convertToInteractive(key) {\n",
              "          const element = document.querySelector('#df-da59f7d3-74f3-45c4-9f91-0b4683a94278');\n",
              "          const dataTable =\n",
              "            await google.colab.kernel.invokeFunction('convertToInteractive',\n",
              "                                                     [key], {});\n",
              "          if (!dataTable) return;\n",
              "\n",
              "          const docLinkHtml = 'Like what you see? Visit the ' +\n",
              "            '<a target=\"_blank\" href=https://colab.research.google.com/notebooks/data_table.ipynb>data table notebook</a>'\n",
              "            + ' to learn more about interactive tables.';\n",
              "          element.innerHTML = '';\n",
              "          dataTable['output_type'] = 'display_data';\n",
              "          await google.colab.output.renderOutput(dataTable, element);\n",
              "          const docLink = document.createElement('div');\n",
              "          docLink.innerHTML = docLinkHtml;\n",
              "          element.appendChild(docLink);\n",
              "        }\n",
              "      </script>\n",
              "    </div>\n",
              "  </div>\n",
              "  "
            ],
            "text/plain": [
              "                                Motor   Ano  ...      Valor  km_media\n",
              "Nome                                         ...                     \n",
              "DS5                   Motor 2.4 Turbo  2019  ...  124549.07       0.0\n",
              "A5                    Motor 4.0 Turbo  2019  ...   56445.20       0.0\n",
              "J5                           Motor V6  2019  ...   53183.38       0.0\n",
              "A3                       Motor 1.0 8v  2019  ...   88552.39       0.0\n",
              "Série 1 M                    Motor V8  2019  ...   94564.40       0.0\n",
              "...                               ...   ...  ...        ...       ...\n",
              "Lamborghini Reventón  Motor 4.0 Turbo  2019  ...   67664.86       0.0\n",
              "Benni Mini                   Motor V8  2019  ...  126247.84       0.0\n",
              "Uno                   Motor Diesel V6  2019  ...  128852.21       0.0\n",
              "Santa Fe                Motor 3.0 32v  2019  ...  129415.33       0.0\n",
              "XC60                  Motor 4.0 Turbo  2019  ...   77675.79       0.0\n",
              "\n",
              "[61 rows x 7 columns]"
            ]
          },
          "metadata": {},
          "execution_count": 85
        }
      ]
    },
    {
      "cell_type": "code",
      "metadata": {
        "scrolled": true,
        "id": "DhlRbxy2D1Bd"
      },
      "source": [
        "#ano 2019, Zero_km, deviam estar com zero_km é igual, e  com isso podemos substituir o nan pelo 0 \n",
        "#ou qq outro numero\n",
        "dataset.fillna(0, inplace = True) \n",
        "#ele só faz altercao somente na visualizacao , nao como troca mesmo só se colcar o parametro inplace"
      ],
      "execution_count": 89,
      "outputs": []
    },
    {
      "cell_type": "code",
      "metadata": {
        "id": "OL04QU5RD1Be",
        "colab": {
          "base_uri": "https://localhost:8080/",
          "height": 672
        },
        "outputId": "73637003-99ca-482a-fc91-4c67eb024e39"
      },
      "source": [
        "dataset"
      ],
      "execution_count": 90,
      "outputs": [
        {
          "output_type": "execute_result",
          "data": {
            "text/html": [
              "\n",
              "  <div id=\"df-fa536747-d1ea-4a00-9008-34e40bc89f7f\">\n",
              "    <div class=\"colab-df-container\">\n",
              "      <div>\n",
              "<style scoped>\n",
              "    .dataframe tbody tr th:only-of-type {\n",
              "        vertical-align: middle;\n",
              "    }\n",
              "\n",
              "    .dataframe tbody tr th {\n",
              "        vertical-align: top;\n",
              "    }\n",
              "\n",
              "    .dataframe thead th {\n",
              "        text-align: right;\n",
              "    }\n",
              "</style>\n",
              "<table border=\"1\" class=\"dataframe\">\n",
              "  <thead>\n",
              "    <tr style=\"text-align: right;\">\n",
              "      <th></th>\n",
              "      <th>Motor</th>\n",
              "      <th>Ano</th>\n",
              "      <th>Quilometragem</th>\n",
              "      <th>Zero_km</th>\n",
              "      <th>Acessórios</th>\n",
              "      <th>Valor</th>\n",
              "      <th>km_media</th>\n",
              "    </tr>\n",
              "    <tr>\n",
              "      <th>Nome</th>\n",
              "      <th></th>\n",
              "      <th></th>\n",
              "      <th></th>\n",
              "      <th></th>\n",
              "      <th></th>\n",
              "      <th></th>\n",
              "      <th></th>\n",
              "    </tr>\n",
              "  </thead>\n",
              "  <tbody>\n",
              "    <tr>\n",
              "      <th>Jetta Variant</th>\n",
              "      <td>Motor 4.0 Turbo</td>\n",
              "      <td>2003</td>\n",
              "      <td>44410.0</td>\n",
              "      <td>False</td>\n",
              "      <td>['Rodas de liga', 'Travas elétricas', 'Piloto ...</td>\n",
              "      <td>88078.64</td>\n",
              "      <td>-1981.003962</td>\n",
              "    </tr>\n",
              "    <tr>\n",
              "      <th>Passat</th>\n",
              "      <td>Motor Diesel</td>\n",
              "      <td>1991</td>\n",
              "      <td>5712.0</td>\n",
              "      <td>False</td>\n",
              "      <td>['Central multimídia', 'Teto panorâmico', 'Fre...</td>\n",
              "      <td>106161.94</td>\n",
              "      <td>-1988.170877</td>\n",
              "    </tr>\n",
              "    <tr>\n",
              "      <th>Crossfox</th>\n",
              "      <td>Motor Diesel V8</td>\n",
              "      <td>1990</td>\n",
              "      <td>37123.0</td>\n",
              "      <td>False</td>\n",
              "      <td>['Piloto automático', 'Controle de estabilidad...</td>\n",
              "      <td>72832.16</td>\n",
              "      <td>-1971.613175</td>\n",
              "    </tr>\n",
              "    <tr>\n",
              "      <th>DS5</th>\n",
              "      <td>Motor 2.4 Turbo</td>\n",
              "      <td>2019</td>\n",
              "      <td>0.0</td>\n",
              "      <td>True</td>\n",
              "      <td>['Travas elétricas', '4 X 4', 'Vidros elétrico...</td>\n",
              "      <td>124549.07</td>\n",
              "      <td>0.000000</td>\n",
              "    </tr>\n",
              "    <tr>\n",
              "      <th>Aston Martin DB4</th>\n",
              "      <td>Motor 2.4 Turbo</td>\n",
              "      <td>2006</td>\n",
              "      <td>25757.0</td>\n",
              "      <td>False</td>\n",
              "      <td>['Rodas de liga', '4 X 4', 'Central multimídia...</td>\n",
              "      <td>92612.10</td>\n",
              "      <td>-1993.242694</td>\n",
              "    </tr>\n",
              "    <tr>\n",
              "      <th>...</th>\n",
              "      <td>...</td>\n",
              "      <td>...</td>\n",
              "      <td>...</td>\n",
              "      <td>...</td>\n",
              "      <td>...</td>\n",
              "      <td>...</td>\n",
              "      <td>...</td>\n",
              "    </tr>\n",
              "    <tr>\n",
              "      <th>Phantom 2013</th>\n",
              "      <td>Motor V8</td>\n",
              "      <td>2014</td>\n",
              "      <td>27505.0</td>\n",
              "      <td>False</td>\n",
              "      <td>['Controle de estabilidade', 'Piloto automátic...</td>\n",
              "      <td>51759.58</td>\n",
              "      <td>-2000.376919</td>\n",
              "    </tr>\n",
              "    <tr>\n",
              "      <th>Cadillac Ciel concept</th>\n",
              "      <td>Motor V8</td>\n",
              "      <td>1991</td>\n",
              "      <td>29981.0</td>\n",
              "      <td>False</td>\n",
              "      <td>['Bancos de couro', 'Painel digital', 'Sensor ...</td>\n",
              "      <td>51667.06</td>\n",
              "      <td>-1976.150570</td>\n",
              "    </tr>\n",
              "    <tr>\n",
              "      <th>Classe GLK</th>\n",
              "      <td>Motor 5.0 V8 Bi-Turbo</td>\n",
              "      <td>2002</td>\n",
              "      <td>52637.0</td>\n",
              "      <td>False</td>\n",
              "      <td>['Rodas de liga', 'Controle de tração', 'Câmbi...</td>\n",
              "      <td>68934.03</td>\n",
              "      <td>-1975.929173</td>\n",
              "    </tr>\n",
              "    <tr>\n",
              "      <th>Aston Martin DB5</th>\n",
              "      <td>Motor Diesel</td>\n",
              "      <td>1996</td>\n",
              "      <td>7685.0</td>\n",
              "      <td>False</td>\n",
              "      <td>['Ar condicionado', '4 X 4', 'Câmbio automátic...</td>\n",
              "      <td>122110.90</td>\n",
              "      <td>-1992.193660</td>\n",
              "    </tr>\n",
              "    <tr>\n",
              "      <th>Macan</th>\n",
              "      <td>Motor Diesel V6</td>\n",
              "      <td>1992</td>\n",
              "      <td>50188.0</td>\n",
              "      <td>False</td>\n",
              "      <td>['Central multimídia', 'Teto panorâmico', 'Vid...</td>\n",
              "      <td>90381.47</td>\n",
              "      <td>-1967.142150</td>\n",
              "    </tr>\n",
              "  </tbody>\n",
              "</table>\n",
              "<p>258 rows × 7 columns</p>\n",
              "</div>\n",
              "      <button class=\"colab-df-convert\" onclick=\"convertToInteractive('df-fa536747-d1ea-4a00-9008-34e40bc89f7f')\"\n",
              "              title=\"Convert this dataframe to an interactive table.\"\n",
              "              style=\"display:none;\">\n",
              "        \n",
              "  <svg xmlns=\"http://www.w3.org/2000/svg\" height=\"24px\"viewBox=\"0 0 24 24\"\n",
              "       width=\"24px\">\n",
              "    <path d=\"M0 0h24v24H0V0z\" fill=\"none\"/>\n",
              "    <path d=\"M18.56 5.44l.94 2.06.94-2.06 2.06-.94-2.06-.94-.94-2.06-.94 2.06-2.06.94zm-11 1L8.5 8.5l.94-2.06 2.06-.94-2.06-.94L8.5 2.5l-.94 2.06-2.06.94zm10 10l.94 2.06.94-2.06 2.06-.94-2.06-.94-.94-2.06-.94 2.06-2.06.94z\"/><path d=\"M17.41 7.96l-1.37-1.37c-.4-.4-.92-.59-1.43-.59-.52 0-1.04.2-1.43.59L10.3 9.45l-7.72 7.72c-.78.78-.78 2.05 0 2.83L4 21.41c.39.39.9.59 1.41.59.51 0 1.02-.2 1.41-.59l7.78-7.78 2.81-2.81c.8-.78.8-2.07 0-2.86zM5.41 20L4 18.59l7.72-7.72 1.47 1.35L5.41 20z\"/>\n",
              "  </svg>\n",
              "      </button>\n",
              "      \n",
              "  <style>\n",
              "    .colab-df-container {\n",
              "      display:flex;\n",
              "      flex-wrap:wrap;\n",
              "      gap: 12px;\n",
              "    }\n",
              "\n",
              "    .colab-df-convert {\n",
              "      background-color: #E8F0FE;\n",
              "      border: none;\n",
              "      border-radius: 50%;\n",
              "      cursor: pointer;\n",
              "      display: none;\n",
              "      fill: #1967D2;\n",
              "      height: 32px;\n",
              "      padding: 0 0 0 0;\n",
              "      width: 32px;\n",
              "    }\n",
              "\n",
              "    .colab-df-convert:hover {\n",
              "      background-color: #E2EBFA;\n",
              "      box-shadow: 0px 1px 2px rgba(60, 64, 67, 0.3), 0px 1px 3px 1px rgba(60, 64, 67, 0.15);\n",
              "      fill: #174EA6;\n",
              "    }\n",
              "\n",
              "    [theme=dark] .colab-df-convert {\n",
              "      background-color: #3B4455;\n",
              "      fill: #D2E3FC;\n",
              "    }\n",
              "\n",
              "    [theme=dark] .colab-df-convert:hover {\n",
              "      background-color: #434B5C;\n",
              "      box-shadow: 0px 1px 3px 1px rgba(0, 0, 0, 0.15);\n",
              "      filter: drop-shadow(0px 1px 2px rgba(0, 0, 0, 0.3));\n",
              "      fill: #FFFFFF;\n",
              "    }\n",
              "  </style>\n",
              "\n",
              "      <script>\n",
              "        const buttonEl =\n",
              "          document.querySelector('#df-fa536747-d1ea-4a00-9008-34e40bc89f7f button.colab-df-convert');\n",
              "        buttonEl.style.display =\n",
              "          google.colab.kernel.accessAllowed ? 'block' : 'none';\n",
              "\n",
              "        async function convertToInteractive(key) {\n",
              "          const element = document.querySelector('#df-fa536747-d1ea-4a00-9008-34e40bc89f7f');\n",
              "          const dataTable =\n",
              "            await google.colab.kernel.invokeFunction('convertToInteractive',\n",
              "                                                     [key], {});\n",
              "          if (!dataTable) return;\n",
              "\n",
              "          const docLinkHtml = 'Like what you see? Visit the ' +\n",
              "            '<a target=\"_blank\" href=https://colab.research.google.com/notebooks/data_table.ipynb>data table notebook</a>'\n",
              "            + ' to learn more about interactive tables.';\n",
              "          element.innerHTML = '';\n",
              "          dataTable['output_type'] = 'display_data';\n",
              "          await google.colab.output.renderOutput(dataTable, element);\n",
              "          const docLink = document.createElement('div');\n",
              "          docLink.innerHTML = docLinkHtml;\n",
              "          element.appendChild(docLink);\n",
              "        }\n",
              "      </script>\n",
              "    </div>\n",
              "  </div>\n",
              "  "
            ],
            "text/plain": [
              "                                       Motor   Ano  ...      Valor     km_media\n",
              "Nome                                                ...                        \n",
              "Jetta Variant                Motor 4.0 Turbo  2003  ...   88078.64 -1981.003962\n",
              "Passat                          Motor Diesel  1991  ...  106161.94 -1988.170877\n",
              "Crossfox                     Motor Diesel V8  1990  ...   72832.16 -1971.613175\n",
              "DS5                          Motor 2.4 Turbo  2019  ...  124549.07     0.000000\n",
              "Aston Martin DB4             Motor 2.4 Turbo  2006  ...   92612.10 -1993.242694\n",
              "...                                      ...   ...  ...        ...          ...\n",
              "Phantom 2013                        Motor V8  2014  ...   51759.58 -2000.376919\n",
              "Cadillac Ciel concept               Motor V8  1991  ...   51667.06 -1976.150570\n",
              "Classe GLK             Motor 5.0 V8 Bi-Turbo  2002  ...   68934.03 -1975.929173\n",
              "Aston Martin DB5                Motor Diesel  1996  ...  122110.90 -1992.193660\n",
              "Macan                        Motor Diesel V6  1992  ...   90381.47 -1967.142150\n",
              "\n",
              "[258 rows x 7 columns]"
            ]
          },
          "metadata": {},
          "execution_count": 90
        }
      ]
    },
    {
      "cell_type": "code",
      "metadata": {
        "scrolled": true,
        "id": "fTH2JkGDD1Bf",
        "colab": {
          "base_uri": "https://localhost:8080/",
          "height": 672
        },
        "outputId": "4cdd0dc3-9392-44f1-ae7a-99608bb11755"
      },
      "source": [
        "dataset.query(\"Zero_km == True\") # para confirmar se for feita a substituicao"
      ],
      "execution_count": 92,
      "outputs": [
        {
          "output_type": "execute_result",
          "data": {
            "text/html": [
              "\n",
              "  <div id=\"df-442a36df-f72b-4db7-991a-650d8917f8be\">\n",
              "    <div class=\"colab-df-container\">\n",
              "      <div>\n",
              "<style scoped>\n",
              "    .dataframe tbody tr th:only-of-type {\n",
              "        vertical-align: middle;\n",
              "    }\n",
              "\n",
              "    .dataframe tbody tr th {\n",
              "        vertical-align: top;\n",
              "    }\n",
              "\n",
              "    .dataframe thead th {\n",
              "        text-align: right;\n",
              "    }\n",
              "</style>\n",
              "<table border=\"1\" class=\"dataframe\">\n",
              "  <thead>\n",
              "    <tr style=\"text-align: right;\">\n",
              "      <th></th>\n",
              "      <th>Motor</th>\n",
              "      <th>Ano</th>\n",
              "      <th>Quilometragem</th>\n",
              "      <th>Zero_km</th>\n",
              "      <th>Acessórios</th>\n",
              "      <th>Valor</th>\n",
              "      <th>km_media</th>\n",
              "    </tr>\n",
              "    <tr>\n",
              "      <th>Nome</th>\n",
              "      <th></th>\n",
              "      <th></th>\n",
              "      <th></th>\n",
              "      <th></th>\n",
              "      <th></th>\n",
              "      <th></th>\n",
              "      <th></th>\n",
              "    </tr>\n",
              "  </thead>\n",
              "  <tbody>\n",
              "    <tr>\n",
              "      <th>DS5</th>\n",
              "      <td>Motor 2.4 Turbo</td>\n",
              "      <td>2019</td>\n",
              "      <td>0.0</td>\n",
              "      <td>True</td>\n",
              "      <td>['Travas elétricas', '4 X 4', 'Vidros elétrico...</td>\n",
              "      <td>124549.07</td>\n",
              "      <td>0.0</td>\n",
              "    </tr>\n",
              "    <tr>\n",
              "      <th>A5</th>\n",
              "      <td>Motor 4.0 Turbo</td>\n",
              "      <td>2019</td>\n",
              "      <td>0.0</td>\n",
              "      <td>True</td>\n",
              "      <td>['Câmbio automático', 'Câmera de estacionament...</td>\n",
              "      <td>56445.20</td>\n",
              "      <td>0.0</td>\n",
              "    </tr>\n",
              "    <tr>\n",
              "      <th>J5</th>\n",
              "      <td>Motor V6</td>\n",
              "      <td>2019</td>\n",
              "      <td>0.0</td>\n",
              "      <td>True</td>\n",
              "      <td>['Sensor crepuscular', 'Painel digital', 'Roda...</td>\n",
              "      <td>53183.38</td>\n",
              "      <td>0.0</td>\n",
              "    </tr>\n",
              "    <tr>\n",
              "      <th>A3</th>\n",
              "      <td>Motor 1.0 8v</td>\n",
              "      <td>2019</td>\n",
              "      <td>0.0</td>\n",
              "      <td>True</td>\n",
              "      <td>['4 X 4', 'Piloto automático', 'Central multim...</td>\n",
              "      <td>88552.39</td>\n",
              "      <td>0.0</td>\n",
              "    </tr>\n",
              "    <tr>\n",
              "      <th>Série 1 M</th>\n",
              "      <td>Motor V8</td>\n",
              "      <td>2019</td>\n",
              "      <td>0.0</td>\n",
              "      <td>True</td>\n",
              "      <td>['Controle de estabilidade', 'Central multimíd...</td>\n",
              "      <td>94564.40</td>\n",
              "      <td>0.0</td>\n",
              "    </tr>\n",
              "    <tr>\n",
              "      <th>...</th>\n",
              "      <td>...</td>\n",
              "      <td>...</td>\n",
              "      <td>...</td>\n",
              "      <td>...</td>\n",
              "      <td>...</td>\n",
              "      <td>...</td>\n",
              "      <td>...</td>\n",
              "    </tr>\n",
              "    <tr>\n",
              "      <th>Lamborghini Reventón</th>\n",
              "      <td>Motor 4.0 Turbo</td>\n",
              "      <td>2019</td>\n",
              "      <td>0.0</td>\n",
              "      <td>True</td>\n",
              "      <td>['Controle de tração', 'Ar condicionado', 'Cen...</td>\n",
              "      <td>67664.86</td>\n",
              "      <td>0.0</td>\n",
              "    </tr>\n",
              "    <tr>\n",
              "      <th>Benni Mini</th>\n",
              "      <td>Motor V8</td>\n",
              "      <td>2019</td>\n",
              "      <td>0.0</td>\n",
              "      <td>True</td>\n",
              "      <td>['Sensor crepuscular', 'Câmbio automático', 'C...</td>\n",
              "      <td>126247.84</td>\n",
              "      <td>0.0</td>\n",
              "    </tr>\n",
              "    <tr>\n",
              "      <th>Uno</th>\n",
              "      <td>Motor Diesel V6</td>\n",
              "      <td>2019</td>\n",
              "      <td>0.0</td>\n",
              "      <td>True</td>\n",
              "      <td>['Central multimídia', 'Sensor crepuscular', '...</td>\n",
              "      <td>128852.21</td>\n",
              "      <td>0.0</td>\n",
              "    </tr>\n",
              "    <tr>\n",
              "      <th>Santa Fe</th>\n",
              "      <td>Motor 3.0 32v</td>\n",
              "      <td>2019</td>\n",
              "      <td>0.0</td>\n",
              "      <td>True</td>\n",
              "      <td>['Travas elétricas', 'Ar condicionado', '4 X 4...</td>\n",
              "      <td>129415.33</td>\n",
              "      <td>0.0</td>\n",
              "    </tr>\n",
              "    <tr>\n",
              "      <th>XC60</th>\n",
              "      <td>Motor 4.0 Turbo</td>\n",
              "      <td>2019</td>\n",
              "      <td>0.0</td>\n",
              "      <td>True</td>\n",
              "      <td>['Painel digital', 'Piloto automático', 'Centr...</td>\n",
              "      <td>77675.79</td>\n",
              "      <td>0.0</td>\n",
              "    </tr>\n",
              "  </tbody>\n",
              "</table>\n",
              "<p>61 rows × 7 columns</p>\n",
              "</div>\n",
              "      <button class=\"colab-df-convert\" onclick=\"convertToInteractive('df-442a36df-f72b-4db7-991a-650d8917f8be')\"\n",
              "              title=\"Convert this dataframe to an interactive table.\"\n",
              "              style=\"display:none;\">\n",
              "        \n",
              "  <svg xmlns=\"http://www.w3.org/2000/svg\" height=\"24px\"viewBox=\"0 0 24 24\"\n",
              "       width=\"24px\">\n",
              "    <path d=\"M0 0h24v24H0V0z\" fill=\"none\"/>\n",
              "    <path d=\"M18.56 5.44l.94 2.06.94-2.06 2.06-.94-2.06-.94-.94-2.06-.94 2.06-2.06.94zm-11 1L8.5 8.5l.94-2.06 2.06-.94-2.06-.94L8.5 2.5l-.94 2.06-2.06.94zm10 10l.94 2.06.94-2.06 2.06-.94-2.06-.94-.94-2.06-.94 2.06-2.06.94z\"/><path d=\"M17.41 7.96l-1.37-1.37c-.4-.4-.92-.59-1.43-.59-.52 0-1.04.2-1.43.59L10.3 9.45l-7.72 7.72c-.78.78-.78 2.05 0 2.83L4 21.41c.39.39.9.59 1.41.59.51 0 1.02-.2 1.41-.59l7.78-7.78 2.81-2.81c.8-.78.8-2.07 0-2.86zM5.41 20L4 18.59l7.72-7.72 1.47 1.35L5.41 20z\"/>\n",
              "  </svg>\n",
              "      </button>\n",
              "      \n",
              "  <style>\n",
              "    .colab-df-container {\n",
              "      display:flex;\n",
              "      flex-wrap:wrap;\n",
              "      gap: 12px;\n",
              "    }\n",
              "\n",
              "    .colab-df-convert {\n",
              "      background-color: #E8F0FE;\n",
              "      border: none;\n",
              "      border-radius: 50%;\n",
              "      cursor: pointer;\n",
              "      display: none;\n",
              "      fill: #1967D2;\n",
              "      height: 32px;\n",
              "      padding: 0 0 0 0;\n",
              "      width: 32px;\n",
              "    }\n",
              "\n",
              "    .colab-df-convert:hover {\n",
              "      background-color: #E2EBFA;\n",
              "      box-shadow: 0px 1px 2px rgba(60, 64, 67, 0.3), 0px 1px 3px 1px rgba(60, 64, 67, 0.15);\n",
              "      fill: #174EA6;\n",
              "    }\n",
              "\n",
              "    [theme=dark] .colab-df-convert {\n",
              "      background-color: #3B4455;\n",
              "      fill: #D2E3FC;\n",
              "    }\n",
              "\n",
              "    [theme=dark] .colab-df-convert:hover {\n",
              "      background-color: #434B5C;\n",
              "      box-shadow: 0px 1px 3px 1px rgba(0, 0, 0, 0.15);\n",
              "      filter: drop-shadow(0px 1px 2px rgba(0, 0, 0, 0.3));\n",
              "      fill: #FFFFFF;\n",
              "    }\n",
              "  </style>\n",
              "\n",
              "      <script>\n",
              "        const buttonEl =\n",
              "          document.querySelector('#df-442a36df-f72b-4db7-991a-650d8917f8be button.colab-df-convert');\n",
              "        buttonEl.style.display =\n",
              "          google.colab.kernel.accessAllowed ? 'block' : 'none';\n",
              "\n",
              "        async function convertToInteractive(key) {\n",
              "          const element = document.querySelector('#df-442a36df-f72b-4db7-991a-650d8917f8be');\n",
              "          const dataTable =\n",
              "            await google.colab.kernel.invokeFunction('convertToInteractive',\n",
              "                                                     [key], {});\n",
              "          if (!dataTable) return;\n",
              "\n",
              "          const docLinkHtml = 'Like what you see? Visit the ' +\n",
              "            '<a target=\"_blank\" href=https://colab.research.google.com/notebooks/data_table.ipynb>data table notebook</a>'\n",
              "            + ' to learn more about interactive tables.';\n",
              "          element.innerHTML = '';\n",
              "          dataTable['output_type'] = 'display_data';\n",
              "          await google.colab.output.renderOutput(dataTable, element);\n",
              "          const docLink = document.createElement('div');\n",
              "          docLink.innerHTML = docLinkHtml;\n",
              "          element.appendChild(docLink);\n",
              "        }\n",
              "      </script>\n",
              "    </div>\n",
              "  </div>\n",
              "  "
            ],
            "text/plain": [
              "                                Motor   Ano  ...      Valor  km_media\n",
              "Nome                                         ...                     \n",
              "DS5                   Motor 2.4 Turbo  2019  ...  124549.07       0.0\n",
              "A5                    Motor 4.0 Turbo  2019  ...   56445.20       0.0\n",
              "J5                           Motor V6  2019  ...   53183.38       0.0\n",
              "A3                       Motor 1.0 8v  2019  ...   88552.39       0.0\n",
              "Série 1 M                    Motor V8  2019  ...   94564.40       0.0\n",
              "...                               ...   ...  ...        ...       ...\n",
              "Lamborghini Reventón  Motor 4.0 Turbo  2019  ...   67664.86       0.0\n",
              "Benni Mini                   Motor V8  2019  ...  126247.84       0.0\n",
              "Uno                   Motor Diesel V6  2019  ...  128852.21       0.0\n",
              "Santa Fe                Motor 3.0 32v  2019  ...  129415.33       0.0\n",
              "XC60                  Motor 4.0 Turbo  2019  ...   77675.79       0.0\n",
              "\n",
              "[61 rows x 7 columns]"
            ]
          },
          "metadata": {},
          "execution_count": 92
        }
      ]
    },
    {
      "cell_type": "code",
      "metadata": {
        "id": "lure2GvpD1Bg"
      },
      "source": [
        "dataset = pd.read_csv('db.csv', sep =';')"
      ],
      "execution_count": 98,
      "outputs": []
    },
    {
      "cell_type": "code",
      "metadata": {
        "id": "4-ZvhXjvD1Bj",
        "colab": {
          "base_uri": "https://localhost:8080/",
          "height": 641
        },
        "outputId": "2f0702fc-d402-45df-9758-0448461648fb"
      },
      "source": [
        "dataset"
      ],
      "execution_count": 99,
      "outputs": [
        {
          "output_type": "execute_result",
          "data": {
            "text/html": [
              "\n",
              "  <div id=\"df-6c90a8f3-6b27-48fa-9bad-a2119c9a8ec4\">\n",
              "    <div class=\"colab-df-container\">\n",
              "      <div>\n",
              "<style scoped>\n",
              "    .dataframe tbody tr th:only-of-type {\n",
              "        vertical-align: middle;\n",
              "    }\n",
              "\n",
              "    .dataframe tbody tr th {\n",
              "        vertical-align: top;\n",
              "    }\n",
              "\n",
              "    .dataframe thead th {\n",
              "        text-align: right;\n",
              "    }\n",
              "</style>\n",
              "<table border=\"1\" class=\"dataframe\">\n",
              "  <thead>\n",
              "    <tr style=\"text-align: right;\">\n",
              "      <th></th>\n",
              "      <th>Nome</th>\n",
              "      <th>Motor</th>\n",
              "      <th>Ano</th>\n",
              "      <th>Quilometragem</th>\n",
              "      <th>Zero_km</th>\n",
              "      <th>Acessórios</th>\n",
              "      <th>Valor</th>\n",
              "    </tr>\n",
              "  </thead>\n",
              "  <tbody>\n",
              "    <tr>\n",
              "      <th>0</th>\n",
              "      <td>Jetta Variant</td>\n",
              "      <td>Motor 4.0 Turbo</td>\n",
              "      <td>2003</td>\n",
              "      <td>44410.0</td>\n",
              "      <td>False</td>\n",
              "      <td>['Rodas de liga', 'Travas elétricas', 'Piloto ...</td>\n",
              "      <td>88078.64</td>\n",
              "    </tr>\n",
              "    <tr>\n",
              "      <th>1</th>\n",
              "      <td>Passat</td>\n",
              "      <td>Motor Diesel</td>\n",
              "      <td>1991</td>\n",
              "      <td>5712.0</td>\n",
              "      <td>False</td>\n",
              "      <td>['Central multimídia', 'Teto panorâmico', 'Fre...</td>\n",
              "      <td>106161.94</td>\n",
              "    </tr>\n",
              "    <tr>\n",
              "      <th>2</th>\n",
              "      <td>Crossfox</td>\n",
              "      <td>Motor Diesel V8</td>\n",
              "      <td>1990</td>\n",
              "      <td>37123.0</td>\n",
              "      <td>False</td>\n",
              "      <td>['Piloto automático', 'Controle de estabilidad...</td>\n",
              "      <td>72832.16</td>\n",
              "    </tr>\n",
              "    <tr>\n",
              "      <th>3</th>\n",
              "      <td>DS5</td>\n",
              "      <td>Motor 2.4 Turbo</td>\n",
              "      <td>2019</td>\n",
              "      <td>NaN</td>\n",
              "      <td>True</td>\n",
              "      <td>['Travas elétricas', '4 X 4', 'Vidros elétrico...</td>\n",
              "      <td>124549.07</td>\n",
              "    </tr>\n",
              "    <tr>\n",
              "      <th>4</th>\n",
              "      <td>Aston Martin DB4</td>\n",
              "      <td>Motor 2.4 Turbo</td>\n",
              "      <td>2006</td>\n",
              "      <td>25757.0</td>\n",
              "      <td>False</td>\n",
              "      <td>['Rodas de liga', '4 X 4', 'Central multimídia...</td>\n",
              "      <td>92612.10</td>\n",
              "    </tr>\n",
              "    <tr>\n",
              "      <th>...</th>\n",
              "      <td>...</td>\n",
              "      <td>...</td>\n",
              "      <td>...</td>\n",
              "      <td>...</td>\n",
              "      <td>...</td>\n",
              "      <td>...</td>\n",
              "      <td>...</td>\n",
              "    </tr>\n",
              "    <tr>\n",
              "      <th>253</th>\n",
              "      <td>Phantom 2013</td>\n",
              "      <td>Motor V8</td>\n",
              "      <td>2014</td>\n",
              "      <td>27505.0</td>\n",
              "      <td>False</td>\n",
              "      <td>['Controle de estabilidade', 'Piloto automátic...</td>\n",
              "      <td>51759.58</td>\n",
              "    </tr>\n",
              "    <tr>\n",
              "      <th>254</th>\n",
              "      <td>Cadillac Ciel concept</td>\n",
              "      <td>Motor V8</td>\n",
              "      <td>1991</td>\n",
              "      <td>29981.0</td>\n",
              "      <td>False</td>\n",
              "      <td>['Bancos de couro', 'Painel digital', 'Sensor ...</td>\n",
              "      <td>51667.06</td>\n",
              "    </tr>\n",
              "    <tr>\n",
              "      <th>255</th>\n",
              "      <td>Classe GLK</td>\n",
              "      <td>Motor 5.0 V8 Bi-Turbo</td>\n",
              "      <td>2002</td>\n",
              "      <td>52637.0</td>\n",
              "      <td>False</td>\n",
              "      <td>['Rodas de liga', 'Controle de tração', 'Câmbi...</td>\n",
              "      <td>68934.03</td>\n",
              "    </tr>\n",
              "    <tr>\n",
              "      <th>256</th>\n",
              "      <td>Aston Martin DB5</td>\n",
              "      <td>Motor Diesel</td>\n",
              "      <td>1996</td>\n",
              "      <td>7685.0</td>\n",
              "      <td>False</td>\n",
              "      <td>['Ar condicionado', '4 X 4', 'Câmbio automátic...</td>\n",
              "      <td>122110.90</td>\n",
              "    </tr>\n",
              "    <tr>\n",
              "      <th>257</th>\n",
              "      <td>Macan</td>\n",
              "      <td>Motor Diesel V6</td>\n",
              "      <td>1992</td>\n",
              "      <td>50188.0</td>\n",
              "      <td>False</td>\n",
              "      <td>['Central multimídia', 'Teto panorâmico', 'Vid...</td>\n",
              "      <td>90381.47</td>\n",
              "    </tr>\n",
              "  </tbody>\n",
              "</table>\n",
              "<p>258 rows × 7 columns</p>\n",
              "</div>\n",
              "      <button class=\"colab-df-convert\" onclick=\"convertToInteractive('df-6c90a8f3-6b27-48fa-9bad-a2119c9a8ec4')\"\n",
              "              title=\"Convert this dataframe to an interactive table.\"\n",
              "              style=\"display:none;\">\n",
              "        \n",
              "  <svg xmlns=\"http://www.w3.org/2000/svg\" height=\"24px\"viewBox=\"0 0 24 24\"\n",
              "       width=\"24px\">\n",
              "    <path d=\"M0 0h24v24H0V0z\" fill=\"none\"/>\n",
              "    <path d=\"M18.56 5.44l.94 2.06.94-2.06 2.06-.94-2.06-.94-.94-2.06-.94 2.06-2.06.94zm-11 1L8.5 8.5l.94-2.06 2.06-.94-2.06-.94L8.5 2.5l-.94 2.06-2.06.94zm10 10l.94 2.06.94-2.06 2.06-.94-2.06-.94-.94-2.06-.94 2.06-2.06.94z\"/><path d=\"M17.41 7.96l-1.37-1.37c-.4-.4-.92-.59-1.43-.59-.52 0-1.04.2-1.43.59L10.3 9.45l-7.72 7.72c-.78.78-.78 2.05 0 2.83L4 21.41c.39.39.9.59 1.41.59.51 0 1.02-.2 1.41-.59l7.78-7.78 2.81-2.81c.8-.78.8-2.07 0-2.86zM5.41 20L4 18.59l7.72-7.72 1.47 1.35L5.41 20z\"/>\n",
              "  </svg>\n",
              "      </button>\n",
              "      \n",
              "  <style>\n",
              "    .colab-df-container {\n",
              "      display:flex;\n",
              "      flex-wrap:wrap;\n",
              "      gap: 12px;\n",
              "    }\n",
              "\n",
              "    .colab-df-convert {\n",
              "      background-color: #E8F0FE;\n",
              "      border: none;\n",
              "      border-radius: 50%;\n",
              "      cursor: pointer;\n",
              "      display: none;\n",
              "      fill: #1967D2;\n",
              "      height: 32px;\n",
              "      padding: 0 0 0 0;\n",
              "      width: 32px;\n",
              "    }\n",
              "\n",
              "    .colab-df-convert:hover {\n",
              "      background-color: #E2EBFA;\n",
              "      box-shadow: 0px 1px 2px rgba(60, 64, 67, 0.3), 0px 1px 3px 1px rgba(60, 64, 67, 0.15);\n",
              "      fill: #174EA6;\n",
              "    }\n",
              "\n",
              "    [theme=dark] .colab-df-convert {\n",
              "      background-color: #3B4455;\n",
              "      fill: #D2E3FC;\n",
              "    }\n",
              "\n",
              "    [theme=dark] .colab-df-convert:hover {\n",
              "      background-color: #434B5C;\n",
              "      box-shadow: 0px 1px 3px 1px rgba(0, 0, 0, 0.15);\n",
              "      filter: drop-shadow(0px 1px 2px rgba(0, 0, 0, 0.3));\n",
              "      fill: #FFFFFF;\n",
              "    }\n",
              "  </style>\n",
              "\n",
              "      <script>\n",
              "        const buttonEl =\n",
              "          document.querySelector('#df-6c90a8f3-6b27-48fa-9bad-a2119c9a8ec4 button.colab-df-convert');\n",
              "        buttonEl.style.display =\n",
              "          google.colab.kernel.accessAllowed ? 'block' : 'none';\n",
              "\n",
              "        async function convertToInteractive(key) {\n",
              "          const element = document.querySelector('#df-6c90a8f3-6b27-48fa-9bad-a2119c9a8ec4');\n",
              "          const dataTable =\n",
              "            await google.colab.kernel.invokeFunction('convertToInteractive',\n",
              "                                                     [key], {});\n",
              "          if (!dataTable) return;\n",
              "\n",
              "          const docLinkHtml = 'Like what you see? Visit the ' +\n",
              "            '<a target=\"_blank\" href=https://colab.research.google.com/notebooks/data_table.ipynb>data table notebook</a>'\n",
              "            + ' to learn more about interactive tables.';\n",
              "          element.innerHTML = '';\n",
              "          dataTable['output_type'] = 'display_data';\n",
              "          await google.colab.output.renderOutput(dataTable, element);\n",
              "          const docLink = document.createElement('div');\n",
              "          docLink.innerHTML = docLinkHtml;\n",
              "          element.appendChild(docLink);\n",
              "        }\n",
              "      </script>\n",
              "    </div>\n",
              "  </div>\n",
              "  "
            ],
            "text/plain": [
              "                      Nome  ...      Valor\n",
              "0            Jetta Variant  ...   88078.64\n",
              "1                   Passat  ...  106161.94\n",
              "2                 Crossfox  ...   72832.16\n",
              "3                      DS5  ...  124549.07\n",
              "4         Aston Martin DB4  ...   92612.10\n",
              "..                     ...  ...        ...\n",
              "253           Phantom 2013  ...   51759.58\n",
              "254  Cadillac Ciel concept  ...   51667.06\n",
              "255             Classe GLK  ...   68934.03\n",
              "256       Aston Martin DB5  ...  122110.90\n",
              "257                  Macan  ...   90381.47\n",
              "\n",
              "[258 rows x 7 columns]"
            ]
          },
          "metadata": {},
          "execution_count": 99
        }
      ]
    },
    {
      "cell_type": "code",
      "metadata": {
        "scrolled": true,
        "id": "MQUw7i1OD1Bk"
      },
      "source": [
        "#se for um problema o NAN usa drop na para eliminar td\n",
        "dataset.dropna(subset = ['Quilometragem'], inplace = True)\n"
      ],
      "execution_count": 100,
      "outputs": []
    },
    {
      "cell_type": "code",
      "metadata": {
        "id": "U4Cse7miD1Bl",
        "colab": {
          "base_uri": "https://localhost:8080/",
          "height": 641
        },
        "outputId": "4626b6e9-ee4b-4fa8-b7e7-d4cdebeabaae"
      },
      "source": [
        "dataset"
      ],
      "execution_count": 101,
      "outputs": [
        {
          "output_type": "execute_result",
          "data": {
            "text/html": [
              "\n",
              "  <div id=\"df-c0f16db5-d99a-4206-b8e9-27172819b4b7\">\n",
              "    <div class=\"colab-df-container\">\n",
              "      <div>\n",
              "<style scoped>\n",
              "    .dataframe tbody tr th:only-of-type {\n",
              "        vertical-align: middle;\n",
              "    }\n",
              "\n",
              "    .dataframe tbody tr th {\n",
              "        vertical-align: top;\n",
              "    }\n",
              "\n",
              "    .dataframe thead th {\n",
              "        text-align: right;\n",
              "    }\n",
              "</style>\n",
              "<table border=\"1\" class=\"dataframe\">\n",
              "  <thead>\n",
              "    <tr style=\"text-align: right;\">\n",
              "      <th></th>\n",
              "      <th>Nome</th>\n",
              "      <th>Motor</th>\n",
              "      <th>Ano</th>\n",
              "      <th>Quilometragem</th>\n",
              "      <th>Zero_km</th>\n",
              "      <th>Acessórios</th>\n",
              "      <th>Valor</th>\n",
              "    </tr>\n",
              "  </thead>\n",
              "  <tbody>\n",
              "    <tr>\n",
              "      <th>0</th>\n",
              "      <td>Jetta Variant</td>\n",
              "      <td>Motor 4.0 Turbo</td>\n",
              "      <td>2003</td>\n",
              "      <td>44410.0</td>\n",
              "      <td>False</td>\n",
              "      <td>['Rodas de liga', 'Travas elétricas', 'Piloto ...</td>\n",
              "      <td>88078.64</td>\n",
              "    </tr>\n",
              "    <tr>\n",
              "      <th>1</th>\n",
              "      <td>Passat</td>\n",
              "      <td>Motor Diesel</td>\n",
              "      <td>1991</td>\n",
              "      <td>5712.0</td>\n",
              "      <td>False</td>\n",
              "      <td>['Central multimídia', 'Teto panorâmico', 'Fre...</td>\n",
              "      <td>106161.94</td>\n",
              "    </tr>\n",
              "    <tr>\n",
              "      <th>2</th>\n",
              "      <td>Crossfox</td>\n",
              "      <td>Motor Diesel V8</td>\n",
              "      <td>1990</td>\n",
              "      <td>37123.0</td>\n",
              "      <td>False</td>\n",
              "      <td>['Piloto automático', 'Controle de estabilidad...</td>\n",
              "      <td>72832.16</td>\n",
              "    </tr>\n",
              "    <tr>\n",
              "      <th>4</th>\n",
              "      <td>Aston Martin DB4</td>\n",
              "      <td>Motor 2.4 Turbo</td>\n",
              "      <td>2006</td>\n",
              "      <td>25757.0</td>\n",
              "      <td>False</td>\n",
              "      <td>['Rodas de liga', '4 X 4', 'Central multimídia...</td>\n",
              "      <td>92612.10</td>\n",
              "    </tr>\n",
              "    <tr>\n",
              "      <th>5</th>\n",
              "      <td>Palio Weekend</td>\n",
              "      <td>Motor 1.8 16v</td>\n",
              "      <td>2012</td>\n",
              "      <td>10728.0</td>\n",
              "      <td>False</td>\n",
              "      <td>['Sensor de estacionamento', 'Teto panorâmico'...</td>\n",
              "      <td>97497.73</td>\n",
              "    </tr>\n",
              "    <tr>\n",
              "      <th>...</th>\n",
              "      <td>...</td>\n",
              "      <td>...</td>\n",
              "      <td>...</td>\n",
              "      <td>...</td>\n",
              "      <td>...</td>\n",
              "      <td>...</td>\n",
              "      <td>...</td>\n",
              "    </tr>\n",
              "    <tr>\n",
              "      <th>253</th>\n",
              "      <td>Phantom 2013</td>\n",
              "      <td>Motor V8</td>\n",
              "      <td>2014</td>\n",
              "      <td>27505.0</td>\n",
              "      <td>False</td>\n",
              "      <td>['Controle de estabilidade', 'Piloto automátic...</td>\n",
              "      <td>51759.58</td>\n",
              "    </tr>\n",
              "    <tr>\n",
              "      <th>254</th>\n",
              "      <td>Cadillac Ciel concept</td>\n",
              "      <td>Motor V8</td>\n",
              "      <td>1991</td>\n",
              "      <td>29981.0</td>\n",
              "      <td>False</td>\n",
              "      <td>['Bancos de couro', 'Painel digital', 'Sensor ...</td>\n",
              "      <td>51667.06</td>\n",
              "    </tr>\n",
              "    <tr>\n",
              "      <th>255</th>\n",
              "      <td>Classe GLK</td>\n",
              "      <td>Motor 5.0 V8 Bi-Turbo</td>\n",
              "      <td>2002</td>\n",
              "      <td>52637.0</td>\n",
              "      <td>False</td>\n",
              "      <td>['Rodas de liga', 'Controle de tração', 'Câmbi...</td>\n",
              "      <td>68934.03</td>\n",
              "    </tr>\n",
              "    <tr>\n",
              "      <th>256</th>\n",
              "      <td>Aston Martin DB5</td>\n",
              "      <td>Motor Diesel</td>\n",
              "      <td>1996</td>\n",
              "      <td>7685.0</td>\n",
              "      <td>False</td>\n",
              "      <td>['Ar condicionado', '4 X 4', 'Câmbio automátic...</td>\n",
              "      <td>122110.90</td>\n",
              "    </tr>\n",
              "    <tr>\n",
              "      <th>257</th>\n",
              "      <td>Macan</td>\n",
              "      <td>Motor Diesel V6</td>\n",
              "      <td>1992</td>\n",
              "      <td>50188.0</td>\n",
              "      <td>False</td>\n",
              "      <td>['Central multimídia', 'Teto panorâmico', 'Vid...</td>\n",
              "      <td>90381.47</td>\n",
              "    </tr>\n",
              "  </tbody>\n",
              "</table>\n",
              "<p>197 rows × 7 columns</p>\n",
              "</div>\n",
              "      <button class=\"colab-df-convert\" onclick=\"convertToInteractive('df-c0f16db5-d99a-4206-b8e9-27172819b4b7')\"\n",
              "              title=\"Convert this dataframe to an interactive table.\"\n",
              "              style=\"display:none;\">\n",
              "        \n",
              "  <svg xmlns=\"http://www.w3.org/2000/svg\" height=\"24px\"viewBox=\"0 0 24 24\"\n",
              "       width=\"24px\">\n",
              "    <path d=\"M0 0h24v24H0V0z\" fill=\"none\"/>\n",
              "    <path d=\"M18.56 5.44l.94 2.06.94-2.06 2.06-.94-2.06-.94-.94-2.06-.94 2.06-2.06.94zm-11 1L8.5 8.5l.94-2.06 2.06-.94-2.06-.94L8.5 2.5l-.94 2.06-2.06.94zm10 10l.94 2.06.94-2.06 2.06-.94-2.06-.94-.94-2.06-.94 2.06-2.06.94z\"/><path d=\"M17.41 7.96l-1.37-1.37c-.4-.4-.92-.59-1.43-.59-.52 0-1.04.2-1.43.59L10.3 9.45l-7.72 7.72c-.78.78-.78 2.05 0 2.83L4 21.41c.39.39.9.59 1.41.59.51 0 1.02-.2 1.41-.59l7.78-7.78 2.81-2.81c.8-.78.8-2.07 0-2.86zM5.41 20L4 18.59l7.72-7.72 1.47 1.35L5.41 20z\"/>\n",
              "  </svg>\n",
              "      </button>\n",
              "      \n",
              "  <style>\n",
              "    .colab-df-container {\n",
              "      display:flex;\n",
              "      flex-wrap:wrap;\n",
              "      gap: 12px;\n",
              "    }\n",
              "\n",
              "    .colab-df-convert {\n",
              "      background-color: #E8F0FE;\n",
              "      border: none;\n",
              "      border-radius: 50%;\n",
              "      cursor: pointer;\n",
              "      display: none;\n",
              "      fill: #1967D2;\n",
              "      height: 32px;\n",
              "      padding: 0 0 0 0;\n",
              "      width: 32px;\n",
              "    }\n",
              "\n",
              "    .colab-df-convert:hover {\n",
              "      background-color: #E2EBFA;\n",
              "      box-shadow: 0px 1px 2px rgba(60, 64, 67, 0.3), 0px 1px 3px 1px rgba(60, 64, 67, 0.15);\n",
              "      fill: #174EA6;\n",
              "    }\n",
              "\n",
              "    [theme=dark] .colab-df-convert {\n",
              "      background-color: #3B4455;\n",
              "      fill: #D2E3FC;\n",
              "    }\n",
              "\n",
              "    [theme=dark] .colab-df-convert:hover {\n",
              "      background-color: #434B5C;\n",
              "      box-shadow: 0px 1px 3px 1px rgba(0, 0, 0, 0.15);\n",
              "      filter: drop-shadow(0px 1px 2px rgba(0, 0, 0, 0.3));\n",
              "      fill: #FFFFFF;\n",
              "    }\n",
              "  </style>\n",
              "\n",
              "      <script>\n",
              "        const buttonEl =\n",
              "          document.querySelector('#df-c0f16db5-d99a-4206-b8e9-27172819b4b7 button.colab-df-convert');\n",
              "        buttonEl.style.display =\n",
              "          google.colab.kernel.accessAllowed ? 'block' : 'none';\n",
              "\n",
              "        async function convertToInteractive(key) {\n",
              "          const element = document.querySelector('#df-c0f16db5-d99a-4206-b8e9-27172819b4b7');\n",
              "          const dataTable =\n",
              "            await google.colab.kernel.invokeFunction('convertToInteractive',\n",
              "                                                     [key], {});\n",
              "          if (!dataTable) return;\n",
              "\n",
              "          const docLinkHtml = 'Like what you see? Visit the ' +\n",
              "            '<a target=\"_blank\" href=https://colab.research.google.com/notebooks/data_table.ipynb>data table notebook</a>'\n",
              "            + ' to learn more about interactive tables.';\n",
              "          element.innerHTML = '';\n",
              "          dataTable['output_type'] = 'display_data';\n",
              "          await google.colab.output.renderOutput(dataTable, element);\n",
              "          const docLink = document.createElement('div');\n",
              "          docLink.innerHTML = docLinkHtml;\n",
              "          element.appendChild(docLink);\n",
              "        }\n",
              "      </script>\n",
              "    </div>\n",
              "  </div>\n",
              "  "
            ],
            "text/plain": [
              "                      Nome  ...      Valor\n",
              "0            Jetta Variant  ...   88078.64\n",
              "1                   Passat  ...  106161.94\n",
              "2                 Crossfox  ...   72832.16\n",
              "4         Aston Martin DB4  ...   92612.10\n",
              "5            Palio Weekend  ...   97497.73\n",
              "..                     ...  ...        ...\n",
              "253           Phantom 2013  ...   51759.58\n",
              "254  Cadillac Ciel concept  ...   51667.06\n",
              "255             Classe GLK  ...   68934.03\n",
              "256       Aston Martin DB5  ...  122110.90\n",
              "257                  Macan  ...   90381.47\n",
              "\n",
              "[197 rows x 7 columns]"
            ]
          },
          "metadata": {},
          "execution_count": 101
        }
      ]
    },
    {
      "cell_type": "code",
      "metadata": {
        "scrolled": true,
        "id": "8L4wum05D1Bl"
      },
      "source": [
        ""
      ],
      "execution_count": null,
      "outputs": []
    },
    {
      "cell_type": "code",
      "metadata": {
        "id": "8iLOc-U3D1Bm"
      },
      "source": [
        ""
      ],
      "execution_count": null,
      "outputs": []
    }
  ]
}